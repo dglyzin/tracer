{
 "cells": [
  {
   "cell_type": "code",
   "execution_count": 6,
   "metadata": {},
   "outputs": [],
   "source": [
    "hd_dir = \"/home/hpc/cudahub/tracer/hybriddomain/\"\n",
    "modelFileName = 'problems/cycle_nelin_test4'\n",
    "conn_name = \"dglconnection\"\n",
    "\n",
    "device_conf_name = \"dgllogisticdevices\""
   ]
  },
  {
   "cell_type": "code",
   "execution_count": 7,
   "metadata": {},
   "outputs": [],
   "source": [
    "import os\n",
    "import sys\n",
    "import inspect\n",
    "currentdir = os.path.dirname(os.path.abspath(inspect.getfile(inspect.currentframe())))\n",
    "parentdir = os.path.dirname(currentdir)\n",
    "if hd_dir not in sys.path:\n",
    "    sys.path.insert(0, hd_dir)\n",
    "env_dir = os.path.join(hd_dir, 'spaces', 'math_space', \"common\")\n",
    "if env_dir not in sys.path:\n",
    "    sys.path.insert(0, env_dir)\n",
    "import ipywidgets as widgets\n",
    "from IPython.display import display, clear_output, HTML\n",
    "from envs.hs.model.model_main import ModelNet as Model\n",
    "from settings.settings_main import Settings"
   ]
  },
  {
   "cell_type": "code",
   "execution_count": 8,
   "metadata": {},
   "outputs": [
    {
     "name": "stderr",
     "output_type": "stream",
     "text": [
      "INFO:block_main.block_io:DefaultBound not set\n",
      "INFO:settings_main:device_conf_name\n",
      "INFO:settings_main:dgllogisticdevices\n"
     ]
    },
    {
     "name": "stdout",
     "output_type": "stream",
     "text": [
      "Please enter password for user hpc:\n",
      "········\n"
     ]
    }
   ],
   "source": [
    "model = Model()\n",
    "model.io.loadFromFile(modelFileName)\n",
    "settings = Settings(model, conn_name, device_conf_name, conn_name, pf_prefix=currentdir)"
   ]
  },
  {
   "cell_type": "code",
   "execution_count": 9,
   "metadata": {},
   "outputs": [],
   "source": [
    "#block0 = model.blocks[0]\n",
    "#equation = model.equations[0]\n",
    "#model.paramValues"
   ]
  },
  {
   "cell_type": "code",
   "execution_count": 10,
   "metadata": {},
   "outputs": [
    {
     "data": {
      "application/vnd.jupyter.widget-view+json": {
       "model_id": "4ecdf9b815074fd98cd110d9e2c672ce",
       "version_major": 2,
       "version_minor": 0
      },
      "text/plain": [
       "IntProgress(value=0, description='solving: ', max=99)"
      ]
     },
     "metadata": {},
     "output_type": "display_data"
    },
    {
     "data": {
      "application/vnd.jupyter.widget-view+json": {
       "model_id": "fc79878087ac47bf90e63fcfcc716e9b",
       "version_major": 2,
       "version_minor": 0
      },
      "text/plain": [
       "Button(description='run cycle_nelin_test4 ', style=ButtonStyle())"
      ]
     },
     "metadata": {},
     "output_type": "display_data"
    },
    {
     "name": "stderr",
     "output_type": "stream",
     "text": [
      "INFO:remoterun:project_path\n",
      "INFO:remoterun:cycle_nelin_test4\n",
      "INFO:remoterun:project_name\n",
      "INFO:remoterun:cycle_nelin_test4\n",
      "INFO:paramiko.transport:Connected (version 2.0, client OpenSSH_7.2)\n",
      "INFO:paramiko.transport:Authentication (publickey) successful!\n",
      "INFO:remoterun:Checking if folder /home/hpc/Tracer/dglprojects exists...\n",
      "INFO:remoterun:Workspace OK.\n",
      "INFO:remoterun:Creating/cleaning project folder: \n",
      "INFO:remoterun:Folder cleaned.\n",
      "INFO:remoterun:Creating settings folders: \n",
      "INFO:remoterun:Checking if folder /home/hpc/Tracer/dglprojects/settings exists...\n",
      "INFO:remoterun:folder /home/hpc/Tracer/dglprojects/settings alredy exist\n",
      "INFO:remoterun:Checking if folder /home/hpc/Tracer/dglprojects/settings/paths exists...\n",
      "INFO:remoterun:folder /home/hpc/Tracer/dglprojects/settings/paths alredy exist\n",
      "INFO:remoterun:Checking if folder /home/hpc/Tracer/dglprojects/settings/device_conf exists...\n",
      "INFO:remoterun:folder /home/hpc/Tracer/dglprojects/settings/device_conf alredy exist\n",
      "INFO:remoterun:settings folders created\n",
      "INFO:remoterun:hd_json:\n",
      "INFO:remoterun:/home/hpc/cudahub/tracer/hybriddomain/tests/problems/cycle_nelin_test4/cycle_nelin_test4.json\n",
      "INFO:remoterun:hs_json:\n",
      "INFO:remoterun:/home/hpc/Tracer/dglprojects/problems/cycle_nelin_test4/cycle_nelin_test4.json\n",
      "INFO:paramiko.transport.sftp:[chan 7] Opened sftp connection (server version 3)\n",
      "INFO:paramiko.transport.sftp:[chan 7] sftp session closed.\n",
      "INFO:remoterun:file copied\n",
      "INFO:remoterun:copy /home/hpc/cudahub/tracer/hybriddomain/tests/settings/dgllogisticdevices.json\n",
      "INFO:remoterun:to /home/hpc/Tracer/dglprojects/settings/device_conf/dgllogisticdevices.json\n",
      "INFO:paramiko.transport.sftp:[chan 8] Opened sftp connection (server version 3)\n",
      "INFO:paramiko.transport.sftp:[chan 8] sftp session closed.\n",
      "INFO:remoterun:finished copy dev_conf files\n",
      "INFO:remoterun:copy /home/hpc/cudahub/tracer/hybriddomain/tests/settings/dglconnection.json\n",
      "INFO:remoterun:to /home/hpc/Tracer/dglprojects/settings/paths/dglconnection.json\n",
      "INFO:paramiko.transport.sftp:[chan 9] Opened sftp connection (server version 3)\n",
      "INFO:paramiko.transport.sftp:[chan 9] sftp session closed.\n",
      "INFO:remoterun:finished copy paths files\n",
      "INFO:remoterun:\n",
      "Running preprocessor:\n",
      "INFO:remoterun:command:\n",
      "INFO:remoterun:cd /home/hpc/Tracer/hybriddomain && pwd && python3 -m gens.hs.tests.tests_gen_1d -t /home/hpc/Tracer/dglprojects/problems/cycle_nelin_test4 -d dgllogisticdevices -p dglconnection -w /home/hpc/Tracer/dglprojects -u hpc\n",
      "INFO:remoterun:Checking if solver executable at /home/hpc/Tracer/hybridsolver/bin/HS exists...\n",
      "INFO:remoterun:Solver executable found.\n",
      "INFO:remoterun:05-20 12:16:45 Performance (10^6): 0.734545\n",
      "\n",
      "INFO:remoterun:INFO:postproc.video:Creating images for block 0 value U\n",
      "\n",
      "INFO:remoterun:INFO:postproc.video:Creating images for block 0 value V\n",
      "\n",
      "INFO:remoterun:INFO:postproc.video:Creating video file: 0\n",
      "\n",
      "INFO:remoterun:INFO:postproc.video:Creating out file: 0-U\n",
      "\n",
      "INFO:remoterun:INFO:postproc.video:Creating out file: 0-V\n",
      "\n",
      "INFO:remoterun:Downloading results...\n",
      "INFO:remoterun:from:\n",
      "INFO:remoterun:/home/hpc/Tracer/dglprojects/problems/cycle_nelin_test4/out\n",
      "INFO:paramiko.transport.sftp:[chan 13] Opened sftp connection (server version 3)\n",
      "INFO:paramiko.transport.sftp:[chan 13] sftp session closed.\n",
      "INFO:remoterun:Done!\n"
     ]
    }
   ],
   "source": [
    "from solvers.hs.remoterun.progresses.progress_notebook import ProgressNotebook\n",
    "progress = ProgressNotebook(100, prefix='solving')\n",
    "from solvers.hs.remoterun.remoterun import remoteProjectRun\n",
    "\n",
    "clear_output()\n",
    "test_name = settings.paths['model']['name']\n",
    "bTest = widgets.Button(description=\"run %s \" % (test_name))\n",
    "def run(event):\n",
    "    remoteProjectRun(settings, 1, progress)\n",
    "bTest.on_click(run)\n",
    "display(progress.progress)\n",
    "display(bTest)"
   ]
  },
  {
   "cell_type": "markdown",
   "metadata": {},
   "source": [
    "### Results:"
   ]
  },
  {
   "cell_type": "code",
   "execution_count": 11,
   "metadata": {},
   "outputs": [
    {
     "name": "stdout",
     "output_type": "stream",
     "text": [
      "['cycle_nelin_test4-res0-V.out', '.ipynb_checkpoints', 'cycle_nelin_test4-plot0.mp4', 'cycle_nelin_test4-res0-U.out']\n",
      "['/home/hpc/cudahub/tracer/hybriddomain/tests/problems/cycle_nelin_test4/out/cycle_nelin_test4-res0-V.out', '/home/hpc/cudahub/tracer/hybriddomain/tests/problems/cycle_nelin_test4/out/cycle_nelin_test4-res0-U.out']\n"
     ]
    }
   ],
   "source": [
    "import numpy as np\n",
    "import re\n",
    "import matplotlib.pyplot as plt\n",
    "from ipywidgets import interactive\n",
    "\n",
    "\n",
    "out_dir = os.path.join(currentdir,  modelFileName, \"out\")\n",
    "listdir = os.listdir(out_dir)\n",
    "\n",
    "print(listdir)\n",
    "\n",
    "outs = [os.path.join(out_dir, file_name)\n",
    "        for file_name in listdir\n",
    "        if '.out' in file_name]\n",
    "print(outs)\n",
    "#with open(outs[0]) as f:\n",
    "#    data = f.read()"
   ]
  },
  {
   "cell_type": "code",
   "execution_count": 12,
   "metadata": {},
   "outputs": [],
   "source": [
    "#Эта функция выбирает из какого фаула вытаскивать данные в папке out\n",
    "\n",
    "def vibor(i):\n",
    "    outs = [os.path.join(out_dir, file_name)\n",
    "        for file_name in listdir\n",
    "        if '.out' in file_name]\n",
    "    with open(outs[i]) as f:\n",
    "        data = f.read()\n",
    "    lines = data.split('\\n')\n",
    "    result = {}\n",
    "\n",
    "    for line in lines:\n",
    "        if ':' in line:\n",
    "            key, val = line.split(':')\n",
    "            result[key]=val[1:]\n",
    "        else:\n",
    "            val = line\n",
    "            result[key] += val  \n",
    "    return key, val, result"
   ]
  },
  {
   "cell_type": "code",
   "execution_count": 13,
   "metadata": {},
   "outputs": [],
   "source": [
    "#Эта функция выбирает из какого фаула вытаскивать данные в папке out\n",
    "\n",
    "def viborU(i):\n",
    "    outs = [os.path.join(out_dir, file_name)\n",
    "        for file_name in listdir\n",
    "        if 'U.out' in file_name]\n",
    "    with open(outs[i]) as f:\n",
    "        data = f.read()\n",
    "    lines = data.split('\\n')\n",
    "    result = {}\n",
    "\n",
    "    for line in lines:\n",
    "        if ':' in line:\n",
    "            key, val = line.split(':')\n",
    "            result[key]=val[1:]\n",
    "        else:\n",
    "            val = line\n",
    "            result[key] += val  \n",
    "    return key, val, result"
   ]
  },
  {
   "cell_type": "code",
   "execution_count": 14,
   "metadata": {},
   "outputs": [],
   "source": [
    "#Эта функция выбирает из какого фаула вытаскивать данные в папке out\n",
    "\n",
    "def viborV(i):\n",
    "    outs = [os.path.join(out_dir, file_name)\n",
    "        for file_name in listdir\n",
    "        if 'V.out' in file_name]\n",
    "    with open(outs[i]) as f:\n",
    "        data = f.read()\n",
    "    lines = data.split('\\n')\n",
    "    result = {}\n",
    "\n",
    "    for line in lines:\n",
    "        if ':' in line:\n",
    "            key, val = line.split(':')\n",
    "            result[key]=val[1:]\n",
    "        else:\n",
    "            val = line\n",
    "            result[key] += val  \n",
    "    return key, val, result"
   ]
  },
  {
   "cell_type": "code",
   "execution_count": 15,
   "metadata": {},
   "outputs": [],
   "source": [
    "#более не требуется\n",
    "#lines = data.split('\\n')\n",
    "#result = {}\n",
    "\n",
    "#for line in lines:\n",
    "#    if ':' in line:\n",
    "#        key, val = line.split(':')\n",
    "#        result[key]=val[1:]\n",
    "#    else:\n",
    "#        val = line\n",
    "#        result[key] += val\n",
    "        "
   ]
  },
  {
   "cell_type": "code",
   "execution_count": null,
   "metadata": {},
   "outputs": [],
   "source": []
  },
  {
   "cell_type": "code",
   "execution_count": 16,
   "metadata": {},
   "outputs": [],
   "source": [
    "def gen(reuslt):\n",
    "    for key in reuslt:\n",
    "        step_0 = re.subn(r'\\.\\s+',\".0,\",result[key])[0]\n",
    "        step_1 = re.subn(r'\\s+',\",\",step_0)[0]\n",
    "        step_2 = step_1.replace('.]','.0]')\n",
    "        step_3 = step_2.replace('[,','[')\n",
    "\n",
    "        yield((key, eval(step_3)))"
   ]
  },
  {
   "cell_type": "code",
   "execution_count": 17,
   "metadata": {},
   "outputs": [
    {
     "name": "stdout",
     "output_type": "stream",
     "text": [
      "401\n"
     ]
    }
   ],
   "source": [
    "\n",
    "key, val, result = viborU(0)\n",
    "result_t = dict([(float(key), val) for key, val in gen(result)])\n",
    "#print(result_t)\n",
    "time = [key for key in result_t]\n",
    "result_x = np.array([result_t[key] for key in result_t]).T\n",
    "\n",
    "\n",
    "#это если система из более чем одного уравнения выбирается строка результата\n",
    "key, val, result = viborV(0)\n",
    "result_t = dict([(float(key), val) for key, val in gen(result)])\n",
    "result_y = np.array([result_t[key] for key in result_t]).T\n",
    "#print (result_x)\n",
    "print(len(result_x[0]))\n",
    "#print (result_x)\n",
    "#print (result_y)"
   ]
  },
  {
   "cell_type": "code",
   "execution_count": null,
   "metadata": {},
   "outputs": [],
   "source": []
  },
  {
   "cell_type": "markdown",
   "metadata": {},
   "source": [
    "##### U(x, t-fixed):"
   ]
  },
  {
   "cell_type": "code",
   "execution_count": 18,
   "metadata": {},
   "outputs": [
    {
     "data": {
      "application/vnd.jupyter.widget-view+json": {
       "model_id": "676644b04a574b8e9a945ce34f44d83a",
       "version_major": 2,
       "version_minor": 0
      },
      "text/plain": [
       "interactive(children=(IntSlider(value=50, description='t'), Output()), _dom_classes=('widget-interact',))"
      ]
     },
     "metadata": {},
     "output_type": "display_data"
    }
   ],
   "source": [
    "%matplotlib inline\n",
    "def f(t):\n",
    "    plt.plot(result_t[time[t]])\n",
    "w = interactive(f,t=(0,100,1))\n",
    "display(w)"
   ]
  },
  {
   "cell_type": "code",
   "execution_count": 19,
   "metadata": {},
   "outputs": [],
   "source": [
    "\"\"\"\n",
    "This module implements ddeint, a simple Differential Delay Equation\n",
    "solver built on top of Scipy's odeint \"\"\"\n",
    "\n",
    "# REQUIRES Numpy and Scipy.\n",
    "import numpy as np\n",
    "import scipy.integrate\n",
    "import scipy.interpolate\n",
    "\n",
    "\n",
    "class ddeVar:\n",
    "    \"\"\"\n",
    "    The instances of this class are special function-like\n",
    "    variables which store their past values in an interpolator and\n",
    "    can be called for any past time: Y(t), Y(t-d).\n",
    "    Very convenient for the integration of DDEs.\n",
    "    \"\"\"\n",
    "\n",
    "    def __init__(self, g, tc=0):\n",
    "        \"\"\" g(t) = expression of Y(t) for t<tc \"\"\"\n",
    "\n",
    "        self.g = g\n",
    "        self.tc = tc\n",
    "        # We must fill the interpolator with 2 points minimum\n",
    "        self.itpr = scipy.interpolate.interp1d(\n",
    "            np.array([tc - 1, tc]),  # X\n",
    "            np.array([self.g(tc), self.g(tc)]).T,  # Y\n",
    "            kind='linear', bounds_error=False,\n",
    "            fill_value=self.g(tc))\n",
    "\n",
    "    def update(self, t, Y):\n",
    "        \"\"\" Add one new (ti,yi) to the interpolator \"\"\"\n",
    "\n",
    "        self.itpr.x = np.hstack([self.itpr.x, [t]])\n",
    "        Y2 = Y if (Y.size == 1) else np.array([Y]).T\n",
    "        self.itpr.y = np.hstack([self.itpr.y, Y2])\n",
    "        self.itpr.fill_value = Y\n",
    "        self.itpr._y = self.itpr._reshape_yi(self.itpr.y)\n",
    "\n",
    "    def __call__(self, t=0):\n",
    "        \"\"\" Y(t) will return the instance's value at time t \"\"\"\n",
    "\n",
    "        return (self.g(t) if (t <= self.tc) else self.itpr(t))\n",
    "\n",
    "\n",
    "class dde(scipy.integrate.ode):\n",
    "    \"\"\"\n",
    "    This class overwrites a few functions of ``scipy.integrate.ode``\n",
    "    to allow for updates of the pseudo-variable Y between each\n",
    "    integration step.\n",
    "    \"\"\"\n",
    "\n",
    "    def __init__(self, f, jac=None):\n",
    "        def f2(t, y, args):\n",
    "            return f(self.Y, t, *args)\n",
    "\n",
    "        scipy.integrate.ode.__init__(self, f2, jac)\n",
    "        self.set_f_params(None)\n",
    "\n",
    "    def integrate(self, t, step=0, relax=0):\n",
    "        scipy.integrate.ode.integrate(self, t, step, relax)\n",
    "        self.Y.update(self.t, self.y)\n",
    "        return self.y\n",
    "\n",
    "    def set_initial_value(self, Y):\n",
    "        self.Y = Y  # !!! Y will be modified during integration\n",
    "        scipy.integrate.ode.set_initial_value(self, Y(Y.tc), Y.tc)\n",
    "\n",
    "\n",
    "def ddeint(func, g, tt, fargs=None):\n",
    "    \"\"\" Solves Delay Differential Equations\n",
    "    Similar to scipy.integrate.odeint. Solves a Delay differential\n",
    "    Equation system (DDE) defined by\n",
    "        Y(t) = g(t) for t<0\n",
    "        Y'(t) = func(Y,t) for t>= 0\n",
    "    Where func can involve past values of Y, like Y(t-d).\n",
    "\n",
    "    Parameters\n",
    "    -----------\n",
    "\n",
    "    func\n",
    "      a function Y,t,args -> Y'(t), where args is optional.\n",
    "      The variable Y is an instance of class ddeVar, which means that\n",
    "      it is called like a function: Y(t), Y(t-d), etc. Y(t) returns\n",
    "      either a number or a numpy array (for multivariate systems).\n",
    "    g\n",
    "      The 'history function'. A function g(t)=Y(t) for t<0, g(t)\n",
    "      returns either a number or a numpy array (for multivariate\n",
    "      systems).\n",
    "\n",
    "    tt\n",
    "      The vector of times [t0, t1, ...] at which the system must\n",
    "      be solved.\n",
    "    fargs\n",
    "      Additional arguments to be passed to parameter ``func``, if any.\n",
    "    Examples\n",
    "    ---------\n",
    "\n",
    "    We will solve the delayed Lotka-Volterra system defined as\n",
    "\n",
    "        For t < 0:\n",
    "        x(t) = 1+t\n",
    "        y(t) = 2-t\n",
    "\n",
    "        For t >= 0:\n",
    "        dx/dt =  0.5* ( 1- y(t-d) )\n",
    "        dy/dt = -0.5* ( 1- x(t-d) )\n",
    "\n",
    "    The delay ``d`` is a tunable parameter of the model.\n",
    "    >>> import numpy as np\n",
    "    >>> from ddeint import ddeint\n",
    "    >>>\n",
    "    >>> def model(XY,t,d):\n",
    "    >>>     x, y = XY(t)\n",
    "    >>>     xd, yd = XY(t-d)\n",
    "    >>>     return np.array([0.5*x*(1-yd), -0.5*y*(1-xd)])\n",
    "    >>>\n",
    "    >>> g = lambda t : np.array([1+t,2-t]) # 'history' at t<0\n",
    "    >>> tt = np.linspace(0,30,20000) # times for integration\n",
    "    >>> d = 0.5 # set parameter d\n",
    "    >>> yy = ddeint(model,g,tt,fargs=(d,)) # solve the DDE !\n",
    "\n",
    "    \"\"\"\n",
    "\n",
    "    dde_ = dde(func)\n",
    "    dde_.set_initial_value(ddeVar(g, tt[0]))\n",
    "    dde_.set_f_params(fargs if fargs else [])\n",
    "    results = [dde_.integrate(dde_.t + dt) for dt in np.diff(tt)]\n",
    "    return np.array([g(tt[0])] + results)"
   ]
  },
  {
   "cell_type": "markdown",
   "metadata": {},
   "source": [
    "##### U(x-fixed, t):"
   ]
  },
  {
   "cell_type": "code",
   "execution_count": 20,
   "metadata": {},
   "outputs": [
    {
     "data": {
      "image/png": "[encoded data removed]",
      "text/plain": [
       "<Figure size 432x288 with 1 Axes>"
      ]
     },
     "metadata": {
      "needs_background": "light"
     },
     "output_type": "display_data"
    }
   ],
   "source": [
    "#фазовый портрет с циклами\n",
    "%matplotlib inline\n",
    "\n",
    "#from pylab import *\n",
    "import math\n",
    "\n",
    "#Синяя линия сама траектория\n",
    "plt.plot(result_x[10], result_y[10])\n",
    "\n",
    "\n",
    "#def model(Y,t,d):\n",
    "#    x,y=Y(t)\n",
    "#    return np.array([x*(x*x+y*y)-y,y*(x*x+y*y)+x])\n",
    "#\n",
    "#g=lambda t : np.array ([0.05,0.05])\n",
    "\n",
    "#количество точек для использования построения решения\n",
    "\n",
    "\n",
    "#tt =np.linspace (0.0,10.0,10000)\n",
    "\n",
    "#for d in [0,0.2]:\n",
    "#    yy2 = ddeint (model,g,tt,fargs=(d,))\n",
    "#оранджевое это то что рисует библиотечный метод по своей сетке tt\n",
    "#plt.plot(yy2[:,0],yy2[:,1],lw=2)\n",
    "\n",
    "\n",
    "\n",
    "\n",
    "\n",
    "\n",
    "\n",
    "\n",
    "\n",
    "\n",
    "\n",
    "plt.show()"
   ]
  },
  {
   "cell_type": "code",
   "execution_count": null,
   "metadata": {},
   "outputs": [],
   "source": []
  }
 ],
 "metadata": {
  "kernelspec": {
   "display_name": "Python 3",
   "language": "python",
   "name": "python3"
  },
  "language_info": {
   "codemirror_mode": {
    "name": "ipython",
    "version": 3
   },
   "file_extension": ".py",
   "mimetype": "text/x-python",
   "name": "python",
   "nbconvert_exporter": "python",
   "pygments_lexer": "ipython3",
   "version": "3.6.5"
  },
  "widgets": {
   "state": {
    "325ce29825cf43ef86b389adde0af496": {
     "views": [
      {
       "cell_index": 9
      }
     ]
    }
   },
   "version": "1.2.0"
  }
 },
 "nbformat": 4,
 "nbformat_minor": 2
}
