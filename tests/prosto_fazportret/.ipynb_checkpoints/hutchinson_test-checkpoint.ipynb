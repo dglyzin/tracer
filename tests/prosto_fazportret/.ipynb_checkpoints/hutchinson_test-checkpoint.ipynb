{
 "cells": [
  {
   "cell_type": "code",
   "execution_count": 126,
   "metadata": {},
   "outputs": [],
   "source": [
    "hd_dir = \"/home/hpc/cudahub/tracer/hybriddomain/\"\n",
    "modelFileName = 'problems/logistic_delays'\n",
    "conn_name = \"dglconnection\"\n",
    "device_conf_name = \"dgllogisticdevices\""
   ]
  },
  {
   "cell_type": "code",
   "execution_count": 127,
   "metadata": {},
   "outputs": [],
   "source": [
    "import os\n",
    "import sys\n",
    "import inspect\n",
    "currentdir = os.path.dirname(os.path.abspath(inspect.getfile(inspect.currentframe())))\n",
    "parentdir = os.path.dirname(currentdir)\n",
    "if hd_dir not in sys.path:\n",
    "    sys.path.insert(0, hd_dir)\n",
    "env_dir = os.path.join(hd_dir, 'spaces', 'math_space', \"common\")\n",
    "if env_dir not in sys.path:\n",
    "    sys.path.insert(0, env_dir)\n",
    "import ipywidgets as widgets\n",
    "from IPython.display import display, clear_output, HTML\n",
    "from envs.hs.model.model_main import ModelNet as Model\n",
    "from settings.settings_main import Settings"
   ]
  },
  {
   "cell_type": "code",
   "execution_count": 128,
   "metadata": {},
   "outputs": [
    {
     "name": "stderr",
     "output_type": "stream",
     "text": [
      "INFO:block_main.block_io:DefaultBound not set\n",
      "INFO:settings_main:device_conf_name\n",
      "INFO:settings_main:dgllogisticdevices\n"
     ]
    },
    {
     "name": "stdout",
     "output_type": "stream",
     "text": [
      "Please enter password for user hpc:\n",
      "········\n"
     ]
    }
   ],
   "source": [
    "model = Model()\n",
    "model.io.loadFromFile(modelFileName)\n",
    "settings = Settings(model, conn_name, device_conf_name, conn_name, pf_prefix=currentdir)"
   ]
  },
  {
   "cell_type": "code",
   "execution_count": 4,
   "metadata": {},
   "outputs": [],
   "source": [
    "#block0 = model.blocks[0]\n",
    "#equation = model.equations[0]\n",
    "#model.paramValues"
   ]
  },
  {
   "cell_type": "code",
   "execution_count": 129,
   "metadata": {},
   "outputs": [
    {
     "data": {
      "application/vnd.jupyter.widget-view+json": {
       "model_id": "ac2bd91883594924a964cdc98f116872",
       "version_major": 2,
       "version_minor": 0
      },
      "text/plain": [
       "IntProgress(value=0, description='solving: ', max=99)"
      ]
     },
     "metadata": {},
     "output_type": "display_data"
    },
    {
     "data": {
      "application/vnd.jupyter.widget-view+json": {
       "model_id": "9d750282a2344b528b6debddff04ee74",
       "version_major": 2,
       "version_minor": 0
      },
      "text/plain": [
       "Button(description='run logistic_delays ', style=ButtonStyle())"
      ]
     },
     "metadata": {},
     "output_type": "display_data"
    },
    {
     "name": "stderr",
     "output_type": "stream",
     "text": [
      "INFO:remoterun:project_path\n",
      "INFO:remoterun:logistic_delays\n",
      "INFO:remoterun:project_name\n",
      "INFO:remoterun:logistic_delays\n",
      "INFO:paramiko.transport:Connected (version 2.0, client OpenSSH_7.2)\n",
      "INFO:paramiko.transport:Authentication (publickey) successful!\n",
      "INFO:remoterun:Checking if folder /home/hpc/Tracer/dglprojects exists...\n",
      "INFO:remoterun:Workspace OK.\n",
      "INFO:remoterun:Creating/cleaning project folder: \n",
      "INFO:remoterun:Folder cleaned.\n",
      "INFO:remoterun:Creating settings folders: \n",
      "INFO:remoterun:Checking if folder /home/hpc/Tracer/dglprojects/settings exists...\n",
      "INFO:remoterun:folder /home/hpc/Tracer/dglprojects/settings alredy exist\n",
      "INFO:remoterun:Checking if folder /home/hpc/Tracer/dglprojects/settings/paths exists...\n",
      "INFO:remoterun:folder /home/hpc/Tracer/dglprojects/settings/paths alredy exist\n",
      "INFO:remoterun:Checking if folder /home/hpc/Tracer/dglprojects/settings/device_conf exists...\n",
      "INFO:remoterun:folder /home/hpc/Tracer/dglprojects/settings/device_conf alredy exist\n",
      "INFO:remoterun:settings folders created\n",
      "INFO:remoterun:hd_json:\n",
      "INFO:remoterun:/home/hpc/cudahub/tracer/hybriddomain/tests/trigonometric_test/problems/logistic_delays/logistic_delays.json\n",
      "INFO:remoterun:hs_json:\n",
      "INFO:remoterun:/home/hpc/Tracer/dglprojects/problems/logistic_delays/logistic_delays.json\n",
      "INFO:paramiko.transport.sftp:[chan 7] Opened sftp connection (server version 3)\n",
      "INFO:paramiko.transport.sftp:[chan 7] sftp session closed.\n",
      "INFO:remoterun:file copied\n",
      "INFO:remoterun:copy /home/hpc/cudahub/tracer/hybriddomain/tests/trigonometric_test/settings/dgllogisticdevices.json\n",
      "INFO:remoterun:to /home/hpc/Tracer/dglprojects/settings/device_conf/dgllogisticdevices.json\n",
      "INFO:paramiko.transport.sftp:[chan 8] Opened sftp connection (server version 3)\n",
      "INFO:paramiko.transport.sftp:[chan 8] sftp session closed.\n",
      "INFO:remoterun:finished copy dev_conf files\n",
      "INFO:remoterun:copy /home/hpc/cudahub/tracer/hybriddomain/tests/trigonometric_test/settings/dglconnection.json\n",
      "INFO:remoterun:to /home/hpc/Tracer/dglprojects/settings/paths/dglconnection.json\n",
      "INFO:paramiko.transport.sftp:[chan 9] Opened sftp connection (server version 3)\n",
      "INFO:paramiko.transport.sftp:[chan 9] sftp session closed.\n",
      "INFO:remoterun:finished copy paths files\n",
      "INFO:remoterun:\n",
      "Running preprocessor:\n",
      "INFO:remoterun:command:\n",
      "INFO:remoterun:cd /home/hpc/Tracer/hybriddomain && pwd && python3 -m gens.hs.tests.tests_gen_1d -t /home/hpc/Tracer/dglprojects/problems/logistic_delays -d dgllogisticdevices -p dglconnection -w /home/hpc/Tracer/dglprojects -u hpc\n",
      "INFO:remoterun:Checking if solver executable at /home/hpc/Tracer/hybridsolver/bin/HS exists...\n",
      "INFO:remoterun:Solver executable found.\n",
      "INFO:remoterun:04-25 14:19:52 Performance (10^6): 0.0305752\n",
      "\n",
      "INFO:remoterun:INFO:postproc.video:Creating images for block 0 value U\n",
      "\n",
      "INFO:remoterun:INFO:postproc.video:Creating images for block 0 value V\n",
      "\n",
      "INFO:remoterun:INFO:postproc.video:Creating video file: 0\n",
      "\n",
      "INFO:remoterun:INFO:postproc.video:Creating out file: 0-U\n",
      "\n",
      "INFO:remoterun:INFO:postproc.video:Creating out file: 0-V\n",
      "\n",
      "INFO:remoterun:Downloading results...\n",
      "INFO:remoterun:from:\n",
      "INFO:remoterun:/home/hpc/Tracer/dglprojects/problems/logistic_delays/out\n",
      "INFO:paramiko.transport.sftp:[chan 13] Opened sftp connection (server version 3)\n",
      "INFO:paramiko.transport.sftp:[chan 13] sftp session closed.\n",
      "INFO:remoterun:Done!\n"
     ]
    }
   ],
   "source": [
    "from solvers.hs.remoterun.progresses.progress_notebook import ProgressNotebook\n",
    "progress = ProgressNotebook(100, prefix='solving')\n",
    "from solvers.hs.remoterun.remoterun import remoteProjectRun\n",
    "\n",
    "clear_output()\n",
    "test_name = settings.paths['model']['name']\n",
    "bTest = widgets.Button(description=\"run %s \" % (test_name))\n",
    "def run(event):\n",
    "    remoteProjectRun(settings, 1, progress)\n",
    "bTest.on_click(run)\n",
    "display(progress.progress)\n",
    "display(bTest)"
   ]
  },
  {
   "cell_type": "markdown",
   "metadata": {},
   "source": [
    "### Results:"
   ]
  },
  {
   "cell_type": "code",
   "execution_count": 130,
   "metadata": {},
   "outputs": [
    {
     "name": "stdout",
     "output_type": "stream",
     "text": [
      "['logistic_delays-res0-U.out', 'logistic_delays-plot0.mp4', 'logistic_delays-res0-V.out']\n",
      "['/home/hpc/cudahub/tracer/hybriddomain/tests/trigonometric_test/problems/logistic_delays/out/logistic_delays-res0-U.out', '/home/hpc/cudahub/tracer/hybriddomain/tests/trigonometric_test/problems/logistic_delays/out/logistic_delays-res0-V.out']\n"
     ]
    }
   ],
   "source": [
    "import numpy as np\n",
    "import re\n",
    "import matplotlib.pyplot as plt\n",
    "from ipywidgets import interactive\n",
    "\n",
    "out_dir = os.path.join(currentdir,  modelFileName, \"out\")\n",
    "listdir = os.listdir(out_dir)\n",
    "\n",
    "print(listdir)\n",
    "\n",
    "outs = [os.path.join(out_dir, file_name)\n",
    "        for file_name in listdir\n",
    "        if '.out' in file_name]\n",
    "print(outs)\n",
    "with open(outs[0]) as f:\n",
    "    data = f.read()"
   ]
  },
  {
   "cell_type": "code",
   "execution_count": 131,
   "metadata": {},
   "outputs": [],
   "source": [
    "lines = data.split('\\n')\n",
    "result = {}\n",
    "\n",
    "for line in lines:\n",
    "    if ':' in line:\n",
    "        key, val = line.split(':')\n",
    "        result[key]=val[1:]\n",
    "    else:\n",
    "        val = line\n",
    "        result[key] += val"
   ]
  },
  {
   "cell_type": "code",
   "execution_count": 132,
   "metadata": {},
   "outputs": [],
   "source": [
    "def gen(reuslt):\n",
    "    for key in reuslt:\n",
    "        step_0 = re.subn(r'\\.\\s+',\".0,\",result[key])[0]\n",
    "        step_1 = re.subn(r'\\s+',\",\",step_0)[0]\n",
    "        step_2 = step_1.replace('.]','.0]')\n",
    "        step_3 = step_2.replace('[,','[')\n",
    "\n",
    "        yield((key, eval(step_3)))"
   ]
  },
  {
   "cell_type": "code",
   "execution_count": 133,
   "metadata": {},
   "outputs": [],
   "source": [
    "\n",
    "result_t = dict([(float(key), val) for key, val in gen(result)])\n",
    "# print(result_t)\n",
    "time = [key for key in result_t]\n",
    "result_x = np.array([result_t[key] for key in result_t]).T\n",
    "# print (result_x)"
   ]
  },
  {
   "cell_type": "markdown",
   "metadata": {},
   "source": [
    "##### U(x, t-fixed):"
   ]
  },
  {
   "cell_type": "code",
   "execution_count": 134,
   "metadata": {},
   "outputs": [
    {
     "data": {
      "application/vnd.jupyter.widget-view+json": {
       "model_id": "b4f2c83d2169431caae0263297bbd692",
       "version_major": 2,
       "version_minor": 0
      },
      "text/plain": [
       "interactive(children=(IntSlider(value=50, description='t'), Output()), _dom_classes=('widget-interact',))"
      ]
     },
     "metadata": {},
     "output_type": "display_data"
    }
   ],
   "source": [
    "%matplotlib inline\n",
    "def f(t):\n",
    "    plt.plot(result_t[time[t]])\n",
    "w = interactive(f,t=(0,100,1))\n",
    "display(w)"
   ]
  },
  {
   "cell_type": "markdown",
   "metadata": {},
   "source": [
    "##### U(x-fixed, t):"
   ]
  },
  {
   "cell_type": "code",
   "execution_count": 220,
   "metadata": {},
   "outputs": [
    {
     "data": {
      "image/png": "[encoded data removed]",
      "text/plain": [
       "<Figure size 432x288 with 1 Axes>"
      ]
     },
     "metadata": {
      "needs_background": "light"
     },
     "output_type": "display_data"
    },
    {
     "name": "stdout",
     "output_type": "stream",
     "text": [
      "101   101\n",
      "1000\n",
      "0.0607588812193859\n",
      "[ 1.          0.9945033   0.9790598   0.95381391  0.91900821  0.87498105\n",
      "  0.82216332  0.76107419  0.69231606  0.61656857  0.53458193  0.44716945\n",
      "  0.3551995   0.25958687  0.1612837   0.06126994 -0.03945634 -0.13988898\n",
      " -0.23902374 -0.33586833 -0.42945238 -0.51883715 -0.60312492 -0.68146802\n",
      " -0.75307738 -0.81723043 -0.87327842 -0.92065297 -0.95887185 -0.98754383\n",
      " -1.00637277 -1.01516058 -1.01380939 -1.00232256 -0.98080477 -0.94946107\n",
      " -0.90859497 -0.85860545 -0.79998307 -0.73330522 -0.65923035 -0.57849155\n",
      " -0.49188922 -0.4002832  -0.30458421 -0.20574477 -0.10474978 -0.00260663\n",
      "  0.09966475  0.20104219  0.30051137  0.39707609  0.48976813  0.57765707\n",
      "  0.65985954  0.73554812  0.8039597   0.86440313  0.91626625  0.95902203\n",
      "  0.99223396  1.0155605   1.02875858  1.03168613  1.02430362  1.00667453\n",
      "  0.97896483  0.94144143  0.8944696   0.83850944  0.77411134  0.70191061\n",
      "  0.62262117  0.53702852  0.44598198  0.3503862   0.25119223  0.14938804\n",
      "  0.04598868 -0.05797384 -0.16146085 -0.26343738 -0.36288256 -0.45879976\n",
      " -0.55022664 -0.63624478 -0.71598893 -0.78865564 -0.85351146 -0.90990025\n",
      " -0.95724986 -0.99507793 -1.0229968  -1.04071746 -1.04805259 -1.04491846\n",
      " -1.03133592 -1.0074303  -0.97343024 -0.92966552 -0.88228002]\n",
      "[ 0.          0.01001001  0.02002002  0.03003003  0.04004004  0.05005005\n",
      "  0.06006006  0.07007007  0.08008008  0.09009009  0.1001001   0.11011011\n",
      "  0.12012012  0.13013013  0.14014014  0.15015015  0.16016016  0.17017017\n",
      "  0.18018018  0.19019019  0.2002002   0.21021021  0.22022022  0.23023023\n",
      "  0.24024024  0.25025025  0.26026026  0.27027027  0.28028028  0.29029029\n",
      "  0.3003003   0.31031031  0.32032032  0.33033033  0.34034034  0.35035035\n",
      "  0.36036036  0.37037037  0.38038038  0.39039039  0.4004004   0.41041041\n",
      "  0.42042042  0.43043043  0.44044044  0.45045045  0.46046046  0.47047047\n",
      "  0.48048048  0.49049049  0.5005005   0.51051051  0.52052052  0.53053053\n",
      "  0.54054054  0.55055055  0.56056056  0.57057057  0.58058058  0.59059059\n",
      "  0.6006006   0.61061061  0.62062062  0.63063063  0.64064064  0.65065065\n",
      "  0.66066066  0.67067067  0.68068068  0.69069069  0.7007007   0.71071071\n",
      "  0.72072072  0.73073073  0.74074074  0.75075075  0.76076076  0.77077077\n",
      "  0.78078078  0.79079079  0.8008008   0.81081081  0.82082082  0.83083083\n",
      "  0.84084084  0.85085085  0.86086086  0.87087087  0.88088088  0.89089089\n",
      "  0.9009009   0.91091091  0.92092092  0.93093093  0.94094094  0.95095095\n",
      "  0.96096096  0.97097097  0.98098098  0.99099099  1.001001    1.01101101\n",
      "  1.02102102  1.03103103  1.04104104  1.05105105  1.06106106  1.07107107\n",
      "  1.08108108  1.09109109  1.1011011   1.11111111  1.12112112  1.13113113\n",
      "  1.14114114  1.15115115  1.16116116  1.17117117  1.18118118  1.19119119\n",
      "  1.2012012   1.21121121  1.22122122  1.23123123  1.24124124  1.25125125\n",
      "  1.26126126  1.27127127  1.28128128  1.29129129  1.3013013   1.31131131\n",
      "  1.32132132  1.33133133  1.34134134  1.35135135  1.36136136  1.37137137\n",
      "  1.38138138  1.39139139  1.4014014   1.41141141  1.42142142  1.43143143\n",
      "  1.44144144  1.45145145  1.46146146  1.47147147  1.48148148  1.49149149\n",
      "  1.5015015   1.51151151  1.52152152  1.53153153  1.54154154  1.55155155\n",
      "  1.56156156  1.57157157  1.58158158  1.59159159  1.6016016   1.61161161\n",
      "  1.62162162  1.63163163  1.64164164  1.65165165  1.66166166  1.67167167\n",
      "  1.68168168  1.69169169  1.7017017   1.71171171  1.72172172  1.73173173\n",
      "  1.74174174  1.75175175  1.76176176  1.77177177  1.78178178  1.79179179\n",
      "  1.8018018   1.81181181  1.82182182  1.83183183  1.84184184  1.85185185\n",
      "  1.86186186  1.87187187  1.88188188  1.89189189  1.9019019   1.91191191\n",
      "  1.92192192  1.93193193  1.94194194  1.95195195  1.96196196  1.97197197\n",
      "  1.98198198  1.99199199  2.002002    2.01201201  2.02202202  2.03203203\n",
      "  2.04204204  2.05205205  2.06206206  2.07207207  2.08208208  2.09209209\n",
      "  2.1021021   2.11211211  2.12212212  2.13213213  2.14214214  2.15215215\n",
      "  2.16216216  2.17217217  2.18218218  2.19219219  2.2022022   2.21221221\n",
      "  2.22222222  2.23223223  2.24224224  2.25225225  2.26226226  2.27227227\n",
      "  2.28228228  2.29229229  2.3023023   2.31231231  2.32232232  2.33233233\n",
      "  2.34234234  2.35235235  2.36236236  2.37237237  2.38238238  2.39239239\n",
      "  2.4024024   2.41241241  2.42242242  2.43243243  2.44244244  2.45245245\n",
      "  2.46246246  2.47247247  2.48248248  2.49249249  2.5025025   2.51251251\n",
      "  2.52252252  2.53253253  2.54254254  2.55255255  2.56256256  2.57257257\n",
      "  2.58258258  2.59259259  2.6026026   2.61261261  2.62262262  2.63263263\n",
      "  2.64264264  2.65265265  2.66266266  2.67267267  2.68268268  2.69269269\n",
      "  2.7027027   2.71271271  2.72272272  2.73273273  2.74274274  2.75275275\n",
      "  2.76276276  2.77277277  2.78278278  2.79279279  2.8028028   2.81281281\n",
      "  2.82282282  2.83283283  2.84284284  2.85285285  2.86286286  2.87287287\n",
      "  2.88288288  2.89289289  2.9029029   2.91291291  2.92292292  2.93293293\n",
      "  2.94294294  2.95295295  2.96296296  2.97297297  2.98298298  2.99299299\n",
      "  3.003003    3.01301301  3.02302302  3.03303303  3.04304304  3.05305305\n",
      "  3.06306306  3.07307307  3.08308308  3.09309309  3.1031031   3.11311311\n",
      "  3.12312312  3.13313313  3.14314314  3.15315315  3.16316316  3.17317317\n",
      "  3.18318318  3.19319319  3.2032032   3.21321321  3.22322322  3.23323323\n",
      "  3.24324324  3.25325325  3.26326326  3.27327327  3.28328328  3.29329329\n",
      "  3.3033033   3.31331331  3.32332332  3.33333333  3.34334334  3.35335335\n",
      "  3.36336336  3.37337337  3.38338338  3.39339339  3.4034034   3.41341341\n",
      "  3.42342342  3.43343343  3.44344344  3.45345345  3.46346346  3.47347347\n",
      "  3.48348348  3.49349349  3.5035035   3.51351351  3.52352352  3.53353353\n",
      "  3.54354354  3.55355355  3.56356356  3.57357357  3.58358358  3.59359359\n",
      "  3.6036036   3.61361361  3.62362362  3.63363363  3.64364364  3.65365365\n",
      "  3.66366366  3.67367367  3.68368368  3.69369369  3.7037037   3.71371371\n",
      "  3.72372372  3.73373373  3.74374374  3.75375375  3.76376376  3.77377377\n",
      "  3.78378378  3.79379379  3.8038038   3.81381381  3.82382382  3.83383383\n",
      "  3.84384384  3.85385385  3.86386386  3.87387387  3.88388388  3.89389389\n",
      "  3.9039039   3.91391391  3.92392392  3.93393393  3.94394394  3.95395395\n",
      "  3.96396396  3.97397397  3.98398398  3.99399399  4.004004    4.01401401\n",
      "  4.02402402  4.03403403  4.04404404  4.05405405  4.06406406  4.07407407\n",
      "  4.08408408  4.09409409  4.1041041   4.11411411  4.12412412  4.13413413\n",
      "  4.14414414  4.15415415  4.16416416  4.17417417  4.18418418  4.19419419\n",
      "  4.2042042   4.21421421  4.22422422  4.23423423  4.24424424  4.25425425\n",
      "  4.26426426  4.27427427  4.28428428  4.29429429  4.3043043   4.31431431\n",
      "  4.32432432  4.33433433  4.34434434  4.35435435  4.36436436  4.37437437\n",
      "  4.38438438  4.39439439  4.4044044   4.41441441  4.42442442  4.43443443\n",
      "  4.44444444  4.45445445  4.46446446  4.47447447  4.48448448  4.49449449\n",
      "  4.5045045   4.51451451  4.52452452  4.53453453  4.54454454  4.55455455\n",
      "  4.56456456  4.57457457  4.58458458  4.59459459  4.6046046   4.61461461\n",
      "  4.62462462  4.63463463  4.64464464  4.65465465  4.66466466  4.67467467\n",
      "  4.68468468  4.69469469  4.7047047   4.71471471  4.72472472  4.73473473\n",
      "  4.74474474  4.75475475  4.76476476  4.77477477  4.78478478  4.79479479\n",
      "  4.8048048   4.81481481  4.82482482  4.83483483  4.84484484  4.85485485\n",
      "  4.86486486  4.87487487  4.88488488  4.89489489  4.9049049   4.91491491\n",
      "  4.92492492  4.93493493  4.94494494  4.95495495  4.96496496  4.97497497\n",
      "  4.98498498  4.99499499  5.00500501  5.01501502  5.02502503  5.03503504\n",
      "  5.04504505  5.05505506  5.06506507  5.07507508  5.08508509  5.0950951\n",
      "  5.10510511  5.11511512  5.12512513  5.13513514  5.14514515  5.15515516\n",
      "  5.16516517  5.17517518  5.18518519  5.1951952   5.20520521  5.21521522\n",
      "  5.22522523  5.23523524  5.24524525  5.25525526  5.26526527  5.27527528\n",
      "  5.28528529  5.2952953   5.30530531  5.31531532  5.32532533  5.33533534\n",
      "  5.34534535  5.35535536  5.36536537  5.37537538  5.38538539  5.3953954\n",
      "  5.40540541  5.41541542  5.42542543  5.43543544  5.44544545  5.45545546\n",
      "  5.46546547  5.47547548  5.48548549  5.4954955   5.50550551  5.51551552\n",
      "  5.52552553  5.53553554  5.54554555  5.55555556  5.56556557  5.57557558\n",
      "  5.58558559  5.5955956   5.60560561  5.61561562  5.62562563  5.63563564\n",
      "  5.64564565  5.65565566  5.66566567  5.67567568  5.68568569  5.6956957\n",
      "  5.70570571  5.71571572  5.72572573  5.73573574  5.74574575  5.75575576\n",
      "  5.76576577  5.77577578  5.78578579  5.7957958   5.80580581  5.81581582\n",
      "  5.82582583  5.83583584  5.84584585  5.85585586  5.86586587  5.87587588\n",
      "  5.88588589  5.8958959   5.90590591  5.91591592  5.92592593  5.93593594\n",
      "  5.94594595  5.95595596  5.96596597  5.97597598  5.98598599  5.995996\n",
      "  6.00600601  6.01601602  6.02602603  6.03603604  6.04604605  6.05605606\n",
      "  6.06606607  6.07607608  6.08608609  6.0960961   6.10610611  6.11611612\n",
      "  6.12612613  6.13613614  6.14614615  6.15615616  6.16616617  6.17617618\n",
      "  6.18618619  6.1961962   6.20620621  6.21621622  6.22622623  6.23623624\n",
      "  6.24624625  6.25625626  6.26626627  6.27627628  6.28628629  6.2962963\n",
      "  6.30630631  6.31631632  6.32632633  6.33633634  6.34634635  6.35635636\n",
      "  6.36636637  6.37637638  6.38638639  6.3963964   6.40640641  6.41641642\n",
      "  6.42642643  6.43643644  6.44644645  6.45645646  6.46646647  6.47647648\n",
      "  6.48648649  6.4964965   6.50650651  6.51651652  6.52652653  6.53653654\n",
      "  6.54654655  6.55655656  6.56656657  6.57657658  6.58658659  6.5965966\n",
      "  6.60660661  6.61661662  6.62662663  6.63663664  6.64664665  6.65665666\n",
      "  6.66666667  6.67667668  6.68668669  6.6966967   6.70670671  6.71671672\n",
      "  6.72672673  6.73673674  6.74674675  6.75675676  6.76676677  6.77677678\n",
      "  6.78678679  6.7967968   6.80680681  6.81681682  6.82682683  6.83683684\n",
      "  6.84684685  6.85685686  6.86686687  6.87687688  6.88688689  6.8968969\n",
      "  6.90690691  6.91691692  6.92692693  6.93693694  6.94694695  6.95695696\n",
      "  6.96696697  6.97697698  6.98698699  6.996997    7.00700701  7.01701702\n",
      "  7.02702703  7.03703704  7.04704705  7.05705706  7.06706707  7.07707708\n",
      "  7.08708709  7.0970971   7.10710711  7.11711712  7.12712713  7.13713714\n",
      "  7.14714715  7.15715716  7.16716717  7.17717718  7.18718719  7.1971972\n",
      "  7.20720721  7.21721722  7.22722723  7.23723724  7.24724725  7.25725726\n",
      "  7.26726727  7.27727728  7.28728729  7.2972973   7.30730731  7.31731732\n",
      "  7.32732733  7.33733734  7.34734735  7.35735736  7.36736737  7.37737738\n",
      "  7.38738739  7.3973974   7.40740741  7.41741742  7.42742743  7.43743744\n",
      "  7.44744745  7.45745746  7.46746747  7.47747748  7.48748749  7.4974975\n",
      "  7.50750751  7.51751752  7.52752753  7.53753754  7.54754755  7.55755756\n",
      "  7.56756757  7.57757758  7.58758759  7.5975976   7.60760761  7.61761762\n",
      "  7.62762763  7.63763764  7.64764765  7.65765766  7.66766767  7.67767768\n",
      "  7.68768769  7.6976977   7.70770771  7.71771772  7.72772773  7.73773774\n",
      "  7.74774775  7.75775776  7.76776777  7.77777778  7.78778779  7.7977978\n",
      "  7.80780781  7.81781782  7.82782783  7.83783784  7.84784785  7.85785786\n",
      "  7.86786787  7.87787788  7.88788789  7.8978979   7.90790791  7.91791792\n",
      "  7.92792793  7.93793794  7.94794795  7.95795796  7.96796797  7.97797798\n",
      "  7.98798799  7.997998    8.00800801  8.01801802  8.02802803  8.03803804\n",
      "  8.04804805  8.05805806  8.06806807  8.07807808  8.08808809  8.0980981\n",
      "  8.10810811  8.11811812  8.12812813  8.13813814  8.14814815  8.15815816\n",
      "  8.16816817  8.17817818  8.18818819  8.1981982   8.20820821  8.21821822\n",
      "  8.22822823  8.23823824  8.24824825  8.25825826  8.26826827  8.27827828\n",
      "  8.28828829  8.2982983   8.30830831  8.31831832  8.32832833  8.33833834\n",
      "  8.34834835  8.35835836  8.36836837  8.37837838  8.38838839  8.3983984\n",
      "  8.40840841  8.41841842  8.42842843  8.43843844  8.44844845  8.45845846\n",
      "  8.46846847  8.47847848  8.48848849  8.4984985   8.50850851  8.51851852\n",
      "  8.52852853  8.53853854  8.54854855  8.55855856  8.56856857  8.57857858\n",
      "  8.58858859  8.5985986   8.60860861  8.61861862  8.62862863  8.63863864\n",
      "  8.64864865  8.65865866  8.66866867  8.67867868  8.68868869  8.6986987\n",
      "  8.70870871  8.71871872  8.72872873  8.73873874  8.74874875  8.75875876\n",
      "  8.76876877  8.77877878  8.78878879  8.7987988   8.80880881  8.81881882\n",
      "  8.82882883  8.83883884  8.84884885  8.85885886  8.86886887  8.87887888\n",
      "  8.88888889  8.8988989   8.90890891  8.91891892  8.92892893  8.93893894\n",
      "  8.94894895  8.95895896  8.96896897  8.97897898  8.98898899  8.998999\n",
      "  9.00900901  9.01901902  9.02902903  9.03903904  9.04904905  9.05905906\n",
      "  9.06906907  9.07907908  9.08908909  9.0990991   9.10910911  9.11911912\n",
      "  9.12912913  9.13913914  9.14914915  9.15915916  9.16916917  9.17917918\n",
      "  9.18918919  9.1991992   9.20920921  9.21921922  9.22922923  9.23923924\n",
      "  9.24924925  9.25925926  9.26926927  9.27927928  9.28928929  9.2992993\n",
      "  9.30930931  9.31931932  9.32932933  9.33933934  9.34934935  9.35935936\n",
      "  9.36936937  9.37937938  9.38938939  9.3993994   9.40940941  9.41941942\n",
      "  9.42942943  9.43943944  9.44944945  9.45945946  9.46946947  9.47947948\n",
      "  9.48948949  9.4994995   9.50950951  9.51951952  9.52952953  9.53953954\n",
      "  9.54954955  9.55955956  9.56956957  9.57957958  9.58958959  9.5995996\n",
      "  9.60960961  9.61961962  9.62962963  9.63963964  9.64964965  9.65965966\n",
      "  9.66966967  9.67967968  9.68968969  9.6996997   9.70970971  9.71971972\n",
      "  9.72972973  9.73973974  9.74974975  9.75975976  9.76976977  9.77977978\n",
      "  9.78978979  9.7997998   9.80980981  9.81981982  9.82982983  9.83983984\n",
      "  9.84984985  9.85985986  9.86986987  9.87987988  9.88988989  9.8998999\n",
      "  9.90990991  9.91991992  9.92992993  9.93993994  9.94994995  9.95995996\n",
      "  9.96996997  9.97997998  9.98998999 10.        ]\n",
      "[0.0, 0.11, 0.21, 0.31, 0.41, 0.51, 0.61, 0.71, 0.81, 0.91, 1.01, 1.11, 1.21, 1.31, 1.41, 1.51, 1.61, 1.71, 1.81, 1.91, 2.01, 2.11, 2.21, 2.31, 2.41, 2.51, 2.61, 2.71, 2.81, 2.91, 3.01, 3.11, 3.21, 3.31, 3.41, 3.51, 3.61, 3.71, 3.81, 3.91, 4.01, 4.11, 4.21, 4.31, 4.41, 4.51, 4.61, 4.71, 4.81, 4.91, 5.01, 5.11, 5.21, 5.31, 5.41, 5.51, 5.61, 5.71, 5.81, 5.91, 6.01, 6.11, 6.21, 6.31, 6.41, 6.51, 6.61, 6.71, 6.81, 6.91, 7.01, 7.11, 7.21, 7.31, 7.41, 7.51, 7.61, 7.71, 7.81, 7.91, 8.01, 8.11, 8.21, 8.31, 8.41, 8.51, 8.61, 8.71, 8.81, 8.91, 9.01, 9.11, 9.21, 9.31, 9.41, 9.51, 9.61, 9.71, 9.81, 9.91, 10.0]\n"
     ]
    }
   ],
   "source": [
    "%matplotlib inline\n",
    "\n",
    "#from pylab import *\n",
    "import math\n",
    "#def f(x):   \n",
    "#    tt = np.linspace(0,10,10000)\n",
    "#    yy = ddeint(model, g, tt, fargs=(k, h, r)) # K=0.1, d=5, r=1\n",
    "#    yy = [math.cos(poi) for poi in tt]\n",
    "#    plt.plot(tt, yy, lw=2)\n",
    "#    plt.plot(time, result_x[x])\n",
    "#w = interactive(f,x=(0,150,1))\n",
    "#display(w)\n",
    "\n",
    "\n",
    "#k = 2\n",
    "#h = 1\n",
    "#r = 1\n",
    "#model = lambda Y,t, k,h,r :  r * (k - ( Y(t-h))) * Y(t)\n",
    "#g = lambda t: 1.0 # history before t=0\n",
    "#tt = np.linspace(0,10,10000)\n",
    "#yy = ddeint(model, g, tt, fargs=(k, h, r)) # K=0.1, d=5, r=1\n",
    "\n",
    "\n",
    "\n",
    "yy = [math.cos(poi) for poi in time]\n",
    "#синий действительное решение\n",
    "plt.plot(time, yy, lw=2)\n",
    "#оранджевый это отрисовка описанным методом\n",
    "plt.plot(time, result_x[10])\n",
    "\n",
    "def model(Y,t,d):\n",
    "    x,y=Y(t)\n",
    "    return array([y,-1*x])\n",
    "\n",
    "g=lambda t : array ([1,0])\n",
    "#tt =linspace (0,100,20000)\n",
    "for d in [0,0.2]:\n",
    "    yy1 = ddeint (model,g,time,fargs=(d,))\n",
    "#зеленое это то что рисует библиотечный метод по time\n",
    "plt.plot(time,yy1[:,0],lw=2)\n",
    "\n",
    "#количество точек для использования построения решения\n",
    "tt =linspace (0.0,10.0,1000)\n",
    "\n",
    "for d in [0,0.2]:\n",
    "    yy2 = ddeint (model,g,tt,fargs=(d,))\n",
    "#красное это то что рисует библиотечный метод по своей сетке tt\n",
    "plt.plot(tt,yy2[:,0],lw=2)\n",
    "\n",
    "plt.show()\n",
    "print(len(time),\" \",len(yy))\n",
    "print(len(tt))\n",
    "print(abs(yy[15]))\n",
    "print(result_x[10])\n",
    "print(tt)\n",
    "print(time)"
   ]
  },
  {
   "cell_type": "code",
   "execution_count": 34,
   "metadata": {},
   "outputs": [],
   "source": [
    "\"\"\"\n",
    "This module implements ddeint, a simple Differential Delay Equation\n",
    "solver built on top of Scipy's odeint \"\"\"\n",
    "\n",
    "# REQUIRES Numpy and Scipy.\n",
    "import numpy as np\n",
    "import scipy.integrate\n",
    "import scipy.interpolate\n",
    "\n",
    "\n",
    "class ddeVar:\n",
    "    \"\"\"\n",
    "    The instances of this class are special function-like\n",
    "    variables which store their past values in an interpolator and\n",
    "    can be called for any past time: Y(t), Y(t-d).\n",
    "    Very convenient for the integration of DDEs.\n",
    "    \"\"\"\n",
    "\n",
    "    def __init__(self, g, tc=0):\n",
    "        \"\"\" g(t) = expression of Y(t) for t<tc \"\"\"\n",
    "\n",
    "        self.g = g\n",
    "        self.tc = tc\n",
    "        # We must fill the interpolator with 2 points minimum\n",
    "        self.itpr = scipy.interpolate.interp1d(\n",
    "            np.array([tc - 1, tc]),  # X\n",
    "            np.array([self.g(tc), self.g(tc)]).T,  # Y\n",
    "            kind='linear', bounds_error=False,\n",
    "            fill_value=self.g(tc))\n",
    "\n",
    "    def update(self, t, Y):\n",
    "        \"\"\" Add one new (ti,yi) to the interpolator \"\"\"\n",
    "\n",
    "        self.itpr.x = np.hstack([self.itpr.x, [t]])\n",
    "        Y2 = Y if (Y.size == 1) else np.array([Y]).T\n",
    "        self.itpr.y = np.hstack([self.itpr.y, Y2])\n",
    "        self.itpr.fill_value = Y\n",
    "        self.itpr._y = self.itpr._reshape_yi(self.itpr.y)\n",
    "\n",
    "    def __call__(self, t=0):\n",
    "        \"\"\" Y(t) will return the instance's value at time t \"\"\"\n",
    "\n",
    "        return (self.g(t) if (t <= self.tc) else self.itpr(t))\n",
    "\n",
    "\n",
    "class dde(scipy.integrate.ode):\n",
    "    \"\"\"\n",
    "    This class overwrites a few functions of ``scipy.integrate.ode``\n",
    "    to allow for updates of the pseudo-variable Y between each\n",
    "    integration step.\n",
    "    \"\"\"\n",
    "\n",
    "    def __init__(self, f, jac=None):\n",
    "        def f2(t, y, args):\n",
    "            return f(self.Y, t, *args)\n",
    "\n",
    "        scipy.integrate.ode.__init__(self, f2, jac)\n",
    "        self.set_f_params(None)\n",
    "\n",
    "    def integrate(self, t, step=0, relax=0):\n",
    "        scipy.integrate.ode.integrate(self, t, step, relax)\n",
    "        self.Y.update(self.t, self.y)\n",
    "        return self.y\n",
    "\n",
    "    def set_initial_value(self, Y):\n",
    "        self.Y = Y  # !!! Y will be modified during integration\n",
    "        scipy.integrate.ode.set_initial_value(self, Y(Y.tc), Y.tc)\n",
    "\n",
    "\n",
    "def ddeint(func, g, tt, fargs=None):\n",
    "    \"\"\" Solves Delay Differential Equations\n",
    "    Similar to scipy.integrate.odeint. Solves a Delay differential\n",
    "    Equation system (DDE) defined by\n",
    "        Y(t) = g(t) for t<0\n",
    "        Y'(t) = func(Y,t) for t>= 0\n",
    "    Where func can involve past values of Y, like Y(t-d).\n",
    "\n",
    "    Parameters\n",
    "    -----------\n",
    "\n",
    "    func\n",
    "      a function Y,t,args -> Y'(t), where args is optional.\n",
    "      The variable Y is an instance of class ddeVar, which means that\n",
    "      it is called like a function: Y(t), Y(t-d), etc. Y(t) returns\n",
    "      either a number or a numpy array (for multivariate systems).\n",
    "    g\n",
    "      The 'history function'. A function g(t)=Y(t) for t<0, g(t)\n",
    "      returns either a number or a numpy array (for multivariate\n",
    "      systems).\n",
    "\n",
    "    tt\n",
    "      The vector of times [t0, t1, ...] at which the system must\n",
    "      be solved.\n",
    "    fargs\n",
    "      Additional arguments to be passed to parameter ``func``, if any.\n",
    "    Examples\n",
    "    ---------\n",
    "\n",
    "    We will solve the delayed Lotka-Volterra system defined as\n",
    "\n",
    "        For t < 0:\n",
    "        x(t) = 1+t\n",
    "        y(t) = 2-t\n",
    "\n",
    "        For t >= 0:\n",
    "        dx/dt =  0.5* ( 1- y(t-d) )\n",
    "        dy/dt = -0.5* ( 1- x(t-d) )\n",
    "\n",
    "    The delay ``d`` is a tunable parameter of the model.\n",
    "    >>> import numpy as np\n",
    "    >>> from ddeint import ddeint\n",
    "    >>>\n",
    "    >>> def model(XY,t,d):\n",
    "    >>>     x, y = XY(t)\n",
    "    >>>     xd, yd = XY(t-d)\n",
    "    >>>     return np.array([0.5*x*(1-yd), -0.5*y*(1-xd)])\n",
    "    >>>\n",
    "    >>> g = lambda t : np.array([1+t,2-t]) # 'history' at t<0\n",
    "    >>> tt = np.linspace(0,30,20000) # times for integration\n",
    "    >>> d = 0.5 # set parameter d\n",
    "    >>> yy = ddeint(model,g,tt,fargs=(d,)) # solve the DDE !\n",
    "\n",
    "    \"\"\"\n",
    "\n",
    "    dde_ = dde(func)\n",
    "    dde_.set_initial_value(ddeVar(g, tt[0]))\n",
    "    dde_.set_f_params(fargs if fargs else [])\n",
    "    results = [dde_.integrate(dde_.t + dt) for dt in np.diff(tt)]\n",
    "    return np.array([g(tt[0])] + results)"
   ]
  },
  {
   "cell_type": "code",
   "execution_count": 214,
   "metadata": {},
   "outputs": [
    {
     "data": {
      "image/png": "[encoded data removed]",
      "text/plain": [
       "<Figure size 432x288 with 1 Axes>"
      ]
     },
     "metadata": {
      "needs_background": "light"
     },
     "output_type": "display_data"
    }
   ],
   "source": [
    "#Здесь разность между теоретическим решением cos(t), решением трейсера и решение модуля метода ddeint\n",
    "%matplotlib inline\n",
    "\n",
    "#from pylab import *\n",
    "import math\n",
    "\n",
    "\n",
    "\n",
    "\n",
    "#функция ddeint \n",
    "def model(Y,t,d):\n",
    "    x,y=Y(t)\n",
    "    return array([y,-1*x])\n",
    "#начальные условия\n",
    "g=lambda t : array ([1,0])\n",
    "for d in [0,0.2]:\n",
    "    yy1 = ddeint (model,g,time,fargs=(d,))\n",
    "#количество точек для использования построения решения\n",
    "tt =linspace (0.0,10.0,1000)\n",
    "#список значений в узлах\n",
    "for d in [0,0.2]:\n",
    "    yy2 = ddeint (model,g,tt,fargs=(d,))\n",
    "\n",
    "\n",
    "\n",
    "\n",
    "#синия линия решение которое дает нам трейсер отклонение от действительного решений\n",
    "i = 0\n",
    "for poi in time:\n",
    "    g1[i] = abs(math.cos(poi)-result_x[10][i])\n",
    "    i+=1\n",
    "plt.plot(time, g1, lw=2)\n",
    "\n",
    "#оранджевая линия то что дает модуль ddeint отклонение от действительного решений\n",
    "z1= yy2[:,0]    \n",
    "i = 0\n",
    "fd = []\n",
    "for poi in tt:\n",
    "    b = abs(z1[i]-math.cos(poi))\n",
    "    fd.append(b)\n",
    "    i+=1\n",
    "plt.plot(tt, fd, lw=2)\n",
    "\n",
    "plt.show()\n"
   ]
  },
  {
   "cell_type": "code",
   "execution_count": 215,
   "metadata": {},
   "outputs": [
    {
     "data": {
      "image/png": "[encoded data removed]",
      "text/plain": [
       "<Figure size 432x288 with 1 Axes>"
      ]
     },
     "metadata": {
      "needs_background": "light"
     },
     "output_type": "display_data"
    }
   ],
   "source": [
    "#Уравнение Хатчинсона \n",
    "import matplotlib.pyplot as plt\n",
    "import numpy as np\n",
    "\n",
    "#from ddeint import ddeint\n",
    "\n",
    "k = 2\n",
    "h = 1\n",
    "r = 1\n",
    "\n",
    "model = lambda Y,t, k,h,r :  r * (k - ( Y(t-h))) * Y(t)\n",
    "g = lambda t: 1 # history before t=0\n",
    "\n",
    "tt = np.linspace(0,10,10000)\n",
    "yy = ddeint(model, g, tt, fargs=(k, h, r)) # K=0.1, d=5, r=1\n",
    "\n",
    "plt.plot(tt, yy, lw=2)\n",
    "plt.show()"
   ]
  },
  {
   "cell_type": "code",
   "execution_count": 219,
   "metadata": {},
   "outputs": [
    {
     "data": {
      "image/png": "[encoded data removed]",
      "text/plain": [
       "<Figure size 432x288 with 1 Axes>"
      ]
     },
     "metadata": {
      "needs_background": "light"
     },
     "output_type": "display_data"
    }
   ],
   "source": [
    "#Здесь должен рисоваться фазовый портрет \n",
    "%matplotlib inline\n",
    "\n",
    "#from pylab import *\n",
    "import math\n",
    "\n",
    "\n",
    "#Синия линия: Теоретическое решение при заданном радиусе \n",
    "r=1\n",
    "xx = [r*math.cos(poi) for poi in time]\n",
    "yy = [r*math.sin(poi) for poi in time]\n",
    "plt.plot(xx, yy, lw=2)\n",
    "\n",
    "\n",
    "\n",
    "\n",
    "\n",
    "\n",
    "#Оранджевая линия: то что рисует модуль  ddeint при заданных начальных условиях\n",
    "#функция ddeint \n",
    "def model(Y,t,d):\n",
    "    x,y=Y(t)\n",
    "    return array([y,-1*x])\n",
    "#начальные условия\n",
    "g=lambda t : array ([1,0])\n",
    "\n",
    "#количество точек для использования построения решения\n",
    "tt =linspace (0.0,10.0,1000)\n",
    "#список значений в узлах\n",
    "for d in [0,0.2]:\n",
    "    yy2 = ddeint (model,g,tt,fargs=(d,))\n",
    "\n",
    "plt.plot(yy2[:,0], yy2[:,1], lw=2)\n",
    "\n",
    "\n",
    "\n",
    "\n",
    "\n",
    "\n",
    "\n",
    "\n",
    "\n",
    "\n",
    "\n",
    "\n",
    "\n",
    "\n",
    "\n",
    "\n",
    "plt.show()\n"
   ]
  },
  {
   "cell_type": "code",
   "execution_count": null,
   "metadata": {},
   "outputs": [],
   "source": []
  }
 ],
 "metadata": {
  "kernelspec": {
   "display_name": "Python 3",
   "language": "python",
   "name": "python3"
  },
  "language_info": {
   "codemirror_mode": {
    "name": "ipython",
    "version": 3
   },
   "file_extension": ".py",
   "mimetype": "text/x-python",
   "name": "python",
   "nbconvert_exporter": "python",
   "pygments_lexer": "ipython3",
   "version": "3.6.5"
  },
  "widgets": {
   "state": {
    "325ce29825cf43ef86b389adde0af496": {
     "views": [
      {
       "cell_index": 9
      }
     ]
    }
   },
   "version": "1.2.0"
  }
 },
 "nbformat": 4,
 "nbformat_minor": 2
}
