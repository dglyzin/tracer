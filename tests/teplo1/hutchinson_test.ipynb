{
 "cells": [
  {
   "cell_type": "code",
   "execution_count": 197,
   "metadata": {},
   "outputs": [],
   "source": [
    "hd_dir = \"/home/hpc/cudahub/tracer/hybriddomain/\"\n",
    "modelFileName = 'problems/teplo1'\n",
    "conn_name = \"dglconnection\"\n",
    "device_conf_name = \"dgllogisticdevices\""
   ]
  },
  {
   "cell_type": "code",
   "execution_count": 198,
   "metadata": {},
   "outputs": [],
   "source": [
    "import os\n",
    "import sys\n",
    "import inspect\n",
    "currentdir = os.path.dirname(os.path.abspath(inspect.getfile(inspect.currentframe())))\n",
    "parentdir = os.path.dirname(currentdir)\n",
    "if hd_dir not in sys.path:\n",
    "    sys.path.insert(0, hd_dir)\n",
    "env_dir = os.path.join(hd_dir, 'spaces', 'math_space', \"common\")\n",
    "if env_dir not in sys.path:\n",
    "    sys.path.insert(0, env_dir)\n",
    "import ipywidgets as widgets\n",
    "from IPython.display import display, clear_output, HTML\n",
    "from envs.hs.model.model_main import ModelNet as Model\n",
    "from settings.settings_main import Settings"
   ]
  },
  {
   "cell_type": "code",
   "execution_count": 199,
   "metadata": {},
   "outputs": [
    {
     "name": "stderr",
     "output_type": "stream",
     "text": [
      "INFO:block_main.block_io:DefaultBound not set\n",
      "INFO:settings_main:device_conf_name\n",
      "INFO:settings_main:dgllogisticdevices\n"
     ]
    },
    {
     "name": "stdout",
     "output_type": "stream",
     "text": [
      "Please enter password for user hpc:\n",
      "········\n"
     ]
    }
   ],
   "source": [
    "model = Model()\n",
    "model.io.loadFromFile(modelFileName)\n",
    "settings = Settings(model, conn_name, device_conf_name, conn_name, pf_prefix=currentdir)"
   ]
  },
  {
   "cell_type": "code",
   "execution_count": 200,
   "metadata": {},
   "outputs": [],
   "source": [
    "#block0 = model.blocks[0]\n",
    "#equation = model.equations[0]\n",
    "#model.paramValues"
   ]
  },
  {
   "cell_type": "code",
   "execution_count": 201,
   "metadata": {},
   "outputs": [
    {
     "data": {
      "application/vnd.jupyter.widget-view+json": {
       "model_id": "fec53c228c8c43f98b209915c07c57f5",
       "version_major": 2,
       "version_minor": 0
      },
      "text/plain": [
       "IntProgress(value=0, description='solving: ', max=99)"
      ]
     },
     "metadata": {},
     "output_type": "display_data"
    },
    {
     "data": {
      "application/vnd.jupyter.widget-view+json": {
       "model_id": "bab7f891f6234a5dabf3104a0353744e",
       "version_major": 2,
       "version_minor": 0
      },
      "text/plain": [
       "Button(description='run teplo1 ', style=ButtonStyle())"
      ]
     },
     "metadata": {},
     "output_type": "display_data"
    },
    {
     "name": "stderr",
     "output_type": "stream",
     "text": [
      "INFO:remoterun:project_path\n",
      "INFO:remoterun:teplo1\n",
      "INFO:remoterun:project_name\n",
      "INFO:remoterun:teplo1\n",
      "INFO:paramiko.transport:Connected (version 2.0, client OpenSSH_7.2)\n",
      "INFO:paramiko.transport:Authentication (publickey) successful!\n",
      "INFO:remoterun:Checking if folder /home/hpc/Tracer/dglprojects exists...\n",
      "INFO:remoterun:Workspace OK.\n",
      "INFO:remoterun:Creating/cleaning project folder: \n",
      "INFO:remoterun:Folder cleaned.\n",
      "INFO:remoterun:Creating settings folders: \n",
      "INFO:remoterun:Checking if folder /home/hpc/Tracer/dglprojects/settings exists...\n",
      "INFO:remoterun:folder /home/hpc/Tracer/dglprojects/settings alredy exist\n",
      "INFO:remoterun:Checking if folder /home/hpc/Tracer/dglprojects/settings/paths exists...\n",
      "INFO:remoterun:folder /home/hpc/Tracer/dglprojects/settings/paths alredy exist\n",
      "INFO:remoterun:Checking if folder /home/hpc/Tracer/dglprojects/settings/device_conf exists...\n",
      "INFO:remoterun:folder /home/hpc/Tracer/dglprojects/settings/device_conf alredy exist\n",
      "INFO:remoterun:settings folders created\n",
      "INFO:remoterun:hd_json:\n",
      "INFO:remoterun:/home/hpc/cudahub/tracer/hybriddomain/tests/teplo1/problems/teplo1/teplo1.json\n",
      "INFO:remoterun:hs_json:\n",
      "INFO:remoterun:/home/hpc/Tracer/dglprojects/problems/teplo1/teplo1.json\n",
      "INFO:paramiko.transport.sftp:[chan 7] Opened sftp connection (server version 3)\n",
      "INFO:paramiko.transport.sftp:[chan 7] sftp session closed.\n",
      "INFO:remoterun:file copied\n",
      "INFO:remoterun:copy /home/hpc/cudahub/tracer/hybriddomain/tests/teplo1/settings/dgllogisticdevices.json\n",
      "INFO:remoterun:to /home/hpc/Tracer/dglprojects/settings/device_conf/dgllogisticdevices.json\n",
      "INFO:paramiko.transport.sftp:[chan 8] Opened sftp connection (server version 3)\n",
      "INFO:paramiko.transport.sftp:[chan 8] sftp session closed.\n",
      "INFO:remoterun:finished copy dev_conf files\n",
      "INFO:remoterun:copy /home/hpc/cudahub/tracer/hybriddomain/tests/teplo1/settings/dglconnection.json\n",
      "INFO:remoterun:to /home/hpc/Tracer/dglprojects/settings/paths/dglconnection.json\n",
      "INFO:paramiko.transport.sftp:[chan 9] Opened sftp connection (server version 3)\n",
      "INFO:paramiko.transport.sftp:[chan 9] sftp session closed.\n",
      "INFO:remoterun:finished copy paths files\n",
      "INFO:remoterun:\n",
      "Running preprocessor:\n",
      "INFO:remoterun:command:\n",
      "INFO:remoterun:cd /home/hpc/Tracer/hybriddomain && pwd && python3 -m gens.hs.tests.tests_gen_1d -t /home/hpc/Tracer/dglprojects/problems/teplo1 -d dgllogisticdevices -p dglconnection -w /home/hpc/Tracer/dglprojects -u hpc\n",
      "INFO:remoterun:Checking if solver executable at /home/hpc/Tracer/hybridsolver/bin/HS exists...\n",
      "INFO:remoterun:Solver executable found.\n",
      "INFO:remoterun:05-13 16:06:32 Performance (10^6): 113.105\n",
      "\n",
      "INFO:remoterun:INFO:postproc.video:Creating images for block 0 value U\n",
      "\n",
      "INFO:remoterun:INFO:postproc.video:Creating video file: 0\n",
      "\n",
      "INFO:remoterun:INFO:postproc.video:Creating out file: 0-U\n",
      "\n",
      "INFO:remoterun:Downloading results...\n",
      "INFO:remoterun:from:\n",
      "INFO:remoterun:/home/hpc/Tracer/dglprojects/problems/teplo1/out\n",
      "INFO:paramiko.transport.sftp:[chan 13] Opened sftp connection (server version 3)\n",
      "INFO:paramiko.transport.sftp:[chan 13] sftp session closed.\n",
      "INFO:remoterun:Done!\n"
     ]
    }
   ],
   "source": [
    "from solvers.hs.remoterun.progresses.progress_notebook import ProgressNotebook\n",
    "progress = ProgressNotebook(100, prefix='solving')\n",
    "from solvers.hs.remoterun.remoterun import remoteProjectRun\n",
    "\n",
    "clear_output()\n",
    "test_name = settings.paths['model']['name']\n",
    "bTest = widgets.Button(description=\"run %s \" % (test_name))\n",
    "def run(event):\n",
    "    remoteProjectRun(settings, 1, progress)\n",
    "bTest.on_click(run)\n",
    "display(progress.progress)\n",
    "display(bTest)"
   ]
  },
  {
   "cell_type": "markdown",
   "metadata": {},
   "source": [
    "### Results:"
   ]
  },
  {
   "cell_type": "code",
   "execution_count": 202,
   "metadata": {},
   "outputs": [
    {
     "name": "stdout",
     "output_type": "stream",
     "text": [
      "['teplo1-plot0.mp4', '.ipynb_checkpoints', 'teplo1-res0-U.out']\n",
      "['/home/hpc/cudahub/tracer/hybriddomain/tests/teplo1/problems/teplo1/out/teplo1-res0-U.out']\n"
     ]
    }
   ],
   "source": [
    "import numpy as np\n",
    "import re\n",
    "import matplotlib.pyplot as plt\n",
    "from ipywidgets import interactive\n",
    "\n",
    "\n",
    "out_dir = os.path.join(currentdir,  modelFileName, \"out\")\n",
    "listdir = os.listdir(out_dir)\n",
    "\n",
    "print(listdir)\n",
    "\n",
    "outs = [os.path.join(out_dir, file_name)\n",
    "        for file_name in listdir\n",
    "        if '.out' in file_name]\n",
    "print(outs)\n",
    "#with open(outs[0]) as f:\n",
    "#    data = f.read()"
   ]
  },
  {
   "cell_type": "code",
   "execution_count": 203,
   "metadata": {},
   "outputs": [],
   "source": [
    "#Эта функция выбирает из какого фаула вытаскивать данные в папке out\n",
    "\n",
    "def vibor(i):\n",
    "    outs = [os.path.join(out_dir, file_name)\n",
    "        for file_name in listdir\n",
    "        if '.out' in file_name]\n",
    "    with open(outs[i]) as f:\n",
    "        data = f.read()\n",
    "    lines = data.split('\\n')\n",
    "    result = {}\n",
    "\n",
    "    for line in lines:\n",
    "        if ':' in line:\n",
    "            key, val = line.split(':')\n",
    "            result[key]=val[1:]\n",
    "        else:\n",
    "            val = line\n",
    "            result[key] += val  \n",
    "    return key, val, result"
   ]
  },
  {
   "cell_type": "code",
   "execution_count": 204,
   "metadata": {},
   "outputs": [],
   "source": [
    "#более не требуется\n",
    "#lines = data.split('\\n')\n",
    "#result = {}\n",
    "\n",
    "#for line in lines:\n",
    "#    if ':' in line:\n",
    "#        key, val = line.split(':')\n",
    "#        result[key]=val[1:]\n",
    "#    else:\n",
    "#        val = line\n",
    "#        result[key] += val\n",
    "        "
   ]
  },
  {
   "cell_type": "code",
   "execution_count": null,
   "metadata": {},
   "outputs": [],
   "source": []
  },
  {
   "cell_type": "code",
   "execution_count": 205,
   "metadata": {},
   "outputs": [],
   "source": [
    "def gen(reuslt):\n",
    "    for key in reuslt:\n",
    "        step_0 = re.subn(r'\\.\\s+',\".0,\",result[key])[0]\n",
    "        step_1 = re.subn(r'\\s+',\",\",step_0)[0]\n",
    "        step_2 = step_1.replace('.]','.0]')\n",
    "        step_3 = step_2.replace('[,','[')\n",
    "\n",
    "        yield((key, eval(step_3)))"
   ]
  },
  {
   "cell_type": "code",
   "execution_count": 206,
   "metadata": {},
   "outputs": [],
   "source": [
    "\n",
    "key, val, result = vibor(0)\n",
    "result_t = dict([(float(key), val) for key, val in gen(result)])\n",
    "#print(result_t)\n",
    "time = [key for key in result_t]\n",
    "result_x = np.array([result_t[key] for key in result_t]).T\n",
    "\n",
    "\n",
    "##это если система из более чем одного уравнения выбирается строка результата\n",
    "#key, val, result = vibor(1)\n",
    "#result_t = dict([(float(key), val) for key, val in gen(result)])\n",
    "#result_y = np.array([result_t[key] for key in result_t]).T\n",
    "##print (result_x)\n",
    "#print(len(result_x[0]))\n",
    "#print (result_x)\n",
    "#print (result_y)"
   ]
  },
  {
   "cell_type": "code",
   "execution_count": null,
   "metadata": {},
   "outputs": [],
   "source": []
  },
  {
   "cell_type": "markdown",
   "metadata": {},
   "source": [
    "##### U(x, t-fixed):"
   ]
  },
  {
   "cell_type": "code",
   "execution_count": 207,
   "metadata": {},
   "outputs": [
    {
     "data": {
      "application/vnd.jupyter.widget-view+json": {
       "model_id": "8edefa90a41344c6ae9abf1293a5a01e",
       "version_major": 2,
       "version_minor": 0
      },
      "text/plain": [
       "interactive(children=(IntSlider(value=50, description='t'), Output()), _dom_classes=('widget-interact',))"
      ]
     },
     "metadata": {},
     "output_type": "display_data"
    }
   ],
   "source": [
    "%matplotlib inline\n",
    "def f(t):\n",
    "    plt.plot(result_t[time[t]])\n",
    "w = interactive(f,t=(0,100,1))\n",
    "display(w)\n",
    "#print(time)"
   ]
  },
  {
   "cell_type": "code",
   "execution_count": 208,
   "metadata": {},
   "outputs": [],
   "source": [
    "\"\"\"\n",
    "This module implements ddeint, a simple Differential Delay Equation\n",
    "solver built on top of Scipy's odeint \"\"\"\n",
    "\n",
    "# REQUIRES Numpy and Scipy.\n",
    "import numpy as np\n",
    "import scipy.integrate\n",
    "import scipy.interpolate\n",
    "\n",
    "\n",
    "class ddeVar:\n",
    "    \"\"\"\n",
    "    The instances of this class are special function-like\n",
    "    variables which store their past values in an interpolator and\n",
    "    can be called for any past time: Y(t), Y(t-d).\n",
    "    Very convenient for the integration of DDEs.\n",
    "    \"\"\"\n",
    "\n",
    "    def __init__(self, g, tc=0):\n",
    "        \"\"\" g(t) = expression of Y(t) for t<tc \"\"\"\n",
    "\n",
    "        self.g = g\n",
    "        self.tc = tc\n",
    "        # We must fill the interpolator with 2 points minimum\n",
    "        self.itpr = scipy.interpolate.interp1d(\n",
    "            np.array([tc - 1, tc]),  # X\n",
    "            np.array([self.g(tc), self.g(tc)]).T,  # Y\n",
    "            kind='linear', bounds_error=False,\n",
    "            fill_value=self.g(tc))\n",
    "\n",
    "    def update(self, t, Y):\n",
    "        \"\"\" Add one new (ti,yi) to the interpolator \"\"\"\n",
    "\n",
    "        self.itpr.x = np.hstack([self.itpr.x, [t]])\n",
    "        Y2 = Y if (Y.size == 1) else np.array([Y]).T\n",
    "        self.itpr.y = np.hstack([self.itpr.y, Y2])\n",
    "        self.itpr.fill_value = Y\n",
    "        self.itpr._y = self.itpr._reshape_yi(self.itpr.y)\n",
    "\n",
    "    def __call__(self, t=0):\n",
    "        \"\"\" Y(t) will return the instance's value at time t \"\"\"\n",
    "\n",
    "        return (self.g(t) if (t <= self.tc) else self.itpr(t))\n",
    "\n",
    "\n",
    "class dde(scipy.integrate.ode):\n",
    "    \"\"\"\n",
    "    This class overwrites a few functions of ``scipy.integrate.ode``\n",
    "    to allow for updates of the pseudo-variable Y between each\n",
    "    integration step.\n",
    "    \"\"\"\n",
    "\n",
    "    def __init__(self, f, jac=None):\n",
    "        def f2(t, y, args):\n",
    "            return f(self.Y, t, *args)\n",
    "\n",
    "        scipy.integrate.ode.__init__(self, f2, jac)\n",
    "        self.set_f_params(None)\n",
    "\n",
    "    def integrate(self, t, step=0, relax=0):\n",
    "        scipy.integrate.ode.integrate(self, t, step, relax)\n",
    "        self.Y.update(self.t, self.y)\n",
    "        return self.y\n",
    "\n",
    "    def set_initial_value(self, Y):\n",
    "        self.Y = Y  # !!! Y will be modified during integration\n",
    "        scipy.integrate.ode.set_initial_value(self, Y(Y.tc), Y.tc)\n",
    "\n",
    "\n",
    "def ddeint(func, g, tt, fargs=None):\n",
    "    \"\"\" Solves Delay Differential Equations\n",
    "    Similar to scipy.integrate.odeint. Solves a Delay differential\n",
    "    Equation system (DDE) defined by\n",
    "        Y(t) = g(t) for t<0\n",
    "        Y'(t) = func(Y,t) for t>= 0\n",
    "    Where func can involve past values of Y, like Y(t-d).\n",
    "\n",
    "    Parameters\n",
    "    -----------\n",
    "\n",
    "    func\n",
    "      a function Y,t,args -> Y'(t), where args is optional.\n",
    "      The variable Y is an instance of class ddeVar, which means that\n",
    "      it is called like a function: Y(t), Y(t-d), etc. Y(t) returns\n",
    "      either a number or a numpy array (for multivariate systems).\n",
    "    g\n",
    "      The 'history function'. A function g(t)=Y(t) for t<0, g(t)\n",
    "      returns either a number or a numpy array (for multivariate\n",
    "      systems).\n",
    "\n",
    "    tt\n",
    "      The vector of times [t0, t1, ...] at which the system must\n",
    "      be solved.\n",
    "    fargs\n",
    "      Additional arguments to be passed to parameter ``func``, if any.\n",
    "    Examples\n",
    "    ---------\n",
    "\n",
    "    We will solve the delayed Lotka-Volterra system defined as\n",
    "\n",
    "        For t < 0:\n",
    "        x(t) = 1+t\n",
    "        y(t) = 2-t\n",
    "\n",
    "        For t >= 0:\n",
    "        dx/dt =  0.5* ( 1- y(t-d) )\n",
    "        dy/dt = -0.5* ( 1- x(t-d) )\n",
    "\n",
    "    The delay ``d`` is a tunable parameter of the model.\n",
    "    >>> import numpy as np\n",
    "    >>> from ddeint import ddeint\n",
    "    >>>\n",
    "    >>> def model(XY,t,d):\n",
    "    >>>     x, y = XY(t)\n",
    "    >>>     xd, yd = XY(t-d)\n",
    "    >>>     return np.array([0.5*x*(1-yd), -0.5*y*(1-xd)])\n",
    "    >>>\n",
    "    >>> g = lambda t : np.array([1+t,2-t]) # 'history' at t<0\n",
    "    >>> tt = np.linspace(0,30,20000) # times for integration\n",
    "    >>> d = 0.5 # set parameter d\n",
    "    >>> yy = ddeint(model,g,tt,fargs=(d,)) # solve the DDE !\n",
    "\n",
    "    \"\"\"\n",
    "\n",
    "    dde_ = dde(func)\n",
    "    dde_.set_initial_value(ddeVar(g, tt[0]))\n",
    "    dde_.set_f_params(fargs if fargs else [])\n",
    "    results = [dde_.integrate(dde_.t + dt) for dt in np.diff(tt)]\n",
    "    return np.array([g(tt[0])] + results)"
   ]
  },
  {
   "cell_type": "markdown",
   "metadata": {},
   "source": [
    "##### U(x-fixed, t):"
   ]
  },
  {
   "cell_type": "code",
   "execution_count": 212,
   "metadata": {},
   "outputs": [
    {
     "name": "stdout",
     "output_type": "stream",
     "text": [
      "[0.9999812286885185, 0.904820433998247, 0.8187153861423041, 0.740804316878901, 0.6703074660563758, 0.6065192775116729, 0.5488013376272651, 0.49657598587322566, 0.44932053338660666, 0.40656203172572736, 0.3678725394433051, 0.3328648391047046, 0.30118856188578536, 0.2725266809640196, 0.246592338607563, 0.22312597520671804, 0.2018927315141738, 0.18268009809476912, 0.1652957884596831, 0.14956581459866575, 0.1353327456495883, 0.12245413227749403, 0.11080108099380473, 0.10025696414699153, 0.09071625267386293, 0.08208345992925312, 0.07427218602360278, 0.06720425310384269, 0.060808922923180055, 0.05502218886896338, 0.04978613536300331, 0.045048358223012064, 0.0407614401839444, 0.03688247633008158, 0.03337264468822288, 0.030196817684337622, 0.027323210575004687, 0.02472306333502387, 0.02237035281742314, 0.020241532305062475, 0.018315295847179388, 0.01657236502227697, 0.014995295993205853, 0.013568304923382693, 0.012277110006851706, 0.011108788531173487, 0.01005164754257807, 0.009095106818955954, 0.00822959297944133, 0.0074464436708006005, 0.006737820871691591, 0.006096632447113087, 0.005516461167935515, 0.004991500485116257, 0.004516496415806376, 0.004086694959725473, 0.0036977945195299728, 0.0033459028489820127, 0.0030274980980416854, 0.002739393565008823, 0.002478705802941987, 0.0022428257611529045, 0.002029392672950801, 0.0018362704282963807, 0.0016615261948950163, 0.0015034110737619155, 0.0013603425956536122, 0.0012308888831842279, 0.0011137543201156278, 0.0010077665843949005, 0.000911864915161477, 0.0008250894962961177, 0.0007465718502587924, 0.000675526146073737, 0.0006112413344690812, 0.0005530740314568987, 0.0005004420791301373, 0.000452818719230739, 0.00040972732117605605, 0.0003707366117798753, 0.0003354563589255084, 0.0003035334659916855, 0.0002746484379429657, 0.00024851218371610195, 0.00022486312289957618, 0.00020346456774897242, 0.00018410235433652877, 0.00016658269912660982, 0.0001507302595249895, 0.00013638637899127134, 0.0001234074991509373, 0.00011166372301491533, 0.00010103751492687978, 9.142252422692228e-05, 8.272252085842468e-05, 7.485043226532747e-05, 6.772747194074168e-05, 6.128235090512316e-05, 5.5450564222219164e-05, 5.017374541199935e-05, 4.5399082299317647e-05]\n",
      "[0.999999049, 0.78027691, 0.655375, 0.57240057, 0.50953026, 0.45760484, 0.41263887, 0.37277396, 0.33703857, 0.30484207, 0.27576723, 0.24948415, 0.22571368, 0.2042111, 0.18475822, 0.16715891, 0.15123624, 0.13683036, 0.12379674, 0.11200463, 0.10133577, 0.09168317, 0.08295001, 0.07504871, 0.06790005, 0.06143232, 0.05558066, 0.0502864, 0.04549644, 0.04116273, 0.03724183, 0.03369441, 0.03048489, 0.0275811, 0.02495389, 0.02257694, 0.02042641, 0.01848072, 0.01672036, 0.01512768, 0.01368672, 0.01238301, 0.01120348, 0.01013631, 0.00917078653, 0.00829723537, 0.00750689317, 0.00679183397, 0.00614488679, 0.00555956371, 0.00502999481, 0.0045508693, 0.00411738225, 0.00372518644, 0.00337034872, 0.00304931061, 0.00275885255, 0.00249606169, 0.00225830263, 0.002043191, 0.00184856953, 0.00167248648, 0.00151317599, 0.00136904041, 0.00123863427, 0.0011206498, 0.00101390378, 0.000917325718, 0.000829947068, 0.000750891555, 0.000679366372, 0.000614654225, 0.000556106148, 0.000503134991, 0.000455209532, 0.000411849149, 0.000372619002, 0.000337125671, 0.00030501321, 0.00027595958, 0.000249673414, 0.000225891103, 0.000204374144, 0.000184906755, 0.000167293706, 0.000151358365, 0.000136940924, 0.000123896797, 0.000112095171, 0.000101417693, 9.17572849e-05, 8.30170659e-05, 7.51093849e-05, 6.79549396e-05, 6.14819815e-05, 5.56255965e-05, 5.03270538e-05, 4.55332167e-05, 4.11960103e-05, 3.72719387e-05, 3.37216494e-05]\n",
      "315\n",
      "[1.7820645998461327e-05, 0.13764446438052952, 0.19950814276490614, 0.22732554743796116, 0.2398559082181754, 0.24552300814347475, 0.24810884794115418, 0.24931134286633008, 0.2498927937708924, 0.25019542846624965, 0.2503728861705373, 0.2504941324802309, 0.250590133347781, 0.2506748356614631, 0.25075441904125134, 0.25083168893655977, 0.25090795064416416, 0.25098376108263093, 0.2510593212712436, 0.2511348244881677, 0.2512102705550312, 0.2512856177671798, 0.2513610042790284, 0.25143643996672893, 0.2515117412961295, 0.2515871035048001, 0.25166252704158787, 0.251737833879376, 0.25181309234048305, 0.251888540857035, 0.25196383032222947, 0.25203911243123, 0.25211450178328704, 0.25218958311905204, 0.2522651341202766, 0.25234042090103664, 0.2524154530109976, 0.2524906905925638, 0.25256610226650716, 0.2526415603320448, 0.2527164117795129, 0.25279162127104604, 0.25286703209618994, 0.25294205449851187, 0.2530174833587142, 0.253092689025784, 0.25316788733375994, 0.25324307837215165, 0.2533182618689911, 0.2533934377560038, 0.25346860568331286, 0.2535437654348092, 0.2536189189670499, 0.25369406431836966, 0.2537692030032847, 0.25384433140934987, 0.2539194551159976, 0.25399457107386614, 0.25406967837212974, 0.25414477638468874, 0.2542198724003774, 0.2542949572951787, 0.25437003386841134, 0.2544451030177827, 0.25452016717782583, 0.2545952204570036, 0.2546702696515628, 0.25474530598819023, 0.25482033783371855, 0.25489536304593546, 0.2549703791600592, 0.25504538870119636, 0.25512039088102406, 0.25519538522039625, 0.2552703714067523, 0.2553453505760999, 0.2554203222724953, 0.2554952861208599, 0.25557024334010997, 0.25564519059733193, 0.25572013361224555, 0.25579506608280317, 0.25586999317854875, 0.25594491088921506, 0.25601982289148706, 0.25609472610120143, 0.2561696210050651, 0.25624451008664917, 0.25631939231541107, 0.256394269353755, 0.2564691324975845, 0.2565439906664127, 0.2566188414832234, 0.25669368490277916, 0.25676852129272953, 0.2568433499111919, 0.2569181698671142, 0.25699298366516393, 0.2570677886178719, 0.25714258734437245, 0.25721737770662295]\n"
     ]
    },
    {
     "data": {
      "image/png": "[encoded data removed]",
      "text/plain": [
       "<Figure size 432x288 with 1 Axes>"
      ]
     },
     "metadata": {
      "needs_background": "light"
     },
     "output_type": "display_data"
    }
   ],
   "source": [
    "#фазовый портрет с устойчивым циклом\n",
    "%matplotlib inline\n",
    "\n",
    "#from pylab import *\n",
    "import math\n",
    "\n",
    "#Синяя линия сама траектория\n",
    "#plt.plot(time, result_x[152])\n",
    "\n",
    "\n",
    "\n",
    "\n",
    "e =2.7182818\n",
    "pog =[]\n",
    "toch =[]\n",
    "otv =[]\n",
    "for tt in time:\n",
    "    pog.append(0)\n",
    "    toch.append(0)\n",
    "    otv.append(0)\n",
    "i=0\n",
    "j=0\n",
    "xx=0\n",
    "for tt in time:\n",
    "    xx=0\n",
    "    for r in result_x:\n",
    "        if toch[i]<abs((3.0/4.0*math.sin(xx)-1.0/4.0*math.sin(3.0*xx))*(e**(-tt))):\n",
    "            toch[i]=abs((3.0/4.0*math.sin(xx)-1.0/4.0*math.sin(3.0*xx))*(e**(-tt)))\n",
    "        xx+=0.1\n",
    "    i+=1\n",
    "\n",
    "    \n",
    "\n",
    "print(toch)   \n",
    "\n",
    "i=0\n",
    "j=0\n",
    "for g2 in result_x:\n",
    "    i=0\n",
    "    for g1 in time:\n",
    "        if(pog[i]<abs(result_x[j][i])):\n",
    "            pog[i]=abs(result_x[j][i])\n",
    "        i+=1\n",
    "    j+=1\n",
    "\n",
    "\n",
    "i=0\n",
    "for g1 in time:\n",
    "    otv[i]=abs((pog[i]-toch[i])/(toch[i]))\n",
    "    i+=1\n",
    "#\n",
    "#def model(Y,t,d):\n",
    "#    x,y=Y(t)\n",
    "#    return np.array([x*y-4,(x-4)*(y-x)])\n",
    "\n",
    "#g=lambda t : np.array ([4.1,1.0])\n",
    "\n",
    "#количество точек для использования построения решения\n",
    "#tt =np.linspace (0.0,10.0,10000)\n",
    "#\n",
    "#for d in [0,0.2]:\n",
    "#    yy2 = ddeint (model,g,tt,fargs=(d,))\n",
    "#оранджевое это то что рисует библиотечный метод по своей сетке tt\n",
    "#plt.plot(yy2[:,0],yy2[:,1],lw=2)\n",
    "print(pog)\n",
    "\n",
    "print(len(result_x))\n",
    "print(otv)\n",
    "\n",
    "plt.plot(time, otv)\n",
    "\n",
    "\n",
    "\n",
    "\n",
    "plt.show()\n",
    "#print(len(result_x[10]))"
   ]
  },
  {
   "cell_type": "code",
   "execution_count": null,
   "metadata": {},
   "outputs": [],
   "source": []
  },
  {
   "cell_type": "code",
   "execution_count": null,
   "metadata": {},
   "outputs": [],
   "source": []
  },
  {
   "cell_type": "code",
   "execution_count": null,
   "metadata": {},
   "outputs": [],
   "source": []
  }
 ],
 "metadata": {
  "kernelspec": {
   "display_name": "Python 3",
   "language": "python",
   "name": "python3"
  },
  "language_info": {
   "codemirror_mode": {
    "name": "ipython",
    "version": 3
   },
   "file_extension": ".py",
   "mimetype": "text/x-python",
   "name": "python",
   "nbconvert_exporter": "python",
   "pygments_lexer": "ipython3",
   "version": "3.6.5"
  },
  "widgets": {
   "state": {
    "325ce29825cf43ef86b389adde0af496": {
     "views": [
      {
       "cell_index": 9
      }
     ]
    }
   },
   "version": "1.2.0"
  }
 },
 "nbformat": 4,
 "nbformat_minor": 2
}
