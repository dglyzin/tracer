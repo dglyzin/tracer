{
 "cells": [
  {
   "cell_type": "code",
   "execution_count": 1,
   "metadata": {
    "collapsed": false
   },
   "outputs": [
    {
     "name": "stdout",
     "output_type": "stream",
     "text": [
      "/home/valdecar/Documents/projects/projectsNew/lab/hybriddomain/spaces/math_space/common/\n"
     ]
    }
   ],
   "source": [
    "import os\n",
    "import sys\n",
    "import inspect\n",
    "currentdir = os.path.dirname(os.path.abspath(inspect.getfile(inspect.currentframe())))\n",
    "parentdir = os.path.dirname(currentdir)\n",
    "folder = \"env\"\n",
    "sourcedir = currentdir.split(folder)[0]\n",
    "sys.path.insert(0, sourcedir)\n",
    "# from env.equation.equation import Equation\n",
    "print(sourcedir)\n"
   ]
  },
  {
   "cell_type": "markdown",
   "metadata": {},
   "source": [
    "##### Введение:"
   ]
  },
  {
   "cell_type": "code",
   "execution_count": 2,
   "metadata": {
    "collapsed": false
   },
   "outputs": [
    {
     "name": "stdout",
     "output_type": "stream",
     "text": [
      "/home/valdecar/Documents/projects/projectsNew/lab/hybriddomain/spaces/math_space/common/\n"
     ]
    }
   ],
   "source": [
    "print(sys.path[0])\n",
    "from env.equation.equation import Equation"
   ]
  },
  {
   "cell_type": "markdown",
   "metadata": {},
   "source": [
    "Некоторые поддерживаемые типы уравнений приведены ниже (Чтобы запустеть все доступные тесты нужно выполнить из папки equation: \n",
    "`python3 tests.py`):"
   ]
  },
  {
   "cell_type": "code",
   "execution_count": 3,
   "metadata": {
    "collapsed": false
   },
   "outputs": [],
   "source": [
    "eq_all = Equation(\"U'=(V(t-3.1)*U(t-3.1)+V(t-1.1)*U(t-3.1)+U(t-1.1))^3\"\n",
    "              + \"+cos(U-c*D[U,{x,2}])\")\n",
    "eq_delay = Equation(\"U'=V(t-3.1)*U(t-3.1)+V(t-1.1)*U(t-3.1)\")\n",
    "eq_pow = Equation(\"U'=(V(t-3.1)+U)^3\")\n",
    "eq_diff = Equation(\"U'= U-c*D[U,{x,2}]\")\n",
    "eq_func = Equation(\"V + cos(x-c*D[U,{x,2}])\")\n",
    "\n",
    "eqs = [eq_all, eq_delay, eq_pow, eq_diff, eq_func]\n",
    "for eq in eqs:\n",
    "    eq.parser.parse()"
   ]
  },
  {
   "cell_type": "markdown",
   "metadata": {},
   "source": [
    "Чтобы произвести преобразование к cpp необходимо задать некоторые параметры. По умолчанию можно задать их используя set_default метод."
   ]
  },
  {
   "cell_type": "code",
   "execution_count": 4,
   "metadata": {
    "collapsed": true
   },
   "outputs": [],
   "source": [
    "for eq in eqs:\n",
    "    eq.replacer.cpp.editor.set_default()"
   ]
  },
  {
   "cell_type": "markdown",
   "metadata": {},
   "source": [
    "Чтобы узнать стандартные параметры проще всего глянуть ее исходник. Для этого в сдед ячейке использована jupyter команда `??e_all.set_default`.\n",
    "Более точное описание см. ниже."
   ]
  },
  {
   "cell_type": "code",
   "execution_count": 5,
   "metadata": {
    "collapsed": false
   },
   "outputs": [],
   "source": [
    "# uncomment next line to see source:\n",
    "# ??eq_all.set_default"
   ]
  },
  {
   "cell_type": "markdown",
   "metadata": {},
   "source": [
    "После того, как параметры заданы можно уже генерировать cpp строку:"
   ]
  },
  {
   "cell_type": "code",
   "execution_count": 5,
   "metadata": {
    "collapsed": false
   },
   "outputs": [
    {
     "name": "stdout",
     "output_type": "stream",
     "text": [
      "\n",
      "original:\n",
      "(U')=(V(t-3.1)*U(t-3.1)+V(t-1.1)*U(t-3.1)+U(t-1.1))^3+cos(U-c*D[U,{x,2}])\n",
      "\n",
      "cpp:\n",
      "result[idx + 0]=pow(source[delay][idx + 1]*source[delay][idx + 0]+source[delay][idx + 1]*source[delay][idx + 0]+source[delay][idx + 0],3)+cos(source[delay][idx + 0]-params[2]*(DXM2 * (source[delay][idx + 1 * Block0StrideX * Block0CELLSIZE + 0] - 2.0 * source[delay][idx + 0 * Block0StrideX * Block0CELLSIZE + 0] + source[delay][idx-1 * Block0StrideX * Block0CELLSIZE + 0])))\n",
      "\n",
      "original:\n",
      "(U')=V(t-3.1)*U(t-3.1)+V(t-1.1)*U(t-3.1)\n",
      "\n",
      "cpp:\n",
      "result[idx + 0]=source[delay][idx + 1]*source[delay][idx + 0]+source[delay][idx + 1]*source[delay][idx + 0]\n",
      "\n",
      "original:\n",
      "(U')=(V(t-3.1)+U)^3\n",
      "\n",
      "cpp:\n",
      "result[idx + 0]=pow(source[delay][idx + 1]+source[delay][idx + 0],3)\n",
      "\n",
      "original:\n",
      "(U')=U-c*D[U,{x,2}]\n",
      "\n",
      "cpp:\n",
      "result[idx + 0]=source[delay][idx + 0]-params[2]*(DXM2 * (source[delay][idx + 1 * Block0StrideX * Block0CELLSIZE + 0] - 2.0 * source[delay][idx + 0 * Block0StrideX * Block0CELLSIZE + 0] + source[delay][idx-1 * Block0StrideX * Block0CELLSIZE + 0]))\n",
      "\n",
      "original:\n",
      "V+cos(x-c*D[U,{x,2}])\n",
      "\n",
      "cpp:\n",
      "source[delay][idx + 1]+cos(idxX-params[2]*(DXM2 * (source[delay][idx + 1 * Block0StrideX * Block0CELLSIZE + 0] - 2.0 * source[delay][idx + 0 * Block0StrideX * Block0CELLSIZE + 0] + source[delay][idx-1 * Block0StrideX * Block0CELLSIZE + 0])))\n"
     ]
    }
   ],
   "source": [
    "for eq in eqs:\n",
    "    print(\"\\noriginal:\")\n",
    "    eq.show_original()\n",
    "    eq.replacer.cpp.make_cpp()\n",
    "    print(\"\\ncpp:\")\n",
    "    eq.replacer.cpp.show_cpp()"
   ]
  },
  {
   "cell_type": "markdown",
   "metadata": {},
   "source": [
    "Этот результат можно получить в виде строки:"
   ]
  },
  {
   "cell_type": "code",
   "execution_count": 6,
   "metadata": {
    "collapsed": false
   },
   "outputs": [
    {
     "data": {
      "text/plain": [
       "'result[idx + 0]=source[delay][idx + 0]-params[2]*(DXM2 * (source[delay][idx + 1 * Block0StrideX * Block0CELLSIZE + 0] - 2.0 * source[delay][idx + 0 * Block0StrideX * Block0CELLSIZE + 0] + source[delay][idx-1 * Block0StrideX * Block0CELLSIZE + 0]))'"
      ]
     },
     "execution_count": 6,
     "metadata": {},
     "output_type": "execute_result"
    }
   ],
   "source": [
    "eq_diff.tree.flatten('cpp')"
   ]
  },
  {
   "cell_type": "markdown",
   "metadata": {},
   "source": [
    "##### Описание cpp параметров"
   ]
  },
  {
   "cell_type": "markdown",
   "metadata": {},
   "source": [
    "Вместо функции set_default можно установиь параметры явно:"
   ]
  },
  {
   "cell_type": "code",
   "execution_count": 7,
   "metadata": {
    "collapsed": false
   },
   "outputs": [
    {
     "name": "stdout",
     "output_type": "stream",
     "text": [
      "source[delay][idx + 0]-params[2]*(2.0 * DXM2 * (source[delay][idx + Block0StrideX * Block0CELLSIZE + 0] - source[delay][idx + 0] - (sin(idxX)) * DX))\n"
     ]
    }
   ],
   "source": [
    "sent = \"U-c*D[U,{x,2}]\"\n",
    "eq_diff = Equation(sent)\n",
    "eq_diff.parser.parse()\n",
    "\n",
    "eq_diff.replacer.cpp.editor.set_default()\n",
    "eq_diff.replacer.cpp.editor.set_dim(dim=2)\n",
    "eq_diff.replacer.cpp.editor.set_blockNumber(blockNumber=0)\n",
    "\n",
    "eq_diff.replacer.cpp.editor.set_vars_indexes(vars_to_indexes=[('U', 0), ('V', 1)])\n",
    "\n",
    "coeffs_to_indexes = [('a', 0), ('b', 1), ('c', 2), ('r', 3)]\n",
    "eq_diff.replacer.cpp.editor.set_coeffs_indexes(coeffs_to_indexes=coeffs_to_indexes)\n",
    "\n",
    "eq_diff.replacer.cpp.editor.set_diff_type(diffType='pure',\n",
    "                                          diffMethod='special',\n",
    "                                          side=0, func=\"sin(idxX)\")\n",
    "eq_diff.replacer.cpp.make_cpp()\n",
    "eq_diff.replacer.cpp.show_cpp()"
   ]
  },
  {
   "cell_type": "markdown",
   "metadata": {},
   "source": [
    "Только использование последнего метода отличает от умолчания. Если теперь поменять diffMethod, то результат измениться:"
   ]
  },
  {
   "cell_type": "code",
   "execution_count": 8,
   "metadata": {
    "collapsed": false
   },
   "outputs": [
    {
     "name": "stdout",
     "output_type": "stream",
     "text": [
      "source[delay][idx + 0]-params[2]*(DXM2 * (source[delay][idx + 1 * Block0StrideX * Block0CELLSIZE + 0] - 2.0 * source[delay][idx + 0 * Block0StrideX * Block0CELLSIZE + 0] + source[delay][idx-1 * Block0StrideX * Block0CELLSIZE + 0]))\n"
     ]
    }
   ],
   "source": [
    "eq_diff.replacer.cpp.editor.set_diff_type(diffType='pure',\n",
    "                                          diffMethod='common')\n",
    "eq_diff.replacer.cpp.make_cpp()\n",
    "eq_diff.replacer.cpp.show_cpp()"
   ]
  },
  {
   "cell_type": "markdown",
   "metadata": {},
   "source": [
    "##### Использование sympy"
   ]
  },
  {
   "cell_type": "markdown",
   "metadata": {},
   "source": [
    "Для некоторых pde уравнений можно использовать sympy.pde методы. Для конвертации wolfram to sympy используется функция e.replacer.sympy.make_sympy и e.slambda.sympy.lambdify. Первая просто генерирует читабельную строку, вторая генерирует sympy объект."
   ]
  },
  {
   "cell_type": "code",
   "execution_count": 9,
   "metadata": {
    "collapsed": false
   },
   "outputs": [
    {
     "name": "stdout",
     "output_type": "stream",
     "text": [
      "diff(U(t, x),x, 1)\n",
      "\n",
      "lambdify:\n",
      "Eq(U, U + sin(x) - Derivative(U(t, x), x))\n",
      "\n",
      "make_sympy:\n",
      "U(t)=U(t)-a*(diff(U,x, 1))+sympy.sin(x)\n"
     ]
    }
   ],
   "source": [
    "import sympy\n",
    "\n",
    "e = Equation(\"U=U-a*(D[U,{x,1}])+sin(x)\")\n",
    "e.parser.parse()\n",
    "\n",
    "e.args_editor.get_vars()\n",
    "    \n",
    "x, U = sympy.symbols('x U')\n",
    "\n",
    "# work also for print:\n",
    "# c = sympy.Matrix([[0, -1], [1, 0]])\n",
    "e.args_editor.subs(x=x, U=U, a=1)\n",
    "\n",
    "e.slambda.sympy.lambdify_sem()\n",
    "out = e.slambda.sympy.lambdify()\n",
    "print(\"\\nlambdify:\")\n",
    "print(out())\n",
    "\n",
    "e.replacer.sympy.make_sympy()\n",
    "print(\"\\nmake_sympy:\")\n",
    "e.replacer.sympy.show_sympy()\n",
    "# e.slambda.sympy.show_sympy_lambda()"
   ]
  },
  {
   "cell_type": "markdown",
   "metadata": {},
   "source": [
    "Вывод make_sympy является просто строкой, вывод lambdify является sympy объектом, к которому можно применить ряд методов sympy:"
   ]
  },
  {
   "cell_type": "markdown",
   "metadata": {},
   "source": [
    "После этого можно провести некоторый предварительный анализ pde:"
   ]
  },
  {
   "cell_type": "code",
   "execution_count": 10,
   "metadata": {
    "collapsed": false
   },
   "outputs": [
    {
     "data": {
      "text/plain": [
       "('1st_linear_constant_coeff', '1st_linear_constant_coeff_Integral')"
      ]
     },
     "execution_count": 10,
     "metadata": {},
     "output_type": "execute_result"
    }
   ],
   "source": [
    "e.cas.classify_pde()"
   ]
  },
  {
   "cell_type": "code",
   "execution_count": 11,
   "metadata": {
    "collapsed": false
   },
   "outputs": [
    {
     "data": {
      "text/plain": [
       "t - cos(x)"
      ]
     },
     "execution_count": 11,
     "metadata": {},
     "output_type": "execute_result"
    }
   ],
   "source": [
    "e.cas.pdsolve().rhs"
   ]
  },
  {
   "cell_type": "code",
   "execution_count": 12,
   "metadata": {
    "collapsed": false
   },
   "outputs": [
    {
     "data": {
      "image/png": "[encoded data removed]",
      "text/plain": [
       "<matplotlib.figure.Figure at 0x7fc95f0ea550>"
      ]
     },
     "metadata": {},
     "output_type": "display_data"
    }
   ],
   "source": [
    "# slow:\n",
    "e.cas.plot_pde()\n",
    "# sympy.plotting.plot_implicit(e.eq_sympy_solved.rhs)"
   ]
  },
  {
   "cell_type": "markdown",
   "metadata": {},
   "source": [
    "Пока это работает только для простых задач, но со временем их число может возрасти."
   ]
  },
  {
   "cell_type": "code",
   "execution_count": null,
   "metadata": {
    "collapsed": true
   },
   "outputs": [],
   "source": []
  }
 ],
 "metadata": {
  "kernelspec": {
   "display_name": "Python 3",
   "language": "python",
   "name": "python3"
  },
  "language_info": {
   "codemirror_mode": {
    "name": "ipython",
    "version": 3
   },
   "file_extension": ".py",
   "mimetype": "text/x-python",
   "name": "python",
   "nbconvert_exporter": "python",
   "pygments_lexer": "ipython3",
   "version": "3.6.0"
  }
 },
 "nbformat": 4,
 "nbformat_minor": 2
}
