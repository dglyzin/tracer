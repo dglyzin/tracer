{
 "cells": [
  {
   "cell_type": "markdown",
   "metadata": {},
   "source": [
    "### DESCRIPTION:\n",
    "Расчет 2d модели для одного блока. Интерфейс jupyter к /domainmodel/criminal/mini_solver. Использует:\n",
    "```\n",
    "criminal/mini_solver/main.py\n",
    "criminal/state.py\n",
    "criminal/notebooks_src/frontend.py\n",
    "```\n",
    "Также mini_solver можно тестировать:\n",
    "```\n",
    "hybriddomain$: python3 -m domainmodel.criminal.state\n",
    "   или\n",
    "hybriddomain$: python3 -m domainmodel.criminal.test_mini_solver\n",
    "   или\n",
    "hybriddomain/domainmodel/mini_solver$: python3 main.py\n",
    "\n",
    "Во всех есть параметер cuda в \n",
    "     __name__ == '__main__'\n",
    "        \n",
    "```\n",
    "\n",
    "Сгенерированные исходники лежат в:\n",
    "```\n",
    "для с++:\n",
    "mini_solver/cpp/kernels.cpp\n",
    "mini_solver/cpp/includes/core.h\n",
    "mini_solver/cpp/solver.cpp\n",
    "\n",
    "для cuda:\n",
    "mini_solver/cuda/core.cu\n",
    "```\n",
    "\n",
    "Шаблоны в `templates/mini_solver`\n",
    "\n",
    "##### Требования:\n",
    "ipywidgets [1]:\n",
    "```\n",
    "$:pip3 install ipywidgets\n",
    "$:sudo jupyter nbextension enable --py widgetsnbextension\n",
    "```\n",
    "##### Использование:\n",
    "1. Go to hybriddomain folder\n",
    "2. Run jupyter:\n",
    "```\n",
    "hybriddomain$:jupyter notebook\n",
    "```\n",
    "3. Open notebook_mini_solver.ipynb\n",
    "\n",
    "4. click at `Cell/Run All` or load each cell use `Shift+Enter`\n",
    "\n",
    "##### Важно:\n",
    "1. Если widgets не работают то надо остановить сервер и выполнить:\n",
    "```\n",
    "$: sudo jupyter nbextension enable --py --sys-prefix widgetsnbextension \n",
    "```\n",
    "Если это не поможет, то надо удалить все из папки home/user/.local/share/jupyter\n",
    "\n",
    "2. Работает только для моделей json с 1 блоком из папки tests/2dTests/\n",
    "3. Только для 2d моделей\n",
    "4. Блок в модели должен иметь\n",
    "```\n",
    "b.defaultBound     b.defaultEquation  b.defaultInitial\n",
    "```\n",
    "5. Границы блока - только Дирихле значения (из за проблем с вершинами)\n",
    "6. ITERATION_COUNT и ITERATION_STEP должны быть степенями 2. Это связано с обмена result/source через tmp в solver. И второе делит первое. \n",
    "6. COUNT_OF_DELAY = 1 так что пока без задержек по времени. \n",
    "6. Не проверяется ошибка при пересечении bounds or equations регионов\n",
    "7. Обязательно нажать `set model` на первом слайде\n",
    "\n",
    "##### Возможности:\n",
    "1. Можно тестировать 2d модели для одного блока\n",
    "2. Используя cuda и без\n",
    "3. Добавльять регионы уравнений и границ\n",
    "4. Визуализировать регионы блока\n",
    "4. Добавлять ядра на c++ или wolfram\n",
    "5. Итрерактивно смотреть эволюцию процесса\n",
    "\n",
    "### REFERENCES:\n",
    "1. [1] http://ipywidgets.readthedocs.io/en/stable/user_install.html"
   ]
  },
  {
   "cell_type": "code",
   "execution_count": 1,
   "metadata": {
    "collapsed": false
   },
   "outputs": [
    {
     "name": "stdout",
     "output_type": "stream",
     "text": [
      "widgetsnbextension:\n",
      "1.2.6\n",
      "/home/valdecar/anaconda3/lib/python3.6/site-packages/widgetsnbextension/__init__.py\n",
      "\n",
      "ipywidgets:\n",
      "5.2.2\n",
      "/home/valdecar/anaconda3/lib/python3.6/site-packages/ipywidgets/__init__.py\n"
     ]
    }
   ],
   "source": [
    "%matplotlib inline\n",
    "import ipywidgets as widgets\n",
    "from ipywidgets import interact,interactive,fixed\n",
    "from IPython.display import display,Math,clear_output\n",
    "#import test \n",
    "#import sympy\n",
    "# import src.lagrange as lg\n",
    "import matplotlib.pyplot as plt\n",
    "from numpy import linspace,sin,shape\n",
    "from pandas import DataFrame\n",
    "from IPython.display import HTML\n",
    "\n",
    "import os\n",
    "from importlib import reload\n",
    "\n",
    "# import domainmodel.criminal.test_mini_solver as ts\n",
    "import domainmodel.criminal.state as st\n",
    "from domainmodel.criminal.notebooks_src.frontend import FrontState\n",
    "import sys\n",
    "sys.path\n",
    "\n",
    "import widgetsnbextension;\n",
    "print(\"widgetsnbextension:\")\n",
    "print(widgetsnbextension.__version__)\n",
    "print(widgetsnbextension.__file__)\n",
    "print()\n",
    "print(\"ipywidgets:\")\n",
    "print(widgets.__version__)\n",
    "print(widgets.__file__)"
   ]
  },
  {
   "cell_type": "code",
   "execution_count": 2,
   "metadata": {
    "collapsed": false
   },
   "outputs": [
    {
     "data": {
      "text/html": [
       "<script>\n",
       "code_show=true; \n",
       "function code_toggle() {\n",
       " if (code_show){\n",
       "     $('div.input').hide();\n",
       " } else {\n",
       "     $('div.input').show();\n",
       " }\n",
       " code_show = !code_show\n",
       "} \n",
       "$( document ).ready(code_toggle);\n",
       "</script>\n",
       "<form action=\"javascript:code_toggle()\"><input type=\"submit\" value=\"Click here to toggle on/off the raw code.\"></form>"
      ],
      "text/plain": [
       "<IPython.core.display.HTML object>"
      ]
     },
     "execution_count": 2,
     "metadata": {},
     "output_type": "execute_result"
    }
   ],
   "source": [
    "HTML('''<script>\n",
    "code_show=true; \n",
    "function code_toggle() {\n",
    " if (code_show){\n",
    "     $('div.input').hide();\n",
    " } else {\n",
    "     $('div.input').show();\n",
    " }\n",
    " code_show = !code_show\n",
    "} \n",
    "$( document ).ready(code_toggle);\n",
    "</script>\n",
    "<form action=\"javascript:code_toggle()\"><input type=\"submit\" value=\"Click here to toggle on/off the raw code.\"></form>''') "
   ]
  },
  {
   "cell_type": "code",
   "execution_count": 3,
   "metadata": {
    "collapsed": false
   },
   "outputs": [
    {
     "name": "stderr",
     "output_type": "stream",
     "text": [
      "Widget Javascript not detected.  It may not be installed properly. Did you enable the widgetsnbextension? If not, then run \"jupyter nbextension enable --py --sys-prefix widgetsnbextension\"\n"
     ]
    }
   ],
   "source": [
    "lName = widgets.Label(value=r'simple solver test:')\n",
    "bTest = widgets.Button(description=\"run test\")\n",
    "node = widgets.Box(children=[lName, bTest])\n",
    "\n",
    "def on_button_bTest(event):\n",
    "    clear_output()\n",
    "    \n",
    "    state = st.State()\n",
    "    modelFile = \"tests/2dTests/test2d_for_intervals_single.json\"\n",
    "\n",
    "    # FOR generate solver data:\n",
    "    state = st.State()\n",
    "    state.get_model(modelFile)\n",
    "    state.set_params()\n",
    "    # state.plot_block()\n",
    "    state.parse_equations_w()\n",
    "    state.gen_src_files()\n",
    "    state.prepare_to_solver()\n",
    "    state.save_to_file()\n",
    "    clear_output()\n",
    "    # END FOR\n",
    "\n",
    "    # FOR run solver from shell\n",
    "    # state.load_from_file()\n",
    "    state.run_solver_shell()\n",
    "    # END FOR\n",
    "\n",
    "    # FOR print result\n",
    "    state.load_from_file()\n",
    "\n",
    "    '''\n",
    "    # normalize:\n",
    "    result = state.result/state.result.max()\n",
    "    result = 256*result\n",
    "    plt.imshow(result)\n",
    "    # END FOR\n",
    "    '''\n",
    "    state.plot_results()\n",
    "    \n",
    "bTest.on_click(on_button_bTest)\n",
    "display(node)\n"
   ]
  },
  {
   "cell_type": "markdown",
   "metadata": {},
   "source": [
    "## Mini solver"
   ]
  },
  {
   "cell_type": "code",
   "execution_count": 4,
   "metadata": {
    "collapsed": false
   },
   "outputs": [
    {
     "data": {
      "image/png": "[encoded data removed]",
      "text/plain": [
       "<matplotlib.figure.Figure at 0x7f60d882bf60>"
      ]
     },
     "metadata": {},
     "output_type": "display_data"
    }
   ],
   "source": [
    "state = st.State()\n",
    "fState = FrontState(state)\n",
    "fState.set_callbacks()\n",
    "fState.show()"
   ]
  },
  {
   "cell_type": "markdown",
   "metadata": {},
   "source": [
    "##### some widgets examples"
   ]
  },
  {
   "cell_type": "code",
   "execution_count": 5,
   "metadata": {
    "collapsed": false
   },
   "outputs": [
    {
     "data": {
      "text/plain": [
       "10.0"
      ]
     },
     "metadata": {},
     "output_type": "display_data"
    },
    {
     "data": {
      "text/plain": [
       "<function ipywidgets.widgets.widget.Widget.close>"
      ]
     },
     "execution_count": 5,
     "metadata": {},
     "output_type": "execute_result"
    }
   ],
   "source": [
    "\n",
    "def f(x):    \n",
    "    display(x)\n",
    "w=interactive(f, x=(0.0,20.0,0.5))\n",
    "\n",
    "cCuda = widgets.Checkbox(\n",
    "            value=False,\n",
    "            description='cuda',\n",
    "            disabled=False)\n",
    "b = widgets.Button(description=\"show cuda\")\n",
    "def f(x):\n",
    "    display(bool(cCuda.value))\n",
    "b.on_click(f)\n",
    "mNode = widgets.Box(children=[w,cCuda,b])\n",
    "\n",
    "# display(mNode.children[0])\n",
    "display(mNode)\n",
    "widgets.IntProgress.close\n"
   ]
  },
  {
   "cell_type": "code",
   "execution_count": 6,
   "metadata": {
    "collapsed": false
   },
   "outputs": [
    {
     "name": "stderr",
     "output_type": "stream",
     "text": [
      "Widget Javascript not detected.  It may not be installed properly. Did you enable the widgetsnbextension? If not, then run \"jupyter nbextension enable --py --sys-prefix widgetsnbextension\"\n"
     ]
    }
   ],
   "source": [
    "b0 = widgets.Button(description=\"button 0\")\n",
    "b1 = widgets.Button(description=\"button 1\")\n",
    "b2 = widgets.Button(description=\"button 0\")\n",
    "b3 = widgets.Button(description=\"button 1\")\n",
    "b4 = widgets.Button(description=\"button 0\")\n",
    "b5 = widgets.Button(description=\"button 1\")\n",
    "b6 = widgets.Button(description=\"button 0\")\n",
    "b7 = widgets.Button(description=\"button 1\")\n",
    "\n",
    "\n",
    "box_layout = widgets.Layout(display='flex',\n",
    "                            flex_flow='column',\n",
    "                            align_items='stretch',\n",
    "                            border='solid',\n",
    "                            width='50%')\n",
    "\n",
    "bNode = widgets.Box(children=[b0, b1, b2, b3, b4, b5, b6, b7], layout=box_layout)\n",
    "\n",
    "t=widgets.Tab(children=[bNode])\n",
    "display(t)"
   ]
  },
  {
   "cell_type": "code",
   "execution_count": 8,
   "metadata": {
    "collapsed": false
   },
   "outputs": [
    {
     "data": {
      "text/plain": [
       "ipywidgets.widgets.widget_layout.Layout"
      ]
     },
     "execution_count": 8,
     "metadata": {},
     "output_type": "execute_result"
    }
   ],
   "source": [
    "widgets.Layout"
   ]
  },
  {
   "cell_type": "code",
   "execution_count": null,
   "metadata": {
    "collapsed": true
   },
   "outputs": [],
   "source": []
  }
 ],
 "metadata": {
  "kernelspec": {
   "display_name": "Python 3",
   "language": "python",
   "name": "python3"
  },
  "language_info": {
   "codemirror_mode": {
    "name": "ipython",
    "version": 3
   },
   "file_extension": ".py",
   "mimetype": "text/x-python",
   "name": "python",
   "nbconvert_exporter": "python",
   "pygments_lexer": "ipython3",
   "version": "3.6.0"
  },
  "widgets": {
   "state": {
    "963c76068fcd4dc5a835d562dd44c2e2": {
     "views": [
      {
       "cell_index": 8
      }
     ]
    },
    "c8214646b8ce46218344c2d0b50fc863": {
     "views": [
      {
       "cell_index": 7
      }
     ]
    },
    "ed7952261cfa4e989a99307a357e66c8": {
     "views": [
      {
       "cell_index": 5
      }
     ]
    },
    "f6ec3385ff934fd5b8f8d677a312640f": {
     "views": [
      {
       "cell_index": 3
      }
     ]
    }
   },
   "version": "1.2.0"
  }
 },
 "nbformat": 4,
 "nbformat_minor": 1
}
