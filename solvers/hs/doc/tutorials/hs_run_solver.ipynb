{
 "cells": [
  {
   "cell_type": "code",
   "execution_count": 2,
   "metadata": {
    "collapsed": false
   },
   "outputs": [
    {
     "name": "stdout",
     "output_type": "stream",
     "text": [
      "/home/valdecar/Documents/projects/projectsNew/lab/hybriddomain/\n",
      "/home/valdecar/Documents/projects/projectsNew/lab/hybriddomain/spaces/math_space/common\n"
     ]
    }
   ],
   "source": [
    "import os\n",
    "import sys\n",
    "import inspect\n",
    "currentdir = os.path.dirname(os.path.abspath(inspect.getfile(inspect.currentframe())))\n",
    "parentdir = os.path.dirname(currentdir)\n",
    "folder = \"solvers\"\n",
    "hd_dir = currentdir.split(folder)[0]\n",
    "\n",
    "if hd_dir not in sys.path:\n",
    "    sys.path.insert(0, hd_dir)\n",
    "\n",
    "# from env.equation.equation import Equation\n",
    "print(hd_dir)\n",
    "\n",
    "env_dir = os.path.join(hd_dir, 'spaces', 'math_space', \"common\")\n",
    "print(env_dir)\n",
    "\n",
    "if env_dir not in sys.path:\n",
    "    sys.path.insert(0, env_dir)"
   ]
  },
  {
   "cell_type": "code",
   "execution_count": 3,
   "metadata": {
    "collapsed": true
   },
   "outputs": [],
   "source": [
    "import ipywidgets as widgets\n",
    "from IPython.display import display, clear_output, HTML"
   ]
  },
  {
   "cell_type": "code",
   "execution_count": 4,
   "metadata": {
    "collapsed": false
   },
   "outputs": [
    {
     "name": "stdout",
     "output_type": "stream",
     "text": [
      "/home/valdecar/Documents/projects/projectsNew/lab/hybriddomain/spaces/math_space/common/\n",
      "/home/valdecar/Documents/projects/projectsNew/lab/hybriddomain/spaces/math_space/common/\n",
      "/home/valdecar/Documents/projects/projectsNew/lab/hybriddomain/spaces/math_space/common/\n",
      "/home/valdecar/Documents/projects/projectsNew/lab/hybriddomain/spaces/math_space/common/\n",
      "/home/valdecar/Documents/projects/projectsNew/lab/hybriddomain/spaces/math_space/common/\n",
      "/home/valdecar/Documents/projects/projectsNew/lab/hybriddomain/spaces/math_space/common/\n",
      "/home/valdecar/Documents/projects/projectsNew/lab/hybriddomain/spaces/math_space/common/\n",
      "/home/valdecar/Documents/projects/projectsNew/lab/hybriddomain/spaces/math_space/common/\n"
     ]
    }
   ],
   "source": [
    "from envs.hs.model.model_main import ModelNet as Model\n",
    "from settings.settings_main import Settings"
   ]
  },
  {
   "cell_type": "markdown",
   "metadata": {},
   "source": [
    "### Add model, connection and device to settings: "
   ]
  },
  {
   "cell_type": "code",
   "execution_count": 5,
   "metadata": {
    "collapsed": false
   },
   "outputs": [
    {
     "name": "stderr",
     "output_type": "stream",
     "text": [
      "INFO:block_main.block_io:DefaultBound not set\n"
     ]
    },
    {
     "name": "stdout",
     "output_type": "stream",
     "text": [
      "Please enter password for user valdecar:\n",
      "········\n"
     ]
    },
    {
     "name": "stderr",
     "output_type": "stream",
     "text": [
      "INFO:settings_main:device_conf_name\n",
      "INFO:settings_main:default\n"
     ]
    }
   ],
   "source": [
    "# make settings:\n",
    "prefix = hd_dir\n",
    "modelFileName = '../../../../problems/1dTests/logistic_delays'\n",
    "# modelFileName = '1dTests/logistic_delays'\n",
    "\n",
    "model_path = '1dTests/logistic_delays'\n",
    "conn_name = \"conn_base\"\n",
    "device_conf_name = \"default\"\n",
    "\n",
    "model = Model()\n",
    "model.io.loadFromFile(modelFileName)\n",
    "model.project_path = model_path\n",
    "settings = Settings(model, conn_name, device_conf_name, \"paths_hs_base\", hd_prefix=prefix)\n"
   ]
  },
  {
   "cell_type": "code",
   "execution_count": 14,
   "metadata": {
    "collapsed": false
   },
   "outputs": [
    {
     "data": {
      "text/plain": [
       "[{'a': 1, 'b': 2}]"
      ]
     },
     "execution_count": 14,
     "metadata": {},
     "output_type": "execute_result"
    }
   ],
   "source": [
    "block0 = model.blocks[0]\n",
    "equation = model.equations[0]\n",
    "model.paramValues"
   ]
  },
  {
   "cell_type": "code",
   "execution_count": 6,
   "metadata": {
    "collapsed": false
   },
   "outputs": [
    {
     "name": "stdout",
     "output_type": "stream",
     "text": [
      "1dTests/logistic_delays\n"
     ]
    },
    {
     "data": {
      "text/plain": [
       "'1dTests/logistic_delays'"
      ]
     },
     "execution_count": 6,
     "metadata": {},
     "output_type": "execute_result"
    }
   ],
   "source": [
    "print(model.project_path)\n",
    "settings.paths['model']['path']"
   ]
  },
  {
   "cell_type": "markdown",
   "metadata": {},
   "source": [
    "### Progress:"
   ]
  },
  {
   "cell_type": "code",
   "execution_count": 11,
   "metadata": {
    "collapsed": false
   },
   "outputs": [],
   "source": [
    "from solvers.hs.remoterun.progresses.progress_notebook import ProgressNotebook"
   ]
  },
  {
   "cell_type": "code",
   "execution_count": 12,
   "metadata": {
    "collapsed": false
   },
   "outputs": [],
   "source": [
    "progress = ProgressNotebook(100, prefix='solving')\n",
    "display(progress.progress)"
   ]
  },
  {
   "cell_type": "markdown",
   "metadata": {},
   "source": [
    "### Run solver:"
   ]
  },
  {
   "cell_type": "code",
   "execution_count": 13,
   "metadata": {
    "collapsed": true
   },
   "outputs": [],
   "source": [
    "from solvers.hs.remoterun.remoterun import remoteProjectRun"
   ]
  },
  {
   "cell_type": "code",
   "execution_count": 9,
   "metadata": {
    "collapsed": false
   },
   "outputs": [
    {
     "name": "stderr",
     "output_type": "stream",
     "text": [
      "INFO:remoterun:project_path\n",
      "INFO:remoterun:1dTests/logistic_delays\n",
      "INFO:remoterun:project_name\n",
      "INFO:remoterun:logistic_delays\n",
      "INFO:paramiko.transport:Connected (version 2.0, client OpenSSH_7.2)\n",
      "INFO:paramiko.transport:Authentication (keyboard-interactive) successful!\n",
      "INFO:remoterun:Checking if folder /home/valdecar/projects/lab/workspace exists...\n",
      "INFO:remoterun:Workspace OK.\n",
      "INFO:remoterun:Creating/cleaning project folder: \n",
      "INFO:remoterun:Folder cleaned.\n",
      "INFO:remoterun:Creating settings folders: \n",
      "INFO:remoterun:Checking if folder /home/valdecar/projects/lab/workspace/settings exists...\n",
      "INFO:remoterun:folder /home/valdecar/projects/lab/workspace/settings alredy exist\n",
      "INFO:remoterun:Checking if folder /home/valdecar/projects/lab/workspace/settings/paths exists...\n",
      "INFO:remoterun:folder /home/valdecar/projects/lab/workspace/settings/paths alredy exist\n",
      "INFO:remoterun:Checking if folder /home/valdecar/projects/lab/workspace/settings/device_conf exists...\n",
      "INFO:remoterun:folder /home/valdecar/projects/lab/workspace/settings/device_conf alredy exist\n",
      "INFO:remoterun:settings folders created\n",
      "INFO:paramiko.transport.sftp:[chan 7] Opened sftp connection (server version 3)\n",
      "INFO:remoterun:hd_json:\n",
      "INFO:remoterun:/home/valdecar/Documents/projects/projectsNew/lab/hybriddomain/problems/1dTests/logistic_delays/logistic_delays.json\n",
      "INFO:remoterun:hs_json:\n",
      "INFO:remoterun:/home/valdecar/projects/lab/workspace/problems/1dTests/logistic_delays/logistic_delays.json\n",
      "INFO:paramiko.transport.sftp:[chan 7] sftp session closed.\n",
      "INFO:remoterun:json copied\n",
      "INFO:paramiko.transport.sftp:[chan 8] Opened sftp connection (server version 3)\n",
      "INFO:remoterun:copy dev_conf files:\n",
      "INFO:remoterun:copy /home/valdecar/Documents/projects/projectsNew/lab/hybriddomain/settings/device_conf/default.json\n",
      "INFO:remoterun:to /home/valdecar/projects/lab/workspace/settings/device_conf/default.json\n",
      "INFO:remoterun:copy /home/valdecar/Documents/projects/projectsNew/lab/hybriddomain/settings/device_conf/ics_blocks_4.json\n",
      "INFO:remoterun:to /home/valdecar/projects/lab/workspace/settings/device_conf/ics_blocks_4.json\n",
      "INFO:remoterun:copy /home/valdecar/Documents/projects/projectsNew/lab/hybriddomain/settings/device_conf/ics_other.json\n",
      "INFO:remoterun:to /home/valdecar/projects/lab/workspace/settings/device_conf/ics_other.json\n",
      "INFO:paramiko.transport.sftp:[chan 8] sftp session closed.\n",
      "INFO:remoterun:finished copy dev_conf files\n",
      "INFO:paramiko.transport.sftp:[chan 9] Opened sftp connection (server version 3)\n",
      "INFO:remoterun:copy paths files:\n",
      "INFO:remoterun:copy /home/valdecar/Documents/projects/projectsNew/lab/hybriddomain/settings/paths/paths_hs_base.json\n",
      "INFO:remoterun:to /home/valdecar/projects/lab/workspace/settings/paths/paths_hs_base.json\n",
      "INFO:paramiko.transport.sftp:[chan 9] sftp session closed.\n",
      "INFO:remoterun:finished copy paths files\n",
      "INFO:remoterun:\n",
      "Running preprocessor:\n",
      "INFO:remoterun:command:\n",
      "INFO:remoterun:cd /home/valdecar/projects/lab/hybriddomain && pwd && python3 -m gens.hs.tests.tests_gen_1d -t /home/valdecar/projects/lab/workspace/problems/1dTests/logistic_delays -d default -p paths_hs_base -w /home/valdecar/projects/lab/workspace -u valdecar\n",
      "INFO:remoterun:finally\n",
      "INFO:remoterun:b\"/home/valdecar/projects/lab/hybriddomain\\n/home/valdecar/projects/lab/hybriddomain/spaces/math_space/common/\\n/home/valdecar/projects/lab/hybriddomain/spaces/math_space/common/\\n/home/valdecar/projects/lab/hybriddomain/spaces/math_space/common/\\n/home/valdecar/projects/lab/hybriddomain/spaces/math_space/common/\\n/home/valdecar/projects/lab/hybriddomain/spaces/math_space/common/\\n/home/valdecar/projects/lab/hybriddomain/spaces/math_space/common/\\n/home/valdecar/projects/lab/hybriddomain/spaces/math_space/common/\\n/home/valdecar/projects/lab/hybriddomain/spaces/math_space/common/\\n/home/valdecar/projects/lab/hybriddomain/spaces/math_space/common/\\nmodel:\\nHeat_test\\nfolders:\\n{'conn': '/home/valdecar/projects/lab/workspace/settings/conn', 'device_conf': '/home/valdecar/projects/lab/workspace/settings/device_conf', 'paths': '/home/valdecar/projects/lab/workspace/settings/paths'}\\nsettings:\\n{'conn': {}, 'device_conf': {'default': {'_comment:': 'nortpng:, nodes:, continueFileName:', 'flag': '0', 'finishTime': '-1.1', 'cont': 'n_a', 'partition': 'exp', 'mpimap': '', 'affinity': '0-15'}, 'ics_blocks_4': {'_comment:': 'nortpng:, nodes:, continueFileName:', 'flag': '0', 'finishTime': '-1.1', 'cont': 'n_a', 'partition': 'exp', 'mpimap': '', 'affinity': '0-15', 'taskCountPerNode': '4'}, 'ics_other': {'_comment:': 'nortpng:, nodes:, continueFileName:', 'flag': '0', 'finishTime': '-1.1', 'cont': 'n_a', 'partition': 'exp', 'mpimap': '', 'affinity': '0-15', 'taskCountPerNode': '2'}}, 'paths': {'paths_hs_base': {'Workspace': '~/projects/lab/workspace', 'TracerFolder': '~/projects/lab'}}}\\nself.paths_confs:\\n{'paths_hs_base': {'Workspace': '~/projects/lab/workspace', 'TracerFolder': '~/projects/lab'}}\\n\"\n",
      "INFO:remoterun:jsontobin stderr:\n",
      "INFO:remoterun:b\"INFO:model_main.model_io:full path is given\\nINFO:model_main.model_io:/home/valdecar/projects/lab/workspace/problems/1dTests/logistic_delays\\nINFO:block_main.block_io:DefaultBound not set\\nINFO:settings_main:device_conf_name\\nINFO:settings_main:default\\nDEBUG:postproc.py:FROM postproc\\nDEBUG:postproc.py:res\\nDEBUG:postproc.py:{'U': {'1': [a, a, a]}}\\nDEBUG:postproc.py:[1]\\nDEBUG:postproc.py:map_td\\nDEBUG:postproc.py:{a: 1, a: 1, a: 1}\\nINFO:gen_dim:delays:\\nINFO:gen_dim:{'U': [1]}\\nINFO:gen_dim:max_delays_seq:\\nINFO:gen_dim:[1]\\nINFO:filler_main:filling arrays...\\nINFO:model_main.model_device:For node cnode7 cpu0 memory is 56GB, total state size is 351 elems, capacity=21413654.\\nINFO:model_main.model_device:For node cnode7 gpu0 memory is 5GB, total state size is 0 elems, capacity=infinity.\\nINFO:model_main.model_device:For node cnode7 gpu1 memory is 5GB, total state size is 0 elems, capacity=infinity.\\nINFO:model_main.model_device:For node cnode7 gpu2 memory is 5GB, total state size is 0 elems, capacity=infinity.\\nINFO:blocks_filler_main:Welcome to Blocks Data filler\\nDEBUG:blocks_filler_main:following is the function mapping\\nDEBUG:blocks_filler_main:{0: {'center': [], 'center_default': 0, 'side0': 1, 'side1': 2}}\\nDEBUG:blocks_filler_main:Saving block\\nDEBUG:blocks_filler_main:0\\nINFO:blocks_filler_main:1. Fill block params\\nDEBUG:blocks_filler_main:blockPropArr\\nDEBUG:blocks_filler_main:[  0   0   0  10 351]\\nINFO:blocks_filler_main:2. Fill block functions\\nINFO:filler_main.blocks_filler_1d:Filling 1d initial function array.\\nINFO:filler_main.blocks_filler_1d:1 fill default conditions\\nINFO:filler_main.blocks_filler_1d:2 fill user-defined conditions:\\nINFO:filler_main.blocks_filler_1d:3 overwrite with values that come from Dirichlet bounds\\nINFO:filler_main.blocks_filler_1d:3.1 collect dirichlet bound numbersthat are used in this block\\nINFO:filler_main.blocks_filler_1d:3.2 fill them\\nDEBUG:blocks_filler_main:Initial function indices:\\nDEBUG:blocks_filler_main:[1 0 0 0 0 0 0 0 0 0 0 0 0 0 0 0 0 0 0 0 0 0 0 0 0 0 0 0 0 0 0 0 0 0 0 0 0\\n 0 0 0 0 0 0 0 0 0 0 0 0 0 0 0 0 0 0 0 0 0 0 0 0 0 0 0 0 0 0 0 0 0 0 0 0 0\\n 0 0 0 0 0 0 0 0 0 0 0 0 0 0 0 0 0 0 0 0 0 0 0 0 0 0 0 0 0 0 0 0 0 0 0 0 0\\n 0 0 0 0 0 0 0 0 0 0 0 0 0 0 0 0 0 0 0 0 0 0 0 0 0 0 0 0 0 0 0 0 0 0 0 0 0\\n 0 0 0 0 0 0 0 0 0 0 0 0 0 0 0 0 0 0 0 0 0 0 0 0 0 0 0 0 0 0 0 0 0 0 0 0 0\\n 0 0 0 0 0 0 0 0 0 0 0 0 0 0 0 0 0 0 0 0 0 0 0 0 0 0 0 0 0 0 0 0 0 0 0 0 0\\n 0 0 0 0 0 0 0 0 0 0 0 0 0 0 0 0 0 0 0 0 0 0 0 0 0 0 0 0 0 0 0 0 0 0 0 0 0\\n 0 0 0 0 0 0 0 0 0 0 0 0 0 0 0 0 0 0 0 0 0 0 0 0 0 0 0 0 0 0 0 0 0 0 0 0 0\\n 0 0 0 0 0 0 0 0 0 0 0 0 0 0 0 0 0 0 0 0 0 0 0 0 0 0 0 0 0 0 0 0 0 0 0 0 0\\n 0 0 0 0 0 0 0 0 0 0 0 0 0 0 0 0 0 0]\\nINFO:filler_main.blocks_filler_1d:Filling 1d main function array.\\nDEBUG:filler_main.blocks_filler_1d:Function mapping for this block:\\nDEBUG:filler_main.blocks_filler_1d:{'center': [], 'center_default': 0, 'side0': 1, 'side1': 2}\\nDEBUG:filler_main.blocks_filler_1d:size:\\nDEBUG:filler_main.blocks_filler_1d:351\\nINFO:filler_main.blocks_filler_1d:1 fill center funcs\\nINFO:filler_main.blocks_filler_1d:2 fill edges\\nDEBUG:blocks_filler_main:Computation function indices:\\nDEBUG:blocks_filler_main:[1 0 0 0 0 0 0 0 0 0 0 0 0 0 0 0 0 0 0 0 0 0 0 0 0 0 0 0 0 0 0 0 0 0 0 0 0\\n 0 0 0 0 0 0 0 0 0 0 0 0 0 0 0 0 0 0 0 0 0 0 0 0 0 0 0 0 0 0 0 0 0 0 0 0 0\\n 0 0 0 0 0 0 0 0 0 0 0 0 0 0 0 0 0 0 0 0 0 0 0 0 0 0 0 0 0 0 0 0 0 0 0 0 0\\n 0 0 0 0 0 0 0 0 0 0 0 0 0 0 0 0 0 0 0 0 0 0 0 0 0 0 0 0 0 0 0 0 0 0 0 0 0\\n 0 0 0 0 0 0 0 0 0 0 0 0 0 0 0 0 0 0 0 0 0 0 0 0 0 0 0 0 0 0 0 0 0 0 0 0 0\\n 0 0 0 0 0 0 0 0 0 0 0 0 0 0 0 0 0 0 0 0 0 0 0 0 0 0 0 0 0 0 0 0 0 0 0 0 0\\n 0 0 0 0 0 0 0 0 0 0 0 0 0 0 0 0 0 0 0 0 0 0 0 0 0 0 0 0 0 0 0 0 0 0 0 0 0\\n 0 0 0 0 0 0 0 0 0 0 0 0 0 0 0 0 0 0 0 0 0 0 0 0 0 0 0 0 0 0 0 0 0 0 0 0 0\\n 0 0 0 0 0 0 0 0 0 0 0 0 0 0 0 0 0 0 0 0 0 0 0 0 0 0 0 0 0 0 0 0 0 0 0 0 0\\n 0 0 0 0 0 0 0 0 0 0 0 0 0 0 0 0 0 2]\\nINFO:tests.tester.ics_filler_main:saving 0 ics\\nINFO:tests.tester.ics_filler_main:self.icCount:\\nINFO:tests.tester.ics_filler_main:0\\nDEBUG:filler_main:array to save blockInitFuncArrList0\\nDEBUG:filler_main:shape: [351, 1, 1]\\nDEBUG:filler_main:[1 0 0 0 0 0 0 0 0 0 0 0 0 0 0 0 0 0 0 0 0 0 0 0 0 0 0 0 0 0 0 0 0 0 0 0 0\\n 0 0 0 0 0 0 0 0 0 0 0 0 0 0 0 0 0 0 0 0 0 0 0 0 0 0 0 0 0 0 0 0 0 0 0 0 0\\n 0 0 0 0 0 0 0 0 0 0 0 0 0 0 0 0 0 0 0 0 0 0 0 0 0 0 0 0 0 0 0 0 0 0 0 0 0\\n 0 0 0 0 0 0 0 0 0 0 0 0 0 0 0 0 0 0 0 0 0 0 0 0 0 0 0 0 0 0 0 0 0 0 0 0 0\\n 0 0 0 0 0 0 0 0 0 0 0 0 0 0 0 0 0 0 0 0 0 0 0 0 0 0 0 0 0 0 0 0 0 0 0 0 0\\n 0 0 0 0 0 0 0 0 0 0 0 0 0 0 0 0 0 0 0 0 0 0 0 0 0 0 0 0 0 0 0 0 0 0 0 0 0\\n 0 0 0 0 0 0 0 0 0 0 0 0 0 0 0 0 0 0 0 0 0 0 0 0 0 0 0 0 0 0 0 0 0 0 0 0 0\\n 0 0 0 0 0 0 0 0 0 0 0 0 0 0 0 0 0 0 0 0 0 0 0 0 0 0 0 0 0 0 0 0 0 0 0 0 0\\n 0 0 0 0 0 0 0 0 0 0 0 0 0 0 0 0 0 0 0 0 0 0 0 0 0 0 0 0 0 0 0 0 0 0 0 0 0\\n 0 0 0 0 0 0 0 0 0 0 0 0 0 0 0 0 0 0]\\nDEBUG:filler_main:array to save blockCompFuncArrList0\\nDEBUG:filler_main:shape: [351, 1, 1]\\nDEBUG:filler_main:[1 0 0 0 0 0 0 0 0 0 0 0 0 0 0 0 0 0 0 0 0 0 0 0 0 0 0 0 0 0 0 0 0 0 0 0 0\\n 0 0 0 0 0 0 0 0 0 0 0 0 0 0 0 0 0 0 0 0 0 0 0 0 0 0 0 0 0 0 0 0 0 0 0 0 0\\n 0 0 0 0 0 0 0 0 0 0 0 0 0 0 0 0 0 0 0 0 0 0 0 0 0 0 0 0 0 0 0 0 0 0 0 0 0\\n 0 0 0 0 0 0 0 0 0 0 0 0 0 0 0 0 0 0 0 0 0 0 0 0 0 0 0 0 0 0 0 0 0 0 0 0 0\\n 0 0 0 0 0 0 0 0 0 0 0 0 0 0 0 0 0 0 0 0 0 0 0 0 0 0 0 0 0 0 0 0 0 0 0 0 0\\n 0 0 0 0 0 0 0 0 0 0 0 0 0 0 0 0 0 0 0 0 0 0 0 0 0 0 0 0 0 0 0 0 0 0 0 0 0\\n 0 0 0 0 0 0 0 0 0 0 0 0 0 0 0 0 0 0 0 0 0 0 0 0 0 0 0 0 0 0 0 0 0 0 0 0 0\\n 0 0 0 0 0 0 0 0 0 0 0 0 0 0 0 0 0 0 0 0 0 0 0 0 0 0 0 0 0 0 0 0 0 0 0 0 0\\n 0 0 0 0 0 0 0 0 0 0 0 0 0 0 0 0 0 0 0 0 0 0 0 0 0 0 0 0 0 0 0 0 0 0 0 0 0\\n 0 0 0 0 0 0 0 0 0 0 0 0 0 0 0 0 0 2]\\nINFO:filler_main:saving domain...\\nINFO:tests.tester.gen_sh:generating launcher script...\\n\"\n",
      "INFO:remoterun:stderr END\n",
      "INFO:remoterun:Checking if solver executable at /home/valdecar/projects/lab/hybridsolver/bin/HS exists...\n",
      "INFO:remoterun:Solver executable found.\n",
      "INFO:remoterun:12-07 11:28:21 Performance (10^6): 0.00436472\n",
      "\n",
      "INFO:remoterun:INFO:postproc.video:Creating images for block 0 value U\n",
      "\n",
      "INFO:remoterun:INFO:postproc.video:Creating video file: 0\n",
      "\n",
      "INFO:remoterun:INFO:postproc.video:Creating out file: 0-U\n",
      "\n",
      "INFO:remoterun:b'INFO:postproc.video:Postprocessor running time: 3.2558071613311768\\n'\n",
      "INFO:remoterun:it was stdout\n",
      "INFO:remoterun:b''\n",
      "INFO:remoterun:it was stderr\n",
      "INFO:remoterun:Downloading results...\n",
      "INFO:remoterun:from:\n",
      "INFO:remoterun:/home/valdecar/projects/lab/workspace/problems/1dTests/logistic_delays/out\n",
      "INFO:paramiko.transport.sftp:[chan 13] Opened sftp connection (server version 3)\n",
      "INFO:paramiko.transport.sftp:[chan 13] sftp session closed.\n",
      "INFO:remoterun:Done!\n"
     ]
    }
   ],
   "source": [
    "clear_output()\n",
    "test_name = settings.paths['model']['name']\n",
    "bTest = widgets.Button(description=\"run %s \" % (test_name))\n",
    "def run(event):\n",
    "    remoteProjectRun(settings, 1, progress)\n",
    "bTest.on_click(run)\n",
    "display(progress.progress)\n",
    "display(bTest)\n",
    "display(progress.progress)"
   ]
  },
  {
   "cell_type": "markdown",
   "metadata": {},
   "source": [
    "### Results:"
   ]
  },
  {
   "cell_type": "code",
   "execution_count": 10,
   "metadata": {
    "collapsed": false
   },
   "outputs": [],
   "source": [
    "out_dir = os.path.join(hd_dir, 'problems', model_path, \"out\")\n",
    "listdir = os.listdir(out_dir)\n",
    "mp4 = [os.path.join(out_dir, file_name) for file_name in listdir\n",
    "       if 'mp4' in file_name]"
   ]
  },
  {
   "cell_type": "markdown",
   "metadata": {},
   "source": [
    "##### Video:"
   ]
  },
  {
   "cell_type": "code",
   "execution_count": 11,
   "metadata": {
    "collapsed": false
   },
   "outputs": [
    {
     "data": {
      "text/html": [
       "\n",
       "<script>\n",
       "</script>\n",
       "\n",
       "<video controls>\n",
       "<source src=\"/home/valdecar/Documents/projects/projectsNew/lab/hybriddomain/problems/1dTests/logistic_delays/out/logistic_delays-plot0.mp4\" type=\"video/mp4\"><p>Your browser doesnt support HTML5 video.Here is a <a href=\"/home/valdecar/Documents/projects/projectsNew/lab/hybriddomain/problems/1dTests/logistic_delays/out/logistic_delays-plot0.mp4\">link to the video</a></p></video>"
      ],
      "text/plain": [
       "<IPython.core.display.HTML object>"
      ]
     },
     "metadata": {},
     "output_type": "display_data"
    }
   ],
   "source": [
    "from functools import reduce\n",
    "\n",
    "str_video = '''\n",
    "<script>\n",
    "</script>\n",
    "\n",
    "<video controls>\n",
    "'''\n",
    "str_video = reduce(lambda acc, s: acc+s,\n",
    "                   [(('<source src=\"%s\" type=\"video/mp4\">'\n",
    "                      + '<p>Your browser doesnt support HTML5 video.'\n",
    "                      + 'Here is a <a href=\"%s\">') % (file_name, file_name)\n",
    "                     + 'link to the video</a></p>')\n",
    "                    for file_name in mp4], str_video)\n",
    "\n",
    "str_video += '</video>'\n",
    "# print(str_video)\n",
    "# display(str_video)\n",
    "display(HTML(str_video))\n"
   ]
  },
  {
   "cell_type": "markdown",
   "metadata": {},
   "source": [
    "##### .out:"
   ]
  },
  {
   "cell_type": "code",
   "execution_count": 12,
   "metadata": {
    "collapsed": false
   },
   "outputs": [
    {
     "name": "stdout",
     "output_type": "stream",
     "text": [
      "['logistic_delays-res0-U.out', 'logistic_delays_dom.txt', 'params_plot.txt', 'libuserfuncs.so', 'logistic_delays-plot0.mp4', 'logistic_delays.cpp', 'userfuncs.h', 'logistic_delays.sh', 'logistic_delays.dom']\n",
      "['/home/valdecar/Documents/projects/projectsNew/lab/hybriddomain/problems/1dTests/logistic_delays/out/logistic_delays-res0-U.out']\n"
     ]
    }
   ],
   "source": [
    "print(listdir)\n",
    "\n",
    "outs = [os.path.join(out_dir, file_name)\n",
    "        for file_name in listdir\n",
    "        if '.out' in file_name]\n",
    "print(outs)\n",
    "with open(outs[0]) as f:\n",
    "    data = f.read()"
   ]
  },
  {
   "cell_type": "code",
   "execution_count": 13,
   "metadata": {
    "collapsed": false
   },
   "outputs": [],
   "source": [
    "lines = data.split('\\n')\n",
    "result = {}\n",
    "\n",
    "for line in lines:\n",
    "    if ':' in line:\n",
    "        key, val = line.split(':')\n",
    "        result[key]=val[1:]\n",
    "    else:\n",
    "        val = line\n",
    "        result[key] += val"
   ]
  },
  {
   "cell_type": "code",
   "execution_count": 14,
   "metadata": {
    "collapsed": true
   },
   "outputs": [],
   "source": [
    "import re"
   ]
  },
  {
   "cell_type": "code",
   "execution_count": 15,
   "metadata": {
    "collapsed": false
   },
   "outputs": [],
   "source": [
    "def gen(reuslt):\n",
    "    for key in reuslt:\n",
    "        step_0 = re.subn(r'\\.\\s+',\".0,\",result[key])[0]\n",
    "        step_1 = re.subn(r'\\s+',\",\",step_0)[0]\n",
    "        step_2 = step_1.replace('.]','.0]')\n",
    "        step_3 = step_2.replace('[,','[')\n",
    "\n",
    "        yield((key, eval(step_3)))"
   ]
  },
  {
   "cell_type": "code",
   "execution_count": 16,
   "metadata": {
    "collapsed": false
   },
   "outputs": [],
   "source": [
    "import numpy as np\n",
    "result_t = dict([(float(key), val) for key, val in gen(result)])\n",
    "time = [key for key in result_t]\n",
    "result_x = np.array([result_t[key] for key in result_t]).T"
   ]
  },
  {
   "cell_type": "code",
   "execution_count": 17,
   "metadata": {
    "collapsed": false
   },
   "outputs": [],
   "source": [
    "import numpy as np\n",
    "import matplotlib.pyplot as plt\n",
    "from ipywidgets import interactive\n"
   ]
  },
  {
   "cell_type": "markdown",
   "metadata": {},
   "source": [
    "##### U(x, t-fixed):"
   ]
  },
  {
   "cell_type": "code",
   "execution_count": 18,
   "metadata": {
    "collapsed": false
   },
   "outputs": [
    {
     "data": {
      "image/png": "[encoded data removed]",
      "text/plain": [
       "<matplotlib.figure.Figure at 0x7f4cee808320>"
      ]
     },
     "metadata": {},
     "output_type": "display_data"
    }
   ],
   "source": [
    "%matplotlib inline\n",
    "def f(t):\n",
    "    plt.plot(result_t[time[t]])\n",
    "w = interactive(f,t=(0,100,1))\n",
    "display(w)"
   ]
  },
  {
   "cell_type": "markdown",
   "metadata": {},
   "source": [
    "##### U(x-fixed, t):"
   ]
  },
  {
   "cell_type": "code",
   "execution_count": 19,
   "metadata": {
    "collapsed": false
   },
   "outputs": [
    {
     "data": {
      "image/png": "[encoded data removed]",
      "text/plain": [
       "<matplotlib.figure.Figure at 0x7f4cee808908>"
      ]
     },
     "metadata": {},
     "output_type": "display_data"
    }
   ],
   "source": [
    "%matplotlib inline\n",
    "def f(x):\n",
    "    plt.plot(time, result_x[x])\n",
    "w = interactive(f,x=(0,360,1))\n",
    "display(w)"
   ]
  },
  {
   "cell_type": "code",
   "execution_count": null,
   "metadata": {
    "collapsed": false
   },
   "outputs": [],
   "source": []
  },
  {
   "cell_type": "code",
   "execution_count": null,
   "metadata": {
    "collapsed": true
   },
   "outputs": [],
   "source": []
  }
 ],
 "metadata": {
  "kernelspec": {
   "display_name": "Python 3",
   "language": "python",
   "name": "python3"
  },
  "language_info": {
   "codemirror_mode": {
    "name": "ipython",
    "version": 3
   },
   "file_extension": ".py",
   "mimetype": "text/x-python",
   "name": "python",
   "nbconvert_exporter": "python",
   "pygments_lexer": "ipython3",
   "version": "3.6.0"
  },
  "widgets": {
   "state": {
    "325ce29825cf43ef86b389adde0af496": {
     "views": [
      {
       "cell_index": 9
      }
     ]
    }
   },
   "version": "1.2.0"
  }
 },
 "nbformat": 4,
 "nbformat_minor": 2
}
