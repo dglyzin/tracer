{
 "cells": [
  {
   "cell_type": "markdown",
   "metadata": {},
   "source": [
    "### Типы границ"
   ]
  },
  {
   "cell_type": "markdown",
   "metadata": {},
   "source": [
    "Всего обрабатывается 8 типов границ:\n",
    "<table>\n",
    "    <tr>\n",
    "        <td>\n",
    "        <img src=\"borders/borders_tl.jpeg\", width=\"170px\", height=\"170px\">top left</img></td>\n",
    "        <td>\n",
    "            <img src=\"borders/borders_t.jpeg\", width=\"170px\", height=\"170px\">top</img></td>\n",
    "        <td>\n",
    "            <img src=\"borders/borders_tr.jpeg\", width=\"170px\", height=\"170px\">top right</img></td></tr> \n",
    "  \n",
    "    <tr>\n",
    "        <td>\n",
    "            <img src=\"borders/borders_l.jpeg\", width=\"170px\", height=\"170px\">left</img></td>\n",
    "        <td></td>\n",
    "        <td>\n",
    "            <img src=\"borders/borders_r.jpeg\", width=\"170px\", height=\"170px\">right</img></td></tr>\n",
    "    \n",
    "    <tr>\n",
    "        <td>\n",
    "        <img src=\"borders/borders_bl.jpeg\", width=\"170px\", height=\"170px\">bottom left</img></td>\n",
    "        <td>\n",
    "            <img src=\"borders/borders_b.jpeg\", width=\"170px\", height=\"170px\">bottom</img></td>\n",
    "        <td>\n",
    "            <img src=\"borders/borders_br.jpeg\", width=\"170px\", height=\"170px\">bottom right</img></td></tr>\n",
    "        \n",
    "</table>"
   ]
  },
  {
   "cell_type": "markdown",
   "metadata": {},
   "source": [
    "Все нижеследующее относится к ``Neumann`` граничным условиям.\n",
    "Для ``Dirichlet`` во всех случаях используется простая замена:<br>\n",
    ">$u(x,y) = \\phi(x, y)$\n",
    ">> where $x,y \\in \\Gamma$ \n"
   ]
  },
  {
   "cell_type": "markdown",
   "metadata": {},
   "source": [
    "### Расчет (общие формулы)"
   ]
  },
  {
   "cell_type": "markdown",
   "metadata": {},
   "source": [
    "Расчет производится следующим образом:<br>\n",
    "\n",
    ">$\\frac{d u(x(t),y(t))}{d t} = \\frac{d u}{d x} \\dot{x}+\\frac{d u}{d y} \\dot{y}$\n",
    ">>где $ \\begin{matrix}\n",
    "\\dot{x},\\dot{y}\n",
    "\\end{matrix} =\n",
    "\\begin{bmatrix}\n",
    "\\frac{d x(t)}{d t},\\frac{d y(t)}{d t}\n",
    "\\end{bmatrix}$ \n",
    "\n",
    "Т.е. для случая касательной $r$:\n",
    "> $\\frac{d u}{d \\gamma_{r}} = \\frac{d u}{d x} \\dot{x}+\\frac{d u}{d y} \\dot{y}$\n",
    ">> где $ \\begin{matrix}\n",
    "\\dot{x},\\dot{y}\n",
    "\\end{matrix}$ - вектор, касательный к кривой $\\gamma_{r}$\n",
    "\n",
    "Для случая нормали $n$:\n",
    "> $\\frac{d u}{d \\gamma_{n}} = \\frac{d u}{d x} \\dot{x}+\\frac{d u}{d y} \\dot{y}$\n",
    ">> где $ \\begin{matrix}\n",
    "\\dot{x},\\dot{y}\n",
    "\\end{matrix}$ - вектор нормали к кривой $\\gamma_{r}$ (касательный к кривой $\\gamma_{n}$)\n",
    "\n",
    "Везде используются обозначения:\n",
    "> $\\frac{d u}{d r}$ = $\\frac{d u}{d \\gamma_{r}}$\n",
    "<br> $\\frac{d u}{d n}$ = $\\frac{d u}{d \\gamma_{n}}$\n"
   ]
  },
  {
   "cell_type": "markdown",
   "metadata": {
    "collapsed": true
   },
   "source": [
    "### Расчет (для каждого типа)"
   ]
  },
  {
   "cell_type": "markdown",
   "metadata": {},
   "source": [
    "##### Top left"
   ]
  },
  {
   "cell_type": "markdown",
   "metadata": {},
   "source": [
    "<img src=\"borders/borders_tl.jpeg\", width=\"170px\", height=\"170px\">top left</img></td>"
   ]
  },
  {
   "cell_type": "markdown",
   "metadata": {},
   "source": [
    "1)<br>\n",
    "<div align='center'>\n",
    "$\\gamma_{r} :\n",
    "\\begin{pmatrix}\n",
    "x\\\\\n",
    "y\n",
    "\\end{pmatrix}\n",
    "=\\begin{pmatrix}\n",
    "1\\\\\n",
    "-1\n",
    "\\end{pmatrix}t$<br> \n",
    "$\\gamma_{n} :\n",
    "\\begin{pmatrix}\n",
    "x\\\\\n",
    "y\n",
    "\\end{pmatrix}\n",
    "=\\begin{pmatrix}\n",
    "1\\\\\n",
    "1\n",
    "\\end{pmatrix}t$    \n",
    "</div>"
   ]
  },
  {
   "cell_type": "markdown",
   "metadata": {},
   "source": [
    "2)<br>\n",
    "<div align='center'>\n",
    "$\\frac{\\partial u}{\\partial r}=\n",
    "\\frac{\\partial u}{\\partial x}-\n",
    "\\frac{\\partial u}{\\partial y}$<br><br>\n",
    "<div align='center'>\n",
    "$\\frac{\\partial u}{\\partial r}=\n",
    "\\frac{u_{i+1,j}-u_{ij+1}}{\\Delta r}$<br><br>\n",
    "$\\frac{\\partial u}{\\partial n} =\n",
    "\\frac{\\partial u}{\\partial x}+\n",
    "\\frac{\\partial u}{\\partial y}$\n",
    "</div>"
   ]
  },
  {
   "cell_type": "markdown",
   "metadata": {},
   "source": [
    "3)<br>\n",
    "<div align='center'>\n",
    "$\\frac{\\partial u}{\\partial x}=\\frac{1}{2}\n",
    "(\\frac{\\partial u}{\\partial r}+\n",
    "\\frac{\\partial u}{\\partial n}(i-1,j))$<br><br>\n",
    "<div align='center'>\n",
    "$\\frac{\\partial u}{\\partial y}=\\frac{1}{2}\n",
    "(\\frac{\\partial u}{\\partial n}(i,j-1)-\n",
    "\\frac{\\partial u}{\\partial r})$    \n",
    "</div>"
   ]
  },
  {
   "cell_type": "markdown",
   "metadata": {},
   "source": [
    "4)<br>\n",
    "<div align='center'>\n",
    "$u_{i-1,j}: \\ \\ \\ u_{i-1,j}=u_{ij}-\n",
    "\\Delta x\n",
    "\\frac{\\partial u}{\\partial x}(i-1,j)$<br><br>\n",
    "    \n",
    " $т.к. \\ \\ \n",
    "\\frac{u_{ij}-u_{i-1j}}{\\Delta x}=\n",
    "\\frac{\\partial u}{\\partial x}(i-1,j)$<br><br>\n",
    "    \n",
    "$u_{ij-1}: \\ \\ \\ \n",
    " u_{i,j-1}=u_{ij}-\n",
    "\\Delta y \n",
    "\\frac{\\partial u}{\\partial y}\n",
    " (i,j-1)$<br><br>\n",
    "\n",
    "$т.к.\\frac{u_{ij}-u_{ij-1}}{\\Delta n}=\n",
    "\\frac{\\partial u}{\\partial y}(i,j-1)$\n",
    "</div>"
   ]
  },
  {
   "cell_type": "markdown",
   "metadata": {},
   "source": [
    "##### Top"
   ]
  },
  {
   "cell_type": "markdown",
   "metadata": {},
   "source": [
    "<img src=\"borders/borders_t.jpeg\", width=\"170px\", height=\"170px\">top </img></td>"
   ]
  },
  {
   "cell_type": "markdown",
   "metadata": {},
   "source": [
    "1)<br>\n",
    "<div align='center'>\n",
    "$\\gamma_{n} :\n",
    "\\begin{pmatrix}\n",
    "\\dot{x}\\\\\n",
    "\\dot{y}\n",
    "\\end{pmatrix}\n",
    "=\\begin{pmatrix}\n",
    "1\\\\\n",
    "0\n",
    "\\end{pmatrix}$\n",
    "</div>"
   ]
  },
  {
   "cell_type": "markdown",
   "metadata": {},
   "source": [
    "2)<br>\n",
    "<div align='center'>\n",
    "$\\gamma_{r} :\n",
    "\\begin{pmatrix}\n",
    "\\dot{x}\\\\\n",
    "\\dot{y}\n",
    "\\end{pmatrix}\n",
    "=\\begin{pmatrix}\n",
    "0\\\\\n",
    "1\n",
    "\\end{pmatrix}$\n",
    "</div>"
   ]
  },
  {
   "cell_type": "markdown",
   "metadata": {},
   "source": [
    "3)<br>\n",
    "<div align='center'>\n",
    "$\\frac{\\partial u}{\\partial \\gamma_{n}}=\n",
    "\\frac{\\partial u}{\\partial x}\n",
    "(i-1,j)$    \n",
    "</div>\n"
   ]
  },
  {
   "cell_type": "markdown",
   "metadata": {},
   "source": [
    "4)<br>\n",
    "<div align='center'>\n",
    "$\\frac{u_{ij}-u_{i-1,j}}{\\Delta x}=\n",
    "\\frac{\\partial u}{\\partial x}(i-1,j)=\n",
    "\\frac{\\partial u}{\\partial \\gamma_{n}}(i-1,j)=\\varphi(i-1,j)$<br>\n",
    "$\\implies u_{i-1,j}=u_{ij}-\\Delta x \\varphi(i-1,j)$\n",
    "</div>"
   ]
  },
  {
   "cell_type": "markdown",
   "metadata": {},
   "source": [
    "##### Top right"
   ]
  },
  {
   "cell_type": "markdown",
   "metadata": {},
   "source": [
    "<img src=\"borders/borders_tr.jpeg\", width=\"170px\", height=\"170px\">top right </img></td>"
   ]
  },
  {
   "cell_type": "markdown",
   "metadata": {},
   "source": [
    "1)<br>\n",
    "<div align='center'>\n",
    "$\\gamma_{r} :\n",
    "\\begin{pmatrix}\n",
    "x\\\\\n",
    "y\n",
    "\\end{pmatrix}\n",
    "=\\begin{pmatrix}\n",
    "1\\\\\n",
    "1\n",
    "\\end{pmatrix}t$\n",
    "</div>"
   ]
  },
  {
   "cell_type": "markdown",
   "metadata": {},
   "source": [
    "2)<br>\n",
    "<div align='center'>\n",
    "$\\gamma_{n} :\n",
    "\\begin{pmatrix}\n",
    "x\\\\\n",
    "y\n",
    "\\end{pmatrix}\n",
    "=\\begin{pmatrix}\n",
    "1\\\\\n",
    "-1\n",
    "\\end{pmatrix}t$\n",
    "</div>"
   ]
  },
  {
   "cell_type": "markdown",
   "metadata": {},
   "source": [
    "3)<br>\n",
    "<div align='center'>\n",
    "$\\frac{\\partial u}{\\partial r}=\n",
    "\\frac{\\partial u}{\\partial x}+\n",
    "\\frac{\\partial u}{\\partial y}$<br><br>\n",
    "<div align='center'>\n",
    "$\\frac{\\partial u}{\\partial n}=\n",
    "\\frac{\\partial u}{\\partial x}-\n",
    "\\frac{\\partial u}{\\partial y}$    \n",
    "</div>"
   ]
  },
  {
   "cell_type": "markdown",
   "metadata": {},
   "source": [
    "4)<br>\n",
    "<div align='center'>\n",
    "$\\frac{\\partial u}{\\partial x}=\\frac{1}{2}\n",
    "(\\frac{\\partial u}{\\partial r}+\n",
    "\\frac{\\partial u}{\\partial n});$<br><br>\n",
    "<div align='center'>\n",
    "$\\frac{\\partial u}{\\partial y}=\\frac{1}{2}\n",
    "(\\frac{\\partial u}{\\partial r}-\n",
    "\\frac{\\partial u}{\\partial n})$    \n",
    "</div>"
   ]
  },
  {
   "cell_type": "markdown",
   "metadata": {},
   "source": [
    "5)<br>\n",
    "<div align='center'>\n",
    "$\\frac{\\partial u}{\\partial r}=\n",
    "\\frac{u_{i+1,j}-u_{i,j-1}}{\\Delta r}$\n",
    "</div>\n",
    "\n"
   ]
  },
  {
   "cell_type": "markdown",
   "metadata": {},
   "source": [
    "6)<br>\n",
    "<div align='center'>\n",
    "$u_{i-1,j}=u_{ij}-\\Delta x\\frac{\\partial u}{\\partial x}(i-1, j) \\ \\ т.к  \\ \\ u_{ij}-u_{i-1j}=\\Delta x \\frac{\\partial u}{\\partial x}(i-1, j)$<br><br>\n",
    "$u_{i,j+1}=u_{ij}+\\Delta y\\frac{\\partial u}{\\partial y}(i, j+1) \\ \\ т.к  \\ \\ u_{i,j+1}-u_{i,j}=\\Delta y \\frac{\\partial u}{\\partial y}(i, j+1)$    \n",
    "</div>"
   ]
  },
  {
   "cell_type": "markdown",
   "metadata": {},
   "source": [
    "##### Left"
   ]
  },
  {
   "cell_type": "markdown",
   "metadata": {},
   "source": [
    "<img src=\"borders/borders_l.jpeg\", width=\"170px\", height=\"170px\">left </img></td>"
   ]
  },
  {
   "cell_type": "markdown",
   "metadata": {},
   "source": [
    "1)<br>\n",
    "<div align='center'>\n",
    "$\\gamma_{n} :\n",
    "\\begin{pmatrix}\n",
    "\\dot{x}\\\\\n",
    "\\dot{y}\n",
    "\\end{pmatrix}\n",
    "=\\begin{pmatrix}\n",
    "0\\\\\n",
    "1\n",
    "\\end{pmatrix}$<br> \n",
    "$\\gamma_{r} :\n",
    "\\begin{pmatrix}\n",
    "\\dot{x}\\\\\n",
    "\\dot{y}\n",
    "\\end{pmatrix}\n",
    "=\\begin{pmatrix}\n",
    "1\\\\\n",
    "0\n",
    "\\end{pmatrix}$    \n",
    "</div>"
   ]
  },
  {
   "cell_type": "markdown",
   "metadata": {},
   "source": [
    "2)<br>\n",
    "<div align='center'>\n",
    "$\\frac{\\partial u}{\\partial \\gamma_{n}}=\n",
    "\\frac{\\partial u}{\\partial y} \\implies\n",
    "\\frac{u_{ij}-u_{j-1,i}}{\\Delta y}=$\n",
    "$\\frac{\\partial u}{\\partial y}=\n",
    "\\frac{\\partial u}{\\partial \\gamma_{n}}(i,j-1)=\n",
    "\\varphi(i,j-1)$<br><br>\n",
    "$\\implies  u_{j-1,i} =u_{ij} -\\Delta y \\varphi (i,j-1) $\n",
    "</div>"
   ]
  },
  {
   "cell_type": "markdown",
   "metadata": {},
   "source": [
    "##### Right"
   ]
  },
  {
   "cell_type": "markdown",
   "metadata": {},
   "source": [
    "<img src=\"borders/borders_r.jpeg\", width=\"170px\", height=\"170px\">right </img></td>"
   ]
  },
  {
   "cell_type": "markdown",
   "metadata": {},
   "source": [
    "1)<br>\n",
    "<div align='center'>\n",
    "$\\frac{\\partial u}{\\partial \\gamma}=\n",
    "\\frac{\\partial u}{\\partial t}=\n",
    "\\frac{\\partial u}{\\partial x}\\dot{x}+\n",
    "\\frac{\\partial u}{\\partial y}\\dot{y}$<br><br>\n",
    "<div align='center'>\n",
    "$\\frac{\\partial u}{\\partial \\gamma_{n}}(x,y+1)=\n",
    "-\\frac{\\partial u}{\\partial y}(x,y+1)$    \n",
    "</div>"
   ]
  },
  {
   "cell_type": "markdown",
   "metadata": {},
   "source": [
    "2)<br>\n",
    "<div align='center'>\n",
    "$\\frac{\\partial u}{\\partial \\gamma_{r}}(x,y+1)=\n",
    "\\frac{\\partial u}{\\partial x}(x,y+1)$<br><br>\n",
    "$\\gamma_{n} =\n",
    "\\begin{pmatrix}\n",
    "0\\\\\n",
    "-1\n",
    "\\end{pmatrix}t, \\ \\ \n",
    "\\gamma_{r} \n",
    "=\\begin{pmatrix}\n",
    "1\\\\\n",
    "0\n",
    "\\end{pmatrix}t$<br>     \n",
    "</div>"
   ]
  },
  {
   "cell_type": "markdown",
   "metadata": {},
   "source": [
    "3)<br>\n",
    "<div align='center'>\n",
    "$\\frac{\\partial u}{\\partial x}(x,y+1)=\n",
    "\\frac{\\partial u}{\\partial \\gamma_{r}}(x,y+1)$<br><br>\n",
    "    \n",
    "$\\frac{\\partial u}{\\partial y}(x,y+1)=\n",
    "-\\frac{\\partial u}{\\partial \\gamma_{n}}(x,y+1)=\n",
    "-\\varphi(x,y +1)$<br><br>\n",
    "</div>\n",
    "</div>"
   ]
  },
  {
   "cell_type": "markdown",
   "metadata": {},
   "source": [
    "4)<br>\n",
    "<div align='center'>\n",
    "$\\frac{u_{ij+1}-u_{ij}}{\\Delta y}=\n",
    "\\frac{\\partial u}{\\partial y}(i,j+1)=\n",
    "-\\varphi(i,j+1)$<br><br>\n",
    " $u_{ij+1}=u_{ij} -\\Delta y \\varphi (i,j+1)$  \n",
    "</div>"
   ]
  },
  {
   "cell_type": "markdown",
   "metadata": {},
   "source": [
    "##### Bottom left"
   ]
  },
  {
   "cell_type": "markdown",
   "metadata": {},
   "source": [
    "<img src=\"borders/borders_bl.jpeg\", width=\"170px\", height=\"170px\">bottom left </img></td>"
   ]
  },
  {
   "cell_type": "markdown",
   "metadata": {},
   "source": [
    "1)<br>\n",
    "<div align='center'>\n",
    "$\\gamma_{r} :\n",
    "\\begin{pmatrix}\n",
    "x\\\\\n",
    "y\n",
    "\\end{pmatrix}\n",
    "=\\begin{pmatrix}\n",
    "1\\\\\n",
    "1\n",
    "\\end{pmatrix}t$<br> \n",
    "$\\gamma_{n} :\n",
    "\\begin{pmatrix}\n",
    "x\\\\\n",
    "y\n",
    "\\end{pmatrix}\n",
    "=\\begin{pmatrix}\n",
    "-1\\\\\n",
    "1\n",
    "\\end{pmatrix}t$    \n",
    "</div>"
   ]
  },
  {
   "cell_type": "markdown",
   "metadata": {},
   "source": [
    "2)<br>\n",
    "<div align='center'>\n",
    "$\\frac{\\partial u}{\\partial r}=\n",
    "\\frac{\\partial u}{\\partial x}+\n",
    "\\frac{\\partial u}{\\partial y}$<br><br>\n",
    "<div align='center'>\n",
    "$\\frac{\\partial u}{\\partial n}=\n",
    "-\\frac{\\partial u}{\\partial x}+\n",
    "\\frac{\\partial u}{\\partial y}$    \n",
    "</div>"
   ]
  },
  {
   "cell_type": "markdown",
   "metadata": {},
   "source": [
    "3)<br>\n",
    "<div align='center'>\n",
    "$\\frac{\\partial u}{\\partial x}=\\frac{1}{2}\n",
    "(\\frac{\\partial u}{\\partial r}-\n",
    "\\frac{\\partial u}{\\partial n}(i+1,j))$<br><br>\n",
    "<div align='center'>\n",
    "$\\frac{\\partial u}{\\partial y}=\\frac{1}{2}\n",
    "(\\frac{\\partial u}{\\partial r}+\n",
    "\\frac{\\partial u}{\\partial n}(i,j-1))$    \n",
    "</div>"
   ]
  },
  {
   "cell_type": "markdown",
   "metadata": {},
   "source": [
    "4)<br>\n",
    "<div align='center'>\n",
    "$u_{ij-1}: \\ \\ \\ u_{ij-1}=u_{ij}-\n",
    "\\Delta y\n",
    "\\frac{\\partial u}{\\partial y}(i,j-1)$<br><br>\n",
    "    \n",
    " $т.к. \\ \\ \n",
    "\\frac{u_{ij}-u_{ij-1}}{\\Delta y}=\n",
    "\\frac{\\partial u}{\\partial y}(ij-1)$<br><br>\n",
    "    \n",
    "$u_{i+1,j}: \\ \\ \\ \n",
    " u_{i+1,j}=u_{ij}+\n",
    "\\frac{\\partial u}{\\partial x}\n",
    "\\Delta x (i+1,j)$<br><br>\n",
    "\n",
    "$\\frac{u_{i+1j}-u_{ij}}{\\Delta x}=\n",
    "\\frac{\\partial u}{\\partial x}(i+1,j)$\n",
    "</div>"
   ]
  },
  {
   "cell_type": "markdown",
   "metadata": {},
   "source": [
    "##### Bottom"
   ]
  },
  {
   "cell_type": "markdown",
   "metadata": {},
   "source": [
    "<img src=\"borders/borders_b.jpeg\", width=\"170px\", height=\"170px\">bottom  </img></td>"
   ]
  },
  {
   "cell_type": "markdown",
   "metadata": {},
   "source": [
    "1)<br>\n",
    "<div align='center'>\n",
    "$\\frac{\\partial u}{\\partial t}=\n",
    "\\frac{\\partial u}{\\partial x}\\dot{x}+\n",
    "\\frac{\\partial u}{\\partial y}\\dot{y}$    \n",
    "</div>"
   ]
  },
  {
   "cell_type": "markdown",
   "metadata": {},
   "source": [
    "2)<br>\n",
    "<div align='center'>\n",
    "$\\gamma_{n} :\n",
    "\\begin{pmatrix}\n",
    "\\dot{x}\\\\\n",
    "\\dot{y}\n",
    "\\end{pmatrix}\n",
    "=\\begin{pmatrix}\n",
    "-1\\\\\n",
    "0\n",
    "\\end{pmatrix}$<br> \n",
    "$\\gamma_{r} :\n",
    "\\begin{pmatrix}\n",
    "\\dot{x}\\\\\n",
    "\\dot{y}\n",
    "\\end{pmatrix}\n",
    "=\\begin{pmatrix}\n",
    "0\\\\\n",
    "1\n",
    "\\end{pmatrix}$    \n",
    "</div>"
   ]
  },
  {
   "cell_type": "markdown",
   "metadata": {},
   "source": [
    "3)<br>\n",
    "<div align='center'>\n",
    "$\n",
    "\\varphi(i+1,j)=\n",
    "\\frac{\\partial u}{\\partial \\gamma_{n}}=\n",
    "-\\frac{\\partial u}{\\partial x},\n",
    "\\frac{\\partial u}{\\partial \\gamma_{r}}=\n",
    "\\frac{\\partial u}{\\partial y}$    \n",
    "</div>"
   ]
  },
  {
   "cell_type": "markdown",
   "metadata": {},
   "source": [
    "4)<br>\n",
    "<div align='center'>\n",
    "$\\frac{u_{i+1,j}-u_{ij}}{\\Delta x}=\n",
    "\\frac{\\partial u}{\\partial x}=\n",
    "-\\frac{\\partial u}{\\partial \\gamma_{n}} (i+1,j)=-\\varphi(i+1,j)$<br><br>\n",
    "$\\implies u_{i+1,j}=u_{ij}-\\Delta x \\varphi(i+1,j)$\n",
    "</div>"
   ]
  },
  {
   "cell_type": "markdown",
   "metadata": {},
   "source": [
    "##### Bottom right"
   ]
  },
  {
   "cell_type": "markdown",
   "metadata": {},
   "source": [
    "<img src=\"borders/borders_br.jpeg\", width=\"170px\", height=\"170px\">bottom right </img></td>"
   ]
  },
  {
   "cell_type": "markdown",
   "metadata": {},
   "source": [
    "\n",
    "1)<br>\n",
    "<div align='center'>\n",
    "$\\gamma_{r} :\n",
    "\\begin{pmatrix}\n",
    "x\\\\\n",
    "y\n",
    "\\end{pmatrix}\n",
    "=\\begin{pmatrix}\n",
    "1\\\\\n",
    "-1\n",
    "\\end{pmatrix}t$\n",
    "</div>"
   ]
  },
  {
   "cell_type": "markdown",
   "metadata": {},
   "source": [
    "2)<br>\n",
    "<div align='center'>\n",
    "$\\gamma_{n} :\n",
    "\\begin{pmatrix}\n",
    "x\\\\\n",
    "y\n",
    "\\end{pmatrix}\n",
    "=\\begin{pmatrix}\n",
    "-1\\\\\n",
    "-1\n",
    "\\end{pmatrix}t$\n",
    "</div>\n"
   ]
  },
  {
   "cell_type": "markdown",
   "metadata": {},
   "source": [
    "3)<br>\n",
    "<div align='center'>\n",
    "$\\frac{\\partial u}{\\partial r}=\n",
    "\\frac{\\partial u}{\\partial x}-\n",
    "\\frac{\\partial u}{\\partial y}$<br><br>\n",
    "<div align='center'>\n",
    "$\\frac{\\partial u}{\\partial n}=\n",
    "-\\frac{\\partial u}{\\partial x}-\n",
    "\\frac{\\partial u}{\\partial y}$    \n",
    "</div>\n"
   ]
  },
  {
   "cell_type": "markdown",
   "metadata": {},
   "source": [
    "4)<br>\n",
    "<div align='center'>\n",
    "$\\frac{\\partial u}{\\partial x}=\\frac{1}{2}\n",
    "(\\frac{\\partial u}{\\partial r}-\n",
    "\\frac{\\partial u}{\\partial n});$<br><br>\n",
    "<div align='center'>\n",
    "$\\frac{\\partial u}{\\partial y}=-\\frac{1}{2}\n",
    "(\\frac{\\partial u}{\\partial r}+\n",
    "\\frac{\\partial u}{\\partial n})$    \n",
    "</div>"
   ]
  },
  {
   "cell_type": "markdown",
   "metadata": {},
   "source": [
    "5)<br>\n",
    "<div align='center'>\n",
    "$\\frac{\\partial u}{\\partial x}=\\frac{1}{2}\n",
    "(\\frac{\\partial u}{\\partial r}-\n",
    "\\varphi_{(i+1,j)});$<br><br>\n",
    "<div align='center'>\n",
    "$\\frac{\\partial u}{\\partial y}=-\\frac{1}{2}\n",
    "(\\frac{\\partial u}{\\partial r}+\n",
    "\\varphi_{(i,j+1)})$    \n",
    "</div>"
   ]
  },
  {
   "cell_type": "markdown",
   "metadata": {},
   "source": [
    "6)<br>\n",
    "<div align='center'>\n",
    "$\\frac{\\partial u}{\\partial r}=\n",
    "\\frac{u[i-1,j]-u[i,j-1]}{dr}$    \n",
    "</div>"
   ]
  },
  {
   "cell_type": "markdown",
   "metadata": {},
   "source": [
    "7)<br>\n",
    "<div align='center'>\n",
    "$\\frac{\\partial u}{\\partial y}=\n",
    "\\frac{u_{i,j+1}-u_{i,j}}{\\Delta y} \\ \\   для  \\ \\ точки    \\ \\ u_{i,j+1}$<br><br>,\n",
    "$\\frac{\\partial u}{\\partial x}=\n",
    "\\frac{u_{i+1,j}-u_{i,j}}{\\Delta x} \\ \\   для  \\ \\ точки    \\ \\ u_{i+1,j}$\n",
    "</div>"
   ]
  },
  {
   "cell_type": "code",
   "execution_count": null,
   "metadata": {
    "collapsed": true
   },
   "outputs": [],
   "source": []
  }
 ],
 "metadata": {
  "kernelspec": {
   "display_name": "Python 3",
   "language": "python",
   "name": "python3"
  },
  "language_info": {
   "codemirror_mode": {
    "name": "ipython",
    "version": 3
   },
   "file_extension": ".py",
   "mimetype": "text/x-python",
   "name": "python",
   "nbconvert_exporter": "python",
   "pygments_lexer": "ipython3",
   "version": "3.6.0"
  }
 },
 "nbformat": 4,
 "nbformat_minor": 2
}
