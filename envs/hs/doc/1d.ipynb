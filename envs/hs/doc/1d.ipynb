{
 "cells": [
  {
   "cell_type": "markdown",
   "metadata": {},
   "source": [
    "### 1d"
   ]
  },
  {
   "cell_type": "code",
   "execution_count": 1,
   "metadata": {
    "collapsed": false
   },
   "outputs": [
    {
     "name": "stdout",
     "output_type": "stream",
     "text": [
      "/home/valdecar/Documents/projects/projectsNew/lab/hybriddomain/\n",
      "/home/valdecar/Documents/projects/projectsNew/lab/hybriddomain/math_space/common\n"
     ]
    }
   ],
   "source": [
    "import os\n",
    "import sys\n",
    "import inspect\n",
    "\n",
    "from IPython.display import display\n",
    "\n",
    "# insert hybriddomain dir into sys\n",
    "# hybriddomain must contain envs folder:\n",
    "currentdir = os.path.dirname(os.path.abspath(inspect.getfile(inspect.currentframe())))\n",
    "hd = currentdir.find(\"envs\")\n",
    "hd_dir = currentdir[:hd]\n",
    "print(hd_dir)\n",
    "\n",
    "if hd_dir not in sys.path:\n",
    "    sys.path.insert(0, hd_dir)\n",
    "\n",
    "env_dir = os.path.join(hd_dir, 'math_space', \"common\")\n",
    "print(env_dir)\n",
    "\n",
    "if env_dir not in sys.path:\n",
    "    sys.path.insert(0, env_dir)\n"
   ]
  },
  {
   "cell_type": "markdown",
   "metadata": {},
   "source": [
    "### Описание модели"
   ]
  },
  {
   "cell_type": "markdown",
   "metadata": {},
   "source": [
    "Загрузка шаблона"
   ]
  },
  {
   "cell_type": "code",
   "execution_count": 2,
   "metadata": {
    "collapsed": false
   },
   "outputs": [
    {
     "name": "stderr",
     "output_type": "stream",
     "text": [
      "INFO:block_main.block_io:DefaultBound not set\n",
      "INFO:block_main.block_io:DefaultBound not set\n"
     ]
    }
   ],
   "source": [
    "from envs.hs.model.model_main import ModelNet as Model\n",
    "\n",
    "m = Model()\n",
    "m.io.loadFromFile('../../../problems/1dTests/test1d_two_blocks0')\n"
   ]
  },
  {
   "cell_type": "code",
   "execution_count": 3,
   "metadata": {
    "collapsed": false
   },
   "outputs": [
    {
     "data": {
      "text/plain": [
       "'../../../1dTests/test1d_two_blocks0'"
      ]
     },
     "execution_count": 3,
     "metadata": {},
     "output_type": "execute_result"
    }
   ],
   "source": [
    "m.project_path"
   ]
  },
  {
   "cell_type": "markdown",
   "metadata": {},
   "source": [
    "##### Блоки"
   ]
  },
  {
   "cell_type": "markdown",
   "metadata": {},
   "source": [
    "Для одномерного случая у блока существует только сторона 2 (номер верхней стороны 2d блока). Она используется здесь только для хранения equationRegions, поскольку boundRegions для 1d являются границами отрезков т.е. точки."
   ]
  },
  {
   "cell_type": "code",
   "execution_count": 18,
   "metadata": {
    "collapsed": false
   },
   "outputs": [
    {
     "data": {
      "text/plain": [
       "'block 0 side:'"
      ]
     },
     "metadata": {},
     "output_type": "display_data"
    },
    {
     "data": {
      "text/html": [
       "<div>\n",
       "<table border=\"1\" class=\"dataframe\">\n",
       "  <thead>\n",
       "    <tr style=\"text-align: right;\">\n",
       "      <th></th>\n",
       "      <th>0</th>\n",
       "      <th>1</th>\n",
       "      <th>2</th>\n",
       "      <th>3</th>\n",
       "      <th>4</th>\n",
       "    </tr>\n",
       "  </thead>\n",
       "  <tbody>\n",
       "    <tr>\n",
       "      <th>bound/eq</th>\n",
       "      <td>(None, 0)</td>\n",
       "      <td>(None, 2)</td>\n",
       "      <td>(None, 2)</td>\n",
       "      <td>(None, 2)</td>\n",
       "      <td>(None, 0)</td>\n",
       "    </tr>\n",
       "    <tr>\n",
       "      <th>range</th>\n",
       "      <td>[0.0, 0.5]</td>\n",
       "      <td>[0.5, 2.5]</td>\n",
       "      <td>[2.5, 2.7]</td>\n",
       "      <td>[2.7, 3.0]</td>\n",
       "      <td>[3.0, 9.0]</td>\n",
       "    </tr>\n",
       "  </tbody>\n",
       "</table>\n",
       "</div>"
      ],
      "text/plain": [
       "                   0           1           2           3           4\n",
       "bound/eq   (None, 0)   (None, 2)   (None, 2)   (None, 2)   (None, 0)\n",
       "range     [0.0, 0.5]  [0.5, 2.5]  [2.5, 2.7]  [2.7, 3.0]  [3.0, 9.0]"
      ]
     },
     "metadata": {},
     "output_type": "display_data"
    },
    {
     "data": {
      "text/plain": [
       "'block 1 side:'"
      ]
     },
     "metadata": {},
     "output_type": "display_data"
    },
    {
     "data": {
      "text/html": [
       "<div>\n",
       "<table border=\"1\" class=\"dataframe\">\n",
       "  <thead>\n",
       "    <tr style=\"text-align: right;\">\n",
       "      <th></th>\n",
       "      <th>0</th>\n",
       "    </tr>\n",
       "  </thead>\n",
       "  <tbody>\n",
       "    <tr>\n",
       "      <th>bound/eq</th>\n",
       "      <td>(None, 0)</td>\n",
       "    </tr>\n",
       "    <tr>\n",
       "      <th>range</th>\n",
       "      <td>[0.0, 1.0]</td>\n",
       "    </tr>\n",
       "  </tbody>\n",
       "</table>\n",
       "</div>"
      ],
      "text/plain": [
       "                   0\n",
       "bound/eq   (None, 0)\n",
       "range     [0.0, 1.0]"
      ]
     },
     "metadata": {},
     "output_type": "display_data"
    }
   ],
   "source": [
    "display(\"block 0 side:\")\n",
    "display(m.blocks[0].sides[2].__repr__(notebook=True))\n",
    "display(\"block 1 side:\")\n",
    "display(m.blocks[1].sides[2].__repr__(notebook=True))\n"
   ]
  },
  {
   "cell_type": "markdown",
   "metadata": {},
   "source": [
    "##### Интерконнекты"
   ]
  },
  {
   "cell_type": "code",
   "execution_count": 4,
   "metadata": {
    "collapsed": false
   },
   "outputs": [
    {
     "data": {
      "text/plain": [
       "[\n",
       " ic: connection\n",
       " blockNumber1: 0\n",
       " blockNumber2: 1\n",
       " block1Side: 1\n",
       " block2Side: 0]"
      ]
     },
     "execution_count": 4,
     "metadata": {},
     "output_type": "execute_result"
    }
   ],
   "source": [
    "m.interconnects"
   ]
  },
  {
   "cell_type": "markdown",
   "metadata": {},
   "source": [
    "### Изменение модели"
   ]
  },
  {
   "cell_type": "markdown",
   "metadata": {},
   "source": [
    "##### Создание блока. "
   ]
  },
  {
   "cell_type": "markdown",
   "metadata": {},
   "source": [
    "Регион e0 добавляется через сторону, e1 через блок. Для 1d сторона всегда 2."
   ]
  },
  {
   "cell_type": "code",
   "execution_count": 5,
   "metadata": {
    "collapsed": false
   },
   "outputs": [],
   "source": [
    "from math_space.pde.regions import BoundRegion, EquationRegion\n",
    "from envs.hs.block.side.side_main import SideNet as Side\n",
    "from envs.hs.block.block_size import BlockSize\n",
    "from envs.hs.block.block_main import BlockNet as Block\n",
    "\n",
    "e0 = EquationRegion(dim=1, EquationNumber=1,\n",
    "                    xfrom=0.1, xto=0.2)\n",
    "\n",
    "e1 = EquationRegion(dim=1, EquationNumber=2,\n",
    "                    xfrom=0.2, xto=0.3)\n",
    "\n",
    "s = Side(2, eRegions=[e0], dim=1)\n",
    "    \n",
    "size = BlockSize()\n",
    "size.set_default(dimension=1)\n",
    "        \n",
    "b = Block(name=\"Block 1\", size=size, sides=[s],\n",
    "          eRegions=[e1])"
   ]
  },
  {
   "cell_type": "markdown",
   "metadata": {},
   "source": [
    "Теперь у блока оба региона в equationRegions."
   ]
  },
  {
   "cell_type": "code",
   "execution_count": 6,
   "metadata": {
    "collapsed": false
   },
   "outputs": [
    {
     "data": {
      "text/plain": [
       "   from   to\n",
       "x   0.1  0.2\n",
       "equationNumber: 1"
      ]
     },
     "metadata": {},
     "output_type": "display_data"
    },
    {
     "data": {
      "text/plain": [
       "   from   to\n",
       "x   0.2  0.3\n",
       "equationNumber: 2"
      ]
     },
     "metadata": {},
     "output_type": "display_data"
    }
   ],
   "source": [
    "for eRegion in b.equationRegions:\n",
    "        display(eRegion)\n",
    "# s.eRegions\n"
   ]
  },
  {
   "cell_type": "markdown",
   "metadata": {},
   "source": [
    "##### Добавление правого граничного условия для блока."
   ]
  },
  {
   "cell_type": "markdown",
   "metadata": {},
   "source": [
    "В случае 1d block.boundRegions[0] это левая а block.boundRegions[1] правая граница блока, в то время как block.sides[2] представляет собой сам блок (точнее итервал). В отличае от этого в 2d все индексы bounRegions и sides совпадают.\n",
    "\n",
    "boundNumber  это номер уравнения в model.bounds, а не индекс boundRegions\n",
    "\n",
    "Вторая сторона будет использована (0) для интерконнекта"
   ]
  },
  {
   "cell_type": "code",
   "execution_count": 7,
   "metadata": {
    "collapsed": false
   },
   "outputs": [
    {
     "data": {
      "text/plain": [
       "{0: [], 1: [\n",
       "  side_num: 1 \n",
       "  boundNumber: 3], 2: [], 3: []}"
      ]
     },
     "execution_count": 7,
     "metadata": {},
     "output_type": "execute_result"
    }
   ],
   "source": [
    "br = BoundRegion(BoundNumber=3, Side=1, dim=1)\n",
    "b.editor.add_bound_region(br)\n",
    "b.boundRegions"
   ]
  },
  {
   "cell_type": "code",
   "execution_count": 8,
   "metadata": {
    "collapsed": false
   },
   "outputs": [
    {
     "data": {
      "text/html": [
       "<div>\n",
       "<table border=\"1\" class=\"dataframe\">\n",
       "  <thead>\n",
       "    <tr style=\"text-align: right;\">\n",
       "      <th></th>\n",
       "      <th>left vertex</th>\n",
       "      <th>1</th>\n",
       "      <th>2</th>\n",
       "      <th>3</th>\n",
       "      <th>4</th>\n",
       "      <th>right vertex</th>\n",
       "    </tr>\n",
       "  </thead>\n",
       "  <tbody>\n",
       "    <tr>\n",
       "      <th>bound/eq</th>\n",
       "      <td>(None, 0)</td>\n",
       "      <td>(None, 0)</td>\n",
       "      <td>(None, 1)</td>\n",
       "      <td>(None, 2)</td>\n",
       "      <td>(None, 0)</td>\n",
       "      <td>(3, 0)</td>\n",
       "    </tr>\n",
       "    <tr>\n",
       "      <th>range</th>\n",
       "      <td>0</td>\n",
       "      <td>[0.0, 0.1]</td>\n",
       "      <td>[0.1, 0.2]</td>\n",
       "      <td>[0.2, 0.3]</td>\n",
       "      <td>[0.3, 1.0]</td>\n",
       "      <td>sizeX</td>\n",
       "    </tr>\n",
       "  </tbody>\n",
       "</table>\n",
       "</div>"
      ],
      "text/plain": [
       "         left vertex           1           2           3           4  \\\n",
       "bound/eq   (None, 0)   (None, 0)   (None, 1)   (None, 2)   (None, 0)   \n",
       "range              0  [0.0, 0.1]  [0.1, 0.2]  [0.2, 0.3]  [0.3, 1.0]   \n",
       "\n",
       "         right vertex  \n",
       "bound/eq       (3, 0)  \n",
       "range           sizeX  "
      ]
     },
     "metadata": {},
     "output_type": "display_data"
    }
   ],
   "source": [
    "p = b.plotter.plot()\n",
    "display(p)"
   ]
  },
  {
   "cell_type": "markdown",
   "metadata": {},
   "source": [
    "Одновременно с bound регионом добаляются вершины. В данном случае (3,0) означает model.bounds[3]"
   ]
  },
  {
   "cell_type": "markdown",
   "metadata": {},
   "source": [
    "##### Добавление нового equationRegion:"
   ]
  },
  {
   "cell_type": "code",
   "execution_count": 9,
   "metadata": {
    "collapsed": false
   },
   "outputs": [
    {
     "data": {
      "text/plain": [
       "[   from   to\n",
       " x   0.1  0.2\n",
       " equationNumber: 1,    from   to\n",
       " x   0.2  0.3\n",
       " equationNumber: 2,    from   to\n",
       " x   0.5  1.0\n",
       " equationNumber: 2]"
      ]
     },
     "execution_count": 9,
     "metadata": {},
     "output_type": "execute_result"
    }
   ],
   "source": [
    "e2 = EquationRegion(dim=1, EquationNumber=2,\n",
    "                    xfrom=0.5, xto=1.0)\n",
    "b.editor.add_eq_region(e2)\n",
    "b.equationRegions"
   ]
  },
  {
   "cell_type": "code",
   "execution_count": 10,
   "metadata": {
    "collapsed": false
   },
   "outputs": [
    {
     "data": {
      "text/html": [
       "<div>\n",
       "<table border=\"1\" class=\"dataframe\">\n",
       "  <thead>\n",
       "    <tr style=\"text-align: right;\">\n",
       "      <th></th>\n",
       "      <th>left vertex</th>\n",
       "      <th>1</th>\n",
       "      <th>2</th>\n",
       "      <th>3</th>\n",
       "      <th>4</th>\n",
       "      <th>5</th>\n",
       "      <th>right vertex</th>\n",
       "    </tr>\n",
       "  </thead>\n",
       "  <tbody>\n",
       "    <tr>\n",
       "      <th>bound/eq</th>\n",
       "      <td>(None, 0)</td>\n",
       "      <td>(None, 0)</td>\n",
       "      <td>(None, 1)</td>\n",
       "      <td>(None, 2)</td>\n",
       "      <td>(None, 0)</td>\n",
       "      <td>(None, 2)</td>\n",
       "      <td>(3, 2)</td>\n",
       "    </tr>\n",
       "    <tr>\n",
       "      <th>range</th>\n",
       "      <td>0</td>\n",
       "      <td>[0.0, 0.1]</td>\n",
       "      <td>[0.1, 0.2]</td>\n",
       "      <td>[0.2, 0.3]</td>\n",
       "      <td>[0.3, 0.5]</td>\n",
       "      <td>[0.5, 1.0]</td>\n",
       "      <td>sizeX</td>\n",
       "    </tr>\n",
       "  </tbody>\n",
       "</table>\n",
       "</div>"
      ],
      "text/plain": [
       "         left vertex           1           2           3           4  \\\n",
       "bound/eq   (None, 0)   (None, 0)   (None, 1)   (None, 2)   (None, 0)   \n",
       "range              0  [0.0, 0.1]  [0.1, 0.2]  [0.2, 0.3]  [0.3, 0.5]   \n",
       "\n",
       "                   5 right vertex  \n",
       "bound/eq   (None, 2)       (3, 2)  \n",
       "range     [0.5, 1.0]        sizeX  "
      ]
     },
     "metadata": {},
     "output_type": "display_data"
    }
   ],
   "source": [
    "p = b.plotter.plot()\n",
    "display(p)"
   ]
  },
  {
   "cell_type": "markdown",
   "metadata": {},
   "source": [
    "Одновременно с equation регионом добаляются вершины. В данном случае (3,2) означает model.equations[2]"
   ]
  },
  {
   "cell_type": "markdown",
   "metadata": {},
   "source": [
    "##### Добавление блока"
   ]
  },
  {
   "cell_type": "code",
   "execution_count": 11,
   "metadata": {
    "collapsed": false
   },
   "outputs": [],
   "source": [
    "m.editor.add_block(b)"
   ]
  },
  {
   "cell_type": "markdown",
   "metadata": {},
   "source": [
    "##### Добавление интерконнекта"
   ]
  },
  {
   "cell_type": "markdown",
   "metadata": {},
   "source": [
    "Создание"
   ]
  },
  {
   "cell_type": "code",
   "execution_count": 12,
   "metadata": {
    "collapsed": true
   },
   "outputs": [],
   "source": [
    "from envs.hs.interconnect.ic_main import icMain as Interconnect\n",
    "\n",
    "ic = Interconnect(\"3\", model=m,\n",
    "                  blockNumber1=1, blockNumber2=2,\n",
    "                  block1Side=0, block2Side=0)"
   ]
  },
  {
   "cell_type": "markdown",
   "metadata": {},
   "source": [
    "Добавление"
   ]
  },
  {
   "cell_type": "code",
   "execution_count": 13,
   "metadata": {
    "collapsed": false
   },
   "outputs": [
    {
     "name": "stdout",
     "output_type": "stream",
     "text": [
      "obj alredy exist:\n",
      "\n",
      "ic: 3\n",
      "blockNumber1: 1\n",
      "blockNumber2: 2\n",
      "block1Side: 0\n",
      "block2Side: 0\n",
      "\n"
     ]
    }
   ],
   "source": [
    "m.editor.add_ic(ic)"
   ]
  },
  {
   "cell_type": "code",
   "execution_count": 14,
   "metadata": {
    "collapsed": false
   },
   "outputs": [
    {
     "data": {
      "text/html": [
       "<div>\n",
       "<table border=\"1\" class=\"dataframe\">\n",
       "  <thead>\n",
       "    <tr style=\"text-align: right;\">\n",
       "      <th></th>\n",
       "      <th>left vertex</th>\n",
       "      <th>1</th>\n",
       "      <th>right vertex</th>\n",
       "    </tr>\n",
       "  </thead>\n",
       "  <tbody>\n",
       "    <tr>\n",
       "      <th>bound/eq</th>\n",
       "      <td>(None, 0)</td>\n",
       "      <td>(None, 0)</td>\n",
       "      <td>(0, 0)</td>\n",
       "    </tr>\n",
       "    <tr>\n",
       "      <th>range</th>\n",
       "      <td>0</td>\n",
       "      <td>[0.0, 1.0]</td>\n",
       "      <td>sizeX</td>\n",
       "    </tr>\n",
       "  </tbody>\n",
       "</table>\n",
       "</div>"
      ],
      "text/plain": [
       "         left vertex           1 right vertex\n",
       "bound/eq   (None, 0)   (None, 0)       (0, 0)\n",
       "range              0  [0.0, 1.0]        sizeX"
      ]
     },
     "metadata": {},
     "output_type": "display_data"
    },
    {
     "data": {
      "text/html": [
       "<div>\n",
       "<table border=\"1\" class=\"dataframe\">\n",
       "  <thead>\n",
       "    <tr style=\"text-align: right;\">\n",
       "      <th></th>\n",
       "      <th>left vertex</th>\n",
       "      <th>1</th>\n",
       "      <th>2</th>\n",
       "      <th>3</th>\n",
       "      <th>4</th>\n",
       "      <th>5</th>\n",
       "      <th>right vertex</th>\n",
       "    </tr>\n",
       "  </thead>\n",
       "  <tbody>\n",
       "    <tr>\n",
       "      <th>bound/eq</th>\n",
       "      <td>(None, 0)</td>\n",
       "      <td>(None, 0)</td>\n",
       "      <td>(None, 1)</td>\n",
       "      <td>(None, 2)</td>\n",
       "      <td>(None, 0)</td>\n",
       "      <td>(None, 2)</td>\n",
       "      <td>(3, 2)</td>\n",
       "    </tr>\n",
       "    <tr>\n",
       "      <th>range</th>\n",
       "      <td>0</td>\n",
       "      <td>[0.0, 0.1]</td>\n",
       "      <td>[0.1, 0.2]</td>\n",
       "      <td>[0.2, 0.3]</td>\n",
       "      <td>[0.3, 0.5]</td>\n",
       "      <td>[0.5, 1.0]</td>\n",
       "      <td>sizeX</td>\n",
       "    </tr>\n",
       "  </tbody>\n",
       "</table>\n",
       "</div>"
      ],
      "text/plain": [
       "         left vertex           1           2           3           4  \\\n",
       "bound/eq   (None, 0)   (None, 0)   (None, 1)   (None, 2)   (None, 0)   \n",
       "range              0  [0.0, 0.1]  [0.1, 0.2]  [0.2, 0.3]  [0.3, 0.5]   \n",
       "\n",
       "                   5 right vertex  \n",
       "bound/eq   (None, 2)       (3, 2)  \n",
       "range     [0.5, 1.0]        sizeX  "
      ]
     },
     "metadata": {},
     "output_type": "display_data"
    }
   ],
   "source": [
    "p = ic.plotter.plot()\n",
    "for pp in p:\n",
    "    display(pp)"
   ]
  },
  {
   "cell_type": "code",
   "execution_count": 15,
   "metadata": {
    "collapsed": false
   },
   "outputs": [
    {
     "data": {
      "text/plain": [
       "{0: [], 1: [\n",
       "  side_num: 1 \n",
       "  boundNumber: 3], 2: [], 3: []}"
      ]
     },
     "execution_count": 15,
     "metadata": {},
     "output_type": "execute_result"
    }
   ],
   "source": [
    "m.blocks[2].boundRegions"
   ]
  },
  {
   "cell_type": "code",
   "execution_count": 16,
   "metadata": {
    "collapsed": false
   },
   "outputs": [
    {
     "data": {
      "text/plain": [
       "[   from   to\n",
       " x   0.1  0.2\n",
       " equationNumber: 1,    from   to\n",
       " x   0.2  0.3\n",
       " equationNumber: 2,    from   to\n",
       " x   0.5  1.0\n",
       " equationNumber: 2]"
      ]
     },
     "execution_count": 16,
     "metadata": {},
     "output_type": "execute_result"
    }
   ],
   "source": [
    "m.blocks[2].equationRegions"
   ]
  },
  {
   "cell_type": "code",
   "execution_count": null,
   "metadata": {
    "collapsed": true
   },
   "outputs": [],
   "source": []
  },
  {
   "cell_type": "code",
   "execution_count": null,
   "metadata": {
    "collapsed": true
   },
   "outputs": [],
   "source": []
  }
 ],
 "metadata": {
  "kernelspec": {
   "display_name": "Python 3",
   "language": "python",
   "name": "python3"
  },
  "language_info": {
   "codemirror_mode": {
    "name": "ipython",
    "version": 3
   },
   "file_extension": ".py",
   "mimetype": "text/x-python",
   "name": "python",
   "nbconvert_exporter": "python",
   "pygments_lexer": "ipython3",
   "version": "3.6.0"
  }
 },
 "nbformat": 4,
 "nbformat_minor": 2
}
