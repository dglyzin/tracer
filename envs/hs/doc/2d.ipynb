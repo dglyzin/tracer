{
 "cells": [
  {
   "cell_type": "markdown",
   "metadata": {},
   "source": [
    "### 2d"
   ]
  },
  {
   "cell_type": "code",
   "execution_count": 1,
   "metadata": {
    "collapsed": false
   },
   "outputs": [
    {
     "name": "stdout",
     "output_type": "stream",
     "text": [
      "/home/valdecar/Documents/projects/projectsNew/lab/hybriddomain/\n"
     ]
    }
   ],
   "source": [
    "import os\n",
    "import sys\n",
    "import inspect\n",
    "\n",
    "from IPython.display import display\n",
    "\n",
    "# insert hybriddomain dir into sys\n",
    "# hybriddomain must contain envs folder:\n",
    "currentdir = os.path.dirname(os.path.abspath(inspect.getfile(inspect.currentframe())))\n",
    "hd = currentdir.find(\"envs\")\n",
    "print(currentdir[:hd])\n",
    "sys.path.insert(0, currentdir[:hd])"
   ]
  },
  {
   "cell_type": "markdown",
   "metadata": {},
   "source": [
    "### Изменение блока"
   ]
  },
  {
   "cell_type": "markdown",
   "metadata": {},
   "source": [
    "##### Загрузка шаблона"
   ]
  },
  {
   "cell_type": "code",
   "execution_count": 2,
   "metadata": {
    "collapsed": false
   },
   "outputs": [],
   "source": [
    "from envs.hs.model.model_main import ModelNet as Model\n",
    "\n",
    "m = Model()\n",
    "m.io.loadFromFile('../../../tests/test2d_for_intervals_single_delay.json')\n",
    "b = m.blocks[0]"
   ]
  },
  {
   "cell_type": "code",
   "execution_count": 3,
   "metadata": {
    "collapsed": false
   },
   "outputs": [
    {
     "data": {
      "image/png": "[encoded data removed]",
      "text/plain": [
       "<matplotlib.figure.Figure at 0x7f050162edd8>"
      ]
     },
     "metadata": {},
     "output_type": "display_data"
    }
   ],
   "source": [
    "b.plotter.plot().show()"
   ]
  },
  {
   "cell_type": "markdown",
   "metadata": {},
   "source": [
    "##### Изменение стороны блока"
   ]
  },
  {
   "cell_type": "code",
   "execution_count": 4,
   "metadata": {
    "collapsed": false
   },
   "outputs": [
    {
     "data": {
      "text/html": [
       "<div>\n",
       "<table border=\"1\" class=\"dataframe\">\n",
       "  <thead>\n",
       "    <tr style=\"text-align: right;\">\n",
       "      <th></th>\n",
       "      <th>0</th>\n",
       "      <th>1</th>\n",
       "    </tr>\n",
       "  </thead>\n",
       "  <tbody>\n",
       "    <tr>\n",
       "      <th>bound/eq</th>\n",
       "      <td>(None, 0)</td>\n",
       "      <td>(None, 1)</td>\n",
       "    </tr>\n",
       "    <tr>\n",
       "      <th>range</th>\n",
       "      <td>[0.0, 1.0]</td>\n",
       "      <td>[1.0, 8.0]</td>\n",
       "    </tr>\n",
       "  </tbody>\n",
       "</table>\n",
       "</div>"
      ],
      "text/plain": [
       "                   0           1\n",
       "bound/eq   (None, 0)   (None, 1)\n",
       "range     [0.0, 1.0]  [1.0, 8.0]"
      ]
     },
     "metadata": {},
     "output_type": "display_data"
    }
   ],
   "source": [
    "display(b.sides[0].__repr__(notebook=True))"
   ]
  },
  {
   "cell_type": "markdown",
   "metadata": {},
   "source": [
    "Для изменения стороны нужно создать новую:"
   ]
  },
  {
   "cell_type": "code",
   "execution_count": 5,
   "metadata": {
    "collapsed": false
   },
   "outputs": [],
   "source": [
    "from math_space.pde.regions import BoundRegion, EquationRegion\n",
    "from envs.hs.block.side.side_main import SideNet as Side\n",
    "\n",
    "# create side 2:\n",
    "b00 = BoundRegion(Side=2, BoundNumber=0, dim=2,\n",
    "                  xfrom=0, xto=0.3, yfrom=0, yto=0.5)\n",
    "b01 = BoundRegion(Side=2, BoundNumber=1, dim=2,\n",
    "                  xfrom=0.3, xto=0.7, yfrom=0, yto=0.5)\n",
    "s2 = Side(2, bRegions=[b00, b01])\n"
   ]
  },
  {
   "cell_type": "markdown",
   "metadata": {},
   "source": [
    "Для добавления стороны `block.editor.add_or_edit_side(side)`.\n",
    "<br>Результат:"
   ]
  },
  {
   "cell_type": "code",
   "execution_count": 6,
   "metadata": {
    "collapsed": false
   },
   "outputs": [
    {
     "data": {
      "text/plain": [
       "'before:'"
      ]
     },
     "metadata": {},
     "output_type": "display_data"
    },
    {
     "data": {
      "text/html": [
       "<div>\n",
       "<table border=\"1\" class=\"dataframe\">\n",
       "  <thead>\n",
       "    <tr style=\"text-align: right;\">\n",
       "      <th></th>\n",
       "      <th>0</th>\n",
       "      <th>1</th>\n",
       "      <th>2</th>\n",
       "    </tr>\n",
       "  </thead>\n",
       "  <tbody>\n",
       "    <tr>\n",
       "      <th>bound/eq</th>\n",
       "      <td>(None, 0)</td>\n",
       "      <td>(None, 2)</td>\n",
       "      <td>(None, 1)</td>\n",
       "    </tr>\n",
       "    <tr>\n",
       "      <th>range</th>\n",
       "      <td>[0.0, 0.5]</td>\n",
       "      <td>[0.5, 2.7]</td>\n",
       "      <td>[2.7, 3.0]</td>\n",
       "    </tr>\n",
       "  </tbody>\n",
       "</table>\n",
       "</div>"
      ],
      "text/plain": [
       "                   0           1           2\n",
       "bound/eq   (None, 0)   (None, 2)   (None, 1)\n",
       "range     [0.0, 0.5]  [0.5, 2.7]  [2.7, 3.0]"
      ]
     },
     "metadata": {},
     "output_type": "display_data"
    },
    {
     "data": {
      "text/plain": [
       "'side:'"
      ]
     },
     "metadata": {},
     "output_type": "display_data"
    },
    {
     "data": {
      "text/html": [
       "<div>\n",
       "<table border=\"1\" class=\"dataframe\">\n",
       "  <thead>\n",
       "    <tr style=\"text-align: right;\">\n",
       "      <th></th>\n",
       "      <th>0</th>\n",
       "      <th>1</th>\n",
       "    </tr>\n",
       "  </thead>\n",
       "  <tbody>\n",
       "    <tr>\n",
       "      <th>bound/eq</th>\n",
       "      <td>(0, 0)</td>\n",
       "      <td>(1, 0)</td>\n",
       "    </tr>\n",
       "    <tr>\n",
       "      <th>range</th>\n",
       "      <td>[0.0, 0.3]</td>\n",
       "      <td>[0.3, 0.7]</td>\n",
       "    </tr>\n",
       "  </tbody>\n",
       "</table>\n",
       "</div>"
      ],
      "text/plain": [
       "                   0           1\n",
       "bound/eq      (0, 0)      (1, 0)\n",
       "range     [0.0, 0.3]  [0.3, 0.7]"
      ]
     },
     "metadata": {},
     "output_type": "display_data"
    },
    {
     "data": {
      "text/plain": [
       "'after:'"
      ]
     },
     "metadata": {},
     "output_type": "display_data"
    },
    {
     "data": {
      "text/html": [
       "<div>\n",
       "<table border=\"1\" class=\"dataframe\">\n",
       "  <thead>\n",
       "    <tr style=\"text-align: right;\">\n",
       "      <th></th>\n",
       "      <th>0</th>\n",
       "      <th>1</th>\n",
       "      <th>2</th>\n",
       "      <th>3</th>\n",
       "      <th>4</th>\n",
       "    </tr>\n",
       "  </thead>\n",
       "  <tbody>\n",
       "    <tr>\n",
       "      <th>bound/eq</th>\n",
       "      <td>(0, 0)</td>\n",
       "      <td>(1, 0)</td>\n",
       "      <td>(1, 2)</td>\n",
       "      <td>(None, 2)</td>\n",
       "      <td>(None, 1)</td>\n",
       "    </tr>\n",
       "    <tr>\n",
       "      <th>range</th>\n",
       "      <td>[0.0, 0.3]</td>\n",
       "      <td>[0.3, 0.5]</td>\n",
       "      <td>[0.5, 0.7]</td>\n",
       "      <td>[0.7, 2.7]</td>\n",
       "      <td>[2.7, 3.0]</td>\n",
       "    </tr>\n",
       "  </tbody>\n",
       "</table>\n",
       "</div>"
      ],
      "text/plain": [
       "                   0           1           2           3           4\n",
       "bound/eq      (0, 0)      (1, 0)      (1, 2)   (None, 2)   (None, 1)\n",
       "range     [0.0, 0.3]  [0.3, 0.5]  [0.5, 0.7]  [0.7, 2.7]  [2.7, 3.0]"
      ]
     },
     "metadata": {},
     "output_type": "display_data"
    }
   ],
   "source": [
    "# TODO impossible remove regions\n",
    "# change side 0:\n",
    "display(\"before:\")\n",
    "display(b.sides[2].__repr__(notebook=True))\n",
    "\n",
    "display(\"side:\")\n",
    "display(s2.__repr__(notebook=True))\n",
    "\n",
    "# replace current side 2:\n",
    "b.editor.add_or_edit_side(s2)\n",
    "\n",
    "display(\"after:\")\n",
    "display(b.sides[2].__repr__(notebook=True))"
   ]
  },
  {
   "cell_type": "code",
   "execution_count": 7,
   "metadata": {
    "collapsed": false
   },
   "outputs": [
    {
     "data": {
      "image/png": "[encoded data removed]",
      "text/plain": [
       "<matplotlib.figure.Figure at 0x7f050162e5f8>"
      ]
     },
     "metadata": {},
     "output_type": "display_data"
    }
   ],
   "source": [
    "b.plotter.plot().show()"
   ]
  },
  {
   "cell_type": "markdown",
   "metadata": {},
   "source": [
    "##### Добавление граничного региона"
   ]
  },
  {
   "cell_type": "markdown",
   "metadata": {},
   "source": [
    "На предыдущем шаге вместе с стороной 2 добавилисть ее регионы (перезаписаны)"
   ]
  },
  {
   "cell_type": "code",
   "execution_count": 8,
   "metadata": {
    "collapsed": false
   },
   "outputs": [
    {
     "name": "stdout",
     "output_type": "stream",
     "text": [
      "   from   to\n",
      "x     0  0.3\n",
      "y     0  0.5\n",
      "side_num: 2 \n",
      "boundNumber: 0\n",
      "\n",
      "   from   to\n",
      "x   0.3  0.7\n",
      "y   0.0  0.5\n",
      "side_num: 2 \n",
      "boundNumber: 1\n",
      "\n"
     ]
    }
   ],
   "source": [
    "# boud regions for side 2 \n",
    "for bRegion in b.boundRegions[2]:\n",
    "    print(bRegion)\n"
   ]
  },
  {
   "cell_type": "markdown",
   "metadata": {},
   "source": [
    "Регионы совподают на стороне 2 и блоке:"
   ]
  },
  {
   "cell_type": "code",
   "execution_count": 9,
   "metadata": {
    "collapsed": false
   },
   "outputs": [
    {
     "name": "stdout",
     "output_type": "stream",
     "text": [
      "True\n"
     ]
    }
   ],
   "source": [
    "print(b.boundRegions[2] == s2.bRegions) "
   ]
  },
  {
   "cell_type": "markdown",
   "metadata": {},
   "source": [
    "Добавление нового региона для стороны 0:"
   ]
  },
  {
   "cell_type": "code",
   "execution_count": 10,
   "metadata": {
    "collapsed": false
   },
   "outputs": [
    {
     "data": {
      "text/plain": [
       "'before:'"
      ]
     },
     "metadata": {},
     "output_type": "display_data"
    },
    {
     "data": {
      "text/html": [
       "<div>\n",
       "<table border=\"1\" class=\"dataframe\">\n",
       "  <thead>\n",
       "    <tr style=\"text-align: right;\">\n",
       "      <th></th>\n",
       "      <th>0</th>\n",
       "      <th>1</th>\n",
       "    </tr>\n",
       "  </thead>\n",
       "  <tbody>\n",
       "    <tr>\n",
       "      <th>bound/eq</th>\n",
       "      <td>(None, 0)</td>\n",
       "      <td>(None, 1)</td>\n",
       "    </tr>\n",
       "    <tr>\n",
       "      <th>range</th>\n",
       "      <td>[0.0, 1.0]</td>\n",
       "      <td>[1.0, 8.0]</td>\n",
       "    </tr>\n",
       "  </tbody>\n",
       "</table>\n",
       "</div>"
      ],
      "text/plain": [
       "                   0           1\n",
       "bound/eq   (None, 0)   (None, 1)\n",
       "range     [0.0, 1.0]  [1.0, 8.0]"
      ]
     },
     "metadata": {},
     "output_type": "display_data"
    },
    {
     "data": {
      "text/plain": [
       "'after:'"
      ]
     },
     "metadata": {},
     "output_type": "display_data"
    },
    {
     "data": {
      "text/html": [
       "<div>\n",
       "<table border=\"1\" class=\"dataframe\">\n",
       "  <thead>\n",
       "    <tr style=\"text-align: right;\">\n",
       "      <th></th>\n",
       "      <th>0</th>\n",
       "      <th>1</th>\n",
       "      <th>2</th>\n",
       "      <th>3</th>\n",
       "    </tr>\n",
       "  </thead>\n",
       "  <tbody>\n",
       "    <tr>\n",
       "      <th>bound/eq</th>\n",
       "      <td>(None, 0)</td>\n",
       "      <td>(0, 0)</td>\n",
       "      <td>(None, 0)</td>\n",
       "      <td>(None, 1)</td>\n",
       "    </tr>\n",
       "    <tr>\n",
       "      <th>range</th>\n",
       "      <td>[0.0, 0.3]</td>\n",
       "      <td>[0.3, 0.7]</td>\n",
       "      <td>[0.7, 1.0]</td>\n",
       "      <td>[1.0, 8.0]</td>\n",
       "    </tr>\n",
       "  </tbody>\n",
       "</table>\n",
       "</div>"
      ],
      "text/plain": [
       "                   0           1           2           3\n",
       "bound/eq   (None, 0)      (0, 0)   (None, 0)   (None, 1)\n",
       "range     [0.0, 0.3]  [0.3, 0.7]  [0.7, 1.0]  [1.0, 8.0]"
      ]
     },
     "metadata": {},
     "output_type": "display_data"
    }
   ],
   "source": [
    "b00 = BoundRegion(BoundNumber=0, Side=0, dim=2,\n",
    "                  xfrom=0, xto=0.5, yfrom=0.3, yto=0.7)\n",
    "\n",
    "# add bound region to side 0:\n",
    "display(\"before:\")\n",
    "display(b.sides[0].__repr__(notebook=True))\n",
    "b.editor.add_bound_region(b00)\n",
    "display(\"after:\")\n",
    "display(b.sides[0].__repr__(notebook=True))"
   ]
  },
  {
   "cell_type": "code",
   "execution_count": 11,
   "metadata": {
    "collapsed": false
   },
   "outputs": [
    {
     "data": {
      "image/png": "[encoded data removed]",
      "text/plain": [
       "<matplotlib.figure.Figure at 0x7f04d7efd9e8>"
      ]
     },
     "metadata": {},
     "output_type": "display_data"
    }
   ],
   "source": [
    "b.plotter.plot().show()"
   ]
  },
  {
   "cell_type": "markdown",
   "metadata": {},
   "source": [
    "### Добавление интерконнекта"
   ]
  },
  {
   "cell_type": "markdown",
   "metadata": {},
   "source": [
    "##### Загрузка шаблона"
   ]
  },
  {
   "cell_type": "code",
   "execution_count": 12,
   "metadata": {
    "collapsed": false
   },
   "outputs": [
    {
     "name": "stdout",
     "output_type": "stream",
     "text": [
      "DefaultBound not set\n",
      "DefaultBound not set\n",
      "obj alredy exist:\n",
      "\n",
      "ic: simple connection\n",
      "blockNumber1: 0\n",
      "blockNumber2: 1\n",
      "block1Side: 2\n",
      "block2Side: 3\n",
      "\n"
     ]
    }
   ],
   "source": [
    "m1 = Model()\n",
    "m1.io.loadFromFile('../../../tests/test2d_two_blocks0.json')\n"
   ]
  },
  {
   "cell_type": "markdown",
   "metadata": {},
   "source": [
    "Существующий интерконнект:"
   ]
  },
  {
   "cell_type": "code",
   "execution_count": 13,
   "metadata": {
    "collapsed": false
   },
   "outputs": [
    {
     "name": "stdout",
     "output_type": "stream",
     "text": [
      "b1: [30.0, 20.0]\n",
      "b2: [50.0, 70.0]\n",
      "s: [100.0, 140.0]\n",
      "case 2: block1Side 2, block2Side 3\n",
      "offset relative block 1\n",
      "orign_1: [0, -20.0]\n",
      "orign_2: [15.0, 0]\n"
     ]
    },
    {
     "data": {
      "image/png": "[encoded data removed]",
      "text/plain": [
       "<matplotlib.figure.Figure at 0x7f04d7d40d30>"
      ]
     },
     "metadata": {},
     "output_type": "display_data"
    }
   ],
   "source": [
    "ic = m1.interconnects[0]\n",
    "ic.plotter.plot().show()"
   ]
  },
  {
   "cell_type": "markdown",
   "metadata": {},
   "source": [
    "##### Добавление нового блока"
   ]
  },
  {
   "cell_type": "markdown",
   "metadata": {},
   "source": [
    "Создание бока"
   ]
  },
  {
   "cell_type": "code",
   "execution_count": 14,
   "metadata": {
    "collapsed": false
   },
   "outputs": [],
   "source": [
    "from math_space.pde.regions import BoundRegion, EquationRegion\n",
    "from envs.hs.block.side.side_main import SideNet as Side\n",
    "from envs.hs.block.block_size import BlockSize\n",
    "from envs.hs.block.block_main import BlockNet as Block\n",
    "\n",
    "# add side 0\n",
    "b00 = BoundRegion(BoundNumber=0, Side=0, dim=2,\n",
    "                  xfrom=0, xto=0.5, yfrom=0, yto=0.5)\n",
    "b01 = BoundRegion(BoundNumber=1, Side=0, dim=2,\n",
    "                  xfrom=0.5, xto=1, yfrom=0, yto=0.5)\n",
    "s0 = Side(0, bRegions=[b00, b01])\n",
    "\n",
    "# add side 1\n",
    "b10 = BoundRegion(BoundNumber=0, dim=2, Side=1,\n",
    "                  xfrom=0, xto=0.5, yfrom=0, yto=0.5)\n",
    "b11 = BoundRegion(BoundNumber=1, dim=2, Side=1,\n",
    "                  xfrom=0.5, xto=1, yfrom=0, yto=0.5)\n",
    "s1 = Side(1, bRegions=[b10, b11])\n",
    "\n",
    "# add side 2\n",
    "b20 = BoundRegion(BoundNumber=0, dim=2, Side=2,\n",
    "                  xfrom=0, xto=0.5, yfrom=0, yto=0.5)\n",
    "b21 = BoundRegion(BoundNumber=1, dim=2, Side=2,\n",
    "                  xfrom=0.5, xto=1, yfrom=0, yto=0.5)\n",
    "s2 = Side(2, bRegions=[b20, b21])\n",
    "\n",
    "# add side 3\n",
    "b30 = BoundRegion(BoundNumber=0, dim=2, Side=3,\n",
    "                  xfrom=0, xto=0.5, yfrom=0, yto=0.5)\n",
    "b31 = BoundRegion(BoundNumber=1, dim=2, Side=3,\n",
    "                  xfrom=0.5, xto=1, yfrom=0, yto=0.5)\n",
    "s3 = Side(3, bRegions=[b30, b31])\n",
    "\n",
    "# add eq region:\n",
    "e0 = EquationRegion(dim=2, EquationNumber=1,\n",
    "                    xfrom=0.1, xto=0.2,\n",
    "                    yfrom=0.1, yto=0.2)\n",
    "\n",
    "# add size of block:\n",
    "size = BlockSize()\n",
    "size.set_default(dimension=2)\n",
    "\n",
    "# create block:\n",
    "b = Block(name=\"Block 1\", size=size, sides=[s0, s1, s2, s3],\n",
    "          eRegions=[e0])\n"
   ]
  },
  {
   "cell_type": "markdown",
   "metadata": {},
   "source": [
    "Добавление нового блока"
   ]
  },
  {
   "cell_type": "code",
   "execution_count": 15,
   "metadata": {
    "collapsed": false
   },
   "outputs": [],
   "source": [
    "m.editor.add_block(b)"
   ]
  },
  {
   "cell_type": "code",
   "execution_count": 16,
   "metadata": {
    "collapsed": false
   },
   "outputs": [
    {
     "data": {
      "text/plain": [
       "1"
      ]
     },
     "execution_count": 16,
     "metadata": {},
     "output_type": "execute_result"
    }
   ],
   "source": [
    "b.num"
   ]
  },
  {
   "cell_type": "markdown",
   "metadata": {},
   "source": [
    "##### Добавление нового интерконнекта"
   ]
  },
  {
   "cell_type": "code",
   "execution_count": 17,
   "metadata": {
    "collapsed": true
   },
   "outputs": [],
   "source": [
    "from envs.hs.interconnect.ic_main import icMain as Interconnect\n",
    "\n",
    "ic = Interconnect(\"1\", model=m,\n",
    "                  blockNumber1=0, blockNumber2=1,\n",
    "                  block1Side=0, block2Side=1)"
   ]
  },
  {
   "cell_type": "code",
   "execution_count": 18,
   "metadata": {
    "collapsed": false
   },
   "outputs": [
    {
     "data": {
      "text/plain": [
       "1"
      ]
     },
     "execution_count": 18,
     "metadata": {},
     "output_type": "execute_result"
    }
   ],
   "source": [
    "len(m.interconnects)"
   ]
  },
  {
   "cell_type": "code",
   "execution_count": 19,
   "metadata": {
    "collapsed": false
   },
   "outputs": [
    {
     "name": "stdout",
     "output_type": "stream",
     "text": [
      "b1: [30.0, 80.0]\n",
      "b2: [10.0, 10.0]\n",
      "s: [60.0, 160.0]\n",
      "case 0: block1Side 0, block2Side 1\n",
      "orign_1: [0, 0]\n",
      "orign_2: [-10.0, 40.0]\n"
     ]
    },
    {
     "data": {
      "image/png": "[encoded data removed]",
      "text/plain": [
       "<matplotlib.figure.Figure at 0x7f04d9f2a2b0>"
      ]
     },
     "metadata": {},
     "output_type": "display_data"
    }
   ],
   "source": [
    "ic.plotter.plot().show()"
   ]
  },
  {
   "cell_type": "code",
   "execution_count": null,
   "metadata": {
    "collapsed": true
   },
   "outputs": [],
   "source": []
  }
 ],
 "metadata": {
  "kernelspec": {
   "display_name": "Python 3",
   "language": "python",
   "name": "python3"
  },
  "language_info": {
   "codemirror_mode": {
    "name": "ipython",
    "version": 3
   },
   "file_extension": ".py",
   "mimetype": "text/x-python",
   "name": "python",
   "nbconvert_exporter": "python",
   "pygments_lexer": "ipython3",
   "version": "3.6.0"
  }
 },
 "nbformat": 4,
 "nbformat_minor": 2
}
