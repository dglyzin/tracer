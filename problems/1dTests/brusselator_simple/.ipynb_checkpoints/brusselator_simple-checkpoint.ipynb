{
 "cells": [
  {
   "cell_type": "code",
   "execution_count": 1,
   "metadata": {
    "collapsed": false
   },
   "outputs": [
    {
     "name": "stdout",
     "output_type": "stream",
     "text": [
      "/home/valdecar/Documents/projects/projectsNew/lab/hybriddomain/\n",
      "/home/valdecar/Documents/projects/projectsNew/lab/hybriddomain/spaces/math_space/common\n"
     ]
    }
   ],
   "source": [
    "import os\n",
    "import sys\n",
    "import inspect\n",
    "currentdir = os.path.dirname(os.path.abspath(inspect.getfile(inspect.currentframe())))\n",
    "parentdir = os.path.dirname(currentdir)\n",
    "folder = \"problems\"\n",
    "hd_dir = currentdir.split(folder)[0]\n",
    "\n",
    "if hd_dir not in sys.path:\n",
    "    sys.path.insert(0, hd_dir)\n",
    "\n",
    "# from env.equation.equation import Equation\n",
    "print(hd_dir)\n",
    "\n",
    "env_dir = os.path.join(hd_dir, 'spaces', 'math_space', 'common')\n",
    "print(env_dir)\n",
    "\n",
    "if env_dir not in sys.path:\n",
    "    sys.path.insert(0, env_dir)"
   ]
  },
  {
   "cell_type": "code",
   "execution_count": 2,
   "metadata": {
    "collapsed": true
   },
   "outputs": [],
   "source": [
    "import ipywidgets as widgets\n",
    "from IPython.display import display, clear_output, HTML"
   ]
  },
  {
   "cell_type": "code",
   "execution_count": 3,
   "metadata": {
    "collapsed": true
   },
   "outputs": [],
   "source": [
    "from envs.hs.model.model_main import ModelNet as Model\n",
    "from settings.settings_main import Settings"
   ]
  },
  {
   "cell_type": "markdown",
   "metadata": {},
   "source": [
    "### Add model, connection and device to settings: "
   ]
  },
  {
   "cell_type": "code",
   "execution_count": 4,
   "metadata": {
    "collapsed": false
   },
   "outputs": [
    {
     "name": "stderr",
     "output_type": "stream",
     "text": [
      "INFO:block_main.block_io:DefaultBound not set\n"
     ]
    },
    {
     "name": "stdout",
     "output_type": "stream",
     "text": [
      "Please enter password for user valdecar:\n",
      "········\n"
     ]
    }
   ],
   "source": [
    "# make settings:\n",
    "prefix = hd_dir\n",
    "modelFileName = '../../../problems/1dTests/brusselator_simple'\n",
    "model_path = '1dTests/brusselator_simple'\n",
    "conn_name = \"conn_base\"\n",
    "device_conf_name = \"default\"\n",
    "\n",
    "model = Model()\n",
    "model.io.loadFromFile(modelFileName)\n",
    "\n",
    "settings =  Settings(model, conn_name, device_conf_name, hd_prefix=prefix)\n"
   ]
  },
  {
   "cell_type": "code",
   "execution_count": 5,
   "metadata": {
    "collapsed": false
   },
   "outputs": [
    {
     "data": {
      "text/plain": [
       "{'cpp': '/home/valdecar/projects/lab/problems/../../../1dTests/brusselator_simple/out/brusselator_simple.cpp',\n",
       " 'device_conf': '/home/valdecar/projects/lab/hybriddomain/settings/device_conf',\n",
       " 'dom_bin': '/home/valdecar/projects/lab/problems/../../../1dTests/brusselator_simple/out/brusselator_simple.dom',\n",
       " 'hd': '/home/valdecar/projects/lab/hybriddomain',\n",
       " 'json': '/home/valdecar/projects/lab/problems/../../../1dTests/brusselator_simple/brusselator_simple.json',\n",
       " 'out_folder': '/home/valdecar/projects/lab/problems/../../../1dTests/brusselator_simple/out',\n",
       " 'pathes': '/home/valdecar/projects/lab/hybriddomain/settings/pathes',\n",
       " 'plot': '/home/valdecar/projects/lab/problems/../../../1dTests/brusselator_simple/out/params_plot.txt',\n",
       " 'postproc': '/home/valdecar/projects/lab/hybriddomain/solvers/hs/postproc/video/postprocessor.py',\n",
       " 'project_path': '/home/valdecar/projects/lab/problems/../../../1dTests/brusselator_simple',\n",
       " 'sh': '/home/valdecar/projects/lab/problems/../../../1dTests/brusselator_simple/out/brusselator_simple.sh',\n",
       " 'solver': '/home/valdecar/projects/lab/hybridsolver/bin/HS'}"
      ]
     },
     "execution_count": 5,
     "metadata": {},
     "output_type": "execute_result"
    }
   ],
   "source": [
    "settings.pathes['hs']"
   ]
  },
  {
   "cell_type": "markdown",
   "metadata": {},
   "source": [
    "### Progress:"
   ]
  },
  {
   "cell_type": "code",
   "execution_count": 6,
   "metadata": {
    "collapsed": true
   },
   "outputs": [],
   "source": [
    "from solvers.hs.remoterun.progresses.progress_notebook import ProgressNotebook"
   ]
  },
  {
   "cell_type": "code",
   "execution_count": 7,
   "metadata": {
    "collapsed": true
   },
   "outputs": [],
   "source": [
    "progress = ProgressNotebook(100, prefix='solving')\n",
    "display(progress.progress)"
   ]
  },
  {
   "cell_type": "markdown",
   "metadata": {},
   "source": [
    "### Run solver:"
   ]
  },
  {
   "cell_type": "code",
   "execution_count": 8,
   "metadata": {
    "collapsed": true
   },
   "outputs": [],
   "source": [
    "from solvers.hs.remoterun.remoterun import remoteProjectRun"
   ]
  },
  {
   "cell_type": "code",
   "execution_count": 10,
   "metadata": {
    "collapsed": false
   },
   "outputs": [
    {
     "name": "stderr",
     "output_type": "stream",
     "text": [
      "INFO:remoterun:project_name\n",
      "INFO:remoterun:brusselator_simple\n",
      "INFO:paramiko.transport:Connected (version 2.0, client OpenSSH_7.2)\n",
      "INFO:paramiko.transport:Authentication (keyboard-interactive) successful!\n",
      "INFO:remoterun:Checking if folder ~/projects/lab/hybriddomain/problems exists...\n",
      "INFO:remoterun:Workspace OK.\n",
      "INFO:remoterun:Creating/cleaning project folder: \n",
      "INFO:remoterun:Folder cleaned.\n",
      "INFO:remoterun:hs_json fixed:\n",
      "INFO:remoterun:/home/valdecar/projects/lab/hybriddomain/problems/1dTests/brusselator_simple/brusselator_simple.json\n",
      "INFO:paramiko.transport.sftp:[chan 4] Opened sftp connection (server version 3)\n",
      "INFO:remoterun:hd_json:\n",
      "INFO:remoterun:/home/valdecar/Documents/projects/projectsNew/lab/hybriddomain/problems/1dTests/brusselator_simple/brusselator_simple.json\n",
      "INFO:paramiko.transport.sftp:[chan 4] sftp session closed.\n",
      "INFO:remoterun:hs_dev_conf fixed:\n",
      "INFO:remoterun:/home/valdecar/projects/lab/hybriddomain/settings/device_conf\n",
      "INFO:remoterun:hd_dev_conf fixed:\n",
      "INFO:remoterun:/home/valdecar/Documents/projects/projectsNew/lab/hybriddomain/settings/device_conf\n",
      "INFO:paramiko.transport.sftp:[chan 5] Opened sftp connection (server version 3)\n",
      "INFO:remoterun:copy device_conf files:\n",
      "INFO:remoterun:copy /home/valdecar/Documents/projects/projectsNew/lab/hybriddomain/settings/device_conf/default.json\n",
      "INFO:remoterun:to /home/valdecar/projects/lab/hybriddomain/settings/device_conf/default.json\n",
      "INFO:paramiko.transport.sftp:[chan 5] sftp session closed.\n",
      "INFO:remoterun:finished copy device_conf files\n",
      "INFO:remoterun:\n",
      "Running preprocessor:\n",
      "INFO:remoterun:hs_hd fixed:\n",
      "INFO:remoterun:/home/valdecar/projects/lab/hybriddomain\n",
      "INFO:remoterun:hs_dev_conf fixed:\n",
      "INFO:remoterun:/home/valdecar/projects/lab/hybriddomain/settings/device_conf\n",
      "INFO:remoterun:command:\n",
      "INFO:remoterun:cd /home/valdecar/projects/lab/hybriddomain && pwd && python3 -m gens.hs.tests.tests_gen_1d -t brusselator_simple -d default\n",
      "INFO:remoterun:finally\n",
      "INFO:remoterun:b'/home/valdecar/projects/lab/hybriddomain\\n'\n",
      "INFO:remoterun:jsontobin stderr:\n",
      "INFO:remoterun:b\"DEBUG:tests.tester.side_main:bRegions\\nDEBUG:tests.tester.side_main:[]\\nDEBUG:tests.tester.side_separator:FROM split_side\\nDEBUG:tests.tester.side_separator:eRegionsForSide\\nDEBUG:tests.tester.side_separator:[]\\nDEBUG:tests.tester.side_separator:bRegionsForSide\\nDEBUG:tests.tester.side_separator:[]\\nDEBUG:tests.tester.side_separator:bIntervals\\nDEBUG:tests.tester.side_separator:[[0.0, 1.0]]\\nDEBUG:tests.tester.side_separator:eIntervals\\nDEBUG:tests.tester.side_separator:[]\\nDEBUG:tests.tester.side_separator:for side\\nDEBUG:tests.tester.side_separator:2\\nDEBUG:tests.tester.side_separator:oIntervals\\nDEBUG:tests.tester.side_separator:[[0.0, 1.0]]\\nINFO:tests.tester.block_io:DefaultBound not set\\nDEBUG:init_funcs_nums.py:Used for init nums defaultInitial:\\nDEBUG:init_funcs_nums.py:[0]\\nDEBUG:init_funcs_nums.py:Used for init nums initial region:\\nDEBUG:init_funcs_nums.py:[0]\\nDEBUG:init_funcs_nums.py:Used for init nums dirichlet bound regions:\\nDEBUG:init_funcs_nums.py:[]\\nDEBUG:initials_cpp.py:block.initials:\\nDEBUG:initials_cpp.py:[<math_space.pde.initial.Initial object at 0x7f49a55546a0>]\\nDEBUG:initials_cpp.py:initial.parsedValues:\\nDEBUG:initials_cpp.py:['10.0 * x', '10.0 * sin(x)']\\nDEBUG:tests.tester.cent_common:parsedValues\\nDEBUG:tests.tester.cent_common:['result[idx + 0]=params[0]+source[delay][idx + 0]*source[delay][idx + 0]*source[delay][idx + 1]-(params[1]+1)*source[delay][idx + 0]+params[2]*((DXM2 * (source[delay][idx + 1 * Block0StrideX * Block0CELLSIZE + 0] - 2.0 * source[delay][idx + 0 * Block0StrideX * Block0CELLSIZE + 0] + source[delay][idx-1 * Block0StrideX * Block0CELLSIZE + 0])))', 'result[idx + 1]=params[1]*source[delay][idx + 0]-source[delay][idx + 0]*source[delay][idx + 0]*source[delay][idx + 1]+params[2]*((DXM2 * (source[delay][idx + 1 * Block0StrideX * Block0CELLSIZE + 1] - 2.0 * source[delay][idx + 0 * Block0StrideX * Block0CELLSIZE + 1] + source[delay][idx-1 * Block0StrideX * Block0CELLSIZE + 1])))']\\nDEBUG:tests.tester.cent_common:blockNumber revSp=0\\nDEBUG:postproc.py:FROM postproc\\nDEBUG:postproc.py:res\\nDEBUG:postproc.py:{}\\nDEBUG:postproc.py:map_td\\nDEBUG:postproc.py:{}\\nINFO:tests.tester.gen_1d:delays:\\nINFO:tests.tester.gen_1d:{}\\nDEBUG:tests.tester.cent_common:parsedValues\\nDEBUG:tests.tester.cent_common:['result[idx + 0]=params[0]+source[delay][idx + 0]*source[delay][idx + 0]*source[delay][idx + 1]-(params[1]+1)*source[delay][idx + 0]+params[2]*((DXM2 * (source[delay][idx + 1 * Block0StrideX * Block0CELLSIZE + 0] - 2.0 * source[delay][idx + 0 * Block0StrideX * Block0CELLSIZE + 0] + source[delay][idx-1 * Block0StrideX * Block0CELLSIZE + 0])))', 'result[idx + 1]=params[1]*source[delay][idx + 0]-source[delay][idx + 0]*source[delay][idx + 0]*source[delay][idx + 1]+params[2]*((DXM2 * (source[delay][idx + 1 * Block0StrideX * Block0CELLSIZE + 1] - 2.0 * source[delay][idx + 0 * Block0StrideX * Block0CELLSIZE + 1] + source[delay][idx-1 * Block0StrideX * Block0CELLSIZE + 1])))']\\nDEBUG:tests.tester.cent_common:blockNumber revSp=0\\nDEBUG:tests.tester.gen_1d:funcNamesStack after cent:\\nDEBUG:tests.tester.gen_1d:['Block0CentralFunction_Eqn0']\\nDEBUG:tests.tester.gen_1d:funcNamesStack after ics:\\nDEBUG:tests.tester.gen_1d:['Block0CentralFunction_Eqn0']\\nDEBUG:tests.tester.gen_1d:funcNamesStack after bounds:\\nDEBUG:tests.tester.gen_1d:['Block0CentralFunction_Eqn0', 'Block0DefaultNeumann__side0__Eqn0', 'Block0DefaultNeumann__side1__Eqn0']\\nDEBUG:tests.tester.gen_1d:funcNamesStack after set:\\nDEBUG:tests.tester.gen_1d:['Block0CentralFunction_Eqn0', 'Block0DefaultNeumann__side0__Eqn0', 'Block0DefaultNeumann__side1__Eqn0']\\nDEBUG:tests.tester.gen_1d:namesAndNumbers after array:\\nDEBUG:tests.tester.gen_1d:{0: ['Block0CentralFunction_Eqn0', 'Block0DefaultNeumann__side0__Eqn0', 'Block0DefaultNeumann__side1__Eqn0']}\\nDEBUG:tests.tester.bounds_common_dom:funcName=Block0DefaultNeumann__side0__Eqn0 \\nDEBUG:tests.tester.bounds_common_dom:sideName, idx= side0, 1 \\nDEBUG:tests.tester.bounds_common_dom:funcName=Block0DefaultNeumann__side1__Eqn0 \\nDEBUG:tests.tester.bounds_common_dom:sideName, idx= side1, 2 \\nDEBUG:tests.tester.ics_dom:len(ics) = 0\\nINFO:tests.tester.filler_main:filling arrays...\\nINFO:blocks_filler_main:Welcome to Blocks Data filler\\nDEBUG:blocks_filler_main:following is the function mapping\\nDEBUG:blocks_filler_main:{0: {'center': [], 'center_default': 0, 'side0': 1, 'side1': 2}}\\nDEBUG:blocks_filler_main:Saving block\\nDEBUG:blocks_filler_main:0\\nINFO:blocks_filler_main:1. Fill block params\\nDEBUG:blocks_filler_main:blockPropArr\\nDEBUG:blocks_filler_main:[   0    0    0    0 1001]\\nINFO:blocks_filler_main:2. Fill block functions\\nINFO:blocks_filler_1d:Filling 1d initial function array.\\nDEBUG:init_funcs_nums.py:Used for init nums defaultInitial:\\nDEBUG:init_funcs_nums.py:[0]\\nDEBUG:init_funcs_nums.py:Used for init nums initial region:\\nDEBUG:init_funcs_nums.py:[0]\\nDEBUG:init_funcs_nums.py:Used for init nums dirichlet bound regions:\\nDEBUG:init_funcs_nums.py:[]\\nINFO:blocks_filler_1d:1 fill default conditions\\nINFO:blocks_filler_1d:2 fill user-defined conditions:\\nINFO:blocks_filler_1d:3 overwrite with values that come from Dirichlet bounds\\nINFO:blocks_filler_1d:3.1 collect dirichlet bound numbersthat are used in this block\\nINFO:blocks_filler_1d:3.2 fill them\\nDEBUG:blocks_filler_main:Initial function indices:\\nDEBUG:blocks_filler_main:[0 0 0 ..., 0 0 0]\\nINFO:blocks_filler_1d:Filling 1d main function array.\\nDEBUG:blocks_filler_1d:Function mapping for this block:\\nDEBUG:blocks_filler_1d:{'center': [], 'center_default': 0, 'side0': 1, 'side1': 2}\\nDEBUG:blocks_filler_1d:size:\\nDEBUG:blocks_filler_1d:1001\\nINFO:blocks_filler_1d:1 fill center funcs\\nINFO:blocks_filler_1d:2 fill edges\\nDEBUG:blocks_filler_main:Computation function indices:\\nDEBUG:blocks_filler_main:[1 0 0 ..., 0 0 2]\\nINFO:tests.tester.ics_filler_main:saving 0 ics\\nDEBUG:tests.tester.fiocr_main:FROM make_gcc_so\\nDEBUG:tests.tester.fiocr_main:cmd = ['gcc', 'problems/1dTests/brusselator_simple/out/brusselator_simple.cpp', '-shared', '-O3', '-o', 'problems/1dTests/brusselator_simple/out/libuserfuncs.so', '-fPIC']\\nINFO:tests.tester.filler_main:saving domain...\\nDEBUG:tests.tester.filler_plot:plot periods: [4]\\nDEBUG:tests.tester.filler_plot:result periods: [ 0.1  0.1  0.1  0.1]\\nINFO:tests.tester.gen_sh:generating launcher script...\\n\"\n",
      "INFO:remoterun:stderr END\n",
      "INFO:remoterun:Checking if solver executable at ~/projects/lab/hybridsolver/bin/HS exists...\n",
      "INFO:remoterun:Solver executable found.\n",
      "INFO:remoterun:09-03 13:46:24 Performance (10^6): 218.745\n",
      "\n",
      "INFO:remoterun:b''\n",
      "INFO:remoterun:b''\n",
      "INFO:remoterun:Downloading results...\n",
      "INFO:remoterun:hs_out_folder fixed:\n",
      "INFO:remoterun:/home/valdecar/projects/lab/hybriddomain/problems/1dTests/brusselator_simple/out\n",
      "INFO:paramiko.transport.sftp:[chan 9] Opened sftp connection (server version 3)\n",
      "INFO:paramiko.transport.sftp:[chan 9] sftp session closed.\n",
      "INFO:remoterun:Done!\n"
     ]
    }
   ],
   "source": [
    "clear_output()\n",
    "test_name = settings.pathes['model']['name']\n",
    "bTest = widgets.Button(description=\"run %s \" % (test_name))\n",
    "def run(event):\n",
    "    remoteProjectRun(settings, 1, progress)\n",
    "bTest.on_click(run)\n",
    "display(progress.progress)\n",
    "display(bTest)\n",
    "display(progress.progress)"
   ]
  },
  {
   "cell_type": "markdown",
   "metadata": {},
   "source": [
    "### Results:"
   ]
  },
  {
   "cell_type": "code",
   "execution_count": 11,
   "metadata": {
    "collapsed": true
   },
   "outputs": [],
   "source": [
    "out_dir = os.path.join(hd_dir, 'problems', model_path, \"out\")\n",
    "listdir = os.listdir(out_dir)\n",
    "mp4 = [os.path.join(out_dir, file_name) for file_name in listdir\n",
    "       if 'mp4' in file_name]"
   ]
  },
  {
   "cell_type": "markdown",
   "metadata": {},
   "source": [
    "##### .out:"
   ]
  },
  {
   "cell_type": "code",
   "execution_count": 13,
   "metadata": {
    "collapsed": false
   },
   "outputs": [
    {
     "name": "stdout",
     "output_type": "stream",
     "text": [
      "['brusselator_simple_dom.txt', 'brusselator_simple-res0.out', 'brusselator_simple.dom', 'params_plot.txt', 'libuserfuncs.so', 'brusselator_simple.sh', 'userfuncs.h', 'brusselator_simple-plot1.mp4', 'brusselator_simple-res1.out', 'brusselator_simple-plot0.mp4', 'brusselator_simple.cpp']\n",
      "['/home/valdecar/Documents/projects/projectsNew/lab/hybriddomain/problems/1dTests/brusselator_simple/out/brusselator_simple-res0.out', '/home/valdecar/Documents/projects/projectsNew/lab/hybriddomain/problems/1dTests/brusselator_simple/out/brusselator_simple-res1.out']\n"
     ]
    }
   ],
   "source": [
    "print(listdir)\n",
    "\n",
    "outs = [os.path.join(out_dir, file_name)\n",
    "        for file_name in listdir\n",
    "        if '.out' in file_name]\n",
    "print(outs)\n",
    "with open(outs[0]) as f:\n",
    "    data = f.read()\n"
   ]
  },
  {
   "cell_type": "code",
   "execution_count": 14,
   "metadata": {
    "collapsed": true
   },
   "outputs": [],
   "source": [
    "lines = data.split('\\n')\n",
    "result = {}\n",
    "\n",
    "for line in lines:\n",
    "    if ':' in line:\n",
    "        key, val = line.split(':')\n",
    "        result[key]=val[1:]\n",
    "    else:\n",
    "        val = line\n",
    "        result[key] += val"
   ]
  },
  {
   "cell_type": "code",
   "execution_count": 15,
   "metadata": {
    "collapsed": true
   },
   "outputs": [],
   "source": [
    "import re"
   ]
  },
  {
   "cell_type": "code",
   "execution_count": 35,
   "metadata": {
    "collapsed": true
   },
   "outputs": [],
   "source": [
    "def gen(reuslt):\n",
    "    for key in reuslt:\n",
    "        step_0_0 = result[key].replace('...,',\"\")\n",
    "        step_0_1 = re.subn(r'\\[\\s+',\"[\",step_0_0)[0]\n",
    "        step_0 = re.subn(r'\\.\\s+',\".0,\",step_0_1)[0]\n",
    "        step_1 = re.subn(r'\\s+',\",\",step_0)[0]\n",
    "        step_2 = step_1.replace('.]','.0]')\n",
    "        \n",
    "        yield((key, eval(step_2)))"
   ]
  },
  {
   "cell_type": "code",
   "execution_count": 36,
   "metadata": {
    "collapsed": false
   },
   "outputs": [],
   "source": [
    "result_t = dict([(float(key), val) for key, val in gen(result)])\n",
    "time = [key for key in result_t]\n",
    "result_x = np.array([result_t[key] for key in result_t]).T"
   ]
  },
  {
   "cell_type": "code",
   "execution_count": 37,
   "metadata": {
    "collapsed": true
   },
   "outputs": [],
   "source": [
    "import numpy as np\n",
    "import matplotlib.pyplot as plt\n",
    "from ipywidgets import interactive"
   ]
  },
  {
   "cell_type": "markdown",
   "metadata": {},
   "source": [
    "##### U(x-fixed, t):"
   ]
  },
  {
   "cell_type": "code",
   "execution_count": 43,
   "metadata": {
    "collapsed": false
   },
   "outputs": [
    {
     "data": {
      "image/png": "[encoded data removed]",
      "text/plain": [
       "<matplotlib.figure.Figure at 0x7f912039b278>"
      ]
     },
     "metadata": {},
     "output_type": "display_data"
    }
   ],
   "source": [
    "%matplotlib inline\n",
    "def f(x):\n",
    "    plt.plot(time, result_x[x])\n",
    "w = interactive(f,x=(0,5,1))\n",
    "display(w)"
   ]
  },
  {
   "cell_type": "code",
   "execution_count": 42,
   "metadata": {
    "collapsed": false
   },
   "outputs": [
    {
     "data": {
      "text/plain": [
       "array([[  0.00000000e+00,   2.06940070e-01,   2.81882260e-01, ...,\n",
       "          9.95086190e-01,   9.93937430e-01,   9.92861500e-01],\n",
       "       [  1.00000000e-02,   2.07092350e-01,   2.81968170e-01, ...,\n",
       "          9.95086210e-01,   9.93937450e-01,   9.92861520e-01],\n",
       "       [  2.00000000e-02,   2.07548850e-01,   2.82225810e-01, ...,\n",
       "          9.95086290e-01,   9.93937530e-01,   9.92861590e-01],\n",
       "       [  9.98000000e+00,   1.64705428e+01,   1.49028631e+01, ...,\n",
       "          1.00563151e+00,   1.00412596e+00,   1.00259925e+00],\n",
       "       [  9.99000000e+00,   1.64713898e+01,   1.49034085e+01, ...,\n",
       "          1.00563158e+00,   1.00412604e+00,   1.00259932e+00],\n",
       "       [  1.00000000e+01,   1.64716723e+01,   1.49035904e+01, ...,\n",
       "          1.00563161e+00,   1.00412606e+00,   1.00259934e+00]])"
      ]
     },
     "execution_count": 42,
     "metadata": {},
     "output_type": "execute_result"
    }
   ],
   "source": [
    "result_x"
   ]
  },
  {
   "cell_type": "code",
   "execution_count": null,
   "metadata": {
    "collapsed": true
   },
   "outputs": [],
   "source": []
  }
 ],
 "metadata": {
  "kernelspec": {
   "display_name": "Python 3",
   "language": "python",
   "name": "python3"
  },
  "language_info": {
   "codemirror_mode": {
    "name": "ipython",
    "version": 3
   },
   "file_extension": ".py",
   "mimetype": "text/x-python",
   "name": "python",
   "nbconvert_exporter": "python",
   "pygments_lexer": "ipython3",
   "version": "3.6.0"
  }
 },
 "nbformat": 4,
 "nbformat_minor": 2
}
