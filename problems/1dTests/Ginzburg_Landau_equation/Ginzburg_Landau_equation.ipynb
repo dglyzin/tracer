{
 "cells": [
  {
   "cell_type": "markdown",
   "metadata": {},
   "source": [
    "### Fix pathes for import:"
   ]
  },
  {
   "cell_type": "code",
   "execution_count": 1,
   "metadata": {},
   "outputs": [
    {
     "name": "stdout",
     "output_type": "stream",
     "text": [
      "/home/valdecar/Documents/projects/projectsNew/lab/hybriddomain/\n",
      "/home/valdecar/Documents/projects/projectsNew/lab/hybriddomain/spaces/math_space/common\n"
     ]
    }
   ],
   "source": [
    "import os\n",
    "import sys\n",
    "import inspect\n",
    "currentdir = os.path.dirname(os.path.abspath(inspect.getfile(inspect.currentframe())))\n",
    "parentdir = os.path.dirname(currentdir)\n",
    "folder = \"problems\"\n",
    "hd_dir = currentdir.split(folder)[0]\n",
    "\n",
    "if hd_dir not in sys.path:\n",
    "    sys.path.insert(0, hd_dir)\n",
    "\n",
    "# from env.equation.equation import Equation\n",
    "print(hd_dir)\n",
    "\n",
    "env_dir = os.path.join(hd_dir, 'spaces', 'math_space', 'common')\n",
    "print(env_dir)\n",
    "\n",
    "if env_dir not in sys.path:\n",
    "    sys.path.insert(0, env_dir)"
   ]
  },
  {
   "cell_type": "code",
   "execution_count": 2,
   "metadata": {
    "collapsed": true
   },
   "outputs": [],
   "source": [
    "import ipywidgets as widgets\n",
    "from IPython.display import display, clear_output, HTML"
   ]
  },
  {
   "cell_type": "markdown",
   "metadata": {},
   "source": [
    "### Import model class:"
   ]
  },
  {
   "cell_type": "code",
   "execution_count": 3,
   "metadata": {},
   "outputs": [],
   "source": [
    "from envs.hs.model.model_main import ModelNet as Model\n",
    "from settings.settings_main import Settings"
   ]
  },
  {
   "cell_type": "markdown",
   "metadata": {},
   "source": [
    "### Add model, connection and device to settings: "
   ]
  },
  {
   "cell_type": "code",
   "execution_count": 4,
   "metadata": {},
   "outputs": [
    {
     "name": "stdout",
     "output_type": "stream",
     "text": [
      "Please enter password for user valdecar:\n",
      "········\n"
     ]
    },
    {
     "name": "stderr",
     "output_type": "stream",
     "text": [
      "INFO:settings_main:device_conf_name\n",
      "INFO:settings_main:default\n"
     ]
    }
   ],
   "source": [
    "# make settings:\n",
    "prefix = hd_dir\n",
    "modelFileName = '../../../problems/1dTests/Ginzburg_Landau_equation'\n",
    "modelFileName_json = os.path.join(modelFileName,\"Ginzburg_Landau_equation.json\")\n",
    "model_path = '1dTests/Ginzburg_Landau_equation'\n",
    "conn_name = \"conn_base\"\n",
    "device_conf_name = \"default\"\n",
    "\n",
    "model = Model()\n",
    "model.io.loadFromFile(modelFileName)\n",
    "\n",
    "settings =  Settings(model, conn_name, device_conf_name, \"paths_hs_base\", hd_prefix=prefix)\n"
   ]
  },
  {
   "cell_type": "code",
   "execution_count": 5,
   "metadata": {},
   "outputs": [
    {
     "name": "stdout",
     "output_type": "stream",
     "text": [
      "equations:\n",
      "[[\"U'=a*U+b*U*((U)^2+(V)^2)+c*D[U,{x,2}]\", \"V'=a*V+b*V*((U)^2+(V)^2)+c*D[V,{x,2}]\"]]\n",
      "params:\n",
      "['a', 'b', 'c']\n",
      "paramValues:\n",
      "[{'b': 0.0001, 'c': 0.001, 'a': 0.01}, {'b': -0.0001, 'c': 0.001, 'a': 0.01}, {'b': 1e-05, 'c': 0.001, 'a': 0.01}, {'b': -1e-05, 'c': 0.001, 'a': 0.01}, {'b': 3e-05, 'c': 0.001, 'a': 0.01}, {'b': -3e-05, 'c': 0.001, 'a': 0.01}, {'b': 3e-05, 'c': -0.001, 'a': 0.01}]\n"
     ]
    }
   ],
   "source": [
    "# settings.paths['hs']\n",
    "# block = model.blocks[0]\n",
    "# block.vertexs['[0]']\n",
    "\n",
    "print(\"equations:\")\n",
    "print(model.equations)\n",
    "print(\"params:\")\n",
    "print(model.params)\n",
    "print(\"paramValues:\")\n",
    "print(model.paramValues)\n"
   ]
  },
  {
   "cell_type": "markdown",
   "metadata": {},
   "source": [
    "### Progress:"
   ]
  },
  {
   "cell_type": "code",
   "execution_count": 6,
   "metadata": {},
   "outputs": [],
   "source": [
    "from solvers.hs.remoterun.progresses.progress_notebook import ProgressNotebook\n",
    "from solvers.hs.postproc.results.results_main import ResultPostprocNet as ResultPostproc\n"
   ]
  },
  {
   "cell_type": "code",
   "execution_count": 7,
   "metadata": {},
   "outputs": [],
   "source": [
    "progress_params = ProgressNotebook(len(model.paramValues), prefix='param')\n",
    "# display(progress_params.progress)\n",
    "\n",
    "progress_solving = ProgressNotebook(100, prefix='solving')\n",
    "# display(progress_solving.progress)\n",
    "# progress_solving.succ(0)\n",
    "\n",
    "result_postproc = ResultPostproc(hd_dir, model_path)"
   ]
  },
  {
   "cell_type": "markdown",
   "metadata": {},
   "source": [
    "### Clear previous results:"
   ]
  },
  {
   "cell_type": "code",
   "execution_count": 8,
   "metadata": {},
   "outputs": [],
   "source": [
    "result_postproc.remove_out()"
   ]
  },
  {
   "cell_type": "markdown",
   "metadata": {},
   "source": [
    "### Run solver:"
   ]
  },
  {
   "cell_type": "code",
   "execution_count": 9,
   "metadata": {
    "collapsed": true
   },
   "outputs": [],
   "source": [
    "\n",
    "from solvers.hs.remoterun.remoterun import remoteProjectRun\n"
   ]
  },
  {
   "cell_type": "code",
   "execution_count": 10,
   "metadata": {},
   "outputs": [
    {
     "name": "stderr",
     "output_type": "stream",
     "text": [
      "INFO:remoterun:project_path\n",
      "INFO:remoterun:1dTests/Ginzburg_Landau_equation\n",
      "INFO:remoterun:project_name\n",
      "INFO:remoterun:Ginzburg_Landau_equation\n",
      "INFO:paramiko.transport:Connected (version 2.0, client OpenSSH_7.2)\n",
      "INFO:paramiko.transport:Authentication (keyboard-interactive) successful!\n",
      "INFO:remoterun:Checking if folder /home/valdecar/projects/lab/workspace exists...\n",
      "INFO:remoterun:Workspace OK.\n",
      "INFO:remoterun:Creating/cleaning project folder: \n",
      "INFO:remoterun:Folder cleaned.\n",
      "INFO:remoterun:Creating settings folders: \n",
      "INFO:remoterun:Checking if folder /home/valdecar/projects/lab/workspace/settings exists...\n",
      "INFO:remoterun:folder /home/valdecar/projects/lab/workspace/settings alredy exist\n",
      "INFO:remoterun:Checking if folder /home/valdecar/projects/lab/workspace/settings/paths exists...\n",
      "INFO:remoterun:folder /home/valdecar/projects/lab/workspace/settings/paths alredy exist\n",
      "INFO:remoterun:Checking if folder /home/valdecar/projects/lab/workspace/settings/device_conf exists...\n",
      "INFO:remoterun:folder /home/valdecar/projects/lab/workspace/settings/device_conf alredy exist\n",
      "INFO:remoterun:settings folders created\n",
      "INFO:paramiko.transport.sftp:[chan 7] Opened sftp connection (server version 3)\n",
      "INFO:remoterun:hd_json:\n",
      "INFO:remoterun:/home/valdecar/Documents/projects/projectsNew/lab/hybriddomain/problems/1dTests/Ginzburg_Landau_equation/Ginzburg_Landau_equation.json\n",
      "INFO:remoterun:hs_json:\n",
      "INFO:remoterun:/home/valdecar/projects/lab/workspace/problems/1dTests/Ginzburg_Landau_equation/Ginzburg_Landau_equation.json\n",
      "INFO:paramiko.transport.sftp:[chan 7] sftp session closed.\n",
      "INFO:remoterun:json copied\n",
      "INFO:paramiko.transport.sftp:[chan 8] Opened sftp connection (server version 3)\n",
      "INFO:remoterun:copy dev_conf files:\n",
      "INFO:remoterun:copy /home/valdecar/Documents/projects/projectsNew/lab/hybriddomain/settings/device_conf/default.json\n",
      "INFO:remoterun:to /home/valdecar/projects/lab/workspace/settings/device_conf/default.json\n",
      "INFO:remoterun:copy /home/valdecar/Documents/projects/projectsNew/lab/hybriddomain/settings/device_conf/ics_blocks_4.json\n",
      "INFO:remoterun:to /home/valdecar/projects/lab/workspace/settings/device_conf/ics_blocks_4.json\n",
      "INFO:remoterun:copy /home/valdecar/Documents/projects/projectsNew/lab/hybriddomain/settings/device_conf/ics_other.json\n",
      "INFO:remoterun:to /home/valdecar/projects/lab/workspace/settings/device_conf/ics_other.json\n",
      "INFO:paramiko.transport.sftp:[chan 8] sftp session closed.\n",
      "INFO:remoterun:finished copy dev_conf files\n",
      "INFO:paramiko.transport.sftp:[chan 9] Opened sftp connection (server version 3)\n",
      "INFO:remoterun:copy paths files:\n",
      "INFO:remoterun:copy /home/valdecar/Documents/projects/projectsNew/lab/hybriddomain/settings/paths/paths_hs_base.json\n",
      "INFO:remoterun:to /home/valdecar/projects/lab/workspace/settings/paths/paths_hs_base.json\n",
      "INFO:paramiko.transport.sftp:[chan 9] sftp session closed.\n",
      "INFO:remoterun:finished copy paths files\n",
      "INFO:remoterun:\n",
      "Running preprocessor:\n",
      "INFO:remoterun:command:\n",
      "INFO:remoterun:cd /home/valdecar/projects/lab/hybriddomain && pwd && python3 -m gens.hs.tests.tests_gen_1d -t /home/valdecar/projects/lab/workspace/problems/1dTests/Ginzburg_Landau_equation -d default -p paths_hs_base -w /home/valdecar/projects/lab/workspace -u valdecar\n",
      "INFO:remoterun:Checking if solver executable at /home/valdecar/projects/lab/hybridsolver/bin/HS exists...\n",
      "INFO:remoterun:Solver executable found.\n",
      "INFO:remoterun:03-26 09:26:04 Performance (10^6): 231.546\n",
      "\n",
      "INFO:remoterun:INFO:postproc.video:Creating images for block 0 value U\n",
      "\n",
      "INFO:remoterun:INFO:postproc.video:Creating images for block 0 value V\n",
      "\n",
      "INFO:remoterun:INFO:postproc.video:Creating video file: 0\n",
      "\n",
      "INFO:remoterun:INFO:postproc.video:Creating out file: 0-U\n",
      "\n",
      "INFO:remoterun:INFO:postproc.video:Creating out file: 0-V\n",
      "\n",
      "INFO:remoterun:Downloading results...\n",
      "INFO:remoterun:from:\n",
      "INFO:remoterun:/home/valdecar/projects/lab/workspace/problems/1dTests/Ginzburg_Landau_equation/out\n",
      "INFO:paramiko.transport.sftp:[chan 13] Opened sftp connection (server version 3)\n",
      "INFO:paramiko.transport.sftp:[chan 13] sftp session closed.\n",
      "INFO:remoterun:Done!\n"
     ]
    },
    {
     "name": "stdout",
     "output_type": "stream",
     "text": [
      "['/home/valdecar/Documents/projects/projectsNew/lab/hybriddomain/problems/1dTests/Ginzburg_Landau_equation/out/Ginzburg_Landau_equation-res0-V.out', '/home/valdecar/Documents/projects/projectsNew/lab/hybriddomain/problems/1dTests/Ginzburg_Landau_equation/out/Ginzburg_Landau_equation-res0-U.out']\n"
     ]
    },
    {
     "name": "stderr",
     "output_type": "stream",
     "text": [
      "INFO:remoterun:project_path\n",
      "INFO:remoterun:1dTests/Ginzburg_Landau_equation\n",
      "INFO:remoterun:project_name\n",
      "INFO:remoterun:Ginzburg_Landau_equation\n",
      "INFO:paramiko.transport:Connected (version 2.0, client OpenSSH_7.2)\n",
      "INFO:paramiko.transport:Authentication (keyboard-interactive) successful!\n",
      "INFO:remoterun:Checking if folder /home/valdecar/projects/lab/workspace exists...\n",
      "INFO:remoterun:Workspace OK.\n",
      "INFO:remoterun:Creating/cleaning project folder: \n",
      "INFO:remoterun:Folder cleaned.\n",
      "INFO:remoterun:Creating settings folders: \n",
      "INFO:remoterun:Checking if folder /home/valdecar/projects/lab/workspace/settings exists...\n",
      "INFO:remoterun:folder /home/valdecar/projects/lab/workspace/settings alredy exist\n",
      "INFO:remoterun:Checking if folder /home/valdecar/projects/lab/workspace/settings/paths exists...\n",
      "INFO:remoterun:folder /home/valdecar/projects/lab/workspace/settings/paths alredy exist\n",
      "INFO:remoterun:Checking if folder /home/valdecar/projects/lab/workspace/settings/device_conf exists...\n",
      "INFO:remoterun:folder /home/valdecar/projects/lab/workspace/settings/device_conf alredy exist\n",
      "INFO:remoterun:settings folders created\n",
      "INFO:paramiko.transport.sftp:[chan 7] Opened sftp connection (server version 3)\n",
      "INFO:remoterun:hd_json:\n",
      "INFO:remoterun:/home/valdecar/Documents/projects/projectsNew/lab/hybriddomain/problems/1dTests/Ginzburg_Landau_equation/Ginzburg_Landau_equation.json\n",
      "INFO:remoterun:hs_json:\n",
      "INFO:remoterun:/home/valdecar/projects/lab/workspace/problems/1dTests/Ginzburg_Landau_equation/Ginzburg_Landau_equation.json\n",
      "INFO:paramiko.transport.sftp:[chan 7] sftp session closed.\n",
      "INFO:remoterun:json copied\n",
      "INFO:paramiko.transport.sftp:[chan 8] Opened sftp connection (server version 3)\n",
      "INFO:remoterun:copy dev_conf files:\n",
      "INFO:remoterun:copy /home/valdecar/Documents/projects/projectsNew/lab/hybriddomain/settings/device_conf/default.json\n",
      "INFO:remoterun:to /home/valdecar/projects/lab/workspace/settings/device_conf/default.json\n",
      "INFO:remoterun:copy /home/valdecar/Documents/projects/projectsNew/lab/hybriddomain/settings/device_conf/ics_blocks_4.json\n",
      "INFO:remoterun:to /home/valdecar/projects/lab/workspace/settings/device_conf/ics_blocks_4.json\n",
      "INFO:remoterun:copy /home/valdecar/Documents/projects/projectsNew/lab/hybriddomain/settings/device_conf/ics_other.json\n",
      "INFO:remoterun:to /home/valdecar/projects/lab/workspace/settings/device_conf/ics_other.json\n",
      "INFO:paramiko.transport.sftp:[chan 8] sftp session closed.\n",
      "INFO:remoterun:finished copy dev_conf files\n",
      "INFO:paramiko.transport.sftp:[chan 9] Opened sftp connection (server version 3)\n",
      "INFO:remoterun:copy paths files:\n",
      "INFO:remoterun:copy /home/valdecar/Documents/projects/projectsNew/lab/hybriddomain/settings/paths/paths_hs_base.json\n",
      "INFO:remoterun:to /home/valdecar/projects/lab/workspace/settings/paths/paths_hs_base.json\n",
      "INFO:paramiko.transport.sftp:[chan 9] sftp session closed.\n",
      "INFO:remoterun:finished copy paths files\n",
      "INFO:remoterun:\n",
      "Running preprocessor:\n",
      "INFO:remoterun:command:\n",
      "INFO:remoterun:cd /home/valdecar/projects/lab/hybriddomain && pwd && python3 -m gens.hs.tests.tests_gen_1d -t /home/valdecar/projects/lab/workspace/problems/1dTests/Ginzburg_Landau_equation -d default -p paths_hs_base -w /home/valdecar/projects/lab/workspace -u valdecar\n",
      "INFO:remoterun:Checking if solver executable at /home/valdecar/projects/lab/hybridsolver/bin/HS exists...\n",
      "INFO:remoterun:Solver executable found.\n",
      "INFO:remoterun:03-26 09:27:12 Performance (10^6): 229.101\n",
      "\n",
      "INFO:remoterun:INFO:postproc.video:Creating images for block 0 value U\n",
      "\n",
      "INFO:remoterun:INFO:postproc.video:Creating images for block 0 value V\n",
      "\n",
      "INFO:remoterun:INFO:postproc.video:Creating video file: 0\n",
      "\n",
      "INFO:remoterun:INFO:postproc.video:Creating out file: 0-U\n",
      "\n",
      "INFO:remoterun:INFO:postproc.video:Creating out file: 0-V\n",
      "\n",
      "INFO:remoterun:Downloading results...\n",
      "INFO:remoterun:from:\n",
      "INFO:remoterun:/home/valdecar/projects/lab/workspace/problems/1dTests/Ginzburg_Landau_equation/out\n",
      "INFO:paramiko.transport.sftp:[chan 13] Opened sftp connection (server version 3)\n",
      "INFO:paramiko.transport.sftp:[chan 13] sftp session closed.\n",
      "INFO:remoterun:Done!\n"
     ]
    },
    {
     "name": "stdout",
     "output_type": "stream",
     "text": [
      "['/home/valdecar/Documents/projects/projectsNew/lab/hybriddomain/problems/1dTests/Ginzburg_Landau_equation/out/Ginzburg_Landau_equation-res0-V.out', '/home/valdecar/Documents/projects/projectsNew/lab/hybriddomain/problems/1dTests/Ginzburg_Landau_equation/out/Ginzburg_Landau_equation-res0-U.out']\n"
     ]
    },
    {
     "name": "stderr",
     "output_type": "stream",
     "text": [
      "INFO:remoterun:project_path\n",
      "INFO:remoterun:1dTests/Ginzburg_Landau_equation\n",
      "INFO:remoterun:project_name\n",
      "INFO:remoterun:Ginzburg_Landau_equation\n",
      "INFO:paramiko.transport:Connected (version 2.0, client OpenSSH_7.2)\n",
      "INFO:paramiko.transport:Authentication (keyboard-interactive) successful!\n",
      "INFO:remoterun:Checking if folder /home/valdecar/projects/lab/workspace exists...\n",
      "INFO:remoterun:Workspace OK.\n",
      "INFO:remoterun:Creating/cleaning project folder: \n",
      "INFO:remoterun:Folder cleaned.\n",
      "INFO:remoterun:Creating settings folders: \n",
      "INFO:remoterun:Checking if folder /home/valdecar/projects/lab/workspace/settings exists...\n",
      "INFO:remoterun:folder /home/valdecar/projects/lab/workspace/settings alredy exist\n",
      "INFO:remoterun:Checking if folder /home/valdecar/projects/lab/workspace/settings/paths exists...\n",
      "INFO:remoterun:folder /home/valdecar/projects/lab/workspace/settings/paths alredy exist\n",
      "INFO:remoterun:Checking if folder /home/valdecar/projects/lab/workspace/settings/device_conf exists...\n",
      "INFO:remoterun:folder /home/valdecar/projects/lab/workspace/settings/device_conf alredy exist\n",
      "INFO:remoterun:settings folders created\n",
      "INFO:paramiko.transport.sftp:[chan 7] Opened sftp connection (server version 3)\n",
      "INFO:remoterun:hd_json:\n",
      "INFO:remoterun:/home/valdecar/Documents/projects/projectsNew/lab/hybriddomain/problems/1dTests/Ginzburg_Landau_equation/Ginzburg_Landau_equation.json\n",
      "INFO:remoterun:hs_json:\n",
      "INFO:remoterun:/home/valdecar/projects/lab/workspace/problems/1dTests/Ginzburg_Landau_equation/Ginzburg_Landau_equation.json\n",
      "INFO:paramiko.transport.sftp:[chan 7] sftp session closed.\n",
      "INFO:remoterun:json copied\n",
      "INFO:paramiko.transport.sftp:[chan 8] Opened sftp connection (server version 3)\n",
      "INFO:remoterun:copy dev_conf files:\n",
      "INFO:remoterun:copy /home/valdecar/Documents/projects/projectsNew/lab/hybriddomain/settings/device_conf/default.json\n",
      "INFO:remoterun:to /home/valdecar/projects/lab/workspace/settings/device_conf/default.json\n",
      "INFO:remoterun:copy /home/valdecar/Documents/projects/projectsNew/lab/hybriddomain/settings/device_conf/ics_blocks_4.json\n",
      "INFO:remoterun:to /home/valdecar/projects/lab/workspace/settings/device_conf/ics_blocks_4.json\n",
      "INFO:remoterun:copy /home/valdecar/Documents/projects/projectsNew/lab/hybriddomain/settings/device_conf/ics_other.json\n",
      "INFO:remoterun:to /home/valdecar/projects/lab/workspace/settings/device_conf/ics_other.json\n",
      "INFO:paramiko.transport.sftp:[chan 8] sftp session closed.\n",
      "INFO:remoterun:finished copy dev_conf files\n",
      "INFO:paramiko.transport.sftp:[chan 9] Opened sftp connection (server version 3)\n",
      "INFO:remoterun:copy paths files:\n",
      "INFO:remoterun:copy /home/valdecar/Documents/projects/projectsNew/lab/hybriddomain/settings/paths/paths_hs_base.json\n",
      "INFO:remoterun:to /home/valdecar/projects/lab/workspace/settings/paths/paths_hs_base.json\n",
      "INFO:paramiko.transport.sftp:[chan 9] sftp session closed.\n",
      "INFO:remoterun:finished copy paths files\n",
      "INFO:remoterun:\n",
      "Running preprocessor:\n",
      "INFO:remoterun:command:\n",
      "INFO:remoterun:cd /home/valdecar/projects/lab/hybriddomain && pwd && python3 -m gens.hs.tests.tests_gen_1d -t /home/valdecar/projects/lab/workspace/problems/1dTests/Ginzburg_Landau_equation -d default -p paths_hs_base -w /home/valdecar/projects/lab/workspace -u valdecar\n",
      "INFO:remoterun:Checking if solver executable at /home/valdecar/projects/lab/hybridsolver/bin/HS exists...\n",
      "INFO:remoterun:Solver executable found.\n",
      "INFO:remoterun:03-26 09:28:03 Performance (10^6): 232.026\n",
      "\n",
      "INFO:remoterun:INFO:postproc.video:Creating images for block 0 value U\n",
      "\n",
      "INFO:remoterun:INFO:postproc.video:Creating images for block 0 value V\n",
      "\n",
      "INFO:remoterun:INFO:postproc.video:Creating video file: 0\n",
      "\n",
      "INFO:remoterun:INFO:postproc.video:Creating out file: 0-U\n",
      "\n",
      "INFO:remoterun:INFO:postproc.video:Creating out file: 0-V\n",
      "\n",
      "INFO:remoterun:Downloading results...\n",
      "INFO:remoterun:from:\n",
      "INFO:remoterun:/home/valdecar/projects/lab/workspace/problems/1dTests/Ginzburg_Landau_equation/out\n",
      "INFO:paramiko.transport.sftp:[chan 13] Opened sftp connection (server version 3)\n",
      "INFO:paramiko.transport.sftp:[chan 13] sftp session closed.\n",
      "INFO:remoterun:Done!\n"
     ]
    },
    {
     "name": "stdout",
     "output_type": "stream",
     "text": [
      "['/home/valdecar/Documents/projects/projectsNew/lab/hybriddomain/problems/1dTests/Ginzburg_Landau_equation/out/Ginzburg_Landau_equation-res0-V.out', '/home/valdecar/Documents/projects/projectsNew/lab/hybriddomain/problems/1dTests/Ginzburg_Landau_equation/out/Ginzburg_Landau_equation-res0-U.out']\n"
     ]
    },
    {
     "name": "stderr",
     "output_type": "stream",
     "text": [
      "INFO:remoterun:project_path\n",
      "INFO:remoterun:1dTests/Ginzburg_Landau_equation\n",
      "INFO:remoterun:project_name\n",
      "INFO:remoterun:Ginzburg_Landau_equation\n",
      "INFO:paramiko.transport:Connected (version 2.0, client OpenSSH_7.2)\n",
      "INFO:paramiko.transport:Authentication (keyboard-interactive) successful!\n",
      "INFO:remoterun:Checking if folder /home/valdecar/projects/lab/workspace exists...\n",
      "INFO:remoterun:Workspace OK.\n",
      "INFO:remoterun:Creating/cleaning project folder: \n",
      "INFO:remoterun:Folder cleaned.\n",
      "INFO:remoterun:Creating settings folders: \n",
      "INFO:remoterun:Checking if folder /home/valdecar/projects/lab/workspace/settings exists...\n",
      "INFO:remoterun:folder /home/valdecar/projects/lab/workspace/settings alredy exist\n",
      "INFO:remoterun:Checking if folder /home/valdecar/projects/lab/workspace/settings/paths exists...\n",
      "INFO:remoterun:folder /home/valdecar/projects/lab/workspace/settings/paths alredy exist\n",
      "INFO:remoterun:Checking if folder /home/valdecar/projects/lab/workspace/settings/device_conf exists...\n",
      "INFO:remoterun:folder /home/valdecar/projects/lab/workspace/settings/device_conf alredy exist\n",
      "INFO:remoterun:settings folders created\n",
      "INFO:paramiko.transport.sftp:[chan 7] Opened sftp connection (server version 3)\n",
      "INFO:remoterun:hd_json:\n",
      "INFO:remoterun:/home/valdecar/Documents/projects/projectsNew/lab/hybriddomain/problems/1dTests/Ginzburg_Landau_equation/Ginzburg_Landau_equation.json\n",
      "INFO:remoterun:hs_json:\n",
      "INFO:remoterun:/home/valdecar/projects/lab/workspace/problems/1dTests/Ginzburg_Landau_equation/Ginzburg_Landau_equation.json\n",
      "INFO:paramiko.transport.sftp:[chan 7] sftp session closed.\n",
      "INFO:remoterun:json copied\n",
      "INFO:paramiko.transport.sftp:[chan 8] Opened sftp connection (server version 3)\n",
      "INFO:remoterun:copy dev_conf files:\n",
      "INFO:remoterun:copy /home/valdecar/Documents/projects/projectsNew/lab/hybriddomain/settings/device_conf/default.json\n",
      "INFO:remoterun:to /home/valdecar/projects/lab/workspace/settings/device_conf/default.json\n",
      "INFO:remoterun:copy /home/valdecar/Documents/projects/projectsNew/lab/hybriddomain/settings/device_conf/ics_blocks_4.json\n",
      "INFO:remoterun:to /home/valdecar/projects/lab/workspace/settings/device_conf/ics_blocks_4.json\n",
      "INFO:remoterun:copy /home/valdecar/Documents/projects/projectsNew/lab/hybriddomain/settings/device_conf/ics_other.json\n",
      "INFO:remoterun:to /home/valdecar/projects/lab/workspace/settings/device_conf/ics_other.json\n",
      "INFO:paramiko.transport.sftp:[chan 8] sftp session closed.\n",
      "INFO:remoterun:finished copy dev_conf files\n",
      "INFO:paramiko.transport.sftp:[chan 9] Opened sftp connection (server version 3)\n",
      "INFO:remoterun:copy paths files:\n",
      "INFO:remoterun:copy /home/valdecar/Documents/projects/projectsNew/lab/hybriddomain/settings/paths/paths_hs_base.json\n",
      "INFO:remoterun:to /home/valdecar/projects/lab/workspace/settings/paths/paths_hs_base.json\n",
      "INFO:paramiko.transport.sftp:[chan 9] sftp session closed.\n",
      "INFO:remoterun:finished copy paths files\n",
      "INFO:remoterun:\n",
      "Running preprocessor:\n",
      "INFO:remoterun:command:\n",
      "INFO:remoterun:cd /home/valdecar/projects/lab/hybriddomain && pwd && python3 -m gens.hs.tests.tests_gen_1d -t /home/valdecar/projects/lab/workspace/problems/1dTests/Ginzburg_Landau_equation -d default -p paths_hs_base -w /home/valdecar/projects/lab/workspace -u valdecar\n",
      "INFO:remoterun:Checking if solver executable at /home/valdecar/projects/lab/hybridsolver/bin/HS exists...\n",
      "INFO:remoterun:Solver executable found.\n",
      "INFO:remoterun:03-26 09:29:03 Performance (10^6): 230.78\n",
      "\n",
      "INFO:remoterun:INFO:postproc.video:Creating images for block 0 value U\n",
      "\n",
      "INFO:remoterun:INFO:postproc.video:Creating images for block 0 value V\n",
      "\n",
      "INFO:remoterun:INFO:postproc.video:Creating video file: 0\n",
      "\n",
      "INFO:remoterun:INFO:postproc.video:Creating out file: 0-U\n",
      "\n",
      "INFO:remoterun:INFO:postproc.video:Creating out file: 0-V\n",
      "\n",
      "INFO:remoterun:Downloading results...\n",
      "INFO:remoterun:from:\n",
      "INFO:remoterun:/home/valdecar/projects/lab/workspace/problems/1dTests/Ginzburg_Landau_equation/out\n",
      "INFO:paramiko.transport.sftp:[chan 13] Opened sftp connection (server version 3)\n",
      "INFO:paramiko.transport.sftp:[chan 13] sftp session closed.\n",
      "INFO:remoterun:Done!\n"
     ]
    },
    {
     "name": "stdout",
     "output_type": "stream",
     "text": [
      "['/home/valdecar/Documents/projects/projectsNew/lab/hybriddomain/problems/1dTests/Ginzburg_Landau_equation/out/Ginzburg_Landau_equation-res0-V.out', '/home/valdecar/Documents/projects/projectsNew/lab/hybriddomain/problems/1dTests/Ginzburg_Landau_equation/out/Ginzburg_Landau_equation-res0-U.out']\n"
     ]
    },
    {
     "name": "stderr",
     "output_type": "stream",
     "text": [
      "INFO:remoterun:project_path\n",
      "INFO:remoterun:1dTests/Ginzburg_Landau_equation\n",
      "INFO:remoterun:project_name\n",
      "INFO:remoterun:Ginzburg_Landau_equation\n",
      "INFO:paramiko.transport:Connected (version 2.0, client OpenSSH_7.2)\n",
      "INFO:paramiko.transport:Authentication (keyboard-interactive) successful!\n",
      "INFO:remoterun:Checking if folder /home/valdecar/projects/lab/workspace exists...\n",
      "INFO:remoterun:Workspace OK.\n",
      "INFO:remoterun:Creating/cleaning project folder: \n",
      "INFO:remoterun:Folder cleaned.\n",
      "INFO:remoterun:Creating settings folders: \n",
      "INFO:remoterun:Checking if folder /home/valdecar/projects/lab/workspace/settings exists...\n",
      "INFO:remoterun:folder /home/valdecar/projects/lab/workspace/settings alredy exist\n",
      "INFO:remoterun:Checking if folder /home/valdecar/projects/lab/workspace/settings/paths exists...\n",
      "INFO:remoterun:folder /home/valdecar/projects/lab/workspace/settings/paths alredy exist\n",
      "INFO:remoterun:Checking if folder /home/valdecar/projects/lab/workspace/settings/device_conf exists...\n",
      "INFO:remoterun:folder /home/valdecar/projects/lab/workspace/settings/device_conf alredy exist\n",
      "INFO:remoterun:settings folders created\n",
      "INFO:paramiko.transport.sftp:[chan 7] Opened sftp connection (server version 3)\n",
      "INFO:remoterun:hd_json:\n",
      "INFO:remoterun:/home/valdecar/Documents/projects/projectsNew/lab/hybriddomain/problems/1dTests/Ginzburg_Landau_equation/Ginzburg_Landau_equation.json\n",
      "INFO:remoterun:hs_json:\n",
      "INFO:remoterun:/home/valdecar/projects/lab/workspace/problems/1dTests/Ginzburg_Landau_equation/Ginzburg_Landau_equation.json\n",
      "INFO:paramiko.transport.sftp:[chan 7] sftp session closed.\n",
      "INFO:remoterun:json copied\n",
      "INFO:paramiko.transport.sftp:[chan 8] Opened sftp connection (server version 3)\n",
      "INFO:remoterun:copy dev_conf files:\n",
      "INFO:remoterun:copy /home/valdecar/Documents/projects/projectsNew/lab/hybriddomain/settings/device_conf/default.json\n",
      "INFO:remoterun:to /home/valdecar/projects/lab/workspace/settings/device_conf/default.json\n",
      "INFO:remoterun:copy /home/valdecar/Documents/projects/projectsNew/lab/hybriddomain/settings/device_conf/ics_blocks_4.json\n",
      "INFO:remoterun:to /home/valdecar/projects/lab/workspace/settings/device_conf/ics_blocks_4.json\n",
      "INFO:remoterun:copy /home/valdecar/Documents/projects/projectsNew/lab/hybriddomain/settings/device_conf/ics_other.json\n",
      "INFO:remoterun:to /home/valdecar/projects/lab/workspace/settings/device_conf/ics_other.json\n",
      "INFO:paramiko.transport.sftp:[chan 8] sftp session closed.\n",
      "INFO:remoterun:finished copy dev_conf files\n",
      "INFO:paramiko.transport.sftp:[chan 9] Opened sftp connection (server version 3)\n",
      "INFO:remoterun:copy paths files:\n",
      "INFO:remoterun:copy /home/valdecar/Documents/projects/projectsNew/lab/hybriddomain/settings/paths/paths_hs_base.json\n",
      "INFO:remoterun:to /home/valdecar/projects/lab/workspace/settings/paths/paths_hs_base.json\n",
      "INFO:paramiko.transport.sftp:[chan 9] sftp session closed.\n",
      "INFO:remoterun:finished copy paths files\n",
      "INFO:remoterun:\n",
      "Running preprocessor:\n",
      "INFO:remoterun:command:\n",
      "INFO:remoterun:cd /home/valdecar/projects/lab/hybriddomain && pwd && python3 -m gens.hs.tests.tests_gen_1d -t /home/valdecar/projects/lab/workspace/problems/1dTests/Ginzburg_Landau_equation -d default -p paths_hs_base -w /home/valdecar/projects/lab/workspace -u valdecar\n",
      "INFO:remoterun:Checking if solver executable at /home/valdecar/projects/lab/hybridsolver/bin/HS exists...\n",
      "INFO:remoterun:Solver executable found.\n",
      "INFO:remoterun:03-26 09:30:03 Performance (10^6): 230.902\n",
      "\n",
      "INFO:remoterun:INFO:postproc.video:Creating images for block 0 value U\n",
      "\n",
      "INFO:remoterun:INFO:postproc.video:Creating images for block 0 value V\n",
      "\n",
      "INFO:remoterun:INFO:postproc.video:Creating video file: 0\n",
      "\n",
      "INFO:remoterun:INFO:postproc.video:Creating out file: 0-U\n",
      "\n",
      "INFO:remoterun:INFO:postproc.video:Creating out file: 0-V\n",
      "\n",
      "INFO:remoterun:Downloading results...\n",
      "INFO:remoterun:from:\n",
      "INFO:remoterun:/home/valdecar/projects/lab/workspace/problems/1dTests/Ginzburg_Landau_equation/out\n",
      "INFO:paramiko.transport.sftp:[chan 13] Opened sftp connection (server version 3)\n",
      "INFO:paramiko.transport.sftp:[chan 13] sftp session closed.\n",
      "INFO:remoterun:Done!\n"
     ]
    },
    {
     "name": "stdout",
     "output_type": "stream",
     "text": [
      "['/home/valdecar/Documents/projects/projectsNew/lab/hybriddomain/problems/1dTests/Ginzburg_Landau_equation/out/Ginzburg_Landau_equation-res0-V.out', '/home/valdecar/Documents/projects/projectsNew/lab/hybriddomain/problems/1dTests/Ginzburg_Landau_equation/out/Ginzburg_Landau_equation-res0-U.out']\n"
     ]
    },
    {
     "name": "stderr",
     "output_type": "stream",
     "text": [
      "INFO:remoterun:project_path\n",
      "INFO:remoterun:1dTests/Ginzburg_Landau_equation\n",
      "INFO:remoterun:project_name\n",
      "INFO:remoterun:Ginzburg_Landau_equation\n",
      "INFO:paramiko.transport:Connected (version 2.0, client OpenSSH_7.2)\n",
      "INFO:paramiko.transport:Authentication (keyboard-interactive) successful!\n",
      "INFO:remoterun:Checking if folder /home/valdecar/projects/lab/workspace exists...\n",
      "INFO:remoterun:Workspace OK.\n",
      "INFO:remoterun:Creating/cleaning project folder: \n",
      "INFO:remoterun:Folder cleaned.\n",
      "INFO:remoterun:Creating settings folders: \n",
      "INFO:remoterun:Checking if folder /home/valdecar/projects/lab/workspace/settings exists...\n",
      "INFO:remoterun:folder /home/valdecar/projects/lab/workspace/settings alredy exist\n",
      "INFO:remoterun:Checking if folder /home/valdecar/projects/lab/workspace/settings/paths exists...\n",
      "INFO:remoterun:folder /home/valdecar/projects/lab/workspace/settings/paths alredy exist\n",
      "INFO:remoterun:Checking if folder /home/valdecar/projects/lab/workspace/settings/device_conf exists...\n",
      "INFO:remoterun:folder /home/valdecar/projects/lab/workspace/settings/device_conf alredy exist\n",
      "INFO:remoterun:settings folders created\n",
      "INFO:paramiko.transport.sftp:[chan 7] Opened sftp connection (server version 3)\n",
      "INFO:remoterun:hd_json:\n",
      "INFO:remoterun:/home/valdecar/Documents/projects/projectsNew/lab/hybriddomain/problems/1dTests/Ginzburg_Landau_equation/Ginzburg_Landau_equation.json\n",
      "INFO:remoterun:hs_json:\n",
      "INFO:remoterun:/home/valdecar/projects/lab/workspace/problems/1dTests/Ginzburg_Landau_equation/Ginzburg_Landau_equation.json\n",
      "INFO:paramiko.transport.sftp:[chan 7] sftp session closed.\n",
      "INFO:remoterun:json copied\n",
      "INFO:paramiko.transport.sftp:[chan 8] Opened sftp connection (server version 3)\n",
      "INFO:remoterun:copy dev_conf files:\n",
      "INFO:remoterun:copy /home/valdecar/Documents/projects/projectsNew/lab/hybriddomain/settings/device_conf/default.json\n",
      "INFO:remoterun:to /home/valdecar/projects/lab/workspace/settings/device_conf/default.json\n",
      "INFO:remoterun:copy /home/valdecar/Documents/projects/projectsNew/lab/hybriddomain/settings/device_conf/ics_blocks_4.json\n",
      "INFO:remoterun:to /home/valdecar/projects/lab/workspace/settings/device_conf/ics_blocks_4.json\n",
      "INFO:remoterun:copy /home/valdecar/Documents/projects/projectsNew/lab/hybriddomain/settings/device_conf/ics_other.json\n",
      "INFO:remoterun:to /home/valdecar/projects/lab/workspace/settings/device_conf/ics_other.json\n",
      "INFO:paramiko.transport.sftp:[chan 8] sftp session closed.\n",
      "INFO:remoterun:finished copy dev_conf files\n",
      "INFO:paramiko.transport.sftp:[chan 9] Opened sftp connection (server version 3)\n",
      "INFO:remoterun:copy paths files:\n",
      "INFO:remoterun:copy /home/valdecar/Documents/projects/projectsNew/lab/hybriddomain/settings/paths/paths_hs_base.json\n",
      "INFO:remoterun:to /home/valdecar/projects/lab/workspace/settings/paths/paths_hs_base.json\n",
      "INFO:paramiko.transport.sftp:[chan 9] sftp session closed.\n",
      "INFO:remoterun:finished copy paths files\n",
      "INFO:remoterun:\n",
      "Running preprocessor:\n",
      "INFO:remoterun:command:\n",
      "INFO:remoterun:cd /home/valdecar/projects/lab/hybriddomain && pwd && python3 -m gens.hs.tests.tests_gen_1d -t /home/valdecar/projects/lab/workspace/problems/1dTests/Ginzburg_Landau_equation -d default -p paths_hs_base -w /home/valdecar/projects/lab/workspace -u valdecar\n",
      "INFO:remoterun:Checking if solver executable at /home/valdecar/projects/lab/hybridsolver/bin/HS exists...\n",
      "INFO:remoterun:Solver executable found.\n",
      "INFO:remoterun:03-26 09:31:03 Performance (10^6): 232.377\n",
      "\n",
      "INFO:remoterun:INFO:postproc.video:Creating images for block 0 value U\n",
      "\n",
      "INFO:remoterun:INFO:postproc.video:Creating images for block 0 value V\n",
      "\n",
      "INFO:remoterun:INFO:postproc.video:Creating video file: 0\n",
      "\n",
      "INFO:remoterun:INFO:postproc.video:Creating out file: 0-U\n",
      "\n",
      "INFO:remoterun:INFO:postproc.video:Creating out file: 0-V\n",
      "\n",
      "INFO:remoterun:Downloading results...\n",
      "INFO:remoterun:from:\n",
      "INFO:remoterun:/home/valdecar/projects/lab/workspace/problems/1dTests/Ginzburg_Landau_equation/out\n",
      "INFO:paramiko.transport.sftp:[chan 13] Opened sftp connection (server version 3)\n",
      "INFO:paramiko.transport.sftp:[chan 13] sftp session closed.\n",
      "INFO:remoterun:Done!\n"
     ]
    },
    {
     "name": "stdout",
     "output_type": "stream",
     "text": [
      "['/home/valdecar/Documents/projects/projectsNew/lab/hybriddomain/problems/1dTests/Ginzburg_Landau_equation/out/Ginzburg_Landau_equation-res0-V.out', '/home/valdecar/Documents/projects/projectsNew/lab/hybriddomain/problems/1dTests/Ginzburg_Landau_equation/out/Ginzburg_Landau_equation-res0-U.out']\n"
     ]
    },
    {
     "name": "stderr",
     "output_type": "stream",
     "text": [
      "INFO:remoterun:project_path\n",
      "INFO:remoterun:1dTests/Ginzburg_Landau_equation\n",
      "INFO:remoterun:project_name\n",
      "INFO:remoterun:Ginzburg_Landau_equation\n",
      "INFO:paramiko.transport:Connected (version 2.0, client OpenSSH_7.2)\n",
      "INFO:paramiko.transport:Authentication (keyboard-interactive) successful!\n",
      "INFO:remoterun:Checking if folder /home/valdecar/projects/lab/workspace exists...\n",
      "INFO:remoterun:Workspace OK.\n",
      "INFO:remoterun:Creating/cleaning project folder: \n",
      "INFO:remoterun:Folder cleaned.\n",
      "INFO:remoterun:Creating settings folders: \n",
      "INFO:remoterun:Checking if folder /home/valdecar/projects/lab/workspace/settings exists...\n",
      "INFO:remoterun:folder /home/valdecar/projects/lab/workspace/settings alredy exist\n",
      "INFO:remoterun:Checking if folder /home/valdecar/projects/lab/workspace/settings/paths exists...\n",
      "INFO:remoterun:folder /home/valdecar/projects/lab/workspace/settings/paths alredy exist\n",
      "INFO:remoterun:Checking if folder /home/valdecar/projects/lab/workspace/settings/device_conf exists...\n",
      "INFO:remoterun:folder /home/valdecar/projects/lab/workspace/settings/device_conf alredy exist\n",
      "INFO:remoterun:settings folders created\n",
      "INFO:paramiko.transport.sftp:[chan 7] Opened sftp connection (server version 3)\n",
      "INFO:remoterun:hd_json:\n",
      "INFO:remoterun:/home/valdecar/Documents/projects/projectsNew/lab/hybriddomain/problems/1dTests/Ginzburg_Landau_equation/Ginzburg_Landau_equation.json\n",
      "INFO:remoterun:hs_json:\n",
      "INFO:remoterun:/home/valdecar/projects/lab/workspace/problems/1dTests/Ginzburg_Landau_equation/Ginzburg_Landau_equation.json\n",
      "INFO:paramiko.transport.sftp:[chan 7] sftp session closed.\n",
      "INFO:remoterun:json copied\n",
      "INFO:paramiko.transport.sftp:[chan 8] Opened sftp connection (server version 3)\n",
      "INFO:remoterun:copy dev_conf files:\n",
      "INFO:remoterun:copy /home/valdecar/Documents/projects/projectsNew/lab/hybriddomain/settings/device_conf/default.json\n",
      "INFO:remoterun:to /home/valdecar/projects/lab/workspace/settings/device_conf/default.json\n",
      "INFO:remoterun:copy /home/valdecar/Documents/projects/projectsNew/lab/hybriddomain/settings/device_conf/ics_blocks_4.json\n",
      "INFO:remoterun:to /home/valdecar/projects/lab/workspace/settings/device_conf/ics_blocks_4.json\n",
      "INFO:remoterun:copy /home/valdecar/Documents/projects/projectsNew/lab/hybriddomain/settings/device_conf/ics_other.json\n",
      "INFO:remoterun:to /home/valdecar/projects/lab/workspace/settings/device_conf/ics_other.json\n",
      "INFO:paramiko.transport.sftp:[chan 8] sftp session closed.\n",
      "INFO:remoterun:finished copy dev_conf files\n",
      "INFO:paramiko.transport.sftp:[chan 9] Opened sftp connection (server version 3)\n",
      "INFO:remoterun:copy paths files:\n",
      "INFO:remoterun:copy /home/valdecar/Documents/projects/projectsNew/lab/hybriddomain/settings/paths/paths_hs_base.json\n",
      "INFO:remoterun:to /home/valdecar/projects/lab/workspace/settings/paths/paths_hs_base.json\n",
      "INFO:paramiko.transport.sftp:[chan 9] sftp session closed.\n",
      "INFO:remoterun:finished copy paths files\n",
      "INFO:remoterun:\n",
      "Running preprocessor:\n",
      "INFO:remoterun:command:\n",
      "INFO:remoterun:cd /home/valdecar/projects/lab/hybriddomain && pwd && python3 -m gens.hs.tests.tests_gen_1d -t /home/valdecar/projects/lab/workspace/problems/1dTests/Ginzburg_Landau_equation -d default -p paths_hs_base -w /home/valdecar/projects/lab/workspace -u valdecar\n",
      "INFO:remoterun:Checking if solver executable at /home/valdecar/projects/lab/hybridsolver/bin/HS exists...\n",
      "INFO:remoterun:Solver executable found.\n",
      "INFO:remoterun:03-26 09:32:03 Performance (10^6): 232.046\n",
      "\n",
      "INFO:remoterun:INFO:postproc.video:Creating images for block 0 value U\n",
      "\n",
      "INFO:remoterun:INFO:postproc.video:Creating images for block 0 value V\n",
      "\n",
      "INFO:remoterun:INFO:postproc.video:Creating video file: 0\n",
      "\n",
      "INFO:remoterun:INFO:postproc.video:Creating out file: 0-U\n",
      "\n",
      "INFO:remoterun:INFO:postproc.video:Creating out file: 0-V\n",
      "\n",
      "INFO:remoterun:Downloading results...\n",
      "INFO:remoterun:from:\n",
      "INFO:remoterun:/home/valdecar/projects/lab/workspace/problems/1dTests/Ginzburg_Landau_equation/out\n",
      "INFO:paramiko.transport.sftp:[chan 13] Opened sftp connection (server version 3)\n",
      "INFO:paramiko.transport.sftp:[chan 13] sftp session closed.\n",
      "INFO:remoterun:Done!\n"
     ]
    },
    {
     "name": "stdout",
     "output_type": "stream",
     "text": [
      "['/home/valdecar/Documents/projects/projectsNew/lab/hybriddomain/problems/1dTests/Ginzburg_Landau_equation/out/Ginzburg_Landau_equation-res0-V.out', '/home/valdecar/Documents/projects/projectsNew/lab/hybriddomain/problems/1dTests/Ginzburg_Landau_equation/out/Ginzburg_Landau_equation-res0-U.out']\n"
     ]
    },
    {
     "name": "stderr",
     "output_type": "stream",
     "text": [
      "INFO:remoterun:project_path\n",
      "INFO:remoterun:1dTests/Ginzburg_Landau_equation\n",
      "INFO:remoterun:project_name\n",
      "INFO:remoterun:Ginzburg_Landau_equation\n",
      "INFO:paramiko.transport:Connected (version 2.0, client OpenSSH_7.2)\n",
      "INFO:paramiko.transport:Authentication (keyboard-interactive) successful!\n",
      "INFO:remoterun:Checking if folder /home/valdecar/projects/lab/workspace exists...\n",
      "INFO:remoterun:Workspace OK.\n",
      "INFO:remoterun:Creating/cleaning project folder: \n",
      "INFO:remoterun:Folder cleaned.\n",
      "INFO:remoterun:Creating settings folders: \n",
      "INFO:remoterun:Checking if folder /home/valdecar/projects/lab/workspace/settings exists...\n",
      "INFO:remoterun:folder /home/valdecar/projects/lab/workspace/settings alredy exist\n",
      "INFO:remoterun:Checking if folder /home/valdecar/projects/lab/workspace/settings/paths exists...\n",
      "INFO:remoterun:folder /home/valdecar/projects/lab/workspace/settings/paths alredy exist\n",
      "INFO:remoterun:Checking if folder /home/valdecar/projects/lab/workspace/settings/device_conf exists...\n",
      "INFO:remoterun:folder /home/valdecar/projects/lab/workspace/settings/device_conf alredy exist\n",
      "INFO:remoterun:settings folders created\n",
      "INFO:paramiko.transport.sftp:[chan 7] Opened sftp connection (server version 3)\n",
      "INFO:remoterun:hd_json:\n",
      "INFO:remoterun:/home/valdecar/Documents/projects/projectsNew/lab/hybriddomain/problems/1dTests/Ginzburg_Landau_equation/Ginzburg_Landau_equation.json\n",
      "INFO:remoterun:hs_json:\n",
      "INFO:remoterun:/home/valdecar/projects/lab/workspace/problems/1dTests/Ginzburg_Landau_equation/Ginzburg_Landau_equation.json\n",
      "INFO:paramiko.transport.sftp:[chan 7] sftp session closed.\n",
      "INFO:remoterun:json copied\n",
      "INFO:paramiko.transport.sftp:[chan 8] Opened sftp connection (server version 3)\n",
      "INFO:remoterun:copy dev_conf files:\n",
      "INFO:remoterun:copy /home/valdecar/Documents/projects/projectsNew/lab/hybriddomain/settings/device_conf/default.json\n",
      "INFO:remoterun:to /home/valdecar/projects/lab/workspace/settings/device_conf/default.json\n",
      "INFO:remoterun:copy /home/valdecar/Documents/projects/projectsNew/lab/hybriddomain/settings/device_conf/ics_blocks_4.json\n",
      "INFO:remoterun:to /home/valdecar/projects/lab/workspace/settings/device_conf/ics_blocks_4.json\n",
      "INFO:remoterun:copy /home/valdecar/Documents/projects/projectsNew/lab/hybriddomain/settings/device_conf/ics_other.json\n",
      "INFO:remoterun:to /home/valdecar/projects/lab/workspace/settings/device_conf/ics_other.json\n",
      "INFO:paramiko.transport.sftp:[chan 8] sftp session closed.\n",
      "INFO:remoterun:finished copy dev_conf files\n",
      "INFO:paramiko.transport.sftp:[chan 9] Opened sftp connection (server version 3)\n",
      "INFO:remoterun:copy paths files:\n",
      "INFO:remoterun:copy /home/valdecar/Documents/projects/projectsNew/lab/hybriddomain/settings/paths/paths_hs_base.json\n",
      "INFO:remoterun:to /home/valdecar/projects/lab/workspace/settings/paths/paths_hs_base.json\n",
      "INFO:paramiko.transport.sftp:[chan 9] sftp session closed.\n",
      "INFO:remoterun:finished copy paths files\n",
      "INFO:remoterun:\n",
      "Running preprocessor:\n",
      "INFO:remoterun:command:\n",
      "INFO:remoterun:cd /home/valdecar/projects/lab/hybriddomain && pwd && python3 -m gens.hs.tests.tests_gen_1d -t /home/valdecar/projects/lab/workspace/problems/1dTests/Ginzburg_Landau_equation -d default -p paths_hs_base -w /home/valdecar/projects/lab/workspace -u valdecar\n",
      "INFO:remoterun:Checking if solver executable at /home/valdecar/projects/lab/hybridsolver/bin/HS exists...\n",
      "INFO:remoterun:Solver executable found.\n",
      "INFO:remoterun:03-26 09:33:04 Performance (10^6): 231.174\n",
      "\n",
      "INFO:remoterun:INFO:postproc.video:Creating images for block 0 value U\n",
      "\n",
      "INFO:remoterun:INFO:postproc.video:Creating images for block 0 value V\n",
      "\n",
      "INFO:remoterun:INFO:postproc.video:Creating video file: 0\n",
      "\n",
      "INFO:remoterun:INFO:postproc.video:Creating out file: 0-U\n",
      "\n",
      "INFO:remoterun:INFO:postproc.video:Creating out file: 0-V\n",
      "\n",
      "INFO:remoterun:Downloading results...\n",
      "INFO:remoterun:from:\n",
      "INFO:remoterun:/home/valdecar/projects/lab/workspace/problems/1dTests/Ginzburg_Landau_equation/out\n",
      "INFO:paramiko.transport.sftp:[chan 13] Opened sftp connection (server version 3)\n",
      "INFO:paramiko.transport.sftp:[chan 13] sftp session closed.\n",
      "INFO:remoterun:Done!\n"
     ]
    },
    {
     "name": "stdout",
     "output_type": "stream",
     "text": [
      "['/home/valdecar/Documents/projects/projectsNew/lab/hybriddomain/problems/1dTests/Ginzburg_Landau_equation/out/Ginzburg_Landau_equation-res0-V.out', '/home/valdecar/Documents/projects/projectsNew/lab/hybriddomain/problems/1dTests/Ginzburg_Landau_equation/out/Ginzburg_Landau_equation-res0-U.out']\n"
     ]
    },
    {
     "name": "stderr",
     "output_type": "stream",
     "text": [
      "INFO:remoterun:project_path\n",
      "INFO:remoterun:1dTests/Ginzburg_Landau_equation\n",
      "INFO:remoterun:project_name\n",
      "INFO:remoterun:Ginzburg_Landau_equation\n",
      "INFO:paramiko.transport:Connected (version 2.0, client OpenSSH_7.2)\n",
      "INFO:paramiko.transport:Authentication (keyboard-interactive) successful!\n",
      "INFO:remoterun:Checking if folder /home/valdecar/projects/lab/workspace exists...\n",
      "INFO:remoterun:Workspace OK.\n",
      "INFO:remoterun:Creating/cleaning project folder: \n",
      "INFO:remoterun:Folder cleaned.\n",
      "INFO:remoterun:Creating settings folders: \n",
      "INFO:remoterun:Checking if folder /home/valdecar/projects/lab/workspace/settings exists...\n",
      "INFO:remoterun:folder /home/valdecar/projects/lab/workspace/settings alredy exist\n",
      "INFO:remoterun:Checking if folder /home/valdecar/projects/lab/workspace/settings/paths exists...\n",
      "INFO:remoterun:folder /home/valdecar/projects/lab/workspace/settings/paths alredy exist\n",
      "INFO:remoterun:Checking if folder /home/valdecar/projects/lab/workspace/settings/device_conf exists...\n",
      "INFO:remoterun:folder /home/valdecar/projects/lab/workspace/settings/device_conf alredy exist\n",
      "INFO:remoterun:settings folders created\n",
      "INFO:paramiko.transport.sftp:[chan 7] Opened sftp connection (server version 3)\n",
      "INFO:remoterun:hd_json:\n",
      "INFO:remoterun:/home/valdecar/Documents/projects/projectsNew/lab/hybriddomain/problems/1dTests/Ginzburg_Landau_equation/Ginzburg_Landau_equation.json\n",
      "INFO:remoterun:hs_json:\n",
      "INFO:remoterun:/home/valdecar/projects/lab/workspace/problems/1dTests/Ginzburg_Landau_equation/Ginzburg_Landau_equation.json\n",
      "INFO:paramiko.transport.sftp:[chan 7] sftp session closed.\n",
      "INFO:remoterun:json copied\n",
      "INFO:paramiko.transport.sftp:[chan 8] Opened sftp connection (server version 3)\n",
      "INFO:remoterun:copy dev_conf files:\n",
      "INFO:remoterun:copy /home/valdecar/Documents/projects/projectsNew/lab/hybriddomain/settings/device_conf/default.json\n",
      "INFO:remoterun:to /home/valdecar/projects/lab/workspace/settings/device_conf/default.json\n",
      "INFO:remoterun:copy /home/valdecar/Documents/projects/projectsNew/lab/hybriddomain/settings/device_conf/ics_blocks_4.json\n",
      "INFO:remoterun:to /home/valdecar/projects/lab/workspace/settings/device_conf/ics_blocks_4.json\n",
      "INFO:remoterun:copy /home/valdecar/Documents/projects/projectsNew/lab/hybriddomain/settings/device_conf/ics_other.json\n",
      "INFO:remoterun:to /home/valdecar/projects/lab/workspace/settings/device_conf/ics_other.json\n",
      "INFO:paramiko.transport.sftp:[chan 8] sftp session closed.\n",
      "INFO:remoterun:finished copy dev_conf files\n",
      "INFO:paramiko.transport.sftp:[chan 9] Opened sftp connection (server version 3)\n",
      "INFO:remoterun:copy paths files:\n",
      "INFO:remoterun:copy /home/valdecar/Documents/projects/projectsNew/lab/hybriddomain/settings/paths/paths_hs_base.json\n",
      "INFO:remoterun:to /home/valdecar/projects/lab/workspace/settings/paths/paths_hs_base.json\n",
      "INFO:paramiko.transport.sftp:[chan 9] sftp session closed.\n",
      "INFO:remoterun:finished copy paths files\n",
      "INFO:remoterun:\n",
      "Running preprocessor:\n",
      "INFO:remoterun:command:\n",
      "INFO:remoterun:cd /home/valdecar/projects/lab/hybriddomain && pwd && python3 -m gens.hs.tests.tests_gen_1d -t /home/valdecar/projects/lab/workspace/problems/1dTests/Ginzburg_Landau_equation -d default -p paths_hs_base -w /home/valdecar/projects/lab/workspace -u valdecar\n",
      "INFO:remoterun:Checking if solver executable at /home/valdecar/projects/lab/hybridsolver/bin/HS exists...\n",
      "INFO:remoterun:Solver executable found.\n",
      "INFO:remoterun:03-26 09:34:04 Performance (10^6): 231.455\n",
      "\n",
      "INFO:remoterun:INFO:postproc.video:Creating images for block 0 value U\n",
      "\n",
      "INFO:remoterun:INFO:postproc.video:Creating images for block 0 value V\n",
      "\n",
      "INFO:remoterun:INFO:postproc.video:Creating video file: 0\n",
      "\n",
      "INFO:remoterun:INFO:postproc.video:Creating out file: 0-U\n",
      "\n",
      "INFO:remoterun:INFO:postproc.video:Creating out file: 0-V\n",
      "\n",
      "INFO:remoterun:Downloading results...\n",
      "INFO:remoterun:from:\n",
      "INFO:remoterun:/home/valdecar/projects/lab/workspace/problems/1dTests/Ginzburg_Landau_equation/out\n",
      "INFO:paramiko.transport.sftp:[chan 13] Opened sftp connection (server version 3)\n",
      "INFO:paramiko.transport.sftp:[chan 13] sftp session closed.\n",
      "INFO:remoterun:Done!\n"
     ]
    },
    {
     "name": "stdout",
     "output_type": "stream",
     "text": [
      "['/home/valdecar/Documents/projects/projectsNew/lab/hybriddomain/problems/1dTests/Ginzburg_Landau_equation/out/Ginzburg_Landau_equation-res0-V.out', '/home/valdecar/Documents/projects/projectsNew/lab/hybriddomain/problems/1dTests/Ginzburg_Landau_equation/out/Ginzburg_Landau_equation-res0-U.out']\n"
     ]
    },
    {
     "name": "stderr",
     "output_type": "stream",
     "text": [
      "INFO:remoterun:project_path\n",
      "INFO:remoterun:1dTests/Ginzburg_Landau_equation\n",
      "INFO:remoterun:project_name\n",
      "INFO:remoterun:Ginzburg_Landau_equation\n",
      "INFO:paramiko.transport:Connected (version 2.0, client OpenSSH_7.2)\n",
      "INFO:paramiko.transport:Authentication (keyboard-interactive) successful!\n",
      "INFO:remoterun:Checking if folder /home/valdecar/projects/lab/workspace exists...\n",
      "INFO:remoterun:Workspace OK.\n",
      "INFO:remoterun:Creating/cleaning project folder: \n",
      "INFO:remoterun:Folder cleaned.\n",
      "INFO:remoterun:Creating settings folders: \n",
      "INFO:remoterun:Checking if folder /home/valdecar/projects/lab/workspace/settings exists...\n",
      "INFO:remoterun:folder /home/valdecar/projects/lab/workspace/settings alredy exist\n",
      "INFO:remoterun:Checking if folder /home/valdecar/projects/lab/workspace/settings/paths exists...\n",
      "INFO:remoterun:folder /home/valdecar/projects/lab/workspace/settings/paths alredy exist\n",
      "INFO:remoterun:Checking if folder /home/valdecar/projects/lab/workspace/settings/device_conf exists...\n",
      "INFO:remoterun:folder /home/valdecar/projects/lab/workspace/settings/device_conf alredy exist\n",
      "INFO:remoterun:settings folders created\n",
      "INFO:paramiko.transport.sftp:[chan 7] Opened sftp connection (server version 3)\n",
      "INFO:remoterun:hd_json:\n",
      "INFO:remoterun:/home/valdecar/Documents/projects/projectsNew/lab/hybriddomain/problems/1dTests/Ginzburg_Landau_equation/Ginzburg_Landau_equation.json\n",
      "INFO:remoterun:hs_json:\n",
      "INFO:remoterun:/home/valdecar/projects/lab/workspace/problems/1dTests/Ginzburg_Landau_equation/Ginzburg_Landau_equation.json\n",
      "INFO:paramiko.transport.sftp:[chan 7] sftp session closed.\n",
      "INFO:remoterun:json copied\n",
      "INFO:paramiko.transport.sftp:[chan 8] Opened sftp connection (server version 3)\n",
      "INFO:remoterun:copy dev_conf files:\n",
      "INFO:remoterun:copy /home/valdecar/Documents/projects/projectsNew/lab/hybriddomain/settings/device_conf/default.json\n",
      "INFO:remoterun:to /home/valdecar/projects/lab/workspace/settings/device_conf/default.json\n",
      "INFO:remoterun:copy /home/valdecar/Documents/projects/projectsNew/lab/hybriddomain/settings/device_conf/ics_blocks_4.json\n",
      "INFO:remoterun:to /home/valdecar/projects/lab/workspace/settings/device_conf/ics_blocks_4.json\n",
      "INFO:remoterun:copy /home/valdecar/Documents/projects/projectsNew/lab/hybriddomain/settings/device_conf/ics_other.json\n",
      "INFO:remoterun:to /home/valdecar/projects/lab/workspace/settings/device_conf/ics_other.json\n",
      "INFO:paramiko.transport.sftp:[chan 8] sftp session closed.\n",
      "INFO:remoterun:finished copy dev_conf files\n",
      "INFO:paramiko.transport.sftp:[chan 9] Opened sftp connection (server version 3)\n",
      "INFO:remoterun:copy paths files:\n",
      "INFO:remoterun:copy /home/valdecar/Documents/projects/projectsNew/lab/hybriddomain/settings/paths/paths_hs_base.json\n",
      "INFO:remoterun:to /home/valdecar/projects/lab/workspace/settings/paths/paths_hs_base.json\n",
      "INFO:paramiko.transport.sftp:[chan 9] sftp session closed.\n",
      "INFO:remoterun:finished copy paths files\n",
      "INFO:remoterun:\n",
      "Running preprocessor:\n",
      "INFO:remoterun:command:\n",
      "INFO:remoterun:cd /home/valdecar/projects/lab/hybriddomain && pwd && python3 -m gens.hs.tests.tests_gen_1d -t /home/valdecar/projects/lab/workspace/problems/1dTests/Ginzburg_Landau_equation -d default -p paths_hs_base -w /home/valdecar/projects/lab/workspace -u valdecar\n",
      "INFO:remoterun:Checking if solver executable at /home/valdecar/projects/lab/hybridsolver/bin/HS exists...\n",
      "INFO:remoterun:Solver executable found.\n",
      "INFO:remoterun:03-26 09:35:04 Performance (10^6): 232.539\n",
      "\n",
      "INFO:remoterun:INFO:postproc.video:Creating images for block 0 value U\n",
      "\n",
      "INFO:remoterun:INFO:postproc.video:Creating images for block 0 value V\n",
      "\n",
      "INFO:remoterun:INFO:postproc.video:Creating video file: 0\n",
      "\n",
      "INFO:remoterun:INFO:postproc.video:Creating out file: 0-U\n",
      "\n",
      "INFO:remoterun:INFO:postproc.video:Creating out file: 0-V\n",
      "\n",
      "INFO:remoterun:Downloading results...\n",
      "INFO:remoterun:from:\n",
      "INFO:remoterun:/home/valdecar/projects/lab/workspace/problems/1dTests/Ginzburg_Landau_equation/out\n",
      "INFO:paramiko.transport.sftp:[chan 13] Opened sftp connection (server version 3)\n",
      "INFO:paramiko.transport.sftp:[chan 13] sftp session closed.\n",
      "INFO:remoterun:Done!\n"
     ]
    },
    {
     "name": "stdout",
     "output_type": "stream",
     "text": [
      "['/home/valdecar/Documents/projects/projectsNew/lab/hybriddomain/problems/1dTests/Ginzburg_Landau_equation/out/Ginzburg_Landau_equation-res0-V.out', '/home/valdecar/Documents/projects/projectsNew/lab/hybriddomain/problems/1dTests/Ginzburg_Landau_equation/out/Ginzburg_Landau_equation-res0-U.out']\n"
     ]
    },
    {
     "name": "stderr",
     "output_type": "stream",
     "text": [
      "INFO:remoterun:project_path\n",
      "INFO:remoterun:1dTests/Ginzburg_Landau_equation\n",
      "INFO:remoterun:project_name\n",
      "INFO:remoterun:Ginzburg_Landau_equation\n",
      "INFO:paramiko.transport:Connected (version 2.0, client OpenSSH_7.2)\n",
      "INFO:paramiko.transport:Authentication (keyboard-interactive) successful!\n",
      "INFO:remoterun:Checking if folder /home/valdecar/projects/lab/workspace exists...\n",
      "INFO:remoterun:Workspace OK.\n",
      "INFO:remoterun:Creating/cleaning project folder: \n",
      "INFO:remoterun:Folder cleaned.\n",
      "INFO:remoterun:Creating settings folders: \n",
      "INFO:remoterun:Checking if folder /home/valdecar/projects/lab/workspace/settings exists...\n",
      "INFO:remoterun:folder /home/valdecar/projects/lab/workspace/settings alredy exist\n",
      "INFO:remoterun:Checking if folder /home/valdecar/projects/lab/workspace/settings/paths exists...\n",
      "INFO:remoterun:folder /home/valdecar/projects/lab/workspace/settings/paths alredy exist\n",
      "INFO:remoterun:Checking if folder /home/valdecar/projects/lab/workspace/settings/device_conf exists...\n",
      "INFO:remoterun:folder /home/valdecar/projects/lab/workspace/settings/device_conf alredy exist\n",
      "INFO:remoterun:settings folders created\n",
      "INFO:paramiko.transport.sftp:[chan 7] Opened sftp connection (server version 3)\n",
      "INFO:remoterun:hd_json:\n",
      "INFO:remoterun:/home/valdecar/Documents/projects/projectsNew/lab/hybriddomain/problems/1dTests/Ginzburg_Landau_equation/Ginzburg_Landau_equation.json\n",
      "INFO:remoterun:hs_json:\n",
      "INFO:remoterun:/home/valdecar/projects/lab/workspace/problems/1dTests/Ginzburg_Landau_equation/Ginzburg_Landau_equation.json\n",
      "INFO:paramiko.transport.sftp:[chan 7] sftp session closed.\n",
      "INFO:remoterun:json copied\n",
      "INFO:paramiko.transport.sftp:[chan 8] Opened sftp connection (server version 3)\n",
      "INFO:remoterun:copy dev_conf files:\n",
      "INFO:remoterun:copy /home/valdecar/Documents/projects/projectsNew/lab/hybriddomain/settings/device_conf/default.json\n",
      "INFO:remoterun:to /home/valdecar/projects/lab/workspace/settings/device_conf/default.json\n",
      "INFO:remoterun:copy /home/valdecar/Documents/projects/projectsNew/lab/hybriddomain/settings/device_conf/ics_blocks_4.json\n",
      "INFO:remoterun:to /home/valdecar/projects/lab/workspace/settings/device_conf/ics_blocks_4.json\n",
      "INFO:remoterun:copy /home/valdecar/Documents/projects/projectsNew/lab/hybriddomain/settings/device_conf/ics_other.json\n",
      "INFO:remoterun:to /home/valdecar/projects/lab/workspace/settings/device_conf/ics_other.json\n",
      "INFO:paramiko.transport.sftp:[chan 8] sftp session closed.\n",
      "INFO:remoterun:finished copy dev_conf files\n",
      "INFO:paramiko.transport.sftp:[chan 9] Opened sftp connection (server version 3)\n",
      "INFO:remoterun:copy paths files:\n",
      "INFO:remoterun:copy /home/valdecar/Documents/projects/projectsNew/lab/hybriddomain/settings/paths/paths_hs_base.json\n",
      "INFO:remoterun:to /home/valdecar/projects/lab/workspace/settings/paths/paths_hs_base.json\n",
      "INFO:paramiko.transport.sftp:[chan 9] sftp session closed.\n",
      "INFO:remoterun:finished copy paths files\n",
      "INFO:remoterun:\n",
      "Running preprocessor:\n",
      "INFO:remoterun:command:\n",
      "INFO:remoterun:cd /home/valdecar/projects/lab/hybriddomain && pwd && python3 -m gens.hs.tests.tests_gen_1d -t /home/valdecar/projects/lab/workspace/problems/1dTests/Ginzburg_Landau_equation -d default -p paths_hs_base -w /home/valdecar/projects/lab/workspace -u valdecar\n",
      "INFO:remoterun:Checking if solver executable at /home/valdecar/projects/lab/hybridsolver/bin/HS exists...\n",
      "INFO:remoterun:Solver executable found.\n",
      "INFO:remoterun:03-26 09:36:04 Performance (10^6): 232.364\n",
      "\n",
      "INFO:remoterun:INFO:postproc.video:Creating images for block 0 value U\n",
      "\n",
      "INFO:remoterun:INFO:postproc.video:Creating images for block 0 value V\n",
      "\n",
      "INFO:remoterun:INFO:postproc.video:Creating video file: 0\n",
      "\n",
      "INFO:remoterun:INFO:postproc.video:Creating out file: 0-U\n",
      "\n",
      "INFO:remoterun:INFO:postproc.video:Creating out file: 0-V\n",
      "\n",
      "INFO:remoterun:Downloading results...\n",
      "INFO:remoterun:from:\n",
      "INFO:remoterun:/home/valdecar/projects/lab/workspace/problems/1dTests/Ginzburg_Landau_equation/out\n",
      "INFO:paramiko.transport.sftp:[chan 13] Opened sftp connection (server version 3)\n",
      "INFO:paramiko.transport.sftp:[chan 13] sftp session closed.\n",
      "INFO:remoterun:Done!\n"
     ]
    },
    {
     "name": "stdout",
     "output_type": "stream",
     "text": [
      "['/home/valdecar/Documents/projects/projectsNew/lab/hybriddomain/problems/1dTests/Ginzburg_Landau_equation/out/Ginzburg_Landau_equation-res0-V.out', '/home/valdecar/Documents/projects/projectsNew/lab/hybriddomain/problems/1dTests/Ginzburg_Landau_equation/out/Ginzburg_Landau_equation-res0-U.out']\n"
     ]
    },
    {
     "name": "stderr",
     "output_type": "stream",
     "text": [
      "INFO:remoterun:project_path\n",
      "INFO:remoterun:1dTests/Ginzburg_Landau_equation\n",
      "INFO:remoterun:project_name\n",
      "INFO:remoterun:Ginzburg_Landau_equation\n",
      "INFO:paramiko.transport:Connected (version 2.0, client OpenSSH_7.2)\n",
      "INFO:paramiko.transport:Authentication (keyboard-interactive) successful!\n",
      "INFO:remoterun:Checking if folder /home/valdecar/projects/lab/workspace exists...\n",
      "INFO:remoterun:Workspace OK.\n",
      "INFO:remoterun:Creating/cleaning project folder: \n",
      "INFO:remoterun:Folder cleaned.\n",
      "INFO:remoterun:Creating settings folders: \n",
      "INFO:remoterun:Checking if folder /home/valdecar/projects/lab/workspace/settings exists...\n",
      "INFO:remoterun:folder /home/valdecar/projects/lab/workspace/settings alredy exist\n",
      "INFO:remoterun:Checking if folder /home/valdecar/projects/lab/workspace/settings/paths exists...\n",
      "INFO:remoterun:folder /home/valdecar/projects/lab/workspace/settings/paths alredy exist\n",
      "INFO:remoterun:Checking if folder /home/valdecar/projects/lab/workspace/settings/device_conf exists...\n",
      "INFO:remoterun:folder /home/valdecar/projects/lab/workspace/settings/device_conf alredy exist\n",
      "INFO:remoterun:settings folders created\n",
      "INFO:paramiko.transport.sftp:[chan 7] Opened sftp connection (server version 3)\n",
      "INFO:remoterun:hd_json:\n",
      "INFO:remoterun:/home/valdecar/Documents/projects/projectsNew/lab/hybriddomain/problems/1dTests/Ginzburg_Landau_equation/Ginzburg_Landau_equation.json\n",
      "INFO:remoterun:hs_json:\n",
      "INFO:remoterun:/home/valdecar/projects/lab/workspace/problems/1dTests/Ginzburg_Landau_equation/Ginzburg_Landau_equation.json\n",
      "INFO:paramiko.transport.sftp:[chan 7] sftp session closed.\n",
      "INFO:remoterun:json copied\n",
      "INFO:paramiko.transport.sftp:[chan 8] Opened sftp connection (server version 3)\n",
      "INFO:remoterun:copy dev_conf files:\n",
      "INFO:remoterun:copy /home/valdecar/Documents/projects/projectsNew/lab/hybriddomain/settings/device_conf/default.json\n",
      "INFO:remoterun:to /home/valdecar/projects/lab/workspace/settings/device_conf/default.json\n",
      "INFO:remoterun:copy /home/valdecar/Documents/projects/projectsNew/lab/hybriddomain/settings/device_conf/ics_blocks_4.json\n",
      "INFO:remoterun:to /home/valdecar/projects/lab/workspace/settings/device_conf/ics_blocks_4.json\n",
      "INFO:remoterun:copy /home/valdecar/Documents/projects/projectsNew/lab/hybriddomain/settings/device_conf/ics_other.json\n",
      "INFO:remoterun:to /home/valdecar/projects/lab/workspace/settings/device_conf/ics_other.json\n",
      "INFO:paramiko.transport.sftp:[chan 8] sftp session closed.\n",
      "INFO:remoterun:finished copy dev_conf files\n",
      "INFO:paramiko.transport.sftp:[chan 9] Opened sftp connection (server version 3)\n",
      "INFO:remoterun:copy paths files:\n",
      "INFO:remoterun:copy /home/valdecar/Documents/projects/projectsNew/lab/hybriddomain/settings/paths/paths_hs_base.json\n",
      "INFO:remoterun:to /home/valdecar/projects/lab/workspace/settings/paths/paths_hs_base.json\n",
      "INFO:paramiko.transport.sftp:[chan 9] sftp session closed.\n",
      "INFO:remoterun:finished copy paths files\n",
      "INFO:remoterun:\n",
      "Running preprocessor:\n",
      "INFO:remoterun:command:\n",
      "INFO:remoterun:cd /home/valdecar/projects/lab/hybriddomain && pwd && python3 -m gens.hs.tests.tests_gen_1d -t /home/valdecar/projects/lab/workspace/problems/1dTests/Ginzburg_Landau_equation -d default -p paths_hs_base -w /home/valdecar/projects/lab/workspace -u valdecar\n",
      "INFO:remoterun:Checking if solver executable at /home/valdecar/projects/lab/hybridsolver/bin/HS exists...\n",
      "INFO:remoterun:Solver executable found.\n",
      "INFO:remoterun:03-26 09:37:04 Performance (10^6): 231.004\n",
      "\n",
      "INFO:remoterun:INFO:postproc.video:Creating images for block 0 value U\n",
      "\n",
      "INFO:remoterun:INFO:postproc.video:Creating images for block 0 value V\n",
      "\n",
      "INFO:remoterun:INFO:postproc.video:Creating video file: 0\n",
      "\n",
      "INFO:remoterun:INFO:postproc.video:Creating out file: 0-U\n",
      "\n",
      "INFO:remoterun:INFO:postproc.video:Creating out file: 0-V\n",
      "\n",
      "INFO:remoterun:Downloading results...\n",
      "INFO:remoterun:from:\n",
      "INFO:remoterun:/home/valdecar/projects/lab/workspace/problems/1dTests/Ginzburg_Landau_equation/out\n",
      "INFO:paramiko.transport.sftp:[chan 13] Opened sftp connection (server version 3)\n",
      "INFO:paramiko.transport.sftp:[chan 13] sftp session closed.\n",
      "INFO:remoterun:Done!\n"
     ]
    },
    {
     "name": "stdout",
     "output_type": "stream",
     "text": [
      "['/home/valdecar/Documents/projects/projectsNew/lab/hybriddomain/problems/1dTests/Ginzburg_Landau_equation/out/Ginzburg_Landau_equation-res0-V.out', '/home/valdecar/Documents/projects/projectsNew/lab/hybriddomain/problems/1dTests/Ginzburg_Landau_equation/out/Ginzburg_Landau_equation-res0-U.out']\n"
     ]
    },
    {
     "name": "stderr",
     "output_type": "stream",
     "text": [
      "INFO:remoterun:project_path\n",
      "INFO:remoterun:1dTests/Ginzburg_Landau_equation\n",
      "INFO:remoterun:project_name\n",
      "INFO:remoterun:Ginzburg_Landau_equation\n",
      "INFO:paramiko.transport:Connected (version 2.0, client OpenSSH_7.2)\n",
      "INFO:paramiko.transport:Authentication (keyboard-interactive) successful!\n",
      "INFO:remoterun:Checking if folder /home/valdecar/projects/lab/workspace exists...\n",
      "INFO:remoterun:Workspace OK.\n",
      "INFO:remoterun:Creating/cleaning project folder: \n",
      "INFO:remoterun:Folder cleaned.\n",
      "INFO:remoterun:Creating settings folders: \n",
      "INFO:remoterun:Checking if folder /home/valdecar/projects/lab/workspace/settings exists...\n",
      "INFO:remoterun:folder /home/valdecar/projects/lab/workspace/settings alredy exist\n",
      "INFO:remoterun:Checking if folder /home/valdecar/projects/lab/workspace/settings/paths exists...\n",
      "INFO:remoterun:folder /home/valdecar/projects/lab/workspace/settings/paths alredy exist\n",
      "INFO:remoterun:Checking if folder /home/valdecar/projects/lab/workspace/settings/device_conf exists...\n",
      "INFO:remoterun:folder /home/valdecar/projects/lab/workspace/settings/device_conf alredy exist\n",
      "INFO:remoterun:settings folders created\n",
      "INFO:paramiko.transport.sftp:[chan 7] Opened sftp connection (server version 3)\n",
      "INFO:remoterun:hd_json:\n",
      "INFO:remoterun:/home/valdecar/Documents/projects/projectsNew/lab/hybriddomain/problems/1dTests/Ginzburg_Landau_equation/Ginzburg_Landau_equation.json\n",
      "INFO:remoterun:hs_json:\n",
      "INFO:remoterun:/home/valdecar/projects/lab/workspace/problems/1dTests/Ginzburg_Landau_equation/Ginzburg_Landau_equation.json\n",
      "INFO:paramiko.transport.sftp:[chan 7] sftp session closed.\n",
      "INFO:remoterun:json copied\n",
      "INFO:paramiko.transport.sftp:[chan 8] Opened sftp connection (server version 3)\n",
      "INFO:remoterun:copy dev_conf files:\n",
      "INFO:remoterun:copy /home/valdecar/Documents/projects/projectsNew/lab/hybriddomain/settings/device_conf/default.json\n",
      "INFO:remoterun:to /home/valdecar/projects/lab/workspace/settings/device_conf/default.json\n",
      "INFO:remoterun:copy /home/valdecar/Documents/projects/projectsNew/lab/hybriddomain/settings/device_conf/ics_blocks_4.json\n",
      "INFO:remoterun:to /home/valdecar/projects/lab/workspace/settings/device_conf/ics_blocks_4.json\n",
      "INFO:remoterun:copy /home/valdecar/Documents/projects/projectsNew/lab/hybriddomain/settings/device_conf/ics_other.json\n",
      "INFO:remoterun:to /home/valdecar/projects/lab/workspace/settings/device_conf/ics_other.json\n",
      "INFO:paramiko.transport.sftp:[chan 8] sftp session closed.\n",
      "INFO:remoterun:finished copy dev_conf files\n",
      "INFO:paramiko.transport.sftp:[chan 9] Opened sftp connection (server version 3)\n",
      "INFO:remoterun:copy paths files:\n",
      "INFO:remoterun:copy /home/valdecar/Documents/projects/projectsNew/lab/hybriddomain/settings/paths/paths_hs_base.json\n",
      "INFO:remoterun:to /home/valdecar/projects/lab/workspace/settings/paths/paths_hs_base.json\n",
      "INFO:paramiko.transport.sftp:[chan 9] sftp session closed.\n",
      "INFO:remoterun:finished copy paths files\n",
      "INFO:remoterun:\n",
      "Running preprocessor:\n",
      "INFO:remoterun:command:\n",
      "INFO:remoterun:cd /home/valdecar/projects/lab/hybriddomain && pwd && python3 -m gens.hs.tests.tests_gen_1d -t /home/valdecar/projects/lab/workspace/problems/1dTests/Ginzburg_Landau_equation -d default -p paths_hs_base -w /home/valdecar/projects/lab/workspace -u valdecar\n",
      "INFO:remoterun:Checking if solver executable at /home/valdecar/projects/lab/hybridsolver/bin/HS exists...\n",
      "INFO:remoterun:Solver executable found.\n",
      "INFO:remoterun:03-26 09:38:03 Performance (10^6): 231.007\n",
      "\n",
      "INFO:remoterun:INFO:postproc.video:Creating images for block 0 value U\n",
      "\n",
      "INFO:remoterun:INFO:postproc.video:Creating images for block 0 value V\n",
      "\n",
      "INFO:remoterun:INFO:postproc.video:Creating video file: 0\n",
      "\n",
      "INFO:remoterun:INFO:postproc.video:Creating out file: 0-U\n",
      "\n",
      "INFO:remoterun:INFO:postproc.video:Creating out file: 0-V\n",
      "\n",
      "INFO:remoterun:Downloading results...\n",
      "INFO:remoterun:from:\n",
      "INFO:remoterun:/home/valdecar/projects/lab/workspace/problems/1dTests/Ginzburg_Landau_equation/out\n",
      "INFO:paramiko.transport.sftp:[chan 13] Opened sftp connection (server version 3)\n",
      "INFO:paramiko.transport.sftp:[chan 13] sftp session closed.\n",
      "INFO:remoterun:Done!\n"
     ]
    },
    {
     "name": "stdout",
     "output_type": "stream",
     "text": [
      "['/home/valdecar/Documents/projects/projectsNew/lab/hybriddomain/problems/1dTests/Ginzburg_Landau_equation/out/Ginzburg_Landau_equation-res0-V.out', '/home/valdecar/Documents/projects/projectsNew/lab/hybriddomain/problems/1dTests/Ginzburg_Landau_equation/out/Ginzburg_Landau_equation-res0-U.out']\n"
     ]
    },
    {
     "name": "stderr",
     "output_type": "stream",
     "text": [
      "INFO:remoterun:project_path\n",
      "INFO:remoterun:1dTests/Ginzburg_Landau_equation\n",
      "INFO:remoterun:project_name\n",
      "INFO:remoterun:Ginzburg_Landau_equation\n",
      "INFO:paramiko.transport:Connected (version 2.0, client OpenSSH_7.2)\n",
      "INFO:paramiko.transport:Authentication (keyboard-interactive) successful!\n",
      "INFO:remoterun:Checking if folder /home/valdecar/projects/lab/workspace exists...\n",
      "INFO:remoterun:Workspace OK.\n",
      "INFO:remoterun:Creating/cleaning project folder: \n",
      "INFO:remoterun:Folder cleaned.\n",
      "INFO:remoterun:Creating settings folders: \n",
      "INFO:remoterun:Checking if folder /home/valdecar/projects/lab/workspace/settings exists...\n",
      "INFO:remoterun:folder /home/valdecar/projects/lab/workspace/settings alredy exist\n",
      "INFO:remoterun:Checking if folder /home/valdecar/projects/lab/workspace/settings/paths exists...\n",
      "INFO:remoterun:folder /home/valdecar/projects/lab/workspace/settings/paths alredy exist\n",
      "INFO:remoterun:Checking if folder /home/valdecar/projects/lab/workspace/settings/device_conf exists...\n",
      "INFO:remoterun:folder /home/valdecar/projects/lab/workspace/settings/device_conf alredy exist\n",
      "INFO:remoterun:settings folders created\n",
      "INFO:paramiko.transport.sftp:[chan 7] Opened sftp connection (server version 3)\n",
      "INFO:remoterun:hd_json:\n",
      "INFO:remoterun:/home/valdecar/Documents/projects/projectsNew/lab/hybriddomain/problems/1dTests/Ginzburg_Landau_equation/Ginzburg_Landau_equation.json\n",
      "INFO:remoterun:hs_json:\n",
      "INFO:remoterun:/home/valdecar/projects/lab/workspace/problems/1dTests/Ginzburg_Landau_equation/Ginzburg_Landau_equation.json\n",
      "INFO:paramiko.transport.sftp:[chan 7] sftp session closed.\n",
      "INFO:remoterun:json copied\n",
      "INFO:paramiko.transport.sftp:[chan 8] Opened sftp connection (server version 3)\n",
      "INFO:remoterun:copy dev_conf files:\n",
      "INFO:remoterun:copy /home/valdecar/Documents/projects/projectsNew/lab/hybriddomain/settings/device_conf/default.json\n",
      "INFO:remoterun:to /home/valdecar/projects/lab/workspace/settings/device_conf/default.json\n",
      "INFO:remoterun:copy /home/valdecar/Documents/projects/projectsNew/lab/hybriddomain/settings/device_conf/ics_blocks_4.json\n",
      "INFO:remoterun:to /home/valdecar/projects/lab/workspace/settings/device_conf/ics_blocks_4.json\n",
      "INFO:remoterun:copy /home/valdecar/Documents/projects/projectsNew/lab/hybriddomain/settings/device_conf/ics_other.json\n",
      "INFO:remoterun:to /home/valdecar/projects/lab/workspace/settings/device_conf/ics_other.json\n",
      "INFO:paramiko.transport.sftp:[chan 8] sftp session closed.\n",
      "INFO:remoterun:finished copy dev_conf files\n",
      "INFO:paramiko.transport.sftp:[chan 9] Opened sftp connection (server version 3)\n",
      "INFO:remoterun:copy paths files:\n",
      "INFO:remoterun:copy /home/valdecar/Documents/projects/projectsNew/lab/hybriddomain/settings/paths/paths_hs_base.json\n",
      "INFO:remoterun:to /home/valdecar/projects/lab/workspace/settings/paths/paths_hs_base.json\n",
      "INFO:paramiko.transport.sftp:[chan 9] sftp session closed.\n",
      "INFO:remoterun:finished copy paths files\n",
      "INFO:remoterun:\n",
      "Running preprocessor:\n",
      "INFO:remoterun:command:\n",
      "INFO:remoterun:cd /home/valdecar/projects/lab/hybriddomain && pwd && python3 -m gens.hs.tests.tests_gen_1d -t /home/valdecar/projects/lab/workspace/problems/1dTests/Ginzburg_Landau_equation -d default -p paths_hs_base -w /home/valdecar/projects/lab/workspace -u valdecar\n",
      "INFO:remoterun:Checking if solver executable at /home/valdecar/projects/lab/hybridsolver/bin/HS exists...\n",
      "INFO:remoterun:Solver executable found.\n",
      "INFO:remoterun:03-26 09:39:03 Performance (10^6): 230.764\n",
      "\n",
      "INFO:remoterun:INFO:postproc.video:Creating images for block 0 value U\n",
      "\n",
      "INFO:remoterun:INFO:postproc.video:Creating images for block 0 value V\n",
      "\n",
      "INFO:remoterun:INFO:postproc.video:Creating video file: 0\n",
      "\n",
      "INFO:remoterun:INFO:postproc.video:Creating out file: 0-U\n",
      "\n",
      "INFO:remoterun:INFO:postproc.video:Creating out file: 0-V\n",
      "\n",
      "INFO:remoterun:Downloading results...\n",
      "INFO:remoterun:from:\n",
      "INFO:remoterun:/home/valdecar/projects/lab/workspace/problems/1dTests/Ginzburg_Landau_equation/out\n",
      "INFO:paramiko.transport.sftp:[chan 13] Opened sftp connection (server version 3)\n",
      "INFO:paramiko.transport.sftp:[chan 13] sftp session closed.\n",
      "INFO:remoterun:Done!\n"
     ]
    },
    {
     "name": "stdout",
     "output_type": "stream",
     "text": [
      "['/home/valdecar/Documents/projects/projectsNew/lab/hybriddomain/problems/1dTests/Ginzburg_Landau_equation/out/Ginzburg_Landau_equation-res0-V.out', '/home/valdecar/Documents/projects/projectsNew/lab/hybriddomain/problems/1dTests/Ginzburg_Landau_equation/out/Ginzburg_Landau_equation-res0-U.out']\n"
     ]
    }
   ],
   "source": [
    "clear_output()\n",
    "test_name = settings.paths['model']['name']\n",
    "bTest = widgets.Button(description=\"run %s \" % (test_name))\n",
    "\n",
    "# parametrisation:\n",
    "results_params = {}\n",
    "\n",
    "def run(event):\n",
    "    model = Model()\n",
    "    model.io.loadFromFile(modelFileName)\n",
    "    \n",
    "    for params_idx in range(len(model.paramValues)):\n",
    "        \n",
    "        progress_params.succ(params_idx)\n",
    "        progress_solving.set_prefix(\"solving\")\n",
    "        \n",
    "        # changing param:\n",
    "        model.defaultParamsIndex = params_idx\n",
    "        model.io.saveToFile(modelFileName_json)\n",
    "        model = Model()\n",
    "        model.io.loadFromFile(modelFileName)\n",
    "        \n",
    "        remoteProjectRun(settings, 1, progress_solving)\n",
    "        \n",
    "        result_postproc.extract_out(params_idx, results_params)\n",
    "        result_postproc.rename_out(params_idx)\n",
    "        \n",
    "bTest.on_click(run)\n",
    "\n",
    "display(progress_params.progress)\n",
    "display(progress_solving.progress)\n",
    "\n",
    "display(bTest)\n"
   ]
  },
  {
   "cell_type": "markdown",
   "metadata": {},
   "source": [
    "### Results:"
   ]
  },
  {
   "cell_type": "code",
   "execution_count": 12,
   "metadata": {},
   "outputs": [
    {
     "data": {
      "text/plain": [
       "14"
      ]
     },
     "execution_count": 12,
     "metadata": {},
     "output_type": "execute_result"
    }
   ],
   "source": [
    "params_count = len(results_params)\n",
    "vars_count = len(results_params[0])\n",
    "progress_array = ProgressNotebook(params_count*vars_count, prefix='file')\n",
    "params_count*vars_count"
   ]
  },
  {
   "cell_type": "markdown",
   "metadata": {},
   "source": [
    "##### convert out to arrays:"
   ]
  },
  {
   "cell_type": "code",
   "execution_count": 13,
   "metadata": {},
   "outputs": [
    {
     "name": "stdout",
     "output_type": "stream",
     "text": [
      "1\n",
      "2\n",
      "3\n",
      "4\n",
      "5\n",
      "6\n",
      "7\n",
      "8\n",
      "9\n",
      "10\n",
      "11\n",
      "12\n",
      "13\n",
      "14\n"
     ]
    }
   ],
   "source": [
    "display(progress_array.progress)\n",
    "times, results_param_arrays = result_postproc.out_to_array(results_params, progress_array)"
   ]
  },
  {
   "cell_type": "code",
   "execution_count": 14,
   "metadata": {},
   "outputs": [],
   "source": [
    "# times\n",
    "# results_param_arrays[5][1][times[3]]"
   ]
  },
  {
   "cell_type": "markdown",
   "metadata": {},
   "source": [
    "### Plot:"
   ]
  },
  {
   "cell_type": "code",
   "execution_count": 14,
   "metadata": {
    "collapsed": true
   },
   "outputs": [],
   "source": [
    "import numpy as np\n",
    "import matplotlib.pyplot as plt\n",
    "from ipywidgets import interactive"
   ]
  },
  {
   "cell_type": "code",
   "execution_count": 15,
   "metadata": {},
   "outputs": [
    {
     "name": "stdout",
     "output_type": "stream",
     "text": [
      "first results:\n"
     ]
    },
    {
     "data": {
      "text/plain": [
       "[-0.0112989375, -0.00403965221, 0.00321958259]"
      ]
     },
     "metadata": {},
     "output_type": "display_data"
    },
    {
     "data": {
      "image/png": "[encoded data removed]",
      "text/plain": [
       "<matplotlib.figure.Figure at 0x7f59e3d8bcf8>"
      ]
     },
     "metadata": {},
     "output_type": "display_data"
    }
   ],
   "source": [
    "%matplotlib inline\n",
    "params_count = len(results_param_arrays.keys())-1\n",
    "vars_count = len(results_param_arrays[0].keys())-1\n",
    "times_count = len(times)-1\n",
    "\n",
    "def f(param, var, t):\n",
    "    result = results_param_arrays[param][var][times[t]]\n",
    "    plt.plot(result)\n",
    "    print(\"first results:\")\n",
    "    display(result[:3])\n",
    "w = interactive(f, param=(0, params_count, 1), var=(0, vars_count, 1), t=(0, times_count, 1))\n",
    "display(w)"
   ]
  },
  {
   "cell_type": "markdown",
   "metadata": {},
   "source": [
    "### Run solver for initials:"
   ]
  },
  {
   "cell_type": "code",
   "execution_count": 16,
   "metadata": {},
   "outputs": [
    {
     "name": "stdout",
     "output_type": "stream",
     "text": [
      "Ginzburg_Landau_equation-res0-V_seq0.out removed\n",
      "Ginzburg_Landau_equation-res0-V_seq1.out removed\n",
      "Ginzburg_Landau_equation-res0-V_seq4.out removed\n",
      "Ginzburg_Landau_equation-res0-U_seq0.out removed\n",
      "Ginzburg_Landau_equation-res0-U_seq3.out removed\n",
      "Ginzburg_Landau_equation-res0-V_seq2.out removed\n",
      "Ginzburg_Landau_equation-res0-U_seq6.out removed\n",
      "Ginzburg_Landau_equation-res0-V_seq3.out removed\n",
      "Ginzburg_Landau_equation-res0-V_seq5.out removed\n",
      "Ginzburg_Landau_equation-res0-U_seq5.out removed\n",
      "Ginzburg_Landau_equation-res0-U_seq1.out removed\n",
      "Ginzburg_Landau_equation-res0-U_seq4.out removed\n",
      "Ginzburg_Landau_equation-res0-U_seq2.out removed\n",
      "Ginzburg_Landau_equation-res0-V_seq6.out removed\n",
      "Ginzburg_Landau_equation-plot0_seq4.mp4 removed\n",
      "Ginzburg_Landau_equation-plot0_seq2.mp4 removed\n",
      "Ginzburg_Landau_equation-plot0_seq3.mp4 removed\n",
      "Ginzburg_Landau_equation-plot0_seq6.mp4 removed\n",
      "Ginzburg_Landau_equation-plot0_seq1.mp4 removed\n",
      "Ginzburg_Landau_equation-plot0_seq5.mp4 removed\n",
      "Ginzburg_Landau_equation-plot0_seq0.mp4 removed\n"
     ]
    }
   ],
   "source": [
    "result_postproc.remove_out()"
   ]
  },
  {
   "cell_type": "code",
   "execution_count": 17,
   "metadata": {},
   "outputs": [],
   "source": [
    "initials_data = [1.0, 3.0, 7.0]"
   ]
  },
  {
   "cell_type": "code",
   "execution_count": 18,
   "metadata": {
    "collapsed": true
   },
   "outputs": [],
   "source": [
    "progress_params = ProgressNotebook(len(initials_data), prefix='param')"
   ]
  },
  {
   "cell_type": "code",
   "execution_count": 19,
   "metadata": {},
   "outputs": [
    {
     "name": "stderr",
     "output_type": "stream",
     "text": [
      "INFO:remoterun:project_path\n",
      "INFO:remoterun:1dTests/Ginzburg_Landau_equation\n",
      "INFO:remoterun:project_name\n",
      "INFO:remoterun:Ginzburg_Landau_equation\n",
      "INFO:paramiko.transport:Connected (version 2.0, client OpenSSH_7.2)\n",
      "INFO:paramiko.transport:Authentication (keyboard-interactive) successful!\n",
      "INFO:remoterun:Checking if folder /home/valdecar/projects/lab/workspace exists...\n",
      "INFO:remoterun:Workspace OK.\n",
      "INFO:remoterun:Creating/cleaning project folder: \n",
      "INFO:remoterun:Folder cleaned.\n",
      "INFO:remoterun:Creating settings folders: \n",
      "INFO:remoterun:Checking if folder /home/valdecar/projects/lab/workspace/settings exists...\n",
      "INFO:remoterun:folder /home/valdecar/projects/lab/workspace/settings alredy exist\n",
      "INFO:remoterun:Checking if folder /home/valdecar/projects/lab/workspace/settings/paths exists...\n",
      "INFO:remoterun:folder /home/valdecar/projects/lab/workspace/settings/paths alredy exist\n",
      "INFO:remoterun:Checking if folder /home/valdecar/projects/lab/workspace/settings/device_conf exists...\n",
      "INFO:remoterun:folder /home/valdecar/projects/lab/workspace/settings/device_conf alredy exist\n",
      "INFO:remoterun:settings folders created\n",
      "INFO:paramiko.transport.sftp:[chan 7] Opened sftp connection (server version 3)\n",
      "INFO:remoterun:hd_json:\n",
      "INFO:remoterun:/home/valdecar/Documents/projects/projectsNew/lab/hybriddomain/problems/1dTests/Ginzburg_Landau_equation/Ginzburg_Landau_equation.json\n",
      "INFO:remoterun:hs_json:\n",
      "INFO:remoterun:/home/valdecar/projects/lab/workspace/problems/1dTests/Ginzburg_Landau_equation/Ginzburg_Landau_equation.json\n",
      "INFO:paramiko.transport.sftp:[chan 7] sftp session closed.\n",
      "INFO:remoterun:json copied\n",
      "INFO:paramiko.transport.sftp:[chan 8] Opened sftp connection (server version 3)\n",
      "INFO:remoterun:copy dev_conf files:\n",
      "INFO:remoterun:copy /home/valdecar/Documents/projects/projectsNew/lab/hybriddomain/settings/device_conf/default.json\n",
      "INFO:remoterun:to /home/valdecar/projects/lab/workspace/settings/device_conf/default.json\n",
      "INFO:remoterun:copy /home/valdecar/Documents/projects/projectsNew/lab/hybriddomain/settings/device_conf/ics_blocks_4.json\n",
      "INFO:remoterun:to /home/valdecar/projects/lab/workspace/settings/device_conf/ics_blocks_4.json\n",
      "INFO:remoterun:copy /home/valdecar/Documents/projects/projectsNew/lab/hybriddomain/settings/device_conf/ics_other.json\n",
      "INFO:remoterun:to /home/valdecar/projects/lab/workspace/settings/device_conf/ics_other.json\n",
      "INFO:paramiko.transport.sftp:[chan 8] sftp session closed.\n",
      "INFO:remoterun:finished copy dev_conf files\n",
      "INFO:paramiko.transport.sftp:[chan 9] Opened sftp connection (server version 3)\n",
      "INFO:remoterun:copy paths files:\n",
      "INFO:remoterun:copy /home/valdecar/Documents/projects/projectsNew/lab/hybriddomain/settings/paths/paths_hs_base.json\n",
      "INFO:remoterun:to /home/valdecar/projects/lab/workspace/settings/paths/paths_hs_base.json\n",
      "INFO:paramiko.transport.sftp:[chan 9] sftp session closed.\n",
      "INFO:remoterun:finished copy paths files\n",
      "INFO:remoterun:\n",
      "Running preprocessor:\n",
      "INFO:remoterun:command:\n",
      "INFO:remoterun:cd /home/valdecar/projects/lab/hybriddomain && pwd && python3 -m gens.hs.tests.tests_gen_1d -t /home/valdecar/projects/lab/workspace/problems/1dTests/Ginzburg_Landau_equation -d default -p paths_hs_base -w /home/valdecar/projects/lab/workspace -u valdecar\n",
      "INFO:remoterun:Checking if solver executable at /home/valdecar/projects/lab/hybridsolver/bin/HS exists...\n",
      "INFO:remoterun:Solver executable found.\n",
      "INFO:remoterun:03-26 09:57:16 Performance (10^6): 232.311\n",
      "\n",
      "INFO:remoterun:INFO:postproc.video:Creating images for block 0 value U\n",
      "\n",
      "INFO:remoterun:INFO:postproc.video:Creating images for block 0 value V\n",
      "\n",
      "INFO:remoterun:INFO:postproc.video:Creating video file: 0\n",
      "\n",
      "INFO:remoterun:INFO:postproc.video:Creating out file: 0-U\n",
      "\n",
      "INFO:remoterun:INFO:postproc.video:Creating out file: 0-V\n",
      "\n",
      "INFO:remoterun:Downloading results...\n",
      "INFO:remoterun:from:\n",
      "INFO:remoterun:/home/valdecar/projects/lab/workspace/problems/1dTests/Ginzburg_Landau_equation/out\n",
      "INFO:paramiko.transport.sftp:[chan 13] Opened sftp connection (server version 3)\n",
      "INFO:paramiko.transport.sftp:[chan 13] sftp session closed.\n",
      "INFO:remoterun:Done!\n"
     ]
    },
    {
     "name": "stdout",
     "output_type": "stream",
     "text": [
      "['/home/valdecar/Documents/projects/projectsNew/lab/hybriddomain/problems/1dTests/Ginzburg_Landau_equation/out/Ginzburg_Landau_equation-res0-V.out', '/home/valdecar/Documents/projects/projectsNew/lab/hybriddomain/problems/1dTests/Ginzburg_Landau_equation/out/Ginzburg_Landau_equation-res0-U.out']\n"
     ]
    },
    {
     "name": "stderr",
     "output_type": "stream",
     "text": [
      "INFO:remoterun:project_path\n",
      "INFO:remoterun:1dTests/Ginzburg_Landau_equation\n",
      "INFO:remoterun:project_name\n",
      "INFO:remoterun:Ginzburg_Landau_equation\n",
      "INFO:paramiko.transport:Connected (version 2.0, client OpenSSH_7.2)\n",
      "INFO:paramiko.transport:Authentication (keyboard-interactive) successful!\n",
      "INFO:remoterun:Checking if folder /home/valdecar/projects/lab/workspace exists...\n",
      "INFO:remoterun:Workspace OK.\n",
      "INFO:remoterun:Creating/cleaning project folder: \n",
      "INFO:remoterun:Folder cleaned.\n",
      "INFO:remoterun:Creating settings folders: \n",
      "INFO:remoterun:Checking if folder /home/valdecar/projects/lab/workspace/settings exists...\n",
      "INFO:remoterun:folder /home/valdecar/projects/lab/workspace/settings alredy exist\n",
      "INFO:remoterun:Checking if folder /home/valdecar/projects/lab/workspace/settings/paths exists...\n",
      "INFO:remoterun:folder /home/valdecar/projects/lab/workspace/settings/paths alredy exist\n",
      "INFO:remoterun:Checking if folder /home/valdecar/projects/lab/workspace/settings/device_conf exists...\n",
      "INFO:remoterun:folder /home/valdecar/projects/lab/workspace/settings/device_conf alredy exist\n",
      "INFO:remoterun:settings folders created\n",
      "INFO:paramiko.transport.sftp:[chan 7] Opened sftp connection (server version 3)\n",
      "INFO:remoterun:hd_json:\n",
      "INFO:remoterun:/home/valdecar/Documents/projects/projectsNew/lab/hybriddomain/problems/1dTests/Ginzburg_Landau_equation/Ginzburg_Landau_equation.json\n",
      "INFO:remoterun:hs_json:\n",
      "INFO:remoterun:/home/valdecar/projects/lab/workspace/problems/1dTests/Ginzburg_Landau_equation/Ginzburg_Landau_equation.json\n",
      "INFO:paramiko.transport.sftp:[chan 7] sftp session closed.\n",
      "INFO:remoterun:json copied\n",
      "INFO:paramiko.transport.sftp:[chan 8] Opened sftp connection (server version 3)\n",
      "INFO:remoterun:copy dev_conf files:\n",
      "INFO:remoterun:copy /home/valdecar/Documents/projects/projectsNew/lab/hybriddomain/settings/device_conf/default.json\n",
      "INFO:remoterun:to /home/valdecar/projects/lab/workspace/settings/device_conf/default.json\n",
      "INFO:remoterun:copy /home/valdecar/Documents/projects/projectsNew/lab/hybriddomain/settings/device_conf/ics_blocks_4.json\n",
      "INFO:remoterun:to /home/valdecar/projects/lab/workspace/settings/device_conf/ics_blocks_4.json\n",
      "INFO:remoterun:copy /home/valdecar/Documents/projects/projectsNew/lab/hybriddomain/settings/device_conf/ics_other.json\n",
      "INFO:remoterun:to /home/valdecar/projects/lab/workspace/settings/device_conf/ics_other.json\n",
      "INFO:paramiko.transport.sftp:[chan 8] sftp session closed.\n",
      "INFO:remoterun:finished copy dev_conf files\n",
      "INFO:paramiko.transport.sftp:[chan 9] Opened sftp connection (server version 3)\n",
      "INFO:remoterun:copy paths files:\n",
      "INFO:remoterun:copy /home/valdecar/Documents/projects/projectsNew/lab/hybriddomain/settings/paths/paths_hs_base.json\n",
      "INFO:remoterun:to /home/valdecar/projects/lab/workspace/settings/paths/paths_hs_base.json\n",
      "INFO:paramiko.transport.sftp:[chan 9] sftp session closed.\n",
      "INFO:remoterun:finished copy paths files\n",
      "INFO:remoterun:\n",
      "Running preprocessor:\n",
      "INFO:remoterun:command:\n",
      "INFO:remoterun:cd /home/valdecar/projects/lab/hybriddomain && pwd && python3 -m gens.hs.tests.tests_gen_1d -t /home/valdecar/projects/lab/workspace/problems/1dTests/Ginzburg_Landau_equation -d default -p paths_hs_base -w /home/valdecar/projects/lab/workspace -u valdecar\n",
      "INFO:remoterun:Checking if solver executable at /home/valdecar/projects/lab/hybridsolver/bin/HS exists...\n",
      "INFO:remoterun:Solver executable found.\n",
      "INFO:remoterun:03-26 09:58:04 Performance (10^6): 231.047\n",
      "\n",
      "INFO:remoterun:INFO:postproc.video:Creating images for block 0 value U\n",
      "\n",
      "INFO:remoterun:INFO:postproc.video:Creating images for block 0 value V\n",
      "\n",
      "INFO:remoterun:INFO:postproc.video:Creating video file: 0\n",
      "\n",
      "INFO:remoterun:INFO:postproc.video:Creating out file: 0-U\n",
      "\n",
      "INFO:remoterun:INFO:postproc.video:Creating out file: 0-V\n",
      "\n",
      "INFO:remoterun:Downloading results...\n",
      "INFO:remoterun:from:\n",
      "INFO:remoterun:/home/valdecar/projects/lab/workspace/problems/1dTests/Ginzburg_Landau_equation/out\n",
      "INFO:paramiko.transport.sftp:[chan 13] Opened sftp connection (server version 3)\n",
      "INFO:paramiko.transport.sftp:[chan 13] sftp session closed.\n",
      "INFO:remoterun:Done!\n",
      "INFO:remoterun:project_path\n",
      "INFO:remoterun:1dTests/Ginzburg_Landau_equation\n",
      "INFO:remoterun:project_name\n",
      "INFO:remoterun:Ginzburg_Landau_equation\n"
     ]
    },
    {
     "name": "stdout",
     "output_type": "stream",
     "text": [
      "['/home/valdecar/Documents/projects/projectsNew/lab/hybriddomain/problems/1dTests/Ginzburg_Landau_equation/out/Ginzburg_Landau_equation-res0-V.out', '/home/valdecar/Documents/projects/projectsNew/lab/hybriddomain/problems/1dTests/Ginzburg_Landau_equation/out/Ginzburg_Landau_equation-res0-U.out']\n"
     ]
    },
    {
     "name": "stderr",
     "output_type": "stream",
     "text": [
      "INFO:paramiko.transport:Connected (version 2.0, client OpenSSH_7.2)\n",
      "INFO:paramiko.transport:Authentication (keyboard-interactive) successful!\n",
      "INFO:remoterun:Checking if folder /home/valdecar/projects/lab/workspace exists...\n",
      "INFO:remoterun:Workspace OK.\n",
      "INFO:remoterun:Creating/cleaning project folder: \n",
      "INFO:remoterun:Folder cleaned.\n",
      "INFO:remoterun:Creating settings folders: \n",
      "INFO:remoterun:Checking if folder /home/valdecar/projects/lab/workspace/settings exists...\n",
      "INFO:remoterun:folder /home/valdecar/projects/lab/workspace/settings alredy exist\n",
      "INFO:remoterun:Checking if folder /home/valdecar/projects/lab/workspace/settings/paths exists...\n",
      "INFO:remoterun:folder /home/valdecar/projects/lab/workspace/settings/paths alredy exist\n",
      "INFO:remoterun:Checking if folder /home/valdecar/projects/lab/workspace/settings/device_conf exists...\n",
      "INFO:remoterun:folder /home/valdecar/projects/lab/workspace/settings/device_conf alredy exist\n",
      "INFO:remoterun:settings folders created\n",
      "INFO:paramiko.transport.sftp:[chan 7] Opened sftp connection (server version 3)\n",
      "INFO:remoterun:hd_json:\n",
      "INFO:remoterun:/home/valdecar/Documents/projects/projectsNew/lab/hybriddomain/problems/1dTests/Ginzburg_Landau_equation/Ginzburg_Landau_equation.json\n",
      "INFO:remoterun:hs_json:\n",
      "INFO:remoterun:/home/valdecar/projects/lab/workspace/problems/1dTests/Ginzburg_Landau_equation/Ginzburg_Landau_equation.json\n",
      "INFO:paramiko.transport.sftp:[chan 7] sftp session closed.\n",
      "INFO:remoterun:json copied\n",
      "INFO:paramiko.transport.sftp:[chan 8] Opened sftp connection (server version 3)\n",
      "INFO:remoterun:copy dev_conf files:\n",
      "INFO:remoterun:copy /home/valdecar/Documents/projects/projectsNew/lab/hybriddomain/settings/device_conf/default.json\n",
      "INFO:remoterun:to /home/valdecar/projects/lab/workspace/settings/device_conf/default.json\n",
      "INFO:remoterun:copy /home/valdecar/Documents/projects/projectsNew/lab/hybriddomain/settings/device_conf/ics_blocks_4.json\n",
      "INFO:remoterun:to /home/valdecar/projects/lab/workspace/settings/device_conf/ics_blocks_4.json\n",
      "INFO:remoterun:copy /home/valdecar/Documents/projects/projectsNew/lab/hybriddomain/settings/device_conf/ics_other.json\n",
      "INFO:remoterun:to /home/valdecar/projects/lab/workspace/settings/device_conf/ics_other.json\n",
      "INFO:paramiko.transport.sftp:[chan 8] sftp session closed.\n",
      "INFO:remoterun:finished copy dev_conf files\n",
      "INFO:paramiko.transport.sftp:[chan 9] Opened sftp connection (server version 3)\n",
      "INFO:remoterun:copy paths files:\n",
      "INFO:remoterun:copy /home/valdecar/Documents/projects/projectsNew/lab/hybriddomain/settings/paths/paths_hs_base.json\n",
      "INFO:remoterun:to /home/valdecar/projects/lab/workspace/settings/paths/paths_hs_base.json\n",
      "INFO:paramiko.transport.sftp:[chan 9] sftp session closed.\n",
      "INFO:remoterun:finished copy paths files\n",
      "INFO:remoterun:\n",
      "Running preprocessor:\n",
      "INFO:remoterun:command:\n",
      "INFO:remoterun:cd /home/valdecar/projects/lab/hybriddomain && pwd && python3 -m gens.hs.tests.tests_gen_1d -t /home/valdecar/projects/lab/workspace/problems/1dTests/Ginzburg_Landau_equation -d default -p paths_hs_base -w /home/valdecar/projects/lab/workspace -u valdecar\n",
      "INFO:remoterun:Checking if solver executable at /home/valdecar/projects/lab/hybridsolver/bin/HS exists...\n",
      "INFO:remoterun:Solver executable found.\n",
      "INFO:remoterun:03-26 09:58:46 Performance (10^6): 230.437\n",
      "\n",
      "INFO:remoterun:INFO:postproc.video:Creating images for block 0 value U\n",
      "\n",
      "INFO:remoterun:INFO:postproc.video:Creating images for block 0 value V\n",
      "\n",
      "INFO:remoterun:INFO:postproc.video:Creating video file: 0\n",
      "\n",
      "INFO:remoterun:INFO:postproc.video:Creating out file: 0-U\n",
      "\n",
      "INFO:remoterun:INFO:postproc.video:Creating out file: 0-V\n",
      "\n",
      "INFO:remoterun:Downloading results...\n",
      "INFO:remoterun:from:\n",
      "INFO:remoterun:/home/valdecar/projects/lab/workspace/problems/1dTests/Ginzburg_Landau_equation/out\n",
      "INFO:paramiko.transport.sftp:[chan 13] Opened sftp connection (server version 3)\n",
      "INFO:paramiko.transport.sftp:[chan 13] sftp session closed.\n",
      "INFO:remoterun:Done!\n"
     ]
    },
    {
     "name": "stdout",
     "output_type": "stream",
     "text": [
      "['/home/valdecar/Documents/projects/projectsNew/lab/hybriddomain/problems/1dTests/Ginzburg_Landau_equation/out/Ginzburg_Landau_equation-res0-V.out', '/home/valdecar/Documents/projects/projectsNew/lab/hybriddomain/problems/1dTests/Ginzburg_Landau_equation/out/Ginzburg_Landau_equation-res0-U.out']\n"
     ]
    }
   ],
   "source": [
    "clear_output()\n",
    "test_name = settings.paths['model']['name']\n",
    "bTest = widgets.Button(description=\"run %s \" % (test_name))\n",
    "\n",
    "# parametrisation:\n",
    "results_initials = {}\n",
    "\n",
    "def run(event):\n",
    "    model = Model()\n",
    "    model.io.loadFromFile(modelFileName)\n",
    "    \n",
    "    for initials_idx, initial_val in enumerate(initials_data):\n",
    "        \n",
    "        progress_params.succ(initials_idx)\n",
    "        progress_solving.set_prefix(\"solving\")\n",
    "        \n",
    "        # changing initials:\n",
    "        new_equation_sent = str(initial_val)+\"*sin(x)\"\n",
    "        model.initials[0].values[0] = new_equation_sent\n",
    "        \n",
    "        model.io.saveToFile(modelFileName_json)\n",
    "        model = Model()\n",
    "        model.io.loadFromFile(modelFileName)\n",
    "        \n",
    "        remoteProjectRun(settings, 1, progress_solving)\n",
    "        \n",
    "        result_postproc.extract_out(initials_idx, results_initials)\n",
    "        result_postproc.rename_out(initials_idx)\n",
    "                \n",
    "bTest.on_click(run)\n",
    "\n",
    "display(progress_params.progress)\n",
    "display(progress_solving.progress)\n",
    "\n",
    "display(bTest)"
   ]
  },
  {
   "cell_type": "markdown",
   "metadata": {},
   "source": [
    "### Results initials:"
   ]
  },
  {
   "cell_type": "code",
   "execution_count": 22,
   "metadata": {},
   "outputs": [
    {
     "data": {
      "text/plain": [
       "6"
      ]
     },
     "execution_count": 22,
     "metadata": {},
     "output_type": "execute_result"
    }
   ],
   "source": [
    "initials_count = len(results_initials)\n",
    "vars_count = len(results_initials[0])\n",
    "progress_array = ProgressNotebook(initials_count*vars_count, prefix='file')\n",
    "initials_count*vars_count"
   ]
  },
  {
   "cell_type": "markdown",
   "metadata": {},
   "source": [
    "##### convert out to arrays:"
   ]
  },
  {
   "cell_type": "code",
   "execution_count": 21,
   "metadata": {},
   "outputs": [
    {
     "name": "stdout",
     "output_type": "stream",
     "text": [
      "1\n",
      "2\n",
      "3\n",
      "4\n",
      "5\n",
      "6\n"
     ]
    }
   ],
   "source": [
    "display(progress_array.progress)\n",
    "times, results_initial_arrays = result_postproc.out_to_array(results_initials, progress_array)"
   ]
  },
  {
   "cell_type": "markdown",
   "metadata": {},
   "source": [
    "### Plot initials:"
   ]
  },
  {
   "cell_type": "code",
   "execution_count": 24,
   "metadata": {},
   "outputs": [
    {
     "name": "stdout",
     "output_type": "stream",
     "text": [
      "first results:\n"
     ]
    },
    {
     "data": {
      "text/plain": [
       "[0.0, 0.0029999995, 0.005999996]"
      ]
     },
     "metadata": {},
     "output_type": "display_data"
    },
    {
     "data": {
      "image/png": "[encoded data removed]",
      "text/plain": [
       "<matplotlib.figure.Figure at 0x7f59e98e3898>"
      ]
     },
     "metadata": {},
     "output_type": "display_data"
    }
   ],
   "source": [
    "%matplotlib inline\n",
    "initials_count = len(results_initial_arrays.keys())-1\n",
    "vars_count = len(results_initial_arrays[0].keys())-1\n",
    "times_count = len(times)-1\n",
    "\n",
    "def f(param, var, t):\n",
    "    result = results_initial_arrays[param][var][times[t]]\n",
    "    plt.plot(result)\n",
    "    print(\"first results:\")\n",
    "    display(result[:3])\n",
    "w = interactive(f, param=(0, initials_count, 1), var=(0, vars_count, 1), t=(0, times_count, 1))\n",
    "display(w)"
   ]
  },
  {
   "cell_type": "markdown",
   "metadata": {},
   "source": [
    "##### U(x-fixed, t):"
   ]
  },
  {
   "cell_type": "code",
   "execution_count": 20,
   "metadata": {},
   "outputs": [
    {
     "data": {
      "image/png": "[encoded data removed]",
      "text/plain": [
       "<matplotlib.figure.Figure at 0x7fd1a85e5e10>"
      ]
     },
     "metadata": {},
     "output_type": "display_data"
    }
   ],
   "source": [
    "'''\n",
    "%matplotlib inline\n",
    "def f(x):\n",
    "    plt.plot(time, result_x[x])\n",
    "w = interactive(f,x=(0,5,1))\n",
    "display(w)\n",
    "'''"
   ]
  },
  {
   "cell_type": "code",
   "execution_count": 42,
   "metadata": {},
   "outputs": [
    {
     "data": {
      "text/plain": [
       "array([[  0.00000000e+00,   2.06940070e-01,   2.81882260e-01, ...,\n",
       "          9.95086190e-01,   9.93937430e-01,   9.92861500e-01],\n",
       "       [  1.00000000e-02,   2.07092350e-01,   2.81968170e-01, ...,\n",
       "          9.95086210e-01,   9.93937450e-01,   9.92861520e-01],\n",
       "       [  2.00000000e-02,   2.07548850e-01,   2.82225810e-01, ...,\n",
       "          9.95086290e-01,   9.93937530e-01,   9.92861590e-01],\n",
       "       [  9.98000000e+00,   1.64705428e+01,   1.49028631e+01, ...,\n",
       "          1.00563151e+00,   1.00412596e+00,   1.00259925e+00],\n",
       "       [  9.99000000e+00,   1.64713898e+01,   1.49034085e+01, ...,\n",
       "          1.00563158e+00,   1.00412604e+00,   1.00259932e+00],\n",
       "       [  1.00000000e+01,   1.64716723e+01,   1.49035904e+01, ...,\n",
       "          1.00563161e+00,   1.00412606e+00,   1.00259934e+00]])"
      ]
     },
     "execution_count": 42,
     "metadata": {},
     "output_type": "execute_result"
    }
   ],
   "source": [
    "result_x"
   ]
  },
  {
   "cell_type": "code",
   "execution_count": null,
   "metadata": {
    "collapsed": true
   },
   "outputs": [],
   "source": []
  }
 ],
 "metadata": {
  "kernelspec": {
   "display_name": "Python 3",
   "language": "python",
   "name": "python3"
  },
  "language_info": {
   "codemirror_mode": {
    "name": "ipython",
    "version": 3
   },
   "file_extension": ".py",
   "mimetype": "text/x-python",
   "name": "python",
   "nbconvert_exporter": "python",
   "pygments_lexer": "ipython3",
   "version": "3.6.5"
  }
 },
 "nbformat": 4,
 "nbformat_minor": 2
}
