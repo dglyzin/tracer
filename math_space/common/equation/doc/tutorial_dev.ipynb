{
 "cells": [
  {
   "cell_type": "code",
   "execution_count": 1,
   "metadata": {
    "collapsed": false
   },
   "outputs": [
    {
     "name": "stdout",
     "output_type": "stream",
     "text": [
      "/home/valdecar/Documents/projects/projectsNew/lab/hybriddomain/\n"
     ]
    }
   ],
   "source": [
    "import os\n",
    "import sys\n",
    "import inspect\n",
    "\n",
    "# insert hybriddomain dir into sys\n",
    "# hybriddomain must contain math_space folder:\n",
    "currentdir = os.path.dirname(os.path.abspath(inspect.getfile(inspect.currentframe())))\n",
    "hd = currentdir.find(\"math_space\")\n",
    "print(currentdir[:hd])\n",
    "sys.path.insert(0, currentdir[:hd])"
   ]
  },
  {
   "cell_type": "code",
   "execution_count": 2,
   "metadata": {
    "collapsed": true
   },
   "outputs": [],
   "source": [
    "from math_space.common.equation.equation import Equation\n",
    "from math_space.common.equation.tokenizer.lex import lex\n",
    "\n",
    "from math_space.common.equation.equation import map_tree, map_tree_postproc\n"
   ]
  },
  {
   "cell_type": "markdown",
   "metadata": {},
   "source": [
    "Для преобразования термов wolfram в cpp можно было использовать обычный лексический анализ с помощью re: "
   ]
  },
  {
   "cell_type": "code",
   "execution_count": 9,
   "metadata": {
    "collapsed": false
   },
   "outputs": [
    {
     "name": "stdout",
     "output_type": "stream",
     "text": [
      "['-', '*', '(DXM2 * (source[0][idx + 1 * Block0StrideX * Block0CELLSIZE + 0] - 2.0 * source[0][idx + 0 * Block0StrideX * Block0CELLSIZE + 0] + source[0][idx-1 * Block0StrideX * Block0CELLSIZE + 0]))', 'params[2]', 'source[0][idx + 0]']\n"
     ]
    }
   ],
   "source": [
    "\n",
    "eq = Equation(\"U-c*D[U,{x,2}]\")\n",
    "eq.parse()\n",
    "eq.set_default()\n",
    "\n",
    "# make tokenization:\n",
    "lexem = lex(eq.sent)\n",
    "\n",
    "# convert lexem for cpp replacer:\n",
    "eq.prefix = lexem\n",
    "eq.convert_to_node()\n",
    "\n",
    "lexem = eq.eq_tree\n",
    "\n",
    "# replace:\n",
    "cpp_map = [map_tree(term, eq.tree_cpp_replacer)\n",
    "           for term in lexem]\n",
    "out = [map_tree_postproc(term, eq.tree_cpp_replacer)\n",
    "       for term in cpp_map]\n",
    "\n",
    "print([o.cpp.out for o in out])\n"
   ]
  },
  {
   "cell_type": "markdown",
   "metadata": {},
   "source": [
    "Однако, некоторые термы не потдаются лексическому разбору, например скобочные (функции, pow). Так, в следующем примере неопределенность к какому терму принадлежит скобка \"(\" перед U. Поэтому возникает необходимость использовать синтаксический анализ (восходящий разбор с использованием алгоритма Кока — Янгера — Касами https://en.wikipedia.org/wiki/CYK_algorithm) "
   ]
  },
  {
   "cell_type": "code",
   "execution_count": 4,
   "metadata": {
    "collapsed": false
   },
   "outputs": [
    {
     "name": "stdout",
     "output_type": "stream",
     "text": [
      "source[0][idx + 0]=pow(source[1][idx + 1]+(source[0][idx + 0]+source[0][idx + 1]),3)\n"
     ]
    }
   ],
   "source": [
    "eq_pow = Equation(\"U'=(V(t-3.1)+(U+V))^3\")\n",
    "eq_pow.parse()\n",
    "eq_pow.set_default()\n",
    "eq_pow.map_cpp()\n",
    "eq_pow.show_cpp()"
   ]
  },
  {
   "cell_type": "code",
   "execution_count": null,
   "metadata": {
    "collapsed": true
   },
   "outputs": [],
   "source": []
  }
 ],
 "metadata": {
  "kernelspec": {
   "display_name": "Python 3",
   "language": "python",
   "name": "python3"
  },
  "language_info": {
   "codemirror_mode": {
    "name": "ipython",
    "version": 3
   },
   "file_extension": ".py",
   "mimetype": "text/x-python",
   "name": "python",
   "nbconvert_exporter": "python",
   "pygments_lexer": "ipython3",
   "version": "3.6.0"
  }
 },
 "nbformat": 4,
 "nbformat_minor": 2
}
