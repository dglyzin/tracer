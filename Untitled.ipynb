{
 "cells": [
  {
   "cell_type": "code",
   "execution_count": 1,
   "metadata": {
    "collapsed": false
   },
   "outputs": [],
   "source": [
    "from IPython.display import HTML, display, clear_output\n",
    "from domainmodel.criminal.notebooks_src.frontend_run import FrontState\n",
    "import domainmodel.criminal.notebooks_src.frontend_run as frontend\n",
    "from domainmodel.criminal.notebooks_src.login import LoginForm\n",
    "from domainmodel.criminal.notebooks_src.base import BaseState\n",
    "\n",
    "import IPython\n",
    "import os\n",
    "params = {}"
   ]
  },
  {
   "cell_type": "code",
   "execution_count": 2,
   "metadata": {
    "collapsed": false
   },
   "outputs": [
    {
     "data": {
      "text/html": [
       "\n",
       "            <script>\n",
       "            //$( document ).ready(function(){\n",
       "            \n",
       "            // update solver cell:\n",
       "            try {\n",
       "                for (var i = 4; i < 30; i++){\n",
       "                      var cell = IPython.notebook.get_cell(i);\n",
       "                      cell.execute();\n",
       "                   }\n",
       "            }\n",
       "            catch(error){\n",
       "               console.log(\"too many cells to update \");\n",
       "            }\n",
       "            \n",
       "            //})\n",
       "            </script>\n",
       "            "
      ],
      "text/plain": [
       "<IPython.core.display.HTML object>"
      ]
     },
     "metadata": {},
     "output_type": "display_data"
    },
    {
     "data": {
      "text/plain": [
       "'file selected:'"
      ]
     },
     "metadata": {},
     "output_type": "display_data"
    },
    {
     "data": {
      "text/plain": [
       "'config/example/connection_tester.json'"
      ]
     },
     "metadata": {},
     "output_type": "display_data"
    }
   ],
   "source": [
    "'''\n",
    "bState = BaseState()\n",
    "bState.set_callbacks()\n",
    "bState.show()\n",
    "'''\n",
    "lState = LoginForm(params)\n",
    "lState.set_callbacks()\n",
    "lState.show()\n",
    "\n"
   ]
  },
  {
   "cell_type": "code",
   "execution_count": 3,
   "metadata": {
    "collapsed": false
   },
   "outputs": [
    {
     "data": {
      "text/html": [
       "<script>\n",
       "code_show=true; \n",
       "function code_toggle() {\n",
       " if (code_show){\n",
       "     $('div.input').hide();\n",
       " } else {\n",
       "     $('div.input').show();\n",
       " }\n",
       " code_show = !code_show\n",
       "} \n",
       "$( document ).ready(code_toggle);\n",
       "</script>\n",
       "<form action=\"javascript:code_toggle()\"><input type=\"submit\" \n",
       "value=\"hide/unhide code.\"></form>"
      ],
      "text/plain": [
       "<IPython.core.display.HTML object>"
      ]
     },
     "execution_count": 3,
     "metadata": {},
     "output_type": "execute_result"
    }
   ],
   "source": [
    "json_file_name = None\n",
    "HTML('''<script>\n",
    "code_show=true; \n",
    "function code_toggle() {\n",
    " if (code_show){\n",
    "     $('div.input').hide();\n",
    " } else {\n",
    "     $('div.input').show();\n",
    " }\n",
    " code_show = !code_show\n",
    "} \n",
    "$( document ).ready(code_toggle);\n",
    "</script>\n",
    "<form action=\"javascript:code_toggle()\"><input type=\"submit\" \n",
    "value=\"hide/unhide code.\"></form>''') \n"
   ]
  },
  {
   "cell_type": "code",
   "execution_count": 4,
   "metadata": {
    "collapsed": false
   },
   "outputs": [
    {
     "data": {
      "text/plain": [
       "{}"
      ]
     },
     "execution_count": 4,
     "metadata": {},
     "output_type": "execute_result"
    }
   ],
   "source": [
    "'''\n",
    "current = os.getcwd()\n",
    "\n",
    "tracer_folder = os.path.dirname(current)\n",
    "display(\"tracer_folder\")\n",
    "display(tracer_folder)\n",
    "\n",
    "out_files_name = 'projects_folder/out'\n",
    "out_files_path = os.path.join(tracer_folder, out_files_name)\n",
    "display(\"out_files_path\")\n",
    "display(out_files_path)\n",
    "\n",
    "\n",
    "test_file = 'hybriddomain/tests/2dTests/test2d_two_blocks1.json'\n",
    "test_file_path = os.path.join(tracer_folder, test_file)\n",
    "display(\"test_file_path\")\n",
    "display(test_file_path)\n",
    "\n",
    "params = {\n",
    "    'affinity': None,\n",
    "    'cont': None,\n",
    "    'fileName': test_file_path,\n",
    "    'finish': None,\n",
    "    'jobId': None,\n",
    "    'mpimap': None,\n",
    "    'nocppgen': None,\n",
    "    'nodes': 'dnode1',\n",
    "    'nortpng': None,\n",
    "    'outFileName': out_files_path,\n",
    "    'partition': None,\n",
    "    'tracerFolder': tracer_folder\n",
    "}\n",
    "'''\n",
    "pass\n",
    "params"
   ]
  },
  {
   "cell_type": "code",
   "execution_count": 11,
   "metadata": {
    "collapsed": false
   },
   "outputs": [
    {
     "data": {
      "text/html": [
       "<script> \n",
       "$( document ).ready(function(){\n",
       "require(['tree/js/notebooklist',\n",
       "         'base/js/utils',\n",
       "         'contents'],\n",
       "        function(notebooklist, utils, contents){\n",
       "        \n",
       "            // button file click:\n",
       "            $(\"#button_file\").on(\"click\", function(event){\n",
       "\n",
       "                // getting file:\n",
       "                var selected_file = document.getElementById('input_file').files[0]\n",
       "\n",
       "                var file_reader = new FileReader();\n",
       "\n",
       "                // onload event handler:\n",
       "                var reader_onload = function (event_r) {\n",
       "                    \n",
       "                    // file when all upload source functions is located:\n",
       "                    // notebooklist.NotebookList.prototype\n",
       "\n",
       "                    console.log(\"IPython\");\n",
       "                    console.log(IPython);\n",
       "                    \n",
       "                    console.log(\"notebook path\");\n",
       "                    console.log(utils.get_body_data(\"notebookPath\"));\n",
       "\n",
       "                    // file data:\n",
       "                    var filename = selected_file.name  // event_r.target.name;\n",
       "                    var path = utils.url_path_join(\"tests\", filename);    \n",
       "                    var filedata = event_r.target.result;\n",
       "\n",
       "                    // FOR model:\n",
       "                    var model = { name: filename, path: path };\n",
       "                    model.type = 'file';\n",
       "                    model.format = 'text';\n",
       "                    model.content = filedata;\n",
       "\n",
       "                    console.log(\"model\");\n",
       "                    console.log(model);\n",
       "                    // END FOR\n",
       "\n",
       "\n",
       "                    // FOR save file to server:\n",
       "                    var cont = new contents.Contents({base_url:IPython.contents.base_url});\n",
       "                    console.log(\"cont\");\n",
       "                    console.log(cont);\n",
       "\n",
       "                    cont.save(path, model);\n",
       "                    // END FOR\n",
       "                    \n",
       "                    // save json location:\n",
       "                    Jupyter.notebook.kernel.execute(`json_file_name = \"${filename}\"`);\n",
       "                    console.log(`json_file_name = \"${filename}\"`)\n",
       "                    \n",
       "                    // update solver cell:\n",
       "                    var cell = IPython.notebook.get_cell(5);\n",
       "                    cell.execute();\n",
       "                    cell.focus_cell();\n",
       "                };\n",
       "\n",
       "                file_reader.onload=reader_onload;\n",
       "\n",
       "                // file_reader.readAsArrayBuffer(selected_file);\n",
       "                file_reader.readAsText(selected_file);\n",
       "            }) // on\n",
       "    }) // require\n",
       "}); // redy\n",
       "</script>\n",
       "\n",
       "<input id=\"input_file\" type=\"file\" text=\"choice json\">\n",
       "<input id=\"button_file\" type=\"button\" value=\"send to server\">\n"
      ],
      "text/plain": [
       "<IPython.core.display.HTML object>"
      ]
     },
     "execution_count": 11,
     "metadata": {},
     "output_type": "execute_result"
    }
   ],
   "source": [
    "''' Send json from used machine to jupyter server.\n",
    "Update cell 5 (with solver) so new file appear in it's Dropdown.\n",
    "'''\n",
    "\n",
    "HTML('''<script> \n",
    "$( document ).ready(function(){\n",
    "require(['tree/js/notebooklist',\n",
    "         'base/js/utils',\n",
    "         'contents'],\n",
    "        function(notebooklist, utils, contents){\n",
    "        \n",
    "            // button file click:\n",
    "            $(\"#button_file\").on(\"click\", function(event){\n",
    "\n",
    "                // getting file:\n",
    "                var selected_file = document.getElementById('input_file').files[0]\n",
    "\n",
    "                var file_reader = new FileReader();\n",
    "\n",
    "                // onload event handler:\n",
    "                var reader_onload = function (event_r) {\n",
    "                    \n",
    "                    // file when all upload source functions is located:\n",
    "                    // notebooklist.NotebookList.prototype\n",
    "\n",
    "                    console.log(\"IPython\");\n",
    "                    console.log(IPython);\n",
    "                    \n",
    "                    console.log(\"notebook path\");\n",
    "                    console.log(utils.get_body_data(\"notebookPath\"));\n",
    "\n",
    "                    // file data:\n",
    "                    var filename = selected_file.name  // event_r.target.name;\n",
    "                    var path = utils.url_path_join(\"tests\", filename);    \n",
    "                    var filedata = event_r.target.result;\n",
    "\n",
    "                    // FOR model:\n",
    "                    var model = { name: filename, path: path };\n",
    "                    model.type = 'file';\n",
    "                    model.format = 'text';\n",
    "                    model.content = filedata;\n",
    "\n",
    "                    console.log(\"model\");\n",
    "                    console.log(model);\n",
    "                    // END FOR\n",
    "\n",
    "\n",
    "                    // FOR save file to server:\n",
    "                    var cont = new contents.Contents({base_url:IPython.contents.base_url});\n",
    "                    console.log(\"cont\");\n",
    "                    console.log(cont);\n",
    "\n",
    "                    cont.save(path, model);\n",
    "                    // END FOR\n",
    "                    \n",
    "                    // save json location:\n",
    "                    Jupyter.notebook.kernel.execute(`json_file_name = \"${filename}\"`);\n",
    "                    console.log(`json_file_name = \"${filename}\"`)\n",
    "                    \n",
    "                    // update solver cell:\n",
    "                    var cell = IPython.notebook.get_cell(5);\n",
    "                    cell.execute();\n",
    "                    cell.focus_cell();\n",
    "                };\n",
    "\n",
    "                file_reader.onload=reader_onload;\n",
    "\n",
    "                // file_reader.readAsArrayBuffer(selected_file);\n",
    "                file_reader.readAsText(selected_file);\n",
    "            }) // on\n",
    "    }) // require\n",
    "}); // redy\n",
    "</script>\n",
    "\n",
    "<input id=\"input_file\" type=\"file\" text=\"choice json\">\n",
    "<input id=\"button_file\" type=\"button\" value=\"send to server\">\n",
    "''') "
   ]
  },
  {
   "cell_type": "code",
   "execution_count": 12,
   "metadata": {
    "collapsed": false
   },
   "outputs": [
    {
     "data": {
      "text/plain": [
       "'tracer_folder'"
      ]
     },
     "metadata": {},
     "output_type": "display_data"
    },
    {
     "data": {
      "text/plain": [
       "'choice json file'"
      ]
     },
     "metadata": {},
     "output_type": "display_data"
    }
   ],
   "source": [
    "''' Login form must be used first.\n",
    "Then previous cell (optional, for adding new files).\n",
    "Solve - run remoterun.py config_file model_file \n",
    "        with -w from model_file, -p exp\n",
    "show result - video\n",
    "clear - delite video\n",
    "'''\n",
    "try:\n",
    "    login_file = params['login_file']\n",
    "    fState = FrontState(params['login_file'])\n",
    "    fState.set_callbacks()\n",
    "    fState.show()\n",
    "except:\n",
    "    clear_output()\n",
    "    display(\"choice login first\")\n"
   ]
  },
  {
   "cell_type": "code",
   "execution_count": 13,
   "metadata": {
    "collapsed": false
   },
   "outputs": [],
   "source": [
    "# frontend.run_solver(params)"
   ]
  },
  {
   "cell_type": "code",
   "execution_count": 14,
   "metadata": {
    "collapsed": false
   },
   "outputs": [
    {
     "data": {
      "text/html": [
       "<script> \n",
       "$( document ).ready(function(){\n",
       "    \n",
       "    // button file click:\n",
       "    $(\"#upload_b\").on(\"click\", function(event){\n",
       "        require(['tree/js/notebooklist'],function(notebooklist){\n",
       "            var cell = IPython.notebook.get_cell(1);\n",
       "            cell.execute();\n",
       "            cell.focus_cell();\n",
       "        });\n",
       "    \n",
       "    });\n",
       "});\n",
       "</script>\n",
       "\n",
       "<input id=\"upload_b\" type=\"button\" value=\"Upload\" text=\"Upload\">\n"
      ],
      "text/plain": [
       "<IPython.core.display.HTML object>"
      ]
     },
     "execution_count": 14,
     "metadata": {},
     "output_type": "execute_result"
    }
   ],
   "source": [
    "HTML('''<script> \n",
    "$( document ).ready(function(){\n",
    "    \n",
    "    // button file click:\n",
    "    $(\"#upload_b\").on(\"click\", function(event){\n",
    "        require(['tree/js/notebooklist'],function(notebooklist){\n",
    "            var cell = IPython.notebook.get_cell(1);\n",
    "            cell.execute();\n",
    "            cell.focus_cell();\n",
    "        });\n",
    "    \n",
    "    });\n",
    "});\n",
    "</script>\n",
    "\n",
    "<input id=\"upload_b\" type=\"button\" value=\"Upload\" text=\"Upload\">\n",
    "''') "
   ]
  },
  {
   "cell_type": "code",
   "execution_count": 15,
   "metadata": {
    "collapsed": false
   },
   "outputs": [],
   "source": [
    "import ipywidgets as widgets"
   ]
  },
  {
   "cell_type": "code",
   "execution_count": 16,
   "metadata": {
    "collapsed": false
   },
   "outputs": [],
   "source": [
    "# (fState.others['model'].value).split('.')[0]+'.mp4'\n"
   ]
  },
  {
   "cell_type": "code",
   "execution_count": null,
   "metadata": {
    "collapsed": true
   },
   "outputs": [],
   "source": []
  }
 ],
 "metadata": {
  "kernelspec": {
   "display_name": "Python 3",
   "language": "python",
   "name": "python3"
  },
  "language_info": {
   "codemirror_mode": {
    "name": "ipython",
    "version": 3
   },
   "file_extension": ".py",
   "mimetype": "text/x-python",
   "name": "python",
   "nbconvert_exporter": "python",
   "pygments_lexer": "ipython3",
   "version": "3.6.0"
  },
  "widgets": {
   "state": {
    "016e9f518c0247eea3a56f88befef525": {
     "views": [
      {
       "cell_index": 1
      }
     ]
    },
    "b034c59f2c9742aea9ef14d66d2f281f": {
     "views": [
      {
       "cell_index": 5
      }
     ]
    }
   },
   "version": "1.2.0"
  }
 },
 "nbformat": 4,
 "nbformat_minor": 2
}
