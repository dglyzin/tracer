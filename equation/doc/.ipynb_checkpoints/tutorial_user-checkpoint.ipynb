{
 "cells": [
  {
   "cell_type": "code",
   "execution_count": 1,
   "metadata": {
    "collapsed": false
   },
   "outputs": [
    {
     "name": "stdout",
     "output_type": "stream",
     "text": [
      "/home/valdecar/Documents/projects/projectsNew/lab/hybriddomain/equation\n"
     ]
    }
   ],
   "source": [
    "import os\n",
    "import sys\n",
    "import inspect\n",
    "currentdir = os.path.dirname(os.path.abspath(inspect.getfile(inspect.currentframe())))\n",
    "parentdir = os.path.dirname(currentdir)\n",
    "sys.path.insert(0, parentdir)\n",
    "print(parentdir)"
   ]
  },
  {
   "cell_type": "markdown",
   "metadata": {},
   "source": [
    "##### Введение:"
   ]
  },
  {
   "cell_type": "code",
   "execution_count": 2,
   "metadata": {
    "collapsed": false
   },
   "outputs": [],
   "source": [
    "from equation import Equation"
   ]
  },
  {
   "cell_type": "markdown",
   "metadata": {},
   "source": [
    "Некоторые поддерживаемые типы уравнений приведены ниже (Чтобы запустеть все доступные тесты нужно выполнить из папки equation: \n",
    "`python3 tests.py`):"
   ]
  },
  {
   "cell_type": "code",
   "execution_count": 3,
   "metadata": {
    "collapsed": false
   },
   "outputs": [],
   "source": [
    "eq_all = Equation(\"U'=(V(t-3.1)*U(t-3.1)+V(t-1.1)*U(t-3.1)+U(t-1.1))^3\"\n",
    "              + \"+cos(U-c*D[U,{x,2}])\")\n",
    "eq_delay = Equation(\"U'=V(t-3.1)*U(t-3.1)+V(t-1.1)*U(t-3.1)\")\n",
    "eq_pow = Equation(\"U'=(V(t-3.1)+U)^3\")\n",
    "eq_diff = Equation(\"U'= U-c*D[U,{x,2}]\")\n",
    "eq_func = Equation(\"V + cos(x-c*D[U,{x,2}])\")\n",
    "\n",
    "eqs = [eq_all, eq_delay, eq_pow, eq_diff, eq_func]\n",
    "for eq in eqs:\n",
    "    eq.parse()"
   ]
  },
  {
   "cell_type": "markdown",
   "metadata": {},
   "source": [
    "Чтобы произвести преобразование к cpp необходимо задать некоторые параметры. По умолчанию можно задать их используя set_default метод."
   ]
  },
  {
   "cell_type": "code",
   "execution_count": 4,
   "metadata": {
    "collapsed": true
   },
   "outputs": [],
   "source": [
    "for eq in eqs:\n",
    "    eq.set_default()"
   ]
  },
  {
   "cell_type": "markdown",
   "metadata": {},
   "source": [
    "Чтобы узнать стандартные параметры проще всего глянуть ее исходник. Для этого в сдед ячейке использована jupyter команда `??e_all.set_default`.\n",
    "Более точное описание см. ниже."
   ]
  },
  {
   "cell_type": "code",
   "execution_count": 5,
   "metadata": {
    "collapsed": false
   },
   "outputs": [],
   "source": [
    "# uncomment next line to see source:\n",
    "# ??eq_all.set_default"
   ]
  },
  {
   "cell_type": "markdown",
   "metadata": {},
   "source": [
    "После того, как параметры заданы можно уже генерировать cpp строку:"
   ]
  },
  {
   "cell_type": "code",
   "execution_count": 6,
   "metadata": {
    "collapsed": false
   },
   "outputs": [
    {
     "name": "stdout",
     "output_type": "stream",
     "text": [
      "\n",
      "original:\n",
      "(U')=(V(t-3.1)*U(t-3.1)+V(t-1.1)*U(t-3.1)+U(t-1.1))^3+cos(U-c*D[U,{x,2}])\n",
      "\n",
      "cpp:\n",
      "source[0][idx + 0]=source[0][idx + 0]-params[2]*(DXM2 * (source[0][idx + 1 * Block0StrideX * Block0CELLSIZE + 0] - 2.0 * source[0][idx + 0 * Block0StrideX * Block0CELLSIZE + 0] + source[0][idx-1 * Block0StrideX * Block0CELLSIZE + 0]))\n",
      "\n",
      "original:\n",
      "(U')=V(t-3.1)*U(t-3.1)+V(t-1.1)*U(t-3.1)\n",
      "\n",
      "cpp:\n",
      "source[0][idx + 0]=source[0][idx + 0]-params[2]*(DXM2 * (source[0][idx + 1 * Block0StrideX * Block0CELLSIZE + 0] - 2.0 * source[0][idx + 0 * Block0StrideX * Block0CELLSIZE + 0] + source[0][idx-1 * Block0StrideX * Block0CELLSIZE + 0]))\n",
      "\n",
      "original:\n",
      "(U')=(V(t-3.1)+U)^3\n",
      "\n",
      "cpp:\n",
      "source[0][idx + 0]=source[0][idx + 0]-params[2]*(DXM2 * (source[0][idx + 1 * Block0StrideX * Block0CELLSIZE + 0] - 2.0 * source[0][idx + 0 * Block0StrideX * Block0CELLSIZE + 0] + source[0][idx-1 * Block0StrideX * Block0CELLSIZE + 0]))\n",
      "\n",
      "original:\n",
      "U'=U-c*D[U,{x,2}]\n",
      "\n",
      "cpp:\n",
      "source[0][idx + 0]=source[0][idx + 0]-params[2]*(DXM2 * (source[0][idx + 1 * Block0StrideX * Block0CELLSIZE + 0] - 2.0 * source[0][idx + 0 * Block0StrideX * Block0CELLSIZE + 0] + source[0][idx-1 * Block0StrideX * Block0CELLSIZE + 0]))\n",
      "\n",
      "original:\n",
      "V+cos(x-c*D[U,{x,2}])\n",
      "\n",
      "cpp:\n",
      "source[0][idx + 0]=source[0][idx + 0]-params[2]*(DXM2 * (source[0][idx + 1 * Block0StrideX * Block0CELLSIZE + 0] - 2.0 * source[0][idx + 0 * Block0StrideX * Block0CELLSIZE + 0] + source[0][idx-1 * Block0StrideX * Block0CELLSIZE + 0]))\n"
     ]
    }
   ],
   "source": [
    "for eq in eqs:\n",
    "    print(\"\\noriginal:\")\n",
    "    eq.show_original()\n",
    "    print(\"\\ncpp:\")\n",
    "    eq_diff.show_cpp()"
   ]
  },
  {
   "cell_type": "markdown",
   "metadata": {},
   "source": [
    "Этот результат можно получить в виде строки:"
   ]
  },
  {
   "cell_type": "code",
   "execution_count": 7,
   "metadata": {
    "collapsed": false
   },
   "outputs": [
    {
     "data": {
      "text/plain": [
       "'source[0][idx + 0]=source[0][idx + 0]-params[2]*(DXM2 * (source[0][idx + 1 * Block0StrideX * Block0CELLSIZE + 0] - 2.0 * source[0][idx + 0 * Block0StrideX * Block0CELLSIZE + 0] + source[0][idx-1 * Block0StrideX * Block0CELLSIZE + 0]))'"
      ]
     },
     "execution_count": 7,
     "metadata": {},
     "output_type": "execute_result"
    }
   ],
   "source": [
    "eq_diff.flatten('cpp')"
   ]
  },
  {
   "cell_type": "markdown",
   "metadata": {},
   "source": [
    "##### Описание cpp параметров"
   ]
  },
  {
   "cell_type": "markdown",
   "metadata": {},
   "source": [
    "Вместо функции set_default можно установиь параметры явно:"
   ]
  },
  {
   "cell_type": "code",
   "execution_count": 8,
   "metadata": {
    "collapsed": false
   },
   "outputs": [
    {
     "name": "stdout",
     "output_type": "stream",
     "text": [
      "source[0][idx + 0]-params[2]*(2.0 * DXM2 * (source[0][idx + Block0StrideX * Block0CELLSIZE + 0] - source[0][idx + 0] - (sin(idxX)) * DX))\n"
     ]
    }
   ],
   "source": [
    "sent = \"U-c*D[U,{x,2}]\"\n",
    "eq_diff = Equation(sent)\n",
    "eq_diff.parse()\n",
    "\n",
    "eq_diff.set_dim(dim=2)\n",
    "eq_diff.set_blockNumber(blockNumber=0)\n",
    "\n",
    "eq_diff.set_vars_indexes(vars_to_indexes=[('U', 0), ('V', 1)])\n",
    "\n",
    "coeffs_to_indexes = [('a', 0), ('b', 1), ('c', 2), ('r', 3)]\n",
    "eq_diff.set_coeffs_indexes(coeffs_to_indexes=coeffs_to_indexes)\n",
    "\n",
    "eq_diff.set_diff_type(diffType='pure',\n",
    "                     diffMethod='special',\n",
    "                     side=0, func=\"sin(idxX)\")\n",
    "eq_diff.show_cpp()"
   ]
  },
  {
   "cell_type": "markdown",
   "metadata": {},
   "source": [
    "Только использование последнего метода отличает от умолчания. Если теперь поменять diffMethod, то результат измениться:"
   ]
  },
  {
   "cell_type": "code",
   "execution_count": 9,
   "metadata": {
    "collapsed": false
   },
   "outputs": [
    {
     "name": "stdout",
     "output_type": "stream",
     "text": [
      "source[0][idx + 0]-params[2]*(DXM2 * (source[0][idx + 1 * Block0StrideX * Block0CELLSIZE + 0] - 2.0 * source[0][idx + 0 * Block0StrideX * Block0CELLSIZE + 0] + source[0][idx-1 * Block0StrideX * Block0CELLSIZE + 0]))\n"
     ]
    }
   ],
   "source": [
    "eq_diff.set_diff_type(diffType='pure',\n",
    "                      diffMethod='common')\n",
    "eq_diff.show_cpp()"
   ]
  },
  {
   "cell_type": "markdown",
   "metadata": {},
   "source": [
    "##### Использование sympy"
   ]
  },
  {
   "cell_type": "markdown",
   "metadata": {},
   "source": [
    "Для некоторых pde уравнений можно использовать sympy.pde методы. Для конвертации wolfram to sympy используется функция make_sympy (которой нужно знать размерность задачи через set_dim метод) "
   ]
  },
  {
   "cell_type": "code",
   "execution_count": 15,
   "metadata": {
    "collapsed": false
   },
   "outputs": [
    {
     "name": "stdout",
     "output_type": "stream",
     "text": [
      "∂                                  ∂          \n",
      "──(U(t, x)) = U(t, x) + sin(x) - 2⋅──(U(t, x))\n",
      "∂t                                 ∂x         \n"
     ]
    },
    {
     "data": {
      "text/plain": [
       "Eq(Derivative(U(t, x), t), U(t, x) + sin(x) - 2*Derivative(U(t, x), x))"
      ]
     },
     "execution_count": 15,
     "metadata": {},
     "output_type": "execute_result"
    }
   ],
   "source": [
    "e = Equation(\"U'=-a*(D[U,{x,1}])+U+sin(x)\")\n",
    "e.parse()\n",
    "e.set_dim(dim=1)\n",
    "e.make_sympy()\n",
    "e.eq_sympy"
   ]
  },
  {
   "cell_type": "markdown",
   "metadata": {},
   "source": [
    "После этого можно провести некоторый предварительный анализ pde:"
   ]
  },
  {
   "cell_type": "code",
   "execution_count": 16,
   "metadata": {
    "collapsed": false
   },
   "outputs": [
    {
     "data": {
      "text/plain": [
       "('1st_linear_constant_coeff', '1st_linear_constant_coeff_Integral')"
      ]
     },
     "execution_count": 16,
     "metadata": {},
     "output_type": "execute_result"
    }
   ],
   "source": [
    "e.classify_pde()"
   ]
  },
  {
   "cell_type": "code",
   "execution_count": 17,
   "metadata": {
    "collapsed": false
   },
   "outputs": [
    {
     "data": {
      "text/plain": [
       "2*t*exp(t/5 + 2*x/5) - x*exp(t/5 + 2*x/5) - sin(x)/5 - 2*cos(x)/5"
      ]
     },
     "execution_count": 17,
     "metadata": {},
     "output_type": "execute_result"
    }
   ],
   "source": [
    "e.pdsolve().rhs"
   ]
  },
  {
   "cell_type": "code",
   "execution_count": 18,
   "metadata": {
    "collapsed": false
   },
   "outputs": [
    {
     "data": {
      "image/png": "[encoded data removed]",
      "text/plain": [
       "<matplotlib.figure.Figure at 0x7f1177cc4b38>"
      ]
     },
     "metadata": {},
     "output_type": "display_data"
    }
   ],
   "source": [
    "# slow:\n",
    "e.plot_pde()"
   ]
  },
  {
   "cell_type": "markdown",
   "metadata": {},
   "source": [
    "Пока это работает только для простых задач, но со временем их число может возрасти."
   ]
  },
  {
   "cell_type": "code",
   "execution_count": null,
   "metadata": {
    "collapsed": true
   },
   "outputs": [],
   "source": []
  }
 ],
 "metadata": {
  "kernelspec": {
   "display_name": "Python 3",
   "language": "python",
   "name": "python3"
  },
  "language_info": {
   "codemirror_mode": {
    "name": "ipython",
    "version": 3
   },
   "file_extension": ".py",
   "mimetype": "text/x-python",
   "name": "python",
   "nbconvert_exporter": "python",
   "pygments_lexer": "ipython3",
   "version": "3.6.0"
  }
 },
 "nbformat": 4,
 "nbformat_minor": 2
}
