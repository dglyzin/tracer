{
 "cells": [
  {
   "cell_type": "markdown",
   "metadata": {},
   "source": [
    "### DESCRIPTION:\n",
    "Расчет 2d модели для одного блока. Интерфейс jupyter к /domainmodel/criminal/mini_solver. Использует:\n",
    "```\n",
    "criminal/mini_solver/main.py\n",
    "criminal/state.py\n",
    "criminal/notebooks_src/frontend.py\n",
    "```\n",
    "Также mini_solver можно тестировать:\n",
    "```\n",
    "hybriddomain$: python3 -m domainmodel.criminal.state\n",
    "   или\n",
    "hybriddomain$: python3 -m domainmodel.criminal.test_mini_solver\n",
    "   или\n",
    "hybriddomain/domainmodel/mini_solver$: python3 main.py\n",
    "\n",
    "Во всех есть параметер cuda в \n",
    "     __name__ == '__main__'\n",
    "        \n",
    "```\n",
    "\n",
    "Сгенерированные исходники лежат в:\n",
    "```\n",
    "для с++:\n",
    "mini_solver/cpp/kernels.cpp\n",
    "mini_solver/cpp/includes/core.h\n",
    "mini_solver/cpp/solver.cpp\n",
    "\n",
    "для cuda:\n",
    "mini_solver/cuda/core.cu\n",
    "```\n",
    "\n",
    "Шаблоны в `templates/mini_solver`\n",
    "\n",
    "##### Требования:\n",
    "ipywidgets [1]:\n",
    "```\n",
    "$:pip3 install ipywidgets\n",
    "$:sudo jupyter nbextension enable --py widgetsnbextension\n",
    "```\n",
    "##### Использование:\n",
    "1. Go to hybriddomain folder\n",
    "2. Run jupyter:\n",
    "```\n",
    "hybriddomain$:jupyter notebook\n",
    "```\n",
    "3. Open notebook_mini_solver.ipynb\n",
    "\n",
    "4. click at `Cell/Run All` or load each cell use `Shift+Enter`\n",
    "\n",
    "##### Важно:\n",
    "1. Если widgets не работают то надо остановить сервер и выполнить:\n",
    "```\n",
    "$: sudo jupyter nbextension enable --py --sys-prefix widgetsnbextension \n",
    "```\n",
    "Если это не поможет, то надо удалить все из папки home/user/.local/share/jupyter\n",
    "\n",
    "2. Работает только для моделей json с 1 блоком из папки tests/2dTests/\n",
    "3. Только для 2d моделей\n",
    "4. Блок в модели должен иметь\n",
    "```\n",
    "b.defaultBound     b.defaultEquation  b.defaultInitial\n",
    "```\n",
    "5. Границы блока - только Дирихле значения (из за проблем с вершинами)\n",
    "6. ITERATION_COUNT и ITERATION_STEP должны быть степенями 2. Это связано с обмена result/source через tmp в solver. И второе делит первое. \n",
    "6. COUNT_OF_DELAY = 1 так что пока без задержек по времени. \n",
    "6. Не проверяется ошибка при пересечении bounds or equations регионов\n",
    "7. Обязательно нажать `set model` на первом слайде\n",
    "\n",
    "##### Возможности:\n",
    "1. Можно тестировать 2d модели для одного блока\n",
    "2. Используя cuda и без\n",
    "3. Добавльять регионы уравнений и границ\n",
    "4. Визуализировать регионы блока\n",
    "4. Добавлять ядра на c++ или wolfram\n",
    "5. Итрерактивно смотреть эволюцию процесса\n",
    "\n",
    "### REFERENCES:\n",
    "1. [1] http://ipywidgets.readthedocs.io/en/stable/user_install.html"
   ]
  },
  {
   "cell_type": "code",
   "execution_count": 1,
   "metadata": {
    "collapsed": false
   },
   "outputs": [],
   "source": [
    "%matplotlib inline\n",
    "import ipywidgets as widgets\n",
    "from ipywidgets import interact,interactive,fixed\n",
    "from IPython.display import display,Math,clear_output\n",
    "#import test \n",
    "#import sympy\n",
    "# import src.lagrange as lg\n",
    "import matplotlib.pyplot as plt\n",
    "from numpy import linspace,sin,shape\n",
    "from pandas import DataFrame\n",
    "from IPython.display import HTML\n",
    "\n",
    "import os\n",
    "from importlib import reload\n",
    "\n",
    "# import domainmodel.criminal.test_mini_solver as ts\n",
    "import domainmodel.criminal.state as st\n",
    "from domainmodel.criminal.notebooks_src.frontend import FrontState"
   ]
  },
  {
   "cell_type": "code",
   "execution_count": 2,
   "metadata": {
    "collapsed": false
   },
   "outputs": [
    {
     "data": {
      "text/html": [
       "<script>\n",
       "code_show=true; \n",
       "function code_toggle() {\n",
       " if (code_show){\n",
       "     $('div.input').hide();\n",
       " } else {\n",
       "     $('div.input').show();\n",
       " }\n",
       " code_show = !code_show\n",
       "} \n",
       "$( document ).ready(code_toggle);\n",
       "</script>\n",
       "<form action=\"javascript:code_toggle()\"><input type=\"submit\" value=\"Click here to toggle on/off the raw code.\"></form>"
      ],
      "text/plain": [
       "<IPython.core.display.HTML object>"
      ]
     },
     "execution_count": 2,
     "metadata": {},
     "output_type": "execute_result"
    }
   ],
   "source": [
    "HTML('''<script>\n",
    "code_show=true; \n",
    "function code_toggle() {\n",
    " if (code_show){\n",
    "     $('div.input').hide();\n",
    " } else {\n",
    "     $('div.input').show();\n",
    " }\n",
    " code_show = !code_show\n",
    "} \n",
    "$( document ).ready(code_toggle);\n",
    "</script>\n",
    "<form action=\"javascript:code_toggle()\"><input type=\"submit\" value=\"Click here to toggle on/off the raw code.\"></form>''') "
   ]
  },
  {
   "cell_type": "code",
   "execution_count": 3,
   "metadata": {
    "collapsed": false
   },
   "outputs": [],
   "source": [
    "lName = widgets.Label(value=r'simple solver test:')\n",
    "bTest = widgets.Button(description=\"run test\")\n",
    "node = widgets.Box(children=[lName, bTest])\n",
    "\n",
    "def on_button_bTest(event):\n",
    "    clear_output()\n",
    "    \n",
    "    state = st.State()\n",
    "    modelFile = \"tests/2dTests/test2d_for_intervals_single.json\"\n",
    "\n",
    "    # FOR generate solver data:\n",
    "    state = st.State()\n",
    "    state.get_model(modelFile)\n",
    "    state.set_params()\n",
    "    # state.plot_block()\n",
    "    state.parse_equations_w()\n",
    "    state.gen_src_files()\n",
    "    state.prepare_to_solver()\n",
    "    state.save_to_file()\n",
    "    clear_output()\n",
    "    # END FOR\n",
    "\n",
    "    # FOR run solver from shell\n",
    "    # state.load_from_file()\n",
    "    state.run_solver_shell()\n",
    "    # END FOR\n",
    "\n",
    "    # FOR print result\n",
    "    state.load_from_file()\n",
    "\n",
    "    '''\n",
    "    # normalize:\n",
    "    result = state.result/state.result.max()\n",
    "    result = 256*result\n",
    "    plt.imshow(result)\n",
    "    # END FOR\n",
    "    '''\n",
    "    state.plot_results()\n",
    "    \n",
    "bTest.on_click(on_button_bTest)\n",
    "display(node)\n"
   ]
  },
  {
   "cell_type": "markdown",
   "metadata": {},
   "source": [
    "## Mini solver"
   ]
  },
  {
   "cell_type": "code",
   "execution_count": 4,
   "metadata": {
    "collapsed": false
   },
   "outputs": [],
   "source": [
    "state = st.State()\n",
    "fState = FrontState(state)\n",
    "fState.set_callbacks()\n",
    "fState.show()"
   ]
  },
  {
   "cell_type": "markdown",
   "metadata": {},
   "source": [
    "##### some widgets examples"
   ]
  },
  {
   "cell_type": "code",
   "execution_count": 5,
   "metadata": {
    "collapsed": false
   },
   "outputs": [
    {
     "data": {
      "text/plain": [
       "10.0"
      ]
     },
     "metadata": {},
     "output_type": "display_data"
    },
    {
     "data": {
      "text/plain": [
       "<function ipywidgets.widgets.widget.Widget.close>"
      ]
     },
     "execution_count": 5,
     "metadata": {},
     "output_type": "execute_result"
    }
   ],
   "source": [
    "\n",
    "def f(x):    \n",
    "    display(x)\n",
    "w=interactive(f, x=(0.0,20.0,0.5))\n",
    "\n",
    "cCuda = widgets.Checkbox(\n",
    "            value=False,\n",
    "            description='cuda',\n",
    "            disabled=False)\n",
    "b = widgets.Button(description=\"show cuda\")\n",
    "def f(x):\n",
    "    display(bool(cCuda.value))\n",
    "b.on_click(f)\n",
    "mNode = widgets.Box(children=[w,cCuda,b])\n",
    "\n",
    "# display(mNode.children[0])\n",
    "display(mNode)\n",
    "widgets.IntProgress.close\n"
   ]
  },
  {
   "cell_type": "code",
   "execution_count": null,
   "metadata": {
    "collapsed": true
   },
   "outputs": [],
   "source": []
  }
 ],
 "metadata": {
  "kernelspec": {
   "display_name": "Python 3",
   "language": "python",
   "name": "python3"
  },
  "language_info": {
   "codemirror_mode": {
    "name": "ipython",
    "version": 3
   },
   "file_extension": ".py",
   "mimetype": "text/x-python",
   "name": "python",
   "nbconvert_exporter": "python",
   "pygments_lexer": "ipython3",
   "version": "3.4.3"
  },
  "widgets": {
   "state": {
    "0013c1bc2d48445b88802ccc148ae95d": {
     "views": []
    },
    "00579079bf694d3895a53e7ff2b72f79": {
     "views": []
    },
    "0669b6f6a581421c917ccb8a500d9dcd": {
     "views": []
    },
    "07632d2fdfcb4bafa833f8fc1961df43": {
     "views": []
    },
    "08409b38df3a4c46a3e0d51640cae767": {
     "views": []
    },
    "0cdea377331d4785bca56f30b5b1b13d": {
     "views": []
    },
    "0f27c32ea3194e668eca1d017bd449ff": {
     "views": []
    },
    "0fb858346b42470696713a4a1415069f": {
     "views": []
    },
    "10f7f0c0282046309a47ea37978317bd": {
     "views": []
    },
    "1139d2a4c60546f08a70f47e0d3c9179": {
     "views": []
    },
    "12e13f03ae624b74b33cc1bb00f14228": {
     "views": []
    },
    "152eafc5623344fd920d307435297b3a": {
     "views": []
    },
    "195399f39a3f4ea8b1fa95a02372d57b": {
     "views": []
    },
    "1a8492cf1f7c4714877de681a482cb82": {
     "views": []
    },
    "1d71ee4fc0a8494eaab47fc24b5cee82": {
     "views": []
    },
    "215b3e5de17f4ce8a3b3c773d15f898e": {
     "views": []
    },
    "249e60545d514f7580daf9e5da4d7fcc": {
     "views": []
    },
    "27bbda910365498d8b935bec7a957f5f": {
     "views": []
    },
    "289d784137db49969809848b47b58e93": {
     "views": []
    },
    "28c328bc4d8b4f328f4d28c9736c758c": {
     "views": []
    },
    "2b480be564f847268d4d04e40e1e027a": {
     "views": []
    },
    "2ca9be24cc0c4437b9f446e8b9d79f17": {
     "views": []
    },
    "2ff933c0aadd4155ae939dcae43cb74c": {
     "views": []
    },
    "313509481f1246bf8ec334ae146df1c4": {
     "views": []
    },
    "3616b808544348babbc72e6b3c41fd0b": {
     "views": []
    },
    "38d38fcab3774b88ba46d5547b8774d6": {
     "views": []
    },
    "3955439d2165446e8b7492d3b473f5dd": {
     "views": []
    },
    "396339e7632241319b46915f2fd1cdf9": {
     "views": []
    },
    "3afb65a85527466e920c0544d3218fdb": {
     "views": []
    },
    "3c73a830fd6f4dbdad5503556bb84257": {
     "views": []
    },
    "40928f86457846a18f3819b170418ba7": {
     "views": []
    },
    "414428b15efc448eaf95e7be0e95afed": {
     "views": []
    },
    "426849bebe064e9fb696f7b7b0a817df": {
     "views": []
    },
    "444957d880b74dbc9d00aa552dfc1d0b": {
     "views": []
    },
    "45f7b4cb4dd447faa47d639776147d25": {
     "views": []
    },
    "4c3b13df24ce481db7fc19b78f910176": {
     "views": []
    },
    "4da7153db94c4bfbb310c5f3ec9b2a83": {
     "views": []
    },
    "4f1f61a3eff848eea37b80a3e570d476": {
     "views": []
    },
    "5076e7a1e24b42cd95d71e13458b6fc1": {
     "views": []
    },
    "54d7aec1c146443a95636a84c349d5a0": {
     "views": []
    },
    "5716fb4d5acd40df9ada54e697febfa9": {
     "views": []
    },
    "5a988b1d6b594598b70ab9b62165ac39": {
     "views": [
      {
       "cell_index": 7
      }
     ]
    },
    "5afb106076454ad49c38f7d6f0a3ca84": {
     "views": []
    },
    "5ebe55868a2a4ef9bad82f272ab0d8bf": {
     "views": []
    },
    "5ed0e3986572496a98e8650fa487a96e": {
     "views": []
    },
    "609f5fc2ee044ff6b6c4a4d82e134adc": {
     "views": []
    },
    "61384278ffab4e758799174d616eb391": {
     "views": []
    },
    "62b644aed5944162962f6f33b8c9ca2c": {
     "views": []
    },
    "65b322133cea4cce9ee8756c065944ab": {
     "views": []
    },
    "670aa3558a8a4d5ca2140a2d045d2a38": {
     "views": []
    },
    "6764bbd9ffe14fd8bcc92a150308df02": {
     "views": []
    },
    "6dc568b4c54a4ae281502042c6542cfb": {
     "views": []
    },
    "823229967f0f4e82a98a5008264d6ce8": {
     "views": []
    },
    "82900d8bc1a6476c8a6d87a550224709": {
     "views": [
      {
       "cell_index": 5
      }
     ]
    },
    "83514158e8444343baafb5745fbcb972": {
     "views": []
    },
    "8470f9e7f7134adab72ee460ab78e278": {
     "views": []
    },
    "86e9d9bbf17f4fd09ae61daa9b30b606": {
     "views": [
      {
       "cell_index": 3
      }
     ]
    },
    "874a95c62eeb4c5b893dd9c38f453c30": {
     "views": []
    },
    "89466ffe481b4f27babe510220f263e6": {
     "views": []
    },
    "8cb84dfb61964c3a8b30c7f191eaa4ca": {
     "views": []
    },
    "8fe7ed253a514e02b31894d029d20c45": {
     "views": []
    },
    "90238bd406224f5fa5357f6654899d6b": {
     "views": []
    },
    "95a65817f99243a6b053735893efed3a": {
     "views": []
    },
    "96886b0596fc400da9c83aec600d47e2": {
     "views": []
    },
    "96e1174e317f45de9ac1297c9efa9110": {
     "views": []
    },
    "9987e98ee74e4caa86176335472970c1": {
     "views": []
    },
    "9cdd903a3f714a79970eb081d4405e46": {
     "views": []
    },
    "9ebb12fb0943469e84fd7b6a1b51af63": {
     "views": []
    },
    "a359598221524460ad22960ebc6a31ea": {
     "views": []
    },
    "a8302ab9cf1048f2a6cdcdb07a4c82d5": {
     "views": []
    },
    "af1ad0efa9984f7ebefab7deda883930": {
     "views": []
    },
    "b29243cce2ef4f12b57df172846fde87": {
     "views": []
    },
    "b29556ac353d40e6b8f3c42b6e82cce7": {
     "views": []
    },
    "b6b4fc36e696429192dacc6fcc8e12ec": {
     "views": []
    },
    "b9311d7d4b6c4d97b98bd81c0b50ce2d": {
     "views": []
    },
    "ba0886bfab5c4ab2b995e4d29c076307": {
     "views": []
    },
    "ba8faf7db0764fec9b9ecc6584518542": {
     "views": []
    },
    "bf2ceaed629b497daddf471b9651a710": {
     "views": []
    },
    "bf4c5a5604bd4bd18b9f6e70a134edf2": {
     "views": []
    },
    "c04eb383c44848138988630b83a46873": {
     "views": []
    },
    "c0f1ee50f7914cb28e10f23500bf95fa": {
     "views": []
    },
    "c30e624c38444530bb76ffa8d5df3895": {
     "views": []
    },
    "cffde95c03e147a6a0c46450fccfcb99": {
     "views": []
    },
    "d57e1de6101e4518b54c962d420fccd6": {
     "views": []
    },
    "dc83bd0df3b14f839732a792846f868d": {
     "views": []
    },
    "dd78de18cfb44a31b98c0b860b5b29be": {
     "views": []
    },
    "e2e98cad453a46bda77223d4027a5cdd": {
     "views": []
    },
    "e9ff9d0244fe4c788c158f7c8a5e0628": {
     "views": []
    },
    "efd4191030cc4abc9f2338bbb02256a3": {
     "views": []
    },
    "f47f73d38feb4ca8860e8ca44d0f737a": {
     "views": []
    },
    "f88386eba3e74fe09883f08aecd47b2b": {
     "views": []
    },
    "f9fd7859387e43f190f8a75f229fbe72": {
     "views": []
    },
    "fa61822b81c04d42860a6daa25377443": {
     "views": []
    },
    "fea43019ad9244668656a73332dc1d32": {
     "views": []
    }
   },
   "version": "1.1.1"
  }
 },
 "nbformat": 4,
 "nbformat_minor": 0
}
