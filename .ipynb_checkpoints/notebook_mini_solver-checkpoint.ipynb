{
 "cells": [
  {
   "cell_type": "markdown",
   "metadata": {},
   "source": [
    "### DESCRIPTION:\n",
    "Расчет 2d модели для одного блока. Интерфейс jupyter к /domainmodel/criminal/mini_solver. Использует:\n",
    "```\n",
    "criminal/mini_solver/main.py\n",
    "criminal/state.py\n",
    "criminal/notebooks_src/frontend.py\n",
    "```\n",
    "Также mini_solver можно тестировать:\n",
    "```\n",
    "hybriddomain$: python3 -m domainmodel.criminal.state\n",
    "   или\n",
    "hybriddomain$: python3 -m domainmodel.criminal.test_mini_solver\n",
    "   или\n",
    "hybriddomain/domainmodel/mini_solver$: python3 main.py\n",
    "\n",
    "Во всех есть параметер cuda в \n",
    "     __name__ == '__main__'\n",
    "        \n",
    "```\n",
    "\n",
    "Сгенерированные исходники лежат в:\n",
    "```\n",
    "для с++:\n",
    "mini_solver/cpp/kernels.cpp\n",
    "mini_solver/cpp/includes/core.h\n",
    "mini_solver/cpp/solver.cpp\n",
    "\n",
    "для cuda:\n",
    "mini_solver/cuda/core.cu\n",
    "```\n",
    "\n",
    "Шаблоны в `templates/mini_solver`\n",
    "\n",
    "##### Требования:\n",
    "ipywidgets [1]:\n",
    "```\n",
    "$:pip3 install ipywidgets\n",
    "$:sudo jupyter nbextension enable --py widgetsnbextension\n",
    "```\n",
    "##### Использование:\n",
    "1. Go to hybriddomain folder\n",
    "2. Run jupyter:\n",
    "```\n",
    "hybriddomain$:jupyter notebook\n",
    "```\n",
    "3. Open notebook_mini_solver.ipynb\n",
    "\n",
    "4. click at `Cell/Run All` or load each cell use `Shift+Enter`\n",
    "\n",
    "##### Важно:\n",
    "1. Если widgets не работают то надо остановить сервер и выполнить:\n",
    "```\n",
    "$: sudo jupyter nbextension enable --py --sys-prefix widgetsnbextension \n",
    "```\n",
    "Если это не поможет, то надо удалить все из папки home/user/.local/share/jupyter\n",
    "\n",
    "2. Работает только для моделей json с 1 блоком из папки tests/2dTests/\n",
    "3. Только для 2d моделей\n",
    "4. Блок в модели должен иметь\n",
    "```\n",
    "b.defaultBound     b.defaultEquation  b.defaultInitial\n",
    "```\n",
    "5. Границы блока - только Дирихле значения (из за проблем с вершинами)\n",
    "6. ITERATION_COUNT и ITERATION_STEP должны быть степенями 2. Это связано с обмена result/source через tmp в solver. И второе делит первое. \n",
    "6. Не проверяется ошибка при пересечении bounds or equations регионов\n",
    "7. Обязательно нажать `set model` на первом слайде\n",
    "\n",
    "##### Возможности:\n",
    "1. Можно тестировать 2d модели для одного блока\n",
    "2. Используя cuda и без\n",
    "3. Добавльять регионы уравнений и границ\n",
    "4. Визуализировать регионы блока\n",
    "4. Добавлять ядра на c++ или wolfram\n",
    "5. Итрерактивно смотреть эволюцию процесса\n",
    "\n",
    "### REFERENCES:\n",
    "1. [1] http://ipywidgets.readthedocs.io/en/stable/user_install.html"
   ]
  },
  {
   "cell_type": "code",
   "execution_count": 1,
   "metadata": {
    "collapsed": false
   },
   "outputs": [],
   "source": [
    "%matplotlib inline\n",
    "import ipywidgets as widgets\n",
    "from ipywidgets import interact,interactive,fixed\n",
    "from IPython.display import display,Math,clear_output\n",
    "#import test \n",
    "#import sympy\n",
    "# import src.lagrange as lg\n",
    "import matplotlib.pyplot as plt\n",
    "from numpy import linspace,sin,shape\n",
    "from pandas import DataFrame\n",
    "from IPython.display import HTML\n",
    "\n",
    "import os\n",
    "from importlib import reload\n",
    "\n",
    "# import domainmodel.criminal.test_mini_solver as ts\n",
    "import domainmodel.criminal.state as st\n",
    "from domainmodel.criminal.notebooks_src.frontend import FrontState"
   ]
  },
  {
   "cell_type": "code",
   "execution_count": 2,
   "metadata": {
    "collapsed": false
   },
   "outputs": [
    {
     "data": {
      "text/html": [
       "<script>\n",
       "code_show=true; \n",
       "function code_toggle() {\n",
       " if (code_show){\n",
       "     $('div.input').hide();\n",
       " } else {\n",
       "     $('div.input').show();\n",
       " }\n",
       " code_show = !code_show\n",
       "} \n",
       "$( document ).ready(code_toggle);\n",
       "</script>\n",
       "<form action=\"javascript:code_toggle()\"><input type=\"submit\" value=\"Click here to toggle on/off the raw code.\"></form>"
      ],
      "text/plain": [
       "<IPython.core.display.HTML object>"
      ]
     },
     "execution_count": 2,
     "metadata": {},
     "output_type": "execute_result"
    }
   ],
   "source": [
    "HTML('''<script>\n",
    "code_show=true; \n",
    "function code_toggle() {\n",
    " if (code_show){\n",
    "     $('div.input').hide();\n",
    " } else {\n",
    "     $('div.input').show();\n",
    " }\n",
    " code_show = !code_show\n",
    "} \n",
    "$( document ).ready(code_toggle);\n",
    "</script>\n",
    "<form action=\"javascript:code_toggle()\"><input type=\"submit\" value=\"Click here to toggle on/off the raw code.\"></form>''') "
   ]
  },
  {
   "cell_type": "code",
   "execution_count": 3,
   "metadata": {
    "collapsed": false
   },
   "outputs": [],
   "source": [
    "lName = widgets.Label(value=r'simple solver test:')\n",
    "bTest = widgets.Button(description=\"run test\")\n",
    "node = widgets.Box(children=[lName, bTest])\n",
    "\n",
    "def on_button_bTest(event):\n",
    "    clear_output()\n",
    "    \n",
    "    state = st.State()\n",
    "    modelFile = \"tests/2dTests/test2d_for_intervals_single.json\"\n",
    "\n",
    "    # FOR generate solver data:\n",
    "    state = st.State()\n",
    "    state.get_model(modelFile)\n",
    "    state.set_params()\n",
    "    # state.plot_block()\n",
    "    state.parse_equations_w()\n",
    "    state.gen_src_files()\n",
    "    state.prepare_to_solver()\n",
    "    state.save_to_file()\n",
    "    clear_output()\n",
    "    # END FOR\n",
    "\n",
    "    # FOR run solver from shell\n",
    "    # state.load_from_file()\n",
    "    state.run_solver_shell()\n",
    "    # END FOR\n",
    "\n",
    "    # FOR print result\n",
    "    state.load_from_file()\n",
    "\n",
    "    '''\n",
    "    # normalize:\n",
    "    result = state.result/state.result.max()\n",
    "    result = 256*result\n",
    "    plt.imshow(result)\n",
    "    # END FOR\n",
    "    '''\n",
    "    state.plot_results()\n",
    "    \n",
    "bTest.on_click(on_button_bTest)\n",
    "display(node)\n"
   ]
  },
  {
   "cell_type": "markdown",
   "metadata": {},
   "source": [
    "## Mini solver"
   ]
  },
  {
   "cell_type": "code",
   "execution_count": 4,
   "metadata": {
    "collapsed": false
   },
   "outputs": [],
   "source": [
    "state = st.State()\n",
    "fState = FrontState(state)\n",
    "fState.set_callbacks()\n",
    "fState.show()"
   ]
  },
  {
   "cell_type": "markdown",
   "metadata": {},
   "source": [
    "##### some widgets examples"
   ]
  },
  {
   "cell_type": "code",
   "execution_count": 5,
   "metadata": {
    "collapsed": false
   },
   "outputs": [
    {
     "data": {
      "text/plain": [
       "10.0"
      ]
     },
     "metadata": {},
     "output_type": "display_data"
    },
    {
     "data": {
      "text/plain": [
       "<function ipywidgets.widgets.widget.Widget.close>"
      ]
     },
     "execution_count": 5,
     "metadata": {},
     "output_type": "execute_result"
    }
   ],
   "source": [
    "\n",
    "def f(x):    \n",
    "    display(x)\n",
    "w=interactive(f, x=(0.0,20.0,0.5))\n",
    "\n",
    "cCuda = widgets.Checkbox(\n",
    "            value=False,\n",
    "            description='cuda',\n",
    "            disabled=False)\n",
    "b = widgets.Button(description=\"show cuda\")\n",
    "def f(x):\n",
    "    display(bool(cCuda.value))\n",
    "b.on_click(f)\n",
    "mNode = widgets.Box(children=[w,cCuda,b])\n",
    "\n",
    "# display(mNode.children[0])\n",
    "display(mNode)\n",
    "widgets.IntProgress.close\n"
   ]
  },
  {
   "cell_type": "code",
   "execution_count": null,
   "metadata": {
    "collapsed": true
   },
   "outputs": [],
   "source": []
  }
 ],
 "metadata": {
  "kernelspec": {
   "display_name": "Python 3",
   "language": "python",
   "name": "python3"
  },
  "language_info": {
   "codemirror_mode": {
    "name": "ipython",
    "version": 3
   },
   "file_extension": ".py",
   "mimetype": "text/x-python",
   "name": "python",
   "nbconvert_exporter": "python",
   "pygments_lexer": "ipython3",
   "version": "3.4.3"
  },
  "widgets": {
   "state": {
    "0052d9b6857143e9b904ae50b97fa9e7": {
     "views": []
    },
    "00b22589b50f4fafa6fcb71a190d21d0": {
     "views": []
    },
    "023aa337c3a549a3a876f085dab41a07": {
     "views": []
    },
    "085482b68c4949cf98f142a8d4bbdc76": {
     "views": []
    },
    "0adfc20b918a4684ace6e70dcf8f4b54": {
     "views": []
    },
    "0b76179e5bf141a283a7eed5d4f56aab": {
     "views": []
    },
    "0d6bafcc88824cfb9e6e867ee783a467": {
     "views": []
    },
    "0f2cd6cf964d41b6b034744741ba06b4": {
     "views": []
    },
    "125e118950f64c4498514ffb1d0059f6": {
     "views": []
    },
    "127306eb509c4a7cb798bed1913d3612": {
     "views": []
    },
    "1592a33f0f8049a9b58dccc1b92b9201": {
     "views": []
    },
    "162e82cabdce4b138b58e84c847ee4f4": {
     "views": []
    },
    "16e07668363843caac140c0d0edd66fa": {
     "views": []
    },
    "1894aeffe9b14bd99f829898cd52de5e": {
     "views": []
    },
    "1ec14ad8757742258bb9c75d810b7b48": {
     "views": []
    },
    "20c50a5b9b954212bfdabfb0222a8b52": {
     "views": []
    },
    "23c304a1b13242139c2a8cba746b0c45": {
     "views": []
    },
    "2895579982df494db7c74cf649447fda": {
     "views": []
    },
    "2a4c261e32044f3ca4cb9cf220731d5f": {
     "views": []
    },
    "2b677f191b0041b488cff7834f11fa35": {
     "views": []
    },
    "2e79f4380b3548b996a006180f25b778": {
     "views": []
    },
    "2edc3e3876a5410790d260f6a58b4232": {
     "views": []
    },
    "30cebf008df84f31a29931256a8fe636": {
     "views": []
    },
    "326408c946c44a13bd5e5923e6abf293": {
     "views": []
    },
    "37520481f4de405ea69c45534c10b900": {
     "views": [
      {
       "cell_index": 5
      }
     ]
    },
    "39b80ceb6de64ea19667c01df91a7151": {
     "views": []
    },
    "3bc8e4c3573a4cad99d16fe89b822706": {
     "views": []
    },
    "4483859af3da485ca30706be3ae9b22d": {
     "views": []
    },
    "44fd2493a30c413fa2a4413542acba47": {
     "views": []
    },
    "4574ee010e204289bd5fb40ccc31eeb1": {
     "views": []
    },
    "46030a5bb1c14e9c898a9d52bdc5fe55": {
     "views": []
    },
    "4659412428ea4d0b97915f0a8d1285f3": {
     "views": []
    },
    "47e8d26331d24f329ccd7a1f8abc323f": {
     "views": []
    },
    "498d76c7c7c0415e90669f302f17066d": {
     "views": []
    },
    "5022f9f034f247a7bea7de12de820869": {
     "views": []
    },
    "52e39c4bb2f142c890f5d843ea01cfdb": {
     "views": []
    },
    "55fb1ebe642a4f1fa3a8b653634d9fa3": {
     "views": []
    },
    "58189a22908249c5b80b9fb270a1450a": {
     "views": []
    },
    "5a4560fc348346839270e2719c80cc3a": {
     "views": []
    },
    "5beeaa9658b840249db23cf8072c7196": {
     "views": []
    },
    "5d97534911a048368faac7ba8b9040a2": {
     "views": []
    },
    "611aa4bbcf2a4befb67d3b1b3206dba5": {
     "views": []
    },
    "636bc53cc113447685e22d0ed8511e61": {
     "views": []
    },
    "639f7756194e4afd91d3665dde57aec5": {
     "views": []
    },
    "64bc2a7a30184860badfe9ecbed9759a": {
     "views": []
    },
    "694a9cdc4c254981a5645ef32d7375eb": {
     "views": []
    },
    "6bed7dd213f34e2d85bf54735f69b566": {
     "views": []
    },
    "74630d84ecf74bce8af884cf5be46ef7": {
     "views": []
    },
    "76270a4eb9c64aeda752b8163ae050c3": {
     "views": []
    },
    "78e91f7fe70044a98e2aa4fd6b3e5027": {
     "views": []
    },
    "80a605a27b154b879de55b48800e0b2e": {
     "views": []
    },
    "814461db348e447799fdb369855ea416": {
     "views": []
    },
    "8bd581ad555741f6a36e3213f22f3bd0": {
     "views": []
    },
    "8c5a8e90957443ada748da5e6fc5cefc": {
     "views": []
    },
    "8dabba05ec6e450494322292a5ccf7ef": {
     "views": []
    },
    "8e8c58d52f994d5182d15bcb1daf9f98": {
     "views": []
    },
    "943cd1a71d4842bf8a5aef3d19f73480": {
     "views": []
    },
    "9697ae4f9819419f8a5091452ab439ea": {
     "views": []
    },
    "974900095a84498f941826020a3667e3": {
     "views": []
    },
    "9bbb7a2d64a4428ba879c3abb2d5b87c": {
     "views": [
      {
       "cell_index": 3
      }
     ]
    },
    "9c2c6d29666945b3920bf3d7b2e32861": {
     "views": []
    },
    "9e4f677bb8aa44f381bbd1c3ab315a00": {
     "views": []
    },
    "9f8ff29b58694e15b9b6740458b55460": {
     "views": []
    },
    "a6c78995fd2d421e820aba0bcf659866": {
     "views": []
    },
    "a6d818b1d3ac487a99c794087b457485": {
     "views": []
    },
    "a845cfa0c07749fc9926341c6777279f": {
     "views": []
    },
    "a8a4003ef8fa45f19f00496b23f26d22": {
     "views": []
    },
    "a8b0780dca6043aeabd8e563d9f6633d": {
     "views": []
    },
    "a8fe31ba7cec4a268a1c80a53ddd6b30": {
     "views": []
    },
    "ac52a0d7835a486ca3f7e8fbc6d906ae": {
     "views": []
    },
    "b604613330db4a81bf3d8df43f34f213": {
     "views": []
    },
    "b67e42c4898d451886bf929b93f6d768": {
     "views": []
    },
    "b6b2333333e3495db8830649adf9e26c": {
     "views": []
    },
    "bacdf863624c45f2a39c856fe80a6dc1": {
     "views": []
    },
    "bc87c6f664aa46ce9d97639e90839535": {
     "views": []
    },
    "bd68d29d1b744a95ab53ff5c412a498d": {
     "views": []
    },
    "bd6aa741a295463c8d2d3c48c9678d97": {
     "views": []
    },
    "be145279a9c047f6968b555ed4bd88a4": {
     "views": [
      {
       "cell_index": 7
      }
     ]
    },
    "c1d47c2f57a44b84b4f1dfd05c50db5a": {
     "views": []
    },
    "ce1a3abfed9246e3b59f050394247b90": {
     "views": []
    },
    "ce4782942265442fad4c4b30128f4ed1": {
     "views": []
    },
    "cf2987502df24b079225d1155dbfe1c1": {
     "views": []
    },
    "cf33cf990c83462d8b45e704ffd0dfa8": {
     "views": []
    },
    "cfc8971dd69844e7b98c1b801353cedc": {
     "views": []
    },
    "d29657c19697448486bc50bb92484d14": {
     "views": []
    },
    "d8593bf80394413ab6901063b36675ae": {
     "views": []
    },
    "db328ff2fd4847bda116c025207ac228": {
     "views": []
    },
    "dc7e96a7f3f2498a9a5caae6b8ad9879": {
     "views": []
    },
    "e2115c40a91e4c89aa581ad4ef2ab513": {
     "views": []
    },
    "e42591a0715c4cbaa93ccb0d75dd6cf7": {
     "views": []
    },
    "e8a986a809a54e56acbaeeec7a601c19": {
     "views": []
    },
    "ef22fbac35bd4c47b2a02c4b5c843e12": {
     "views": []
    },
    "f584675ec9d44be48ee9ba78e11bab08": {
     "views": []
    },
    "fe406c7cfc944647b7bc3032decad157": {
     "views": []
    }
   },
   "version": "1.1.1"
  }
 },
 "nbformat": 4,
 "nbformat_minor": 0
}
