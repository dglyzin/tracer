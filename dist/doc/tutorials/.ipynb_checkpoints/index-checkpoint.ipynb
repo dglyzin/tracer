{
 "cells": [
  {
   "cell_type": "markdown",
   "metadata": {},
   "source": [
    "# List of Notebooks"
   ]
  },
  {
   "cell_type": "markdown",
   "metadata": {},
   "source": [
    "### 1. Environments (model, bloks, regions,...):\n",
    "\n",
    "1.1 [**Envs 1d**](1d.ipynb)\n",
    "        Create 1d task.\n",
    "\n",
    "1.2 [**Envs 2d**](2d.ipynb)\n",
    "        Create 2d task."
   ]
  },
  {
   "cell_type": "markdown",
   "metadata": {},
   "source": [
    "\n",
    "### 2. Equations (currently not working, TODO: to parser):\n",
    "2.1 [**For user**](../../spaces/math_space/common/env/equation/doc/user/tutorial_user.ipynb)\n",
    "        How equation works.\n",
    "\n",
    "2.2 [**Create new term**](../../spaces/math_space/common/env/equation/doc/dev/tutorial_new_term.ipynb)\n",
    "        \n",
    "2.3 [**Create new brackets term**](../../spaces/math_space/common/env/equation/doc/dev/tutorial_new_term_br.ipynb)\n",
    "        \n",
    "\n",
    "2.4 [**Addition**](../../spaces/math_space/common/env/equation/doc/dev/tutorial_dev.ipynb)\n",
    "        Some addition info.\n",
    "        "
   ]
  },
  {
   "cell_type": "markdown",
   "metadata": {},
   "source": [
    "\n"
   ]
  },
  {
   "cell_type": "markdown",
   "metadata": {
    "collapsed": true
   },
   "source": [
    "\n"
   ]
  },
  {
   "cell_type": "code",
   "execution_count": null,
   "metadata": {
    "collapsed": true
   },
   "outputs": [],
   "source": []
  }
 ],
 "metadata": {
  "kernelspec": {
   "display_name": "Python 3",
   "language": "python",
   "name": "python3"
  },
  "language_info": {
   "codemirror_mode": {
    "name": "ipython",
    "version": 3
   },
   "file_extension": ".py",
   "mimetype": "text/x-python",
   "name": "python",
   "nbconvert_exporter": "python",
   "pygments_lexer": "ipython3",
   "version": "3.6.0"
  }
 },
 "nbformat": 4,
 "nbformat_minor": 2
}
