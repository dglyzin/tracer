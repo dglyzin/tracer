{
 "cells": [
  {
   "cell_type": "code",
   "execution_count": 49,
   "metadata": {
    "collapsed": false
   },
   "outputs": [
    {
     "data": {
      "text/plain": [
       "'/home/valdecar/Documents/projects/projectsNew/lab/hybriddomain/dist/project_folder'"
      ]
     },
     "execution_count": 49,
     "metadata": {},
     "output_type": "execute_result"
    }
   ],
   "source": [
    "modelFileName = 'problems/1dTests/Ginzburg_Landau'\n",
    "\n",
    "# in ./settings/\n",
    "conn_name = \"connection.json.example\"\n",
    "device_conf_name = \"devices.json.example\"\n",
    "%pwd"
   ]
  },
  {
   "cell_type": "code",
   "execution_count": 50,
   "metadata": {
    "collapsed": false
   },
   "outputs": [],
   "source": [
    "import ipywidgets as widgets\n",
    "from IPython.display import display, clear_output, HTML\n",
    "from IPython.display import Javascript\n"
   ]
  },
  {
   "cell_type": "code",
   "execution_count": 51,
   "metadata": {
    "collapsed": true
   },
   "outputs": [],
   "source": [
    "from hybriddomain.envs.hs.model.model_main import ModelNet as Model\n",
    "from hybriddomain.settings.settings_main import Settings"
   ]
  },
  {
   "cell_type": "markdown",
   "metadata": {},
   "source": [
    "### Add model, connection and device to settings: "
   ]
  },
  {
   "cell_type": "code",
   "execution_count": 52,
   "metadata": {
    "collapsed": false
   },
   "outputs": [
    {
     "name": "stderr",
     "output_type": "stream",
     "text": [
      "INFO:settings_main:device_conf_rpath\n",
      "INFO:settings_main:devices.json.example\n"
     ]
    },
    {
     "name": "stdout",
     "output_type": "stream",
     "text": [
      "Please enter password for user hpc:\n",
      "········\n"
     ]
    }
   ],
   "source": [
    "model = Model()\n",
    "model.io.loadFromFile(modelFileName)\n",
    "settings = Settings(model, conn_name, device_conf_name, conn_name)"
   ]
  },
  {
   "cell_type": "markdown",
   "metadata": {},
   "source": [
    "### Params to be tested:"
   ]
  },
  {
   "cell_type": "code",
   "execution_count": 5,
   "metadata": {
    "collapsed": false
   },
   "outputs": [
    {
     "name": "stdout",
     "output_type": "stream",
     "text": [
      "equations:\n",
      "[[\"U'=a*U+b*U*((U)^2+(V)^2)+c*D[U,{x,2}]\", \"V'=a*V+b*V*((U)^2+(V)^2)+c*D[V,{x,2}]\"]]\n",
      "params:\n",
      "['a', 'b', 'c']\n",
      "paramValues:\n",
      "[{'b': 0.0001, 'c': 0.001, 'a': 0.01}, {'b': -0.0001, 'c': 0.001, 'a': 0.01}, {'b': 1e-05, 'c': 0.001, 'a': 0.01}, {'b': -1e-05, 'c': 0.001, 'a': 0.01}, {'b': 3e-05, 'c': 0.001, 'a': 0.01}, {'b': -3e-05, 'c': 0.001, 'a': 0.01}, {'b': 3e-05, 'c': -0.001, 'a': 0.01}]\n"
     ]
    }
   ],
   "source": [
    "# settings.paths['hs']\n",
    "# block = model.blocks[0]\n",
    "# block.vertexs['[0]']\n",
    "\n",
    "print(\"equations:\")\n",
    "print(model.equations)\n",
    "print(\"params:\")\n",
    "print(model.params)\n",
    "print(\"paramValues:\")\n",
    "print(model.paramValues)\n"
   ]
  },
  {
   "cell_type": "markdown",
   "metadata": {},
   "source": [
    "### Progress:"
   ]
  },
  {
   "cell_type": "code",
   "execution_count": 6,
   "metadata": {
    "collapsed": true
   },
   "outputs": [],
   "source": [
    "from hybriddomain.solvers.hs.remoterun.progresses.progress_notebook import ProgressNotebook\n",
    "from hybriddomain.solvers.hs.postproc.results.results_main import ResultPostprocNet as ResultPostproc\n"
   ]
  },
  {
   "cell_type": "code",
   "execution_count": 7,
   "metadata": {
    "collapsed": false
   },
   "outputs": [],
   "source": [
    "progress_params = ProgressNotebook(len(model.paramValues), prefix='param')\n",
    "# display(progress_params.progress)\n",
    "\n",
    "progress_solving = ProgressNotebook(100, prefix='solving')\n",
    "# display(progress_solving.progress)\n",
    "# progress_solving.succ(0)\n",
    "\n",
    "result_postproc = ResultPostproc(modelFileName)"
   ]
  },
  {
   "cell_type": "markdown",
   "metadata": {},
   "source": [
    "### Clear previous results:"
   ]
  },
  {
   "cell_type": "code",
   "execution_count": 38,
   "metadata": {
    "collapsed": false
   },
   "outputs": [
    {
     "name": "stdout",
     "output_type": "stream",
     "text": [
      "u_seq0.out removed\n",
      "u_seq2.out removed\n",
      "u_seq1.out removed\n",
      "no_name_plot_seq2.mp4 removed\n",
      "no_name_plot_seq1.mp4 removed\n",
      "no_name_plot_seq0.mp4 removed\n"
     ]
    }
   ],
   "source": [
    "result_postproc.remove_out()"
   ]
  },
  {
   "cell_type": "markdown",
   "metadata": {},
   "source": [
    "### Run solver:"
   ]
  },
  {
   "cell_type": "code",
   "execution_count": 39,
   "metadata": {
    "collapsed": false
   },
   "outputs": [],
   "source": [
    "\n",
    "from hybriddomain.solvers.hs.remoterun.remoterun import remoteProjectRun\n"
   ]
  },
  {
   "cell_type": "code",
   "execution_count": 40,
   "metadata": {
    "collapsed": false
   },
   "outputs": [
    {
     "name": "stderr",
     "output_type": "stream",
     "text": [
      "INFO:remoterun:\n",
      "connect ...\n",
      "INFO:remoterun:\n",
      "connection established\n",
      "INFO:remoterun:\n",
      "files/folders routine\n",
      "INFO:remoterun:\n",
      "files/folders routine completed\n",
      "INFO:remoterun:\n",
      "Running preprocessor:\n",
      "INFO:remoterun:command:\n",
      "INFO:remoterun:/acchome/valdecar/anaconda3/envs/hd/bin/python3 -c \"import hybriddomain.gens.hs.tests.tests_gen_1d as ts; ts.run()\" -t /acchome/valdecar/projects/lab/workspace/problems/1dTests/Ginzburg_Landau -d /acchome/valdecar/projects/lab/workspace/settings/device_conf/devices.json -p /acchome/valdecar/projects/lab/workspace/settings/paths/connection.json -w /acchome/valdecar/projects/lab/workspace -u valdecar 2>&1\n",
      "INFO:remoterun:\n",
      "Running solver:\n",
      "INFO:remoterun:01-15 11:41:01 Performance (10^6): 441.646\n",
      "\n",
      "INFO:remoterun:INFO:postproc.video:Creating images for block 0 value ['U', 'V']\n",
      "\n",
      "INFO:remoterun:INFO:postproc.video:Creating video file: 0\n",
      "\n",
      "INFO:remoterun:INFO:postproc.video:Creating out file: u\n",
      "\n",
      "INFO:remoterun:Downloading results...\n",
      "INFO:remoterun:Done!\n",
      "INFO:remoterun:\n",
      "connect ...\n",
      "INFO:remoterun:\n",
      "connection established\n",
      "INFO:remoterun:\n",
      "files/folders routine\n",
      "INFO:remoterun:\n",
      "files/folders routine completed\n",
      "INFO:remoterun:\n",
      "Running preprocessor:\n",
      "INFO:remoterun:command:\n",
      "INFO:remoterun:/acchome/valdecar/anaconda3/envs/hd/bin/python3 -c \"import hybriddomain.gens.hs.tests.tests_gen_1d as ts; ts.run()\" -t /acchome/valdecar/projects/lab/workspace/problems/1dTests/Ginzburg_Landau -d /acchome/valdecar/projects/lab/workspace/settings/device_conf/devices.json -p /acchome/valdecar/projects/lab/workspace/settings/paths/connection.json -w /acchome/valdecar/projects/lab/workspace -u valdecar 2>&1\n",
      "INFO:remoterun:\n",
      "Running solver:\n",
      "INFO:remoterun:01-15 11:41:35 Performance (10^6): 410.927\n",
      "\n",
      "INFO:remoterun:INFO:postproc.video:Creating images for block 0 value ['U', 'V']\n",
      "\n",
      "INFO:remoterun:INFO:postproc.video:Creating video file: 0\n",
      "\n",
      "INFO:remoterun:INFO:postproc.video:Creating out file: u\n",
      "\n",
      "INFO:remoterun:Downloading results...\n",
      "INFO:remoterun:Done!\n",
      "INFO:remoterun:\n",
      "connect ...\n",
      "INFO:remoterun:\n",
      "connection established\n",
      "INFO:remoterun:\n",
      "files/folders routine\n",
      "INFO:remoterun:\n",
      "files/folders routine completed\n",
      "INFO:remoterun:\n",
      "Running preprocessor:\n",
      "INFO:remoterun:command:\n",
      "INFO:remoterun:/acchome/valdecar/anaconda3/envs/hd/bin/python3 -c \"import hybriddomain.gens.hs.tests.tests_gen_1d as ts; ts.run()\" -t /acchome/valdecar/projects/lab/workspace/problems/1dTests/Ginzburg_Landau -d /acchome/valdecar/projects/lab/workspace/settings/device_conf/devices.json -p /acchome/valdecar/projects/lab/workspace/settings/paths/connection.json -w /acchome/valdecar/projects/lab/workspace -u valdecar 2>&1\n",
      "INFO:remoterun:\n",
      "Running solver:\n",
      "INFO:remoterun:01-15 11:42:09 Performance (10^6): 386.19\n",
      "\n",
      "INFO:remoterun:INFO:postproc.video:Creating images for block 0 value ['U', 'V']\n",
      "\n",
      "INFO:remoterun:INFO:postproc.video:Creating video file: 0\n",
      "\n",
      "INFO:remoterun:INFO:postproc.video:Creating out file: u\n",
      "\n",
      "INFO:remoterun:Downloading results...\n",
      "INFO:remoterun:Done!\n",
      "INFO:remoterun:\n",
      "connect ...\n",
      "INFO:remoterun:\n",
      "connection established\n",
      "INFO:remoterun:\n",
      "files/folders routine\n",
      "INFO:remoterun:\n",
      "files/folders routine completed\n",
      "INFO:remoterun:\n",
      "Running preprocessor:\n",
      "INFO:remoterun:command:\n",
      "INFO:remoterun:/acchome/valdecar/anaconda3/envs/hd/bin/python3 -c \"import hybriddomain.gens.hs.tests.tests_gen_1d as ts; ts.run()\" -t /acchome/valdecar/projects/lab/workspace/problems/1dTests/Ginzburg_Landau -d /acchome/valdecar/projects/lab/workspace/settings/device_conf/devices.json -p /acchome/valdecar/projects/lab/workspace/settings/paths/connection.json -w /acchome/valdecar/projects/lab/workspace -u valdecar 2>&1\n",
      "INFO:remoterun:\n",
      "Running solver:\n",
      "INFO:remoterun:01-15 11:42:42 Performance (10^6): 412.273\n",
      "\n",
      "INFO:remoterun:INFO:postproc.video:Creating images for block 0 value ['U', 'V']\n",
      "\n",
      "INFO:remoterun:INFO:postproc.video:Creating video file: 0\n",
      "\n",
      "INFO:remoterun:INFO:postproc.video:Creating out file: u\n",
      "\n",
      "INFO:remoterun:Downloading results...\n",
      "INFO:remoterun:Done!\n",
      "INFO:remoterun:\n",
      "connect ...\n",
      "INFO:remoterun:\n",
      "connection established\n",
      "INFO:remoterun:\n",
      "files/folders routine\n",
      "INFO:remoterun:\n",
      "files/folders routine completed\n",
      "INFO:remoterun:\n",
      "Running preprocessor:\n",
      "INFO:remoterun:command:\n",
      "INFO:remoterun:/acchome/valdecar/anaconda3/envs/hd/bin/python3 -c \"import hybriddomain.gens.hs.tests.tests_gen_1d as ts; ts.run()\" -t /acchome/valdecar/projects/lab/workspace/problems/1dTests/Ginzburg_Landau -d /acchome/valdecar/projects/lab/workspace/settings/device_conf/devices.json -p /acchome/valdecar/projects/lab/workspace/settings/paths/connection.json -w /acchome/valdecar/projects/lab/workspace -u valdecar 2>&1\n",
      "INFO:remoterun:\n",
      "Running solver:\n",
      "INFO:remoterun:01-15 11:43:16 Performance (10^6): 414.782\n",
      "\n",
      "INFO:remoterun:INFO:postproc.video:Creating images for block 0 value ['U', 'V']\n",
      "\n",
      "INFO:remoterun:INFO:postproc.video:Creating video file: 0\n",
      "\n",
      "INFO:remoterun:INFO:postproc.video:Creating out file: u\n",
      "\n",
      "INFO:remoterun:Downloading results...\n",
      "INFO:remoterun:Done!\n",
      "INFO:remoterun:\n",
      "connect ...\n",
      "INFO:remoterun:\n",
      "connection established\n",
      "INFO:remoterun:\n",
      "files/folders routine\n",
      "INFO:remoterun:\n",
      "files/folders routine completed\n",
      "INFO:remoterun:\n",
      "Running preprocessor:\n",
      "INFO:remoterun:command:\n",
      "INFO:remoterun:/acchome/valdecar/anaconda3/envs/hd/bin/python3 -c \"import hybriddomain.gens.hs.tests.tests_gen_1d as ts; ts.run()\" -t /acchome/valdecar/projects/lab/workspace/problems/1dTests/Ginzburg_Landau -d /acchome/valdecar/projects/lab/workspace/settings/device_conf/devices.json -p /acchome/valdecar/projects/lab/workspace/settings/paths/connection.json -w /acchome/valdecar/projects/lab/workspace -u valdecar 2>&1\n",
      "INFO:remoterun:\n",
      "Running solver:\n",
      "INFO:remoterun:01-15 11:43:50 Performance (10^6): 413.678\n",
      "\n",
      "INFO:remoterun:INFO:postproc.video:Creating images for block 0 value ['U', 'V']\n",
      "\n",
      "INFO:remoterun:INFO:postproc.video:Creating video file: 0\n",
      "\n",
      "INFO:remoterun:INFO:postproc.video:Creating out file: u\n",
      "\n",
      "INFO:remoterun:Downloading results...\n",
      "INFO:remoterun:Done!\n",
      "INFO:remoterun:\n",
      "connect ...\n",
      "INFO:remoterun:\n",
      "connection established\n",
      "INFO:remoterun:\n",
      "files/folders routine\n",
      "INFO:remoterun:\n",
      "files/folders routine completed\n",
      "INFO:remoterun:\n",
      "Running preprocessor:\n",
      "INFO:remoterun:command:\n",
      "INFO:remoterun:/acchome/valdecar/anaconda3/envs/hd/bin/python3 -c \"import hybriddomain.gens.hs.tests.tests_gen_1d as ts; ts.run()\" -t /acchome/valdecar/projects/lab/workspace/problems/1dTests/Ginzburg_Landau -d /acchome/valdecar/projects/lab/workspace/settings/device_conf/devices.json -p /acchome/valdecar/projects/lab/workspace/settings/paths/connection.json -w /acchome/valdecar/projects/lab/workspace -u valdecar 2>&1\n",
      "INFO:remoterun:\n",
      "Running solver:\n",
      "INFO:remoterun:01-15 11:44:24 Performance (10^6): 428.947\n",
      "\n",
      "INFO:remoterun:INFO:postproc.video:Creating images for block 0 value ['U', 'V']\n",
      "\n",
      "INFO:remoterun:INFO:postproc.video:Creating video file: 0\n",
      "\n",
      "INFO:remoterun:INFO:postproc.video:Creating out file: u\n",
      "\n",
      "INFO:remoterun:Downloading results...\n",
      "INFO:remoterun:Done!\n"
     ]
    },
    {
     "data": {
      "application/javascript": [
       "alert('Done');"
      ],
      "text/plain": [
       "<IPython.core.display.Javascript object>"
      ]
     },
     "metadata": {},
     "output_type": "display_data"
    }
   ],
   "source": [
    "clear_output()\n",
    "test_name = settings.paths['model']['name']\n",
    "bTest = widgets.Button(description=\"run %s \" % (test_name))\n",
    "\n",
    "# parametrisation:\n",
    "def run(event):\n",
    "    model = Model()\n",
    "    model.io.loadFromFile(modelFileName)\n",
    "    \n",
    "    for params_idx in range(len(model.paramValues)):\n",
    "        \n",
    "        progress_params.succ(params_idx)\n",
    "        progress_solving.set_prefix(\"solving\")\n",
    "        \n",
    "        # changing param:\n",
    "        model.defaultParamsIndex = params_idx\n",
    "        model.io.saveToFile(settings.paths[\"hd\"][\"json\"])\n",
    "        model = Model()\n",
    "        model.io.loadFromFile(modelFileName)\n",
    "        \n",
    "        remoteProjectRun(settings, 1, progress_solving,remove_old=False)\n",
    "        \n",
    "        # result_postproc.extract_out(params_idx, results_params)\n",
    "        result_postproc.rename_out(params_idx)\n",
    "    display(Javascript(\"alert('Done');\"))\n",
    "    \n",
    "bTest.on_click(run)\n",
    "\n",
    "display(progress_params.progress)\n",
    "display(progress_solving.progress)\n",
    "\n",
    "display(bTest)\n"
   ]
  },
  {
   "cell_type": "code",
   "execution_count": 25,
   "metadata": {
    "collapsed": false
   },
   "outputs": [],
   "source": [
    "# click button:\n",
    "# Javascript(\"$('.widget-button').trigger('click')\")\n"
   ]
  },
  {
   "cell_type": "markdown",
   "metadata": {},
   "source": [
    "### Results:"
   ]
  },
  {
   "cell_type": "code",
   "execution_count": 41,
   "metadata": {
    "collapsed": false
   },
   "outputs": [],
   "source": [
    "# init progress with arbitrary value,\n",
    "# it will changed inside result_postproc.get_params_results:\n",
    "progress_array = ProgressNotebook(1, prefix='file')\n"
   ]
  },
  {
   "cell_type": "markdown",
   "metadata": {},
   "source": [
    "##### convert out to arrays:"
   ]
  },
  {
   "cell_type": "markdown",
   "metadata": {},
   "source": [
    "method 1:"
   ]
  },
  {
   "cell_type": "code",
   "execution_count": 42,
   "metadata": {
    "collapsed": false
   },
   "outputs": [
    {
     "data": {
      "application/javascript": [
       "alert('Done');"
      ],
      "text/plain": [
       "<IPython.core.display.Javascript object>"
      ]
     },
     "execution_count": 42,
     "metadata": {},
     "output_type": "execute_result"
    }
   ],
   "source": [
    "display(progress_array.progress)\n",
    "\n",
    "times, results_param_arrays = result_postproc.get_params_results(progress_array)\n",
    "Javascript(\"alert('Done');\")"
   ]
  },
  {
   "cell_type": "markdown",
   "metadata": {},
   "source": [
    "data access in that case:"
   ]
  },
  {
   "cell_type": "code",
   "execution_count": 43,
   "metadata": {
    "collapsed": false
   },
   "outputs": [
    {
     "data": {
      "text/plain": [
       "array([-0.01099621, -0.00361351,  0.00376829, ..., -0.02576188,\n",
       "       -0.01837921, -0.01099621], dtype=float32)"
      ]
     },
     "execution_count": 43,
     "metadata": {},
     "output_type": "execute_result"
    }
   ],
   "source": [
    "seq_number = 4\n",
    "var = 0\n",
    "time = times[seq_number][3]\n",
    "results_param_arrays[seq_number][time][var]"
   ]
  },
  {
   "cell_type": "markdown",
   "metadata": {},
   "source": [
    "Method 2:"
   ]
  },
  {
   "cell_type": "code",
   "execution_count": 18,
   "metadata": {
    "collapsed": false
   },
   "outputs": [
    {
     "data": {
      "application/javascript": [
       "alert('Done');"
      ],
      "text/plain": [
       "<IPython.core.display.Javascript object>"
      ]
     },
     "execution_count": 18,
     "metadata": {},
     "output_type": "execute_result"
    }
   ],
   "source": [
    "display(progress_array.progress)\n",
    "model.readResults(progress=progress_array)\n",
    "Javascript(\"alert('Done');\")"
   ]
  },
  {
   "cell_type": "markdown",
   "metadata": {},
   "source": [
    "Data access in that case:"
   ]
  },
  {
   "cell_type": "code",
   "execution_count": 19,
   "metadata": {
    "collapsed": false
   },
   "outputs": [
    {
     "data": {
      "text/plain": [
       "array([-0.01099621, -0.00361351,  0.00376829, ..., -0.02576188,\n",
       "       -0.01837921, -0.01099621], dtype=float32)"
      ]
     },
     "execution_count": 19,
     "metadata": {},
     "output_type": "execute_result"
    }
   ],
   "source": [
    "seq_number = 4\n",
    "var = 0\n",
    "time = model.results_arrays['u']['timevalues'][3]\n",
    "model.results_arrays['u']['resvalues'][seq_number][time][var]"
   ]
  },
  {
   "cell_type": "markdown",
   "metadata": {},
   "source": [
    "### Plot:"
   ]
  },
  {
   "cell_type": "code",
   "execution_count": 44,
   "metadata": {
    "collapsed": true
   },
   "outputs": [],
   "source": [
    "import numpy as np\n",
    "import matplotlib.pyplot as plt\n",
    "from ipywidgets import interactive"
   ]
  },
  {
   "cell_type": "markdown",
   "metadata": {},
   "source": [
    "##### U(x, t-fixed):"
   ]
  },
  {
   "cell_type": "code",
   "execution_count": 45,
   "metadata": {
    "collapsed": false
   },
   "outputs": [
    {
     "name": "stdout",
     "output_type": "stream",
     "text": [
      "first results:\n"
     ]
    },
    {
     "data": {
      "text/plain": [
       "array([-0.01118976, -0.00393172,  0.00332623], dtype=float32)"
      ]
     },
     "metadata": {},
     "output_type": "display_data"
    },
    {
     "data": {
      "image/png": "[encoded data removed]",
      "text/plain": [
       "<matplotlib.figure.Figure at 0x7f83a1533908>"
      ]
     },
     "metadata": {},
     "output_type": "display_data"
    }
   ],
   "source": [
    "%matplotlib inline\n",
    "# using same length for all sequences:\n",
    "seq_number0 = 0\n",
    "time0 = times[seq_number0][0]\n",
    "params_count = len(results_param_arrays.keys())-1\n",
    "vars_count = len(results_param_arrays[seq_number0][time0])-1\n",
    "times_count = len(times[seq_number0])-1\n",
    "\n",
    "def f(param, var, t):\n",
    "    result = results_param_arrays[param][times[param][t]][var]\n",
    "    plt.plot(result)\n",
    "    print(\"first results:\")\n",
    "    display(result[:3])\n",
    "w = interactive(f, param=(0, params_count, 1), var=(0, vars_count, 1), t=(0, times_count, 1))\n",
    "display(w)"
   ]
  },
  {
   "cell_type": "markdown",
   "metadata": {},
   "source": [
    "##### U(x-fixed, t):"
   ]
  },
  {
   "cell_type": "code",
   "execution_count": 48,
   "metadata": {
    "collapsed": false
   },
   "outputs": [
    {
     "data": {
      "image/png": "[encoded data removed]",
      "text/plain": [
       "<matplotlib.figure.Figure at 0x7f83a26ab550>"
      ]
     },
     "metadata": {},
     "output_type": "display_data"
    }
   ],
   "source": [
    "# using same length for all sequences:\n",
    "seq_number0 = 0\n",
    "time0 = times[seq_number0][0]\n",
    "\n",
    "params_count = len(results_param_arrays.keys())-1\n",
    "vars_count = len(results_param_arrays[seq_number0][time0])-1\n",
    "xs_count = len(results_param_arrays[seq_number0][time0][0])-1\n",
    "\n",
    "def f(param, var, x):\n",
    "    local_times = times[param][:]\n",
    "    result = [results_param_arrays[param][t][var][x] for t in local_times]\n",
    "    plt.plot(result)\n",
    "w = interactive(f,param=(0, params_count, 1), var=(0, vars_count, 1), x=(0, xs_count,1))\n",
    "display(w)\n"
   ]
  },
  {
   "cell_type": "markdown",
   "metadata": {},
   "source": [
    "### Run solver for initials:"
   ]
  },
  {
   "cell_type": "code",
   "execution_count": 22,
   "metadata": {
    "collapsed": false
   },
   "outputs": [
    {
     "name": "stdout",
     "output_type": "stream",
     "text": [
      "u_seq4.out removed\n",
      "u_seq5.out removed\n",
      "u_seq0.out removed\n",
      "u_seq3.out removed\n",
      "u_seq2.out removed\n",
      "u_seq1.out removed\n",
      "u_seq6.out removed\n",
      "no_name_plot_seq2.mp4 removed\n",
      "no_name_plot_seq3.mp4 removed\n",
      "no_name_plot_seq1.mp4 removed\n",
      "no_name_plot_seq6.mp4 removed\n",
      "no_name_plot_seq5.mp4 removed\n",
      "no_name_plot_seq0.mp4 removed\n",
      "no_name_plot_seq4.mp4 removed\n"
     ]
    }
   ],
   "source": [
    "result_postproc.remove_out()"
   ]
  },
  {
   "cell_type": "code",
   "execution_count": 23,
   "metadata": {
    "collapsed": true
   },
   "outputs": [],
   "source": [
    "initials_data = [1.0, 3.0, 7.0]"
   ]
  },
  {
   "cell_type": "code",
   "execution_count": 24,
   "metadata": {
    "collapsed": true
   },
   "outputs": [],
   "source": [
    "progress_params = ProgressNotebook(len(initials_data), prefix='param')"
   ]
  },
  {
   "cell_type": "code",
   "execution_count": 25,
   "metadata": {
    "collapsed": false
   },
   "outputs": [
    {
     "name": "stderr",
     "output_type": "stream",
     "text": [
      "INFO:remoterun:\n",
      "connect ...\n",
      "INFO:remoterun:\n",
      "connection established\n",
      "INFO:remoterun:\n",
      "files/folders routine\n",
      "INFO:remoterun:\n",
      "files/folders routine completed\n",
      "INFO:remoterun:\n",
      "Running preprocessor:\n",
      "INFO:remoterun:command:\n",
      "INFO:remoterun:/acchome/valdecar/anaconda3/envs/hd/bin/python3 -c \"import hybriddomain.gens.hs.tests.tests_gen_1d as ts; ts.run()\" -t /acchome/valdecar/projects/lab/workspace/problems/1dTests/Ginzburg_Landau -d /acchome/valdecar/projects/lab/workspace/settings/device_conf/devices.json -p /acchome/valdecar/projects/lab/workspace/settings/paths/connection.json -w /acchome/valdecar/projects/lab/workspace -u valdecar 2>&1\n",
      "INFO:remoterun:\n",
      "Running solver:\n",
      "INFO:remoterun:01-15 10:44:48 Performance (10^6): 416.986\n",
      "\n",
      "INFO:remoterun:INFO:postproc.video:Creating images for block 0 value ['U', 'V']\n",
      "\n",
      "INFO:remoterun:INFO:postproc.video:Creating video file: 0\n",
      "\n",
      "INFO:remoterun:INFO:postproc.video:Creating out file: u\n",
      "\n",
      "INFO:remoterun:Downloading results...\n",
      "INFO:remoterun:Done!\n",
      "INFO:remoterun:\n",
      "connect ...\n",
      "INFO:remoterun:\n",
      "connection established\n",
      "INFO:remoterun:\n",
      "files/folders routine\n",
      "INFO:remoterun:\n",
      "files/folders routine completed\n",
      "INFO:remoterun:\n",
      "Running preprocessor:\n",
      "INFO:remoterun:command:\n",
      "INFO:remoterun:/acchome/valdecar/anaconda3/envs/hd/bin/python3 -c \"import hybriddomain.gens.hs.tests.tests_gen_1d as ts; ts.run()\" -t /acchome/valdecar/projects/lab/workspace/problems/1dTests/Ginzburg_Landau -d /acchome/valdecar/projects/lab/workspace/settings/device_conf/devices.json -p /acchome/valdecar/projects/lab/workspace/settings/paths/connection.json -w /acchome/valdecar/projects/lab/workspace -u valdecar 2>&1\n",
      "INFO:remoterun:\n",
      "Running solver:\n",
      "INFO:remoterun:01-15 10:45:23 Performance (10^6): 444.289\n",
      "\n",
      "INFO:remoterun:INFO:postproc.video:Creating images for block 0 value ['U', 'V']\n",
      "\n",
      "INFO:remoterun:INFO:postproc.video:Creating video file: 0\n",
      "\n",
      "INFO:remoterun:INFO:postproc.video:Creating out file: u\n",
      "\n",
      "INFO:remoterun:Downloading results...\n",
      "INFO:remoterun:Done!\n",
      "INFO:remoterun:\n",
      "connect ...\n",
      "INFO:remoterun:\n",
      "connection established\n",
      "INFO:remoterun:\n",
      "files/folders routine\n",
      "INFO:remoterun:\n",
      "files/folders routine completed\n",
      "INFO:remoterun:\n",
      "Running preprocessor:\n",
      "INFO:remoterun:command:\n",
      "INFO:remoterun:/acchome/valdecar/anaconda3/envs/hd/bin/python3 -c \"import hybriddomain.gens.hs.tests.tests_gen_1d as ts; ts.run()\" -t /acchome/valdecar/projects/lab/workspace/problems/1dTests/Ginzburg_Landau -d /acchome/valdecar/projects/lab/workspace/settings/device_conf/devices.json -p /acchome/valdecar/projects/lab/workspace/settings/paths/connection.json -w /acchome/valdecar/projects/lab/workspace -u valdecar 2>&1\n",
      "INFO:remoterun:\n",
      "Running solver:\n",
      "INFO:remoterun:01-15 10:46:00 Performance (10^6): 424.558\n",
      "\n",
      "INFO:remoterun:INFO:postproc.video:Creating images for block 0 value ['U', 'V']\n",
      "\n",
      "INFO:remoterun:INFO:postproc.video:Creating video file: 0\n",
      "\n",
      "INFO:remoterun:INFO:postproc.video:Creating out file: u\n",
      "\n",
      "INFO:remoterun:Downloading results...\n",
      "INFO:remoterun:Done!\n"
     ]
    },
    {
     "data": {
      "application/javascript": [
       "alert('Done');"
      ],
      "text/plain": [
       "<IPython.core.display.Javascript object>"
      ]
     },
     "metadata": {},
     "output_type": "display_data"
    }
   ],
   "source": [
    "clear_output()\n",
    "test_name = settings.paths['model']['name']\n",
    "bTest = widgets.Button(description=\"run %s \" % (test_name))\n",
    "\n",
    "# parametrisation:\n",
    "def run(event):\n",
    "    model = Model()\n",
    "    model.io.loadFromFile(modelFileName)\n",
    "    \n",
    "    for initials_idx, initial_val in enumerate(initials_data):\n",
    "        \n",
    "        progress_params.succ(initials_idx)\n",
    "        progress_solving.set_prefix(\"solving\")\n",
    "        \n",
    "        # changing initials:\n",
    "        new_equation_sent = str(initial_val)+\"*sin(x)\"\n",
    "        model.initials[0].values[0] = new_equation_sent\n",
    "        \n",
    "        model.io.saveToFile(settings.paths[\"hd\"][\"json\"])\n",
    "        model = Model()\n",
    "        model.io.loadFromFile(modelFileName)\n",
    "        \n",
    "        remoteProjectRun(settings, 1, progress_solving, remove_old=False)\n",
    "        \n",
    "        # result_postproc.extract_out(initials_idx, results_initials)\n",
    "        result_postproc.rename_out(initials_idx)\n",
    "        \n",
    "    display(Javascript(\"alert('Done');\"))\n",
    "bTest.on_click(run)\n",
    "\n",
    "display(progress_params.progress)\n",
    "display(progress_solving.progress)\n",
    "\n",
    "display(bTest)"
   ]
  },
  {
   "cell_type": "code",
   "execution_count": null,
   "metadata": {
    "collapsed": true
   },
   "outputs": [],
   "source": []
  },
  {
   "cell_type": "markdown",
   "metadata": {},
   "source": [
    "### Results initials:"
   ]
  },
  {
   "cell_type": "code",
   "execution_count": 26,
   "metadata": {
    "collapsed": false
   },
   "outputs": [],
   "source": [
    "# init progress with arbitrary value,\n",
    "# it will changed inside result_postproc.get_params_results:\n",
    "progress_array = ProgressNotebook(1, prefix='file')"
   ]
  },
  {
   "cell_type": "markdown",
   "metadata": {},
   "source": [
    "##### convert out to arrays:"
   ]
  },
  {
   "cell_type": "markdown",
   "metadata": {},
   "source": [
    "method 1:"
   ]
  },
  {
   "cell_type": "code",
   "execution_count": 27,
   "metadata": {
    "collapsed": false
   },
   "outputs": [
    {
     "data": {
      "application/javascript": [
       "alert('Done');"
      ],
      "text/plain": [
       "<IPython.core.display.Javascript object>"
      ]
     },
     "execution_count": 27,
     "metadata": {},
     "output_type": "execute_result"
    }
   ],
   "source": [
    "display(progress_array.progress)\n",
    "times, results_initial_arrays = result_postproc.get_params_results(progress_array)\n",
    "Javascript(\"alert('Done');\")"
   ]
  },
  {
   "cell_type": "markdown",
   "metadata": {},
   "source": [
    "Data access in that case:"
   ]
  },
  {
   "cell_type": "code",
   "execution_count": null,
   "metadata": {
    "collapsed": true
   },
   "outputs": [],
   "source": [
    "seq_number = 4\n",
    "var = 0\n",
    "time = times[seq_number][3]\n",
    "results_param_arrays[seq_number][time][var]"
   ]
  },
  {
   "cell_type": "markdown",
   "metadata": {},
   "source": [
    "method 2:"
   ]
  },
  {
   "cell_type": "code",
   "execution_count": 30,
   "metadata": {
    "collapsed": false
   },
   "outputs": [
    {
     "data": {
      "application/javascript": [
       "alert('Done');"
      ],
      "text/plain": [
       "<IPython.core.display.Javascript object>"
      ]
     },
     "execution_count": 30,
     "metadata": {},
     "output_type": "execute_result"
    }
   ],
   "source": [
    "# reload files:\n",
    "model.result_postproc.get_results_filespaths(model)\n",
    "\n",
    "display(progress_array.progress)\n",
    "model.readResults(progress=progress_array)\n",
    "Javascript(\"alert('Done');\")"
   ]
  },
  {
   "cell_type": "markdown",
   "metadata": {},
   "source": [
    "Data access in that case:"
   ]
  },
  {
   "cell_type": "code",
   "execution_count": 34,
   "metadata": {
    "collapsed": false
   },
   "outputs": [
    {
     "data": {
      "text/plain": [
       "array([ 0.        ,  0.001     ,  0.002     , ..., -0.00518528,\n",
       "       -0.00418529,  0.        ], dtype=float32)"
      ]
     },
     "execution_count": 34,
     "metadata": {},
     "output_type": "execute_result"
    }
   ],
   "source": [
    "seq_number = 0\n",
    "var = 0\n",
    "time = model.results_arrays['u']['timevalues'][0]\n",
    "model.results_arrays['u']['resvalues'][seq_number][time][var]"
   ]
  },
  {
   "cell_type": "markdown",
   "metadata": {},
   "source": [
    "### Plot initials:"
   ]
  },
  {
   "cell_type": "code",
   "execution_count": null,
   "metadata": {
    "collapsed": true
   },
   "outputs": [],
   "source": [
    "model.reu"
   ]
  },
  {
   "cell_type": "code",
   "execution_count": 36,
   "metadata": {
    "collapsed": false
   },
   "outputs": [
    {
     "name": "stdout",
     "output_type": "stream",
     "text": [
      "first results:\n"
     ]
    },
    {
     "data": {
      "text/plain": [
       "array([ 0.   ,  0.003,  0.006], dtype=float32)"
      ]
     },
     "metadata": {},
     "output_type": "display_data"
    },
    {
     "data": {
      "image/png": "[encoded data removed]",
      "text/plain": [
       "<matplotlib.figure.Figure at 0x7f83a22bd208>"
      ]
     },
     "metadata": {},
     "output_type": "display_data"
    }
   ],
   "source": [
    "%matplotlib inline\n",
    "\n",
    "# using same length for all sequences:\n",
    "seq_number0 = 0\n",
    "time0 = times[seq_number0][0]\n",
    "\n",
    "initials_count = len(results_initial_arrays.keys())-1\n",
    "vars_count = len(results_initial_arrays[seq_number0][time0])-1\n",
    "times_count = len(times[seq_number0])-1\n",
    "\n",
    "def f(param, var, t):\n",
    "    result = results_initial_arrays[param][times[param][t]][var]\n",
    "    plt.plot(result)\n",
    "    print(\"first results:\")\n",
    "    display(result[:3])\n",
    "w = interactive(f, param=(0, initials_count, 1), var=(0, vars_count, 1), t=(0, times_count, 1))\n",
    "display(w)"
   ]
  },
  {
   "cell_type": "markdown",
   "metadata": {},
   "source": [
    "##### U(x-fixed, t):"
   ]
  },
  {
   "cell_type": "code",
   "execution_count": 37,
   "metadata": {
    "collapsed": false
   },
   "outputs": [
    {
     "data": {
      "image/png": "[encoded data removed]",
      "text/plain": [
       "<matplotlib.figure.Figure at 0x7f83a1031278>"
      ]
     },
     "metadata": {},
     "output_type": "display_data"
    }
   ],
   "source": [
    "%matplotlib inline\n",
    "\n",
    "# using same length for all sequences:\n",
    "seq_number0 = 0\n",
    "time0 = times[seq_number0][0]\n",
    "\n",
    "initials_count = len(results_initial_arrays.keys())-1\n",
    "vars_count = len(results_initial_arrays[seq_number0][time0])-1\n",
    "xs_count = len(results_initial_arrays[seq_number0][time0][0])-1\n",
    "\n",
    "def f(param, var, x):\n",
    "    local_times = times[param][:]\n",
    "    result = [results_initial_arrays[param][t][var][x] for t in local_times]\n",
    "    plt.plot(result)\n",
    "w = interactive(f,param=(0, initials_count, 1), var=(0, vars_count, 1), x=(0,xs_count,1))\n",
    "display(w)\n"
   ]
  },
  {
   "cell_type": "code",
   "execution_count": 42,
   "metadata": {
    "collapsed": false
   },
   "outputs": [
    {
     "data": {
      "text/plain": [
       "array([[  0.00000000e+00,   2.06940070e-01,   2.81882260e-01, ...,\n",
       "          9.95086190e-01,   9.93937430e-01,   9.92861500e-01],\n",
       "       [  1.00000000e-02,   2.07092350e-01,   2.81968170e-01, ...,\n",
       "          9.95086210e-01,   9.93937450e-01,   9.92861520e-01],\n",
       "       [  2.00000000e-02,   2.07548850e-01,   2.82225810e-01, ...,\n",
       "          9.95086290e-01,   9.93937530e-01,   9.92861590e-01],\n",
       "       [  9.98000000e+00,   1.64705428e+01,   1.49028631e+01, ...,\n",
       "          1.00563151e+00,   1.00412596e+00,   1.00259925e+00],\n",
       "       [  9.99000000e+00,   1.64713898e+01,   1.49034085e+01, ...,\n",
       "          1.00563158e+00,   1.00412604e+00,   1.00259932e+00],\n",
       "       [  1.00000000e+01,   1.64716723e+01,   1.49035904e+01, ...,\n",
       "          1.00563161e+00,   1.00412606e+00,   1.00259934e+00]])"
      ]
     },
     "execution_count": 42,
     "metadata": {},
     "output_type": "execute_result"
    }
   ],
   "source": [
    "result_x"
   ]
  },
  {
   "cell_type": "code",
   "execution_count": null,
   "metadata": {
    "collapsed": true
   },
   "outputs": [],
   "source": []
  }
 ],
 "metadata": {
  "kernelspec": {
   "display_name": "Python 3",
   "language": "python",
   "name": "python3"
  },
  "language_info": {
   "codemirror_mode": {
    "name": "ipython",
    "version": 3
   },
   "file_extension": ".py",
   "mimetype": "text/x-python",
   "name": "python",
   "nbconvert_exporter": "python",
   "pygments_lexer": "ipython3",
   "version": "3.6.0"
  },
  "widgets": {
   "state": {
    "3dece7caeb334ebc8c010a2410c2c03a": {
     "views": [
      {
       "cell_index": 14
      }
     ]
    },
    "419a027a39aa4a55a242262d784b2fab": {
     "views": [
      {
       "cell_index": 24
      }
     ]
    },
    "494a074bdd724a7d80ee5f971019fbf3": {
     "views": [
      {
       "cell_index": 39
      },
      {
       "cell_index": 45
      }
     ]
    },
    "56d90538869e4033baa27042c9c6c9b2": {
     "views": [
      {
       "cell_index": 31
      }
     ]
    },
    "70b63002816d4aa58e25813c816e518f": {
     "views": [
      {
       "cell_index": 49
      }
     ]
    },
    "798679a6c98f4386ba258747d91a2281": {
     "views": [
      {
       "cell_index": 29
      }
     ]
    },
    "919fb386dc9d41dfaa70545f110f9d84": {
     "views": [
      {
       "cell_index": 34
      }
     ]
    },
    "ad0329360921460ba65377c5e5c36ecf": {
     "views": [
      {
       "cell_index": 34
      },
      {
       "cell_index": 14
      }
     ]
    },
    "b7bc95af9e8f44e2a917e358cf0fa273": {
     "views": [
      {
       "cell_index": 14
      },
      {
       "cell_index": 34
      }
     ]
    },
    "c7be13b22b15468b8cc2e631b0ddca68": {
     "views": [
      {
       "cell_index": 14
      },
      {
       "cell_index": 34
      },
      {
       "cell_index": 14
      }
     ]
    },
    "d63b5b8d695c44f4b13cab1fa9da6781": {
     "views": [
      {
       "cell_index": 51
      }
     ]
    },
    "e4379917bc9d482096f13e42ad6347fe": {
     "views": [
      {
       "cell_index": 20
      }
     ]
    }
   },
   "version": "1.2.0"
  }
 },
 "nbformat": 4,
 "nbformat_minor": 2
}
