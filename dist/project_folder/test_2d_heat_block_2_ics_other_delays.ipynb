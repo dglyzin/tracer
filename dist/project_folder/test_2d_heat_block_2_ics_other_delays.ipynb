{
 "cells": [
  {
   "cell_type": "code",
   "execution_count": 1,
   "metadata": {
    "collapsed": false
   },
   "outputs": [
    {
     "data": {
      "text/plain": [
       "'/home/valdecar/Documents/projects/projectsNew/lab/project_folder'"
      ]
     },
     "execution_count": 1,
     "metadata": {},
     "output_type": "execute_result"
    }
   ],
   "source": [
    "modelFileName = 'problems/2dTests/heat_block_2_ics_other_delays'\n",
    "\n",
    "# in ./settings/\n",
    "conn_name = \"connection.json\"\n",
    "device_conf_name = \"ics_other.json\"\n",
    "%pwd"
   ]
  },
  {
   "cell_type": "code",
   "execution_count": 2,
   "metadata": {
    "collapsed": true
   },
   "outputs": [],
   "source": [
    "import ipywidgets as widgets\n",
    "from IPython.display import display, clear_output, HTML"
   ]
  },
  {
   "cell_type": "code",
   "execution_count": 3,
   "metadata": {
    "collapsed": false
   },
   "outputs": [],
   "source": [
    "from hybriddomain.envs.hs.model.model_main import ModelNet as Model\n",
    "from hybriddomain.settings.settings_main import Settings"
   ]
  },
  {
   "cell_type": "markdown",
   "metadata": {},
   "source": [
    "### Add model, connection and device to settings: "
   ]
  },
  {
   "cell_type": "code",
   "execution_count": 18,
   "metadata": {
    "collapsed": false
   },
   "outputs": [
    {
     "name": "stderr",
     "output_type": "stream",
     "text": [
      "INFO:block_main.block_io:DefaultBound not set\n",
      "INFO:block_main.block_io:DefaultBound not set\n",
      "INFO:settings_main:device_conf_rpath\n",
      "INFO:settings_main:ics_other.json\n"
     ]
    },
    {
     "name": "stdout",
     "output_type": "stream",
     "text": [
      "Please enter password for user hpc:\n",
      "········\n"
     ]
    }
   ],
   "source": [
    "model = Model()\n",
    "model.io.loadFromFile(modelFileName)\n",
    "settings = Settings(model, conn_name, device_conf_name, conn_name)\n"
   ]
  },
  {
   "cell_type": "code",
   "execution_count": 19,
   "metadata": {
    "collapsed": false
   },
   "outputs": [
    {
     "name": "stdout",
     "output_type": "stream",
     "text": [
      "[\"U'=a*(D[U,{x,2}]+ D[U,{y,2}])\"]\n"
     ]
    }
   ],
   "source": [
    "print(model.equations[0])"
   ]
  },
  {
   "cell_type": "markdown",
   "metadata": {},
   "source": [
    "### Running gen localy:"
   ]
  },
  {
   "cell_type": "code",
   "execution_count": 20,
   "metadata": {
    "collapsed": false
   },
   "outputs": [
    {
     "name": "stdout",
     "output_type": "stream",
     "text": [
      "/home/valdecar/Documents/projects/projectsNew/lab/project_folder\n"
     ]
    }
   ],
   "source": [
    "import os\n",
    "import hybriddomain.gens.hs.tests.tests_gen_2d as ts\n",
    "workspace = os.getcwd()\n",
    "print(workspace)"
   ]
  },
  {
   "cell_type": "code",
   "execution_count": 21,
   "metadata": {
    "collapsed": false
   },
   "outputs": [
    {
     "name": "stderr",
     "output_type": "stream",
     "text": [
      "INFO:settings_main:device_conf_rpath\n",
      "INFO:settings_main:ics_other.json\n"
     ]
    },
    {
     "name": "stdout",
     "output_type": "stream",
     "text": [
      "model:\n",
      "test2d_two_blocks0\n",
      "pathToTemplates:\n",
      "hybriddomain/gens/hs/gen_env/cpp/templates\n",
      "/home/valdecar/Documents/projects/projectsNew/lab/project_folder\n",
      "/home/valdecar/Documents/projects/projectsNew/lab/hybriddomain/hybriddomain/gens/hs/gen_env/cpp/env/base\n",
      "hybriddomain/gens/hs/gen_env/cpp/env/base\n",
      "/home/valdecar/Documents/projects/projectsNew/lab/hybriddomain/\n",
      "/home/valdecar/Documents/projects/projectsNew/lab/hybriddomain/hybriddomain/gens/hs/gen_env/cpp/templates\n",
      "pathToTemplates:\n",
      "hybriddomain/gens/hs/gen_env/cpp/templates\n",
      "/home/valdecar/Documents/projects/projectsNew/lab/project_folder\n",
      "/home/valdecar/Documents/projects/projectsNew/lab/hybriddomain/hybriddomain/gens/hs/gen_env/cpp/env/base\n",
      "hybriddomain/gens/hs/gen_env/cpp/env/base\n",
      "/home/valdecar/Documents/projects/projectsNew/lab/hybriddomain/\n",
      "/home/valdecar/Documents/projects/projectsNew/lab/hybriddomain/hybriddomain/gens/hs/gen_env/cpp/templates\n",
      "pathToTemplates:\n",
      "hybriddomain/gens/hs/gen_env/cpp/templates\n",
      "/home/valdecar/Documents/projects/projectsNew/lab/project_folder\n",
      "/home/valdecar/Documents/projects/projectsNew/lab/hybriddomain/hybriddomain/gens/hs/gen_env/cpp/env/base\n",
      "hybriddomain/gens/hs/gen_env/cpp/env/base\n",
      "/home/valdecar/Documents/projects/projectsNew/lab/hybriddomain/\n",
      "/home/valdecar/Documents/projects/projectsNew/lab/hybriddomain/hybriddomain/gens/hs/gen_env/cpp/templates\n",
      "pathToTemplates:\n",
      "hybriddomain/gens/hs/gen_env/cpp/templates\n",
      "/home/valdecar/Documents/projects/projectsNew/lab/project_folder\n",
      "/home/valdecar/Documents/projects/projectsNew/lab/hybriddomain/hybriddomain/gens/hs/gen_env/cpp/env/base\n",
      "hybriddomain/gens/hs/gen_env/cpp/env/base\n",
      "/home/valdecar/Documents/projects/projectsNew/lab/hybriddomain/\n",
      "/home/valdecar/Documents/projects/projectsNew/lab/hybriddomain/hybriddomain/gens/hs/gen_env/cpp/templates\n",
      "pathToTemplates:\n",
      "hybriddomain/gens/hs/gen_env/cpp/templates\n",
      "/home/valdecar/Documents/projects/projectsNew/lab/project_folder\n",
      "/home/valdecar/Documents/projects/projectsNew/lab/hybriddomain/hybriddomain/gens/hs/gen_env/cpp/env/base\n",
      "hybriddomain/gens/hs/gen_env/cpp/env/base\n",
      "/home/valdecar/Documents/projects/projectsNew/lab/hybriddomain/\n",
      "/home/valdecar/Documents/projects/projectsNew/lab/hybriddomain/hybriddomain/gens/hs/gen_env/cpp/templates\n",
      "pathToTemplates:\n",
      "hybriddomain/gens/hs/gen_env/cpp/templates\n",
      "/home/valdecar/Documents/projects/projectsNew/lab/project_folder\n",
      "/home/valdecar/Documents/projects/projectsNew/lab/hybriddomain/hybriddomain/gens/hs/gen_env/cpp/env/base\n",
      "hybriddomain/gens/hs/gen_env/cpp/env/base\n",
      "/home/valdecar/Documents/projects/projectsNew/lab/hybriddomain/\n",
      "/home/valdecar/Documents/projects/projectsNew/lab/hybriddomain/hybriddomain/gens/hs/gen_env/cpp/templates\n"
     ]
    },
    {
     "name": "stderr",
     "output_type": "stream",
     "text": [
      "DEBUG:postproc.py:FROM postproc\n",
      "DEBUG:postproc.py:res\n",
      "DEBUG:postproc.py:{'U': {'2.3': [(1, 13), (2, 13), (3, 13), (4, 13), (5, 13), (6, 13), (7, 13), (8, 13), (9, 13), (10, 13), (11, 13), (12, 13), (13, 13), (14, 13), (15, 13), (16, 13), (17, 13), (18, 13), (19, 13)], '1.1': [(1, 14), (2, 14), (3, 14), (4, 14), (5, 14), (6, 14), (7, 14), (8, 14), (9, 14), (10, 14), (11, 14), (12, 14), (13, 14), (14, 14), (15, 14), (16, 14), (17, 14), (18, 14), (19, 14)]}}\n",
      "DEBUG:postproc.py:[1, 2]\n",
      "DEBUG:postproc.py:map_td\n",
      "DEBUG:postproc.py:{(1, 14): 1, (2, 14): 1, (3, 14): 1, (4, 14): 1, (5, 14): 1, (6, 14): 1, (7, 14): 1, (8, 14): 1, (9, 14): 1, (10, 14): 1, (11, 14): 1, (12, 14): 1, (13, 14): 1, (14, 14): 1, (15, 14): 1, (16, 14): 1, (17, 14): 1, (18, 14): 1, (19, 14): 1, (1, 13): 2, (2, 13): 2, (3, 13): 2, (4, 13): 2, (5, 13): 2, (6, 13): 2, (7, 13): 2, (8, 13): 2, (9, 13): 2, (10, 13): 2, (11, 13): 2, (12, 13): 2, (13, 13): 2, (14, 13): 2, (15, 13): 2, (16, 13): 2, (17, 13): 2, (18, 13): 2, (19, 13): 2}\n",
      "INFO:gen_dim:delays:\n",
      "INFO:gen_dim:{'U': [2, 1]}\n",
      "INFO:gen_dim:max_delays_seq:\n",
      "INFO:gen_dim:[2, 1]\n"
     ]
    },
    {
     "name": "stdout",
     "output_type": "stream",
     "text": [
      "pathToTemplates:\n",
      "hybriddomain/gens/hs/gen_env/cpp/templates\n",
      "/home/valdecar/Documents/projects/projectsNew/lab/project_folder\n",
      "/home/valdecar/Documents/projects/projectsNew/lab/hybriddomain/hybriddomain/gens/hs/gen_env/cpp/env/base\n",
      "hybriddomain/gens/hs/gen_env/cpp/env/base\n",
      "/home/valdecar/Documents/projects/projectsNew/lab/hybriddomain/\n",
      "/home/valdecar/Documents/projects/projectsNew/lab/hybriddomain/hybriddomain/gens/hs/gen_env/cpp/templates\n",
      "pathToTemplates:\n",
      "hybriddomain/gens/hs/gen_env/cpp/templates\n",
      "/home/valdecar/Documents/projects/projectsNew/lab/project_folder\n",
      "/home/valdecar/Documents/projects/projectsNew/lab/hybriddomain/hybriddomain/gens/hs/gen_env/cpp/env/base\n",
      "hybriddomain/gens/hs/gen_env/cpp/env/base\n",
      "/home/valdecar/Documents/projects/projectsNew/lab/hybriddomain/\n",
      "/home/valdecar/Documents/projects/projectsNew/lab/hybriddomain/hybriddomain/gens/hs/gen_env/cpp/templates\n",
      "pathToTemplates:\n",
      "hybriddomain/gens/hs/gen_env/cpp/templates\n",
      "/home/valdecar/Documents/projects/projectsNew/lab/project_folder\n",
      "/home/valdecar/Documents/projects/projectsNew/lab/hybriddomain/hybriddomain/gens/hs/gen_env/cpp/env/base\n",
      "hybriddomain/gens/hs/gen_env/cpp/env/base\n",
      "/home/valdecar/Documents/projects/projectsNew/lab/hybriddomain/\n",
      "/home/valdecar/Documents/projects/projectsNew/lab/hybriddomain/hybriddomain/gens/hs/gen_env/cpp/templates\n",
      "pathToTemplates:\n",
      "hybriddomain/gens/hs/gen_env/cpp/templates\n",
      "/home/valdecar/Documents/projects/projectsNew/lab/project_folder\n",
      "/home/valdecar/Documents/projects/projectsNew/lab/hybriddomain/hybriddomain/gens/hs/gen_env/cpp/env/base\n",
      "hybriddomain/gens/hs/gen_env/cpp/env/base\n",
      "/home/valdecar/Documents/projects/projectsNew/lab/hybriddomain/\n",
      "/home/valdecar/Documents/projects/projectsNew/lab/hybriddomain/hybriddomain/gens/hs/gen_env/cpp/templates\n",
      "pathToTemplates:\n",
      "hybriddomain/gens/hs/gen_env/cpp/templates\n",
      "/home/valdecar/Documents/projects/projectsNew/lab/project_folder\n",
      "/home/valdecar/Documents/projects/projectsNew/lab/hybriddomain/hybriddomain/gens/hs/gen_env/cpp/env/base\n",
      "hybriddomain/gens/hs/gen_env/cpp/env/base\n",
      "/home/valdecar/Documents/projects/projectsNew/lab/hybriddomain/\n",
      "/home/valdecar/Documents/projects/projectsNew/lab/hybriddomain/hybriddomain/gens/hs/gen_env/cpp/templates\n"
     ]
    },
    {
     "name": "stderr",
     "output_type": "stream",
     "text": [
      "DEBUG:gen_dim:funcNamesStack after cent:\n",
      "DEBUG:gen_dim:['Block0CentralFunction_Eqn3', 'Block0CentralFunction_Eqn2', 'Block1CentralFunction_Eqn2']\n",
      "DEBUG:gen_dim:funcNamesStack after ics:\n",
      "DEBUG:gen_dim:['Block0CentralFunction_Eqn3', 'Block0CentralFunction_Eqn2', 'Block1CentralFunction_Eqn2', 'Block0Interconnect__Side2_Eqn2', 'Block1Interconnect__Side3_Eqn2']\n",
      "DEBUG:gen_dim:funcNamesStack after bounds:\n",
      "DEBUG:gen_dim:['Block0CentralFunction_Eqn3', 'Block0CentralFunction_Eqn2', 'Block1CentralFunction_Eqn2', 'Block0Interconnect__Side2_Eqn2', 'Block1Interconnect__Side3_Eqn2', 'Block0DefaultNeumann__side0__Eqn2', 'Block0DefaultNeumann__side1__Eqn2', 'Block0DefaultNeumann__side3__Eqn2', 'Block1DefaultNeumann__side0__Eqn2', 'Block1DefaultNeumann__side1__Eqn2', 'Block1DefaultNeumann__side2__Eqn2', 'Block1DefaultNeumann__side3__Eqn2', 'Block0Default_Vertex0_2__Eqn2', 'Block0Default_Vertex2_1__Eqn2', 'Block0Default_Vertex1_3__Eqn2', 'Block0Default_Vertex3_0__Eqn2', 'Block1Default_Vertex0_2__Eqn2', 'Block1Default_Vertex2_1__Eqn2', 'Block1Default_Vertex1_3__Eqn2', 'Block1Default_Vertex3_0__Eqn2']\n",
      "DEBUG:gen_dim:funcNamesStack after set:\n",
      "DEBUG:gen_dim:['Block0CentralFunction_Eqn3', 'Block0CentralFunction_Eqn2', 'Block1CentralFunction_Eqn2', 'Block0Interconnect__Side2_Eqn2', 'Block1Interconnect__Side3_Eqn2', 'Block0DefaultNeumann__side0__Eqn2', 'Block0DefaultNeumann__side1__Eqn2', 'Block0DefaultNeumann__side3__Eqn2', 'Block1DefaultNeumann__side0__Eqn2', 'Block1DefaultNeumann__side1__Eqn2', 'Block1DefaultNeumann__side2__Eqn2', 'Block1DefaultNeumann__side3__Eqn2', 'Block0Default_Vertex0_2__Eqn2', 'Block0Default_Vertex2_1__Eqn2', 'Block0Default_Vertex1_3__Eqn2', 'Block0Default_Vertex3_0__Eqn2', 'Block1Default_Vertex0_2__Eqn2', 'Block1Default_Vertex2_1__Eqn2', 'Block1Default_Vertex1_3__Eqn2', 'Block1Default_Vertex3_0__Eqn2']\n",
      "DEBUG:gen_dim:namesAndNumbers after array:\n",
      "DEBUG:gen_dim:{0: ['Block0CentralFunction_Eqn3', 'Block0CentralFunction_Eqn2', 'Block0Interconnect__Side2_Eqn2', 'Block0DefaultNeumann__side0__Eqn2', 'Block0DefaultNeumann__side1__Eqn2', 'Block0DefaultNeumann__side3__Eqn2', 'Block0Default_Vertex0_2__Eqn2', 'Block0Default_Vertex2_1__Eqn2', 'Block0Default_Vertex1_3__Eqn2', 'Block0Default_Vertex3_0__Eqn2'], 1: ['Block1CentralFunction_Eqn2', 'Block1Interconnect__Side3_Eqn2', 'Block1DefaultNeumann__side0__Eqn2', 'Block1DefaultNeumann__side1__Eqn2', 'Block1DefaultNeumann__side2__Eqn2', 'Block1DefaultNeumann__side3__Eqn2', 'Block1Default_Vertex0_2__Eqn2', 'Block1Default_Vertex2_1__Eqn2', 'Block1Default_Vertex1_3__Eqn2', 'Block1Default_Vertex3_0__Eqn2']}\n",
      "INFO:filler_main:filling arrays...\n",
      "INFO:model_main.model_device:For node cnode7 cpu0 memory is 56GB, total state size is 10201 elems, capacity=736809.\n",
      "INFO:model_main.model_device:For node cnode7 gpu0 memory is 5GB, total state size is 0 elems, capacity=infinity.\n",
      "INFO:model_main.model_device:For node cnode7 gpu1 memory is 5GB, total state size is 0 elems, capacity=infinity.\n",
      "INFO:model_main.model_device:For node cnode7 gpu2 memory is 5GB, total state size is 0 elems, capacity=infinity.\n",
      "INFO:blocks_filler_main:Welcome to Blocks Data filler\n",
      "DEBUG:blocks_filler_main:following is the function mapping\n",
      "DEBUG:blocks_filler_main:{0: {'center': [[0, 10, 91, 70, 91]], 'center_default': 1, 'v02': 6, 'v12': 7, 'v13': 8, 'v03': 9, 'side0': [[3, 0, 1, 0, 101]], 'side1': [[4, 100, 101, 0, 101]], 'side2': [[2, 0, 101, 0, 1]], 'side3': [[5, 0, 101, 100, 101]]}, 1: {'center': [], 'center_default': 0, 'v02': 6, 'v12': 7, 'v13': 8, 'v03': 9, 'side0': [[2, 0, 1, 0, 201]], 'side1': [[3, 300, 301, 0, 201]], 'side2': [[4, 0, 301, 0, 1]], 'side3': [[1, 0, 101, 200, 201], [5, 100, 301, 200, 201]]}}\n",
      "DEBUG:blocks_filler_main:Saving block\n",
      "DEBUG:blocks_filler_main:0\n",
      "INFO:blocks_filler_main:1. Fill block params\n",
      "DEBUG:blocks_filler_main:blockPropArr\n",
      "DEBUG:blocks_filler_main:[  0   0   0   0   0 101 101]\n",
      "INFO:blocks_filler_main:2. Fill block functions\n",
      "INFO:filler_main.blocks_filler_2d:Filling 2d initial function array.\n",
      "INFO:filler_main.blocks_filler_2d:1 fill default conditions\n",
      "INFO:filler_main.blocks_filler_2d:2 fill user-defined conditions\n",
      "INFO:filler_main.blocks_filler_2d:2.1 collect user-defines initial conditions\n",
      "INFO:filler_main.blocks_filler_2d:2.2 fill them\n",
      "DEBUG:filler_main.blocks_filler_2d:Used init nums:\n",
      "DEBUG:filler_main.blocks_filler_2d:[0, 1]\n",
      "INFO:filler_main.blocks_filler_2d:3 overwrite with values that come from Dirichlet bounds\n",
      "INFO:filler_main.blocks_filler_2d:3.1 collect dirichlet bound numbers\n",
      "DEBUG:filler_main.blocks_filler_2d:Used Dirichlet bound nums:\n",
      "DEBUG:filler_main.blocks_filler_2d:[]\n",
      "INFO:filler_main.blocks_filler_2d:3.2 fill them\n",
      "DEBUG:blocks_filler_main:Initial function indices:\n",
      "DEBUG:blocks_filler_main:[[0 0 0 ..., 0 0 0]\n",
      " [0 0 0 ..., 0 0 0]\n",
      " [0 0 0 ..., 0 0 0]\n",
      " ..., \n",
      " [0 0 0 ..., 0 0 0]\n",
      " [0 0 0 ..., 0 0 0]\n",
      " [0 0 0 ..., 0 0 0]]\n",
      "INFO:filler_main.blocks_filler_2d:Filling 2d main function array.\n",
      "DEBUG:filler_main.blocks_filler_2d:Function mapping for this block:\n",
      "DEBUG:filler_main.blocks_filler_2d:{'center': [[0, 10, 91, 70, 91]], 'center_default': 1, 'v02': 6, 'v12': 7, 'v13': 8, 'v03': 9, 'side0': [[3, 0, 1, 0, 101]], 'side1': [[4, 100, 101, 0, 101]], 'side2': [[2, 0, 101, 0, 1]], 'side3': [[5, 0, 101, 100, 101]]}\n",
      "DEBUG:filler_main.blocks_filler_2d:size: 101\n",
      "DEBUG:filler_main.blocks_filler_2d:x 101\n",
      "INFO:filler_main.blocks_filler_2d:1 fill center funcs\n",
      "INFO:filler_main.blocks_filler_2d:fill side 0 funcs\n",
      "INFO:filler_main.blocks_filler_2d:fill side 1 funcs\n",
      "INFO:filler_main.blocks_filler_2d:fill side 2 funcs\n",
      "INFO:filler_main.blocks_filler_2d:fill side 3 funcs\n",
      "INFO:filler_main.blocks_filler_2d:2 fill edges\n",
      "DEBUG:blocks_filler_main:Computation function indices:\n",
      "DEBUG:blocks_filler_main:[[6 2 2 ..., 2 2 7]\n",
      " [3 1 1 ..., 1 1 4]\n",
      " [3 1 1 ..., 1 1 4]\n",
      " ..., \n",
      " [3 1 1 ..., 1 1 4]\n",
      " [3 1 1 ..., 1 1 4]\n",
      " [9 5 5 ..., 5 5 8]]\n",
      "DEBUG:blocks_filler_main:Saving block\n",
      "DEBUG:blocks_filler_main:1\n",
      "INFO:blocks_filler_main:1. Fill block params\n",
      "DEBUG:blocks_filler_main:blockPropArr\n",
      "DEBUG:blocks_filler_main:[  1   0   0   0   0 301 201]\n",
      "INFO:blocks_filler_main:2. Fill block functions\n",
      "INFO:filler_main.blocks_filler_2d:Filling 2d initial function array.\n",
      "INFO:filler_main.blocks_filler_2d:1 fill default conditions\n",
      "INFO:filler_main.blocks_filler_2d:2 fill user-defined conditions\n",
      "INFO:filler_main.blocks_filler_2d:2.1 collect user-defines initial conditions\n",
      "INFO:filler_main.blocks_filler_2d:2.2 fill them\n",
      "DEBUG:filler_main.blocks_filler_2d:Used init nums:\n",
      "DEBUG:filler_main.blocks_filler_2d:[0]\n",
      "INFO:filler_main.blocks_filler_2d:3 overwrite with values that come from Dirichlet bounds\n",
      "INFO:filler_main.blocks_filler_2d:3.1 collect dirichlet bound numbers\n",
      "DEBUG:filler_main.blocks_filler_2d:Used Dirichlet bound nums:\n",
      "DEBUG:filler_main.blocks_filler_2d:[]\n",
      "INFO:filler_main.blocks_filler_2d:3.2 fill them\n",
      "DEBUG:blocks_filler_main:Initial function indices:\n",
      "DEBUG:blocks_filler_main:[[0 0 0 ..., 0 0 0]\n",
      " [0 0 0 ..., 0 0 0]\n",
      " [0 0 0 ..., 0 0 0]\n",
      " ..., \n",
      " [0 0 0 ..., 0 0 0]\n",
      " [0 0 0 ..., 0 0 0]\n",
      " [0 0 0 ..., 0 0 0]]\n",
      "INFO:filler_main.blocks_filler_2d:Filling 2d main function array.\n",
      "DEBUG:filler_main.blocks_filler_2d:Function mapping for this block:\n",
      "DEBUG:filler_main.blocks_filler_2d:{'center': [], 'center_default': 0, 'v02': 6, 'v12': 7, 'v13': 8, 'v03': 9, 'side0': [[2, 0, 1, 0, 201]], 'side1': [[3, 300, 301, 0, 201]], 'side2': [[4, 0, 301, 0, 1]], 'side3': [[1, 0, 101, 200, 201], [5, 100, 301, 200, 201]]}\n",
      "DEBUG:filler_main.blocks_filler_2d:size: 301\n",
      "DEBUG:filler_main.blocks_filler_2d:x 201\n",
      "INFO:filler_main.blocks_filler_2d:1 fill center funcs\n",
      "INFO:filler_main.blocks_filler_2d:fill side 0 funcs\n",
      "INFO:filler_main.blocks_filler_2d:fill side 1 funcs\n",
      "INFO:filler_main.blocks_filler_2d:fill side 2 funcs\n",
      "INFO:filler_main.blocks_filler_2d:fill side 3 funcs\n",
      "INFO:filler_main.blocks_filler_2d:2 fill edges\n",
      "DEBUG:blocks_filler_main:Computation function indices:\n",
      "DEBUG:blocks_filler_main:[[6 4 4 ..., 4 4 7]\n",
      " [2 0 0 ..., 0 0 3]\n",
      " [2 0 0 ..., 0 0 3]\n",
      " ..., \n",
      " [2 0 0 ..., 0 0 3]\n",
      " [2 0 0 ..., 0 0 3]\n",
      " [9 1 1 ..., 5 5 8]]\n",
      "INFO:tests.tester.ics_filler_main:saving 2 ics\n",
      "INFO:tests.tester.ics_filler_main:self.icCount:\n",
      "INFO:tests.tester.ics_filler_main:1\n"
     ]
    },
    {
     "name": "stdout",
     "output_type": "stream",
     "text": [
      "Filling interconnect 0 : block1 off: 0 0 1 ; block2 off: 0 0 1\n",
      "Saving interconnect 0 part 1\n",
      "[  1 101   0   1   2   3   0   0]\n",
      "Saving interconnect 0 part 2\n",
      "[  1 101   1   0   3   2   0   0]\n"
     ]
    },
    {
     "name": "stderr",
     "output_type": "stream",
     "text": [
      "DEBUG:filler_main:array to save blockInitFuncArrList0\n",
      "DEBUG:filler_main:shape: [101, 101, 1]\n",
      "DEBUG:filler_main:[[0 0 0 ..., 0 0 0]\n",
      " [0 0 0 ..., 0 0 0]\n",
      " [0 0 0 ..., 0 0 0]\n",
      " ..., \n",
      " [0 0 0 ..., 0 0 0]\n",
      " [0 0 0 ..., 0 0 0]\n",
      " [0 0 0 ..., 0 0 0]]\n",
      "DEBUG:filler_main:array to save blockInitFuncArrList1\n",
      "DEBUG:filler_main:shape: [301, 201, 1]\n",
      "DEBUG:filler_main:[[0 0 0 ..., 0 0 0]\n",
      " [0 0 0 ..., 0 0 0]\n",
      " [0 0 0 ..., 0 0 0]\n",
      " ..., \n",
      " [0 0 0 ..., 0 0 0]\n",
      " [0 0 0 ..., 0 0 0]\n",
      " [0 0 0 ..., 0 0 0]]\n",
      "DEBUG:filler_main:array to save blockCompFuncArrList0\n",
      "DEBUG:filler_main:shape: [101, 101, 1]\n",
      "DEBUG:filler_main:[[6 2 2 ..., 2 2 7]\n",
      " [3 1 1 ..., 1 1 4]\n",
      " [3 1 1 ..., 1 1 4]\n",
      " ..., \n",
      " [3 1 1 ..., 1 1 4]\n",
      " [3 1 1 ..., 1 1 4]\n",
      " [9 5 5 ..., 5 5 8]]\n",
      "DEBUG:filler_main:array to save blockCompFuncArrList1\n",
      "DEBUG:filler_main:shape: [301, 201, 1]\n",
      "DEBUG:filler_main:[[6 4 4 ..., 4 4 7]\n",
      " [2 0 0 ..., 0 0 3]\n",
      " [2 0 0 ..., 0 0 3]\n",
      " ..., \n",
      " [2 0 0 ..., 0 0 3]\n",
      " [2 0 0 ..., 0 0 3]\n",
      " [9 1 1 ..., 5 5 8]]\n",
      "INFO:filler_main:saving domain...\n",
      "INFO:tests.tester.gen_sh:generating launcher script...\n"
     ]
    }
   ],
   "source": [
    "ts.run(problem=model,device=device_conf_name,\n",
    "       paths=conn_name,workspace=workspace, username='hpc')"
   ]
  },
  {
   "cell_type": "markdown",
   "metadata": {},
   "source": [
    "### Getting generated data:"
   ]
  },
  {
   "cell_type": "markdown",
   "metadata": {},
   "source": [
    "Blocks properties:"
   ]
  },
  {
   "cell_type": "code",
   "execution_count": 22,
   "metadata": {
    "collapsed": false
   },
   "outputs": [
    {
     "data": {
      "text/html": [
       "<div>\n",
       "<table border=\"1\" class=\"dataframe\">\n",
       "  <thead>\n",
       "    <tr style=\"text-align: right;\">\n",
       "      <th></th>\n",
       "      <th>nodeIdx</th>\n",
       "      <th>DeviceType</th>\n",
       "      <th>DeviceIdx</th>\n",
       "      <th>cellOffsetX</th>\n",
       "      <th>cellOffsetY</th>\n",
       "      <th>cellCountX</th>\n",
       "      <th>cellCountY</th>\n",
       "    </tr>\n",
       "  </thead>\n",
       "  <tbody>\n",
       "    <tr>\n",
       "      <th>0</th>\n",
       "      <td>0</td>\n",
       "      <td>0</td>\n",
       "      <td>0</td>\n",
       "      <td>0</td>\n",
       "      <td>0</td>\n",
       "      <td>101</td>\n",
       "      <td>101</td>\n",
       "    </tr>\n",
       "    <tr>\n",
       "      <th>1</th>\n",
       "      <td>1</td>\n",
       "      <td>0</td>\n",
       "      <td>0</td>\n",
       "      <td>0</td>\n",
       "      <td>0</td>\n",
       "      <td>301</td>\n",
       "      <td>201</td>\n",
       "    </tr>\n",
       "  </tbody>\n",
       "</table>\n",
       "</div>"
      ],
      "text/plain": [
       "   nodeIdx  DeviceType  DeviceIdx  cellOffsetX  cellOffsetY  cellCountX  \\\n",
       "0        0           0          0            0            0         101   \n",
       "1        1           0          0            0            0         301   \n",
       "\n",
       "   cellCountY  \n",
       "0         101  \n",
       "1         201  "
      ]
     },
     "execution_count": 22,
     "metadata": {},
     "output_type": "execute_result"
    }
   ],
   "source": [
    "model.gen_out_data['blocks']['blockPropArrList']['frame']"
   ]
  },
  {
   "cell_type": "code",
   "execution_count": 9,
   "metadata": {
    "collapsed": true
   },
   "outputs": [],
   "source": [
    "import matplotlib.pyplot as plt\n",
    "%matplotlib inline"
   ]
  },
  {
   "cell_type": "markdown",
   "metadata": {},
   "source": [
    "Block's init and computational arrays:"
   ]
  },
  {
   "cell_type": "code",
   "execution_count": 10,
   "metadata": {
    "collapsed": false
   },
   "outputs": [
    {
     "data": {
      "text/plain": [
       "<matplotlib.image.AxesImage at 0x7ff7842836d8>"
      ]
     },
     "execution_count": 10,
     "metadata": {},
     "output_type": "execute_result"
    },
    {
     "data": {
      "image/png": "[encoded data removed]",
      "text/plain": [
       "<matplotlib.figure.Figure at 0x7ff7844497b8>"
      ]
     },
     "metadata": {},
     "output_type": "display_data"
    }
   ],
   "source": [
    "block_num = 0\n",
    "shapes = model.gen_out_data['blocks']['blockInitFuncArrList']['shapes']\n",
    "xc, yc, zc = shapes[block_num]\n",
    "block_array = model.gen_out_data['blocks']['blockInitFuncArrList']['arrays'][block_num]\n",
    "img = block_array.reshape([yc, xc])\n",
    "plt.imshow(img)"
   ]
  },
  {
   "cell_type": "code",
   "execution_count": 11,
   "metadata": {
    "collapsed": false
   },
   "outputs": [
    {
     "data": {
      "text/plain": [
       "<matplotlib.image.AxesImage at 0x7ff7846ff278>"
      ]
     },
     "execution_count": 11,
     "metadata": {},
     "output_type": "execute_result"
    },
    {
     "data": {
      "image/png": "[encoded data removed]",
      "text/plain": [
       "<matplotlib.figure.Figure at 0x7ff784331710>"
      ]
     },
     "metadata": {},
     "output_type": "display_data"
    }
   ],
   "source": [
    "block_num = 0\n",
    "shapes = model.gen_out_data['blocks']['blockCompFuncArrList']['shapes']\n",
    "xc, yc, zc = shapes[block_num]\n",
    "block_array = model.gen_out_data['blocks']['blockCompFuncArrList']['arrays'][block_num]\n",
    "img = block_array.reshape([yc, xc])\n",
    "plt.imshow(img)"
   ]
  },
  {
   "cell_type": "markdown",
   "metadata": {},
   "source": [
    "Interconntcts data:"
   ]
  },
  {
   "cell_type": "code",
   "execution_count": 13,
   "metadata": {
    "collapsed": false
   },
   "outputs": [
    {
     "name": "stdout",
     "output_type": "stream",
     "text": [
      "\n",
      "ic: connection 1\n",
      "blockNumber1: 0\n",
      "blockNumber2: 1\n",
      "block1Side: 2\n",
      "block2Side: 3\n",
      "\n"
     ]
    }
   ],
   "source": [
    "block0 = model.blocks[0]\n",
    "block1 = model.blocks[1]\n",
    "ic0 = model.interconnects[0]\n",
    "print(ic0)\n"
   ]
  },
  {
   "cell_type": "code",
   "execution_count": 14,
   "metadata": {
    "collapsed": false
   },
   "outputs": [
    {
     "name": "stdout",
     "output_type": "stream",
     "text": [
      "b1: [10.0, 10.0]\n",
      "b2: [30.0, 20.0]\n",
      "s: [60.0, 40.0]\n",
      "case 2: block1Side 2, block2Side 3\n",
      "orign_1: [0.0, -10.0]\n",
      "orign_2: [0.0, 0]\n"
     ]
    },
    {
     "data": {
      "text/plain": [
       "<module 'matplotlib.pyplot' from '/home/valdecar/anaconda3/lib/python3.6/site-packages/matplotlib/pyplot.py'>"
      ]
     },
     "execution_count": 14,
     "metadata": {},
     "output_type": "execute_result"
    },
    {
     "data": {
      "image/png": "[encoded data removed]",
      "text/plain": [
       "<matplotlib.figure.Figure at 0x7ff7845eec18>"
      ]
     },
     "metadata": {},
     "output_type": "display_data"
    }
   ],
   "source": [
    "ic0.plotter.plot()"
   ]
  },
  {
   "cell_type": "code",
   "execution_count": 15,
   "metadata": {
    "collapsed": false
   },
   "outputs": [
    {
     "data": {
      "text/html": [
       "<div>\n",
       "<table border=\"1\" class=\"dataframe\">\n",
       "  <thead>\n",
       "    <tr style=\"text-align: right;\">\n",
       "      <th></th>\n",
       "      <th>icDim</th>\n",
       "      <th>icLen</th>\n",
       "      <th>source block</th>\n",
       "      <th>dest_block</th>\n",
       "      <th>source side</th>\n",
       "      <th>dest side</th>\n",
       "      <th>source offset</th>\n",
       "      <th>dest offset</th>\n",
       "    </tr>\n",
       "  </thead>\n",
       "  <tbody>\n",
       "    <tr>\n",
       "      <th>0</th>\n",
       "      <td>1</td>\n",
       "      <td>101</td>\n",
       "      <td>0</td>\n",
       "      <td>1</td>\n",
       "      <td>2</td>\n",
       "      <td>3</td>\n",
       "      <td>0</td>\n",
       "      <td>0</td>\n",
       "    </tr>\n",
       "    <tr>\n",
       "      <th>1</th>\n",
       "      <td>1</td>\n",
       "      <td>101</td>\n",
       "      <td>1</td>\n",
       "      <td>0</td>\n",
       "      <td>3</td>\n",
       "      <td>2</td>\n",
       "      <td>0</td>\n",
       "      <td>0</td>\n",
       "    </tr>\n",
       "  </tbody>\n",
       "</table>\n",
       "</div>"
      ],
      "text/plain": [
       "   icDim  icLen  source block  dest_block  source side  dest side  \\\n",
       "0      1    101             0           1            2          3   \n",
       "1      1    101             1           0            3          2   \n",
       "\n",
       "   source offset  dest offset  \n",
       "0              0            0  \n",
       "1              0            0  "
      ]
     },
     "execution_count": 15,
     "metadata": {},
     "output_type": "execute_result"
    }
   ],
   "source": [
    "model.gen_out_data['ics']['icList']['frame']"
   ]
  },
  {
   "cell_type": "code",
   "execution_count": 16,
   "metadata": {
    "collapsed": false
   },
   "outputs": [
    {
     "data": {
      "text/html": [
       "<div>\n",
       "<table border=\"1\" class=\"dataframe\">\n",
       "  <thead>\n",
       "    <tr style=\"text-align: right;\">\n",
       "      <th></th>\n",
       "      <th>0</th>\n",
       "    </tr>\n",
       "  </thead>\n",
       "  <tbody>\n",
       "    <tr>\n",
       "      <th>dest_b1</th>\n",
       "      <td>src_b0.src_s2 for dest_s3</td>\n",
       "    </tr>\n",
       "    <tr>\n",
       "      <th>dest_b0</th>\n",
       "      <td>src_b1.src_s3 for dest_s2</td>\n",
       "    </tr>\n",
       "  </tbody>\n",
       "</table>\n",
       "</div>"
      ],
      "text/plain": [
       "                                 0\n",
       "dest_b1  src_b0.src_s2 for dest_s3\n",
       "dest_b0  src_b1.src_s3 for dest_s2"
      ]
     },
     "execution_count": 16,
     "metadata": {},
     "output_type": "execute_result"
    }
   ],
   "source": [
    "model.gen_out_data['ics']['blocks_ics']['frame']"
   ]
  },
  {
   "cell_type": "markdown",
   "metadata": {},
   "source": [
    "# Run solver"
   ]
  },
  {
   "cell_type": "markdown",
   "metadata": {},
   "source": [
    "### Progress:"
   ]
  },
  {
   "cell_type": "code",
   "execution_count": 17,
   "metadata": {
    "collapsed": false
   },
   "outputs": [],
   "source": [
    "from hybriddomain.solvers.hs.remoterun.progresses.progress_notebook import ProgressNotebook"
   ]
  },
  {
   "cell_type": "code",
   "execution_count": 8,
   "metadata": {
    "collapsed": false
   },
   "outputs": [],
   "source": [
    "progress = ProgressNotebook(100, prefix='solving')\n",
    "display(progress.progress)"
   ]
  },
  {
   "cell_type": "markdown",
   "metadata": {},
   "source": [
    "### Run solver:"
   ]
  },
  {
   "cell_type": "code",
   "execution_count": 9,
   "metadata": {
    "collapsed": false
   },
   "outputs": [],
   "source": [
    "from hybriddomain.solvers.hs.remoterun.remoterun import remoteProjectRun"
   ]
  },
  {
   "cell_type": "code",
   "execution_count": 10,
   "metadata": {
    "collapsed": false
   },
   "outputs": [
    {
     "name": "stderr",
     "output_type": "stream",
     "text": [
      "INFO:remoterun:\n",
      "connect ...\n",
      "INFO:remoterun:\n",
      "connection established\n",
      "INFO:remoterun:\n",
      "files/folders routine\n",
      "INFO:remoterun:\n",
      "files/folders routine complited\n",
      "INFO:remoterun:\n",
      "Running preprocessor:\n",
      "INFO:remoterun:command:\n",
      "INFO:remoterun:~/anaconda3/bin/python3 -c \"import hybriddomain.gens.hs.tests.tests_gen_1d as ts; ts.run()\" -t /clusterhome/hpc/tracer/workspace/problems/2dTests/heat_block_2_ics_other_offsets -d /clusterhome/hpc/tracer/workspace/settings/device_conf/ics_other.json -p /clusterhome/hpc/tracer/workspace/settings/paths/connection.json -w /clusterhome/hpc/tracer/workspace -u hpc 2>&1\n",
      "INFO:remoterun:\n",
      "Running solver:\n",
      "INFO:remoterun:11-11 12:23:05 Performance (10^6): 138.915\n",
      "\n",
      "INFO:remoterun:INFO:postproc.video:Creating images for block 0 value U\n",
      "\n",
      "INFO:remoterun:INFO:postproc.video:Creating video file: 0\n",
      "\n",
      "INFO:remoterun:INFO:postproc.video:Creating images for block 1 value U\n",
      "\n",
      "INFO:remoterun:INFO:postproc.video:Creating video file: 1\n",
      "\n",
      "INFO:remoterun:INFO:postproc.video:Creating out file: 0\n",
      "\n",
      "INFO:remoterun:Downloading results...\n",
      "INFO:remoterun:Done!\n"
     ]
    }
   ],
   "source": [
    "clear_output()\n",
    "test_name = settings.paths['model']['name']\n",
    "bTest = widgets.Button(description=\"run %s \" % (test_name))\n",
    "def run(event):\n",
    "    remoteProjectRun(settings, 1, progress)\n",
    "bTest.on_click(run)\n",
    "display(progress.progress)\n",
    "display(bTest)\n",
    "display(progress.progress)"
   ]
  },
  {
   "cell_type": "markdown",
   "metadata": {},
   "source": [
    "### Results:"
   ]
  },
  {
   "cell_type": "code",
   "execution_count": 11,
   "metadata": {
    "collapsed": false
   },
   "outputs": [],
   "source": [
    "# get results (for TRAC-11 result_format=1):\n",
    "model.readResults(result_format=1)"
   ]
  },
  {
   "cell_type": "code",
   "execution_count": 12,
   "metadata": {
    "collapsed": false
   },
   "outputs": [
    {
     "name": "stdout",
     "output_type": "stream",
     "text": [
      "dict_keys(['name0'])\n"
     ]
    }
   ],
   "source": [
    "# available results:\n",
    "print(model.results_arrays.keys())"
   ]
  },
  {
   "cell_type": "code",
   "execution_count": 13,
   "metadata": {
    "collapsed": false
   },
   "outputs": [
    {
     "name": "stdout",
     "output_type": "stream",
     "text": [
      "[[ 1.          1.          1.         ...,  1.          1.          1.        ]\n",
      " [ 1.          1.          1.         ...,  1.          1.          1.        ]\n",
      " [ 1.          1.          1.         ...,  1.          1.          1.        ]\n",
      " ..., \n",
      " [ 1.          1.          1.         ...,  1.00000024  1.00000322  1.        ]\n",
      " [ 1.          1.          1.         ...,  1.00000155  1.00001717  1.        ]\n",
      " [ 1.          1.          1.         ...,  1.00000906  1.00008333  1.        ]]\n"
     ]
    }
   ],
   "source": [
    "import matplotlib.pyplot as plt\n",
    "%matplotlib inline\n",
    "\n",
    "# available data:\n",
    "time = model.results_arrays['name0']['timevalues'][3]\n",
    "res = model.results_arrays['name0']['resvalues'][time].T[0]\n",
    "plt.imshow(res)"
   ]
  },
  {
   "cell_type": "markdown",
   "metadata": {},
   "source": [
    "##### Video:"
   ]
  },
  {
   "cell_type": "code",
   "execution_count": 15,
   "metadata": {
    "collapsed": false
   },
   "outputs": [
    {
     "data": {
      "text/plain": [
       "{'plot0': ['problems/2dTests/heat_block_2_ics_other_offsets/out/plot0-block0.mp4'],\n",
       " 'plot1': ['problems/2dTests/heat_block_2_ics_other_offsets/out/plot1-block1.mp4']}"
      ]
     },
     "execution_count": 15,
     "metadata": {},
     "output_type": "execute_result"
    }
   ],
   "source": [
    "# available plots:\n",
    "model.plots_paths\n",
    "# model.results_paths"
   ]
  },
  {
   "cell_type": "code",
   "execution_count": 17,
   "metadata": {
    "collapsed": false,
    "scrolled": true
   },
   "outputs": [
    {
     "data": {
      "text/html": [
       "\n",
       "        <script>\n",
       "        </script>\n",
       "\n",
       "        <video controls>\n",
       "        <source src=\"problems/2dTests/heat_block_2_ics_other_offsets/out/plot0-block0.mp4\" type=\"video/mp4\"><p>Your browser doesnt support HTML5 video.Here is a <a href=\"problems/2dTests/heat_block_2_ics_other_offsets/out/plot0-block0.mp4\">link to the video</a></p></video>"
      ],
      "text/plain": [
       "<IPython.core.display.HTML object>"
      ]
     },
     "metadata": {},
     "output_type": "display_data"
    }
   ],
   "source": [
    "display(HTML(model.get_video('plot0')))"
   ]
  },
  {
   "cell_type": "markdown",
   "metadata": {},
   "source": [
    "##### .out:"
   ]
  },
  {
   "cell_type": "markdown",
   "metadata": {
    "collapsed": false
   },
   "source": [
    "For ploting it is better to use ``result_format=0``:"
   ]
  },
  {
   "cell_type": "code",
   "execution_count": 18,
   "metadata": {
    "collapsed": true
   },
   "outputs": [],
   "source": [
    "# get results:\n",
    "model.readResults(result_format=0)"
   ]
  },
  {
   "cell_type": "markdown",
   "metadata": {},
   "source": [
    "In that case data access will be:"
   ]
  },
  {
   "cell_type": "code",
   "execution_count": 52,
   "metadata": {
    "collapsed": false
   },
   "outputs": [
    {
     "name": "stdout",
     "output_type": "stream",
     "text": [
      "101\n",
      "101\n"
     ]
    },
    {
     "data": {
      "text/plain": [
       "<matplotlib.image.AxesImage at 0x7fb077f52e80>"
      ]
     },
     "execution_count": 52,
     "metadata": {},
     "output_type": "execute_result"
    },
    {
     "data": {
      "image/png": "[encoded data removed]",
      "text/plain": [
       "<matplotlib.figure.Figure at 0x7fb0779b4e10>"
      ]
     },
     "metadata": {},
     "output_type": "display_data"
    }
   ],
   "source": [
    "import matplotlib.pyplot as plt\n",
    "%matplotlib inline\n",
    "\n",
    "result_name = 'name0'\n",
    "var = 0\n",
    "\n",
    "time = model.results_arrays['timevalues'][3]\n",
    "\n",
    "x_size = len(model.results_arrays['resvalues'][result_name][var][time])\n",
    "y_size = len(model.results_arrays['resvalues'][result_name][var][time].T)\n",
    "print(x_size)\n",
    "print(y_size)\n",
    "\n",
    "res = model.results_arrays['resvalues'][result_name][var][time]#[:30]\n",
    "plt.imshow(res)\n"
   ]
  },
  {
   "cell_type": "code",
   "execution_count": 22,
   "metadata": {
    "collapsed": false
   },
   "outputs": [],
   "source": [
    "import numpy as np\n",
    "import matplotlib.pyplot as plt\n",
    "from ipywidgets import interactive"
   ]
  },
  {
   "cell_type": "markdown",
   "metadata": {},
   "source": [
    "##### U(x,y, t-fixed):"
   ]
  },
  {
   "cell_type": "code",
   "execution_count": 31,
   "metadata": {
    "collapsed": false
   },
   "outputs": [
    {
     "data": {
      "image/png": "[encoded data removed]",
      "text/plain": [
       "<matplotlib.figure.Figure at 0x7fb077a92198>"
      ]
     },
     "metadata": {},
     "output_type": "display_data"
    }
   ],
   "source": [
    "%matplotlib inline\n",
    "\n",
    "result_name = 'name0'\n",
    "var = 0\n",
    "\n",
    "\n",
    "def f(t):    \n",
    "    time = model.results_arrays['timevalues'][t]\n",
    "    result = model.results_arrays['resvalues'][result_name][var][time]\n",
    "    plt.imshow(result)\n",
    "w = interactive(f,t=(0,10,1))\n",
    "display(w)"
   ]
  },
  {
   "cell_type": "markdown",
   "metadata": {},
   "source": [
    "##### U(x-fixed, y-fixed, t):"
   ]
  },
  {
   "cell_type": "code",
   "execution_count": 54,
   "metadata": {
    "collapsed": false
   },
   "outputs": [
    {
     "data": {
      "image/png": "[encoded data removed]",
      "text/plain": [
       "<matplotlib.figure.Figure at 0x7fb075785358>"
      ]
     },
     "metadata": {},
     "output_type": "display_data"
    }
   ],
   "source": [
    "%matplotlib inline\n",
    "\n",
    "result_name = 'name0'\n",
    "var = 0\n",
    "times = model.results_arrays['timevalues']\n",
    "result = model.results_arrays['resvalues'][result_name][var]\n",
    "# print(result[times[1]])\n",
    "result_x = np.array([result[time] for time in times]).T\n",
    "# print(result_x[-3][91])\n",
    "def f(x, y):\n",
    "    \n",
    "    plt.plot(times, result_x[x][y])\n",
    "    \n",
    "w = interactive(f,x=(0,x_size,1),y=(0,y_size,1))\n",
    "display(w)"
   ]
  },
  {
   "cell_type": "code",
   "execution_count": null,
   "metadata": {
    "collapsed": false
   },
   "outputs": [],
   "source": []
  },
  {
   "cell_type": "code",
   "execution_count": null,
   "metadata": {
    "collapsed": true
   },
   "outputs": [],
   "source": []
  }
 ],
 "metadata": {
  "kernelspec": {
   "display_name": "Python 3",
   "language": "python",
   "name": "python3"
  },
  "language_info": {
   "codemirror_mode": {
    "name": "ipython",
    "version": 3
   },
   "file_extension": ".py",
   "mimetype": "text/x-python",
   "name": "python",
   "nbconvert_exporter": "python",
   "pygments_lexer": "ipython3",
   "version": "3.6.0"
  }
 },
 "nbformat": 4,
 "nbformat_minor": 2
}
