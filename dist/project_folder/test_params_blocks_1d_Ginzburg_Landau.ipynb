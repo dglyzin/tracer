{
 "cells": [
  {
   "cell_type": "code",
   "execution_count": 1,
   "metadata": {
    "collapsed": false
   },
   "outputs": [
    {
     "data": {
      "text/plain": [
       "'/home/valdecar/Documents/projects/projectsNew/lab/hybriddomain/dist/project_folder'"
      ]
     },
     "execution_count": 1,
     "metadata": {},
     "output_type": "execute_result"
    }
   ],
   "source": [
    "modelFileName = 'problems/1dTests/Ginzburg_Landau_blocks'\n",
    "\n",
    "# in ./settings/\n",
    "conn_name = \"connection_valdecar_acchome.json\"\n",
    "device_conf_name = \"devices_valdecar_acchome.json\"\n",
    "\n",
    "# conn_name = \"connection.json.example\"\n",
    "# device_conf_name = \"devices.json.example\"\n",
    "%pwd"
   ]
  },
  {
   "cell_type": "code",
   "execution_count": 2,
   "metadata": {
    "collapsed": false
   },
   "outputs": [],
   "source": [
    "import ipywidgets as widgets\n",
    "from IPython.display import display, clear_output, HTML\n",
    "from IPython.display import Javascript\n"
   ]
  },
  {
   "cell_type": "code",
   "execution_count": 3,
   "metadata": {
    "collapsed": true
   },
   "outputs": [],
   "source": [
    "from hybriddomain.envs.hs.model.model_main import ModelNet as Model\n",
    "from hybriddomain.settings.settings_main import Settings"
   ]
  },
  {
   "cell_type": "markdown",
   "metadata": {},
   "source": [
    "### Add model, connection and device to settings: "
   ]
  },
  {
   "cell_type": "code",
   "execution_count": 5,
   "metadata": {
    "collapsed": false
   },
   "outputs": [
    {
     "name": "stderr",
     "output_type": "stream",
     "text": [
      "INFO:settings_main:device_conf_rpath\n",
      "INFO:settings_main:devices_valdecar_acchome.json\n"
     ]
    },
    {
     "name": "stdout",
     "output_type": "stream",
     "text": [
      "Please enter password for user valdecar:\n",
      "········\n"
     ]
    }
   ],
   "source": [
    "model = Model()\n",
    "model.io.loadFromFile(modelFileName)\n",
    "settings = Settings(model, conn_name, device_conf_name, conn_name)"
   ]
  },
  {
   "cell_type": "markdown",
   "metadata": {},
   "source": [
    "### Params to be tested:"
   ]
  },
  {
   "cell_type": "code",
   "execution_count": 6,
   "metadata": {
    "collapsed": false
   },
   "outputs": [
    {
     "name": "stdout",
     "output_type": "stream",
     "text": [
      "equations:\n",
      "[[\"U'=a*U+b*U*((U)^2+(V)^2)+c*D[U,{x,2}]\", \"V'=a*V+b*V*((U)^2+(V)^2)+c*D[V,{x,2}]\"]]\n",
      "params:\n",
      "['a', 'b', 'c']\n",
      "paramValues:\n",
      "[{'b': 0.0001, 'c': 0.001, 'a': 0.01}, {'b': -0.0001, 'c': 0.001, 'a': 0.01}, {'b': 1e-05, 'c': 0.001, 'a': 0.01}, {'b': -1e-05, 'c': 0.001, 'a': 0.01}, {'b': 3e-05, 'c': 0.001, 'a': 0.01}, {'b': -3e-05, 'c': 0.001, 'a': 0.01}, {'b': 3e-05, 'c': -0.001, 'a': 0.01}]\n"
     ]
    }
   ],
   "source": [
    "# settings.paths['hs']\n",
    "# block = model.blocks[0]\n",
    "# block.vertexs['[0]']\n",
    "\n",
    "print(\"equations:\")\n",
    "print(model.equations)\n",
    "print(\"params:\")\n",
    "print(model.params)\n",
    "print(\"paramValues:\")\n",
    "print(model.paramValues)\n"
   ]
  },
  {
   "cell_type": "markdown",
   "metadata": {},
   "source": [
    "### Progress:"
   ]
  },
  {
   "cell_type": "code",
   "execution_count": 7,
   "metadata": {
    "collapsed": true
   },
   "outputs": [],
   "source": [
    "from hybriddomain.solvers.hs.remoterun.progresses.progress_notebook import ProgressNotebook\n",
    "from hybriddomain.solvers.hs.postproc.results.results_main import ResultPostprocNet as ResultPostproc\n"
   ]
  },
  {
   "cell_type": "code",
   "execution_count": 8,
   "metadata": {
    "collapsed": false
   },
   "outputs": [],
   "source": [
    "progress_params = ProgressNotebook(len(model.paramValues), prefix='param')\n",
    "# display(progress_params.progress)\n",
    "\n",
    "progress_solving = ProgressNotebook(100, prefix='solving')\n",
    "# display(progress_solving.progress)\n",
    "# progress_solving.succ(0)\n",
    "\n",
    "result_postproc = ResultPostproc(modelFileName)"
   ]
  },
  {
   "cell_type": "markdown",
   "metadata": {},
   "source": [
    "### Clear previous results:"
   ]
  },
  {
   "cell_type": "code",
   "execution_count": 9,
   "metadata": {
    "collapsed": false
   },
   "outputs": [
    {
     "name": "stdout",
     "output_type": "stream",
     "text": [
      "u_block1_seq6.out removed\n",
      "u_block1_seq5.out removed\n",
      "u_block1_seq2.out removed\n",
      "u_block0_seq1.out removed\n",
      "u_block0_seq4.out removed\n",
      "u_block1_seq0.out removed\n",
      "u_block0_seq5.out removed\n",
      "u_block1_seq4.out removed\n",
      "u_block0_seq6.out removed\n",
      "u_block1_seq1.out removed\n",
      "u_block0_seq3.out removed\n",
      "u_block1_seq3.out removed\n",
      "u_block0_seq2.out removed\n",
      "u_block0_seq0.out removed\n",
      "plot_block1_seq4.mp4 removed\n",
      "plot_block1_seq2.mp4 removed\n",
      "plot_block0_seq6.mp4 removed\n",
      "plot_block1_seq5.mp4 removed\n",
      "plot_block0_seq4.mp4 removed\n",
      "plot_block0_seq2.mp4 removed\n",
      "plot_block1_seq1.mp4 removed\n",
      "plot_block1_seq3.mp4 removed\n",
      "plot_block0_seq3.mp4 removed\n",
      "plot_block0_seq0.mp4 removed\n",
      "plot_block0_seq5.mp4 removed\n",
      "plot_block1_seq0.mp4 removed\n",
      "plot_block0_seq1.mp4 removed\n",
      "plot_block1_seq6.mp4 removed\n"
     ]
    }
   ],
   "source": [
    "result_postproc.remove_out()"
   ]
  },
  {
   "cell_type": "markdown",
   "metadata": {},
   "source": [
    "### Run solver:"
   ]
  },
  {
   "cell_type": "code",
   "execution_count": 10,
   "metadata": {
    "collapsed": false
   },
   "outputs": [],
   "source": [
    "\n",
    "from hybriddomain.solvers.hs.remoterun.remoterun import remoteProjectRun\n"
   ]
  },
  {
   "cell_type": "code",
   "execution_count": 11,
   "metadata": {
    "collapsed": false
   },
   "outputs": [
    {
     "name": "stderr",
     "output_type": "stream",
     "text": [
      "INFO:remoterun:\n",
      "connect ...\n",
      "INFO:remoterun:\n",
      "connection established\n",
      "INFO:remoterun:\n",
      "files/folders routine\n",
      "INFO:remoterun:\n",
      "files/folders routine completed\n",
      "INFO:remoterun:\n",
      "Running preprocessor:\n",
      "INFO:remoterun:command:\n",
      "INFO:remoterun:/acchome/valdecar/anaconda3/envs/hd/bin/python3 -c \"import hybriddomain.gens.hs.tests.tests_gen_1d as ts; ts.run()\" -t /acchome/valdecar/projects/lab/workspace/problems/1dTests/Ginzburg_Landau_blocks -d /acchome/valdecar/projects/lab/workspace/settings/device_conf/devices_valdecar_acchome.json -p /acchome/valdecar/projects/lab/workspace/settings/paths/connection_valdecar_acchome.json -w /acchome/valdecar/projects/lab/workspace -u valdecar 2>&1\n",
      "INFO:remoterun:\n",
      "Running solver:\n",
      "INFO:remoterun:01-16 12:57:51 Performance (10^6): 436.949\n",
      "\n",
      "INFO:remoterun:INFO:postproc.video:Creating images for block 0 value ['U', 'V']\n",
      "\n",
      "INFO:remoterun:INFO:postproc.video:Creating video file: 0\n",
      "\n",
      "INFO:remoterun:INFO:postproc.video:Creating images for block 0 value ['U', 'V']\n",
      "\n",
      "INFO:remoterun:INFO:postproc.video:Creating video file: 1\n",
      "\n",
      "INFO:remoterun:INFO:postproc.video:Creating out file: u_block0\n",
      "\n",
      "INFO:remoterun:INFO:postproc.video:Creating out file: u_block1\n",
      "\n",
      "INFO:remoterun:Downloading results...\n",
      "INFO:remoterun:Done!\n",
      "INFO:remoterun:\n",
      "connect ...\n",
      "INFO:remoterun:\n",
      "connection established\n",
      "INFO:remoterun:\n",
      "files/folders routine\n",
      "INFO:remoterun:\n",
      "files/folders routine completed\n",
      "INFO:remoterun:\n",
      "Running preprocessor:\n",
      "INFO:remoterun:command:\n",
      "INFO:remoterun:/acchome/valdecar/anaconda3/envs/hd/bin/python3 -c \"import hybriddomain.gens.hs.tests.tests_gen_1d as ts; ts.run()\" -t /acchome/valdecar/projects/lab/workspace/problems/1dTests/Ginzburg_Landau_blocks -d /acchome/valdecar/projects/lab/workspace/settings/device_conf/devices_valdecar_acchome.json -p /acchome/valdecar/projects/lab/workspace/settings/paths/connection_valdecar_acchome.json -w /acchome/valdecar/projects/lab/workspace -u valdecar 2>&1\n",
      "INFO:remoterun:\n",
      "Running solver:\n",
      "INFO:remoterun:01-16 12:58:43 Performance (10^6): 471.439\n",
      "\n",
      "INFO:remoterun:INFO:postproc.video:Creating images for block 0 value ['U', 'V']\n",
      "\n",
      "INFO:remoterun:INFO:postproc.video:Creating video file: 0\n",
      "\n",
      "INFO:remoterun:INFO:postproc.video:Creating images for block 0 value ['U', 'V']\n",
      "\n",
      "INFO:remoterun:INFO:postproc.video:Creating video file: 1\n",
      "\n",
      "INFO:remoterun:INFO:postproc.video:Creating out file: u_block0\n",
      "\n",
      "INFO:remoterun:INFO:postproc.video:Creating out file: u_block1\n",
      "\n",
      "INFO:remoterun:Downloading results...\n",
      "INFO:remoterun:Done!\n",
      "INFO:remoterun:\n",
      "connect ...\n",
      "INFO:remoterun:\n",
      "connection established\n",
      "INFO:remoterun:\n",
      "files/folders routine\n",
      "INFO:remoterun:\n",
      "files/folders routine completed\n",
      "INFO:remoterun:\n",
      "Running preprocessor:\n",
      "INFO:remoterun:command:\n",
      "INFO:remoterun:/acchome/valdecar/anaconda3/envs/hd/bin/python3 -c \"import hybriddomain.gens.hs.tests.tests_gen_1d as ts; ts.run()\" -t /acchome/valdecar/projects/lab/workspace/problems/1dTests/Ginzburg_Landau_blocks -d /acchome/valdecar/projects/lab/workspace/settings/device_conf/devices_valdecar_acchome.json -p /acchome/valdecar/projects/lab/workspace/settings/paths/connection_valdecar_acchome.json -w /acchome/valdecar/projects/lab/workspace -u valdecar 2>&1\n",
      "INFO:remoterun:\n",
      "Running solver:\n",
      "INFO:remoterun:01-16 12:59:37 Performance (10^6): 437.591\n",
      "\n",
      "INFO:remoterun:INFO:postproc.video:Creating images for block 0 value ['U', 'V']\n",
      "\n",
      "INFO:remoterun:INFO:postproc.video:Creating video file: 0\n",
      "\n",
      "INFO:remoterun:INFO:postproc.video:Creating images for block 0 value ['U', 'V']\n",
      "\n",
      "INFO:remoterun:INFO:postproc.video:Creating video file: 1\n",
      "\n",
      "INFO:remoterun:INFO:postproc.video:Creating out file: u_block0\n",
      "\n",
      "INFO:remoterun:INFO:postproc.video:Creating out file: u_block1\n",
      "\n",
      "INFO:remoterun:Downloading results...\n",
      "INFO:remoterun:Done!\n",
      "INFO:remoterun:\n",
      "connect ...\n",
      "INFO:remoterun:\n",
      "connection established\n",
      "INFO:remoterun:\n",
      "files/folders routine\n",
      "INFO:remoterun:\n",
      "files/folders routine completed\n",
      "INFO:remoterun:\n",
      "Running preprocessor:\n",
      "INFO:remoterun:command:\n",
      "INFO:remoterun:/acchome/valdecar/anaconda3/envs/hd/bin/python3 -c \"import hybriddomain.gens.hs.tests.tests_gen_1d as ts; ts.run()\" -t /acchome/valdecar/projects/lab/workspace/problems/1dTests/Ginzburg_Landau_blocks -d /acchome/valdecar/projects/lab/workspace/settings/device_conf/devices_valdecar_acchome.json -p /acchome/valdecar/projects/lab/workspace/settings/paths/connection_valdecar_acchome.json -w /acchome/valdecar/projects/lab/workspace -u valdecar 2>&1\n",
      "INFO:remoterun:\n",
      "Running solver:\n",
      "INFO:remoterun:01-16 13:00:31 Performance (10^6): 469.355\n",
      "\n",
      "INFO:remoterun:INFO:postproc.video:Creating images for block 0 value ['U', 'V']\n",
      "\n",
      "INFO:remoterun:INFO:postproc.video:Creating video file: 0\n",
      "\n",
      "INFO:remoterun:INFO:postproc.video:Creating images for block 0 value ['U', 'V']\n",
      "\n",
      "INFO:remoterun:INFO:postproc.video:Creating video file: 1\n",
      "\n",
      "INFO:remoterun:INFO:postproc.video:Creating out file: u_block0\n",
      "\n",
      "INFO:remoterun:INFO:postproc.video:Creating out file: u_block1\n",
      "\n",
      "INFO:remoterun:Downloading results...\n",
      "INFO:remoterun:Done!\n",
      "INFO:remoterun:\n",
      "connect ...\n",
      "INFO:remoterun:\n",
      "connection established\n",
      "INFO:remoterun:\n",
      "files/folders routine\n",
      "INFO:remoterun:\n",
      "files/folders routine completed\n",
      "INFO:remoterun:\n",
      "Running preprocessor:\n",
      "INFO:remoterun:command:\n",
      "INFO:remoterun:/acchome/valdecar/anaconda3/envs/hd/bin/python3 -c \"import hybriddomain.gens.hs.tests.tests_gen_1d as ts; ts.run()\" -t /acchome/valdecar/projects/lab/workspace/problems/1dTests/Ginzburg_Landau_blocks -d /acchome/valdecar/projects/lab/workspace/settings/device_conf/devices_valdecar_acchome.json -p /acchome/valdecar/projects/lab/workspace/settings/paths/connection_valdecar_acchome.json -w /acchome/valdecar/projects/lab/workspace -u valdecar 2>&1\n",
      "INFO:remoterun:\n",
      "Running solver:\n",
      "INFO:remoterun:01-16 13:01:25 Performance (10^6): 435.618\n",
      "\n",
      "INFO:remoterun:INFO:postproc.video:Creating images for block 0 value ['U', 'V']\n",
      "\n",
      "INFO:remoterun:INFO:postproc.video:Creating video file: 0\n",
      "\n",
      "INFO:remoterun:INFO:postproc.video:Creating images for block 0 value ['U', 'V']\n",
      "\n",
      "INFO:remoterun:INFO:postproc.video:Creating video file: 1\n",
      "\n",
      "INFO:remoterun:INFO:postproc.video:Creating out file: u_block0\n",
      "\n",
      "INFO:remoterun:INFO:postproc.video:Creating out file: u_block1\n",
      "\n",
      "INFO:remoterun:Downloading results...\n",
      "INFO:remoterun:Done!\n",
      "INFO:remoterun:\n",
      "connect ...\n",
      "INFO:remoterun:\n",
      "connection established\n",
      "INFO:remoterun:\n",
      "files/folders routine\n",
      "INFO:remoterun:\n",
      "files/folders routine completed\n",
      "INFO:remoterun:\n",
      "Running preprocessor:\n",
      "INFO:remoterun:command:\n",
      "INFO:remoterun:/acchome/valdecar/anaconda3/envs/hd/bin/python3 -c \"import hybriddomain.gens.hs.tests.tests_gen_1d as ts; ts.run()\" -t /acchome/valdecar/projects/lab/workspace/problems/1dTests/Ginzburg_Landau_blocks -d /acchome/valdecar/projects/lab/workspace/settings/device_conf/devices_valdecar_acchome.json -p /acchome/valdecar/projects/lab/workspace/settings/paths/connection_valdecar_acchome.json -w /acchome/valdecar/projects/lab/workspace -u valdecar 2>&1\n",
      "INFO:remoterun:\n",
      "Running solver:\n",
      "INFO:remoterun:01-16 13:02:20 Performance (10^6): 441.261\n",
      "\n",
      "INFO:remoterun:INFO:postproc.video:Creating images for block 0 value ['U', 'V']\n",
      "\n",
      "INFO:remoterun:INFO:postproc.video:Creating video file: 0\n",
      "\n",
      "INFO:remoterun:INFO:postproc.video:Creating images for block 0 value ['U', 'V']\n",
      "\n",
      "INFO:remoterun:INFO:postproc.video:Creating video file: 1\n",
      "\n",
      "INFO:remoterun:INFO:postproc.video:Creating out file: u_block0\n",
      "\n",
      "INFO:remoterun:INFO:postproc.video:Creating out file: u_block1\n",
      "\n",
      "INFO:remoterun:Downloading results...\n",
      "INFO:remoterun:Done!\n",
      "INFO:remoterun:\n",
      "connect ...\n",
      "INFO:remoterun:\n",
      "connection established\n",
      "INFO:remoterun:\n",
      "files/folders routine\n",
      "INFO:remoterun:\n",
      "files/folders routine completed\n",
      "INFO:remoterun:\n",
      "Running preprocessor:\n",
      "INFO:remoterun:command:\n",
      "INFO:remoterun:/acchome/valdecar/anaconda3/envs/hd/bin/python3 -c \"import hybriddomain.gens.hs.tests.tests_gen_1d as ts; ts.run()\" -t /acchome/valdecar/projects/lab/workspace/problems/1dTests/Ginzburg_Landau_blocks -d /acchome/valdecar/projects/lab/workspace/settings/device_conf/devices_valdecar_acchome.json -p /acchome/valdecar/projects/lab/workspace/settings/paths/connection_valdecar_acchome.json -w /acchome/valdecar/projects/lab/workspace -u valdecar 2>&1\n",
      "INFO:remoterun:\n",
      "Running solver:\n",
      "INFO:remoterun:01-16 13:03:14 Performance (10^6): 428.595\n",
      "\n",
      "INFO:remoterun:INFO:postproc.video:Creating images for block 0 value ['U', 'V']\n",
      "\n",
      "INFO:remoterun:INFO:postproc.video:Creating video file: 0\n",
      "\n",
      "INFO:remoterun:INFO:postproc.video:Creating images for block 0 value ['U', 'V']\n",
      "\n",
      "INFO:remoterun:INFO:postproc.video:Creating video file: 1\n",
      "\n",
      "INFO:remoterun:INFO:postproc.video:Creating out file: u_block0\n",
      "\n",
      "INFO:remoterun:INFO:postproc.video:Creating out file: u_block1\n",
      "\n",
      "INFO:remoterun:Downloading results...\n",
      "INFO:remoterun:Done!\n"
     ]
    },
    {
     "data": {
      "application/javascript": [
       "alert('Done');"
      ],
      "text/plain": [
       "<IPython.core.display.Javascript object>"
      ]
     },
     "metadata": {},
     "output_type": "display_data"
    }
   ],
   "source": [
    "clear_output()\n",
    "test_name = settings.paths['model']['name']\n",
    "bTest = widgets.Button(description=\"run %s \" % (test_name))\n",
    "\n",
    "# parametrisation:\n",
    "def run(event):\n",
    "    model = Model()\n",
    "    model.io.loadFromFile(modelFileName)\n",
    "    \n",
    "    for params_idx in range(len(model.paramValues)):\n",
    "        \n",
    "        progress_params.succ(params_idx)\n",
    "        progress_solving.set_prefix(\"solving\")\n",
    "        \n",
    "        # changing param:\n",
    "        model.defaultParamsIndex = params_idx\n",
    "        model.io.saveToFile(settings.paths[\"hd\"][\"json\"])\n",
    "        model = Model()\n",
    "        model.io.loadFromFile(modelFileName)\n",
    "        \n",
    "        remoteProjectRun(settings, 1, progress_solving,remove_old=False)\n",
    "        \n",
    "        # result_postproc.extract_out(params_idx, results_params)\n",
    "        result_postproc.rename_out(params_idx)\n",
    "    display(Javascript(\"alert('Done');\"))\n",
    "    \n",
    "bTest.on_click(run)\n",
    "\n",
    "display(progress_params.progress)\n",
    "display(progress_solving.progress)\n",
    "\n",
    "display(bTest)\n"
   ]
  },
  {
   "cell_type": "code",
   "execution_count": 25,
   "metadata": {
    "collapsed": false
   },
   "outputs": [],
   "source": [
    "# click button:\n",
    "# Javascript(\"$('.widget-button').trigger('click')\")\n"
   ]
  },
  {
   "cell_type": "markdown",
   "metadata": {},
   "source": [
    "### Results:"
   ]
  },
  {
   "cell_type": "code",
   "execution_count": 12,
   "metadata": {
    "collapsed": false
   },
   "outputs": [],
   "source": [
    "# init progress with arbitrary value,\n",
    "# it will changed inside result_postproc.get_params_results:\n",
    "progress_array = ProgressNotebook(1, prefix='file')\n"
   ]
  },
  {
   "cell_type": "markdown",
   "metadata": {},
   "source": [
    "##### convert out to arrays:"
   ]
  },
  {
   "cell_type": "markdown",
   "metadata": {},
   "source": [
    "method 1:"
   ]
  },
  {
   "cell_type": "code",
   "execution_count": 13,
   "metadata": {
    "collapsed": false
   },
   "outputs": [
    {
     "data": {
      "application/javascript": [
       "alert('Done');"
      ],
      "text/plain": [
       "<IPython.core.display.Javascript object>"
      ]
     },
     "execution_count": 13,
     "metadata": {},
     "output_type": "execute_result"
    }
   ],
   "source": [
    "''''not used here\n",
    "display(progress_array.progress)\n",
    "\n",
    "times, results_param_arrays = result_postproc.get_params_results(progress_array)\n",
    "Javascript(\"alert('Done');\")\n",
    "'''"
   ]
  },
  {
   "cell_type": "markdown",
   "metadata": {},
   "source": [
    "data access in that case:"
   ]
  },
  {
   "cell_type": "code",
   "execution_count": 15,
   "metadata": {
    "collapsed": false
   },
   "outputs": [
    {
     "data": {
      "text/plain": [
       "dict_keys([0, 1, 2, 3, 4, 5, 6])"
      ]
     },
     "execution_count": 15,
     "metadata": {},
     "output_type": "execute_result"
    }
   ],
   "source": [
    "'''not used here\n",
    "seq_number = 4\n",
    "var = 0\n",
    "results_param_arrays.keys()\n",
    "# time = times[seq_number][3]\n",
    "# results_param_arrays[seq_number][time][var]\n",
    "'''"
   ]
  },
  {
   "cell_type": "markdown",
   "metadata": {},
   "source": [
    "Method 2:"
   ]
  },
  {
   "cell_type": "code",
   "execution_count": 16,
   "metadata": {
    "collapsed": false
   },
   "outputs": [
    {
     "data": {
      "application/javascript": [
       "alert('Done');"
      ],
      "text/plain": [
       "<IPython.core.display.Javascript object>"
      ]
     },
     "execution_count": 16,
     "metadata": {},
     "output_type": "execute_result"
    }
   ],
   "source": [
    "display(progress_array.progress)\n",
    "model.readResults(progress=progress_array)\n",
    "Javascript(\"alert('Done');\")"
   ]
  },
  {
   "cell_type": "markdown",
   "metadata": {},
   "source": [
    "Data access in that case:"
   ]
  },
  {
   "cell_type": "code",
   "execution_count": 28,
   "metadata": {
    "collapsed": false
   },
   "outputs": [
    {
     "data": {
      "text/plain": [
       "array([ 5.00295782,  4.84322357,  4.68401146, ..., -0.03634232,\n",
       "       -0.02931983, -0.02229711], dtype=float32)"
      ]
     },
     "execution_count": 28,
     "metadata": {},
     "output_type": "execute_result"
    }
   ],
   "source": [
    "seq_number = 4\n",
    "var = 0\n",
    "time = model.results_arrays['u_block0']['timevalues'][3]\n",
    "model.results_arrays['u_block0']['resvalues'][seq_number][time][var]"
   ]
  },
  {
   "cell_type": "markdown",
   "metadata": {},
   "source": [
    "### Plot:"
   ]
  },
  {
   "cell_type": "code",
   "execution_count": 26,
   "metadata": {
    "collapsed": true
   },
   "outputs": [],
   "source": [
    "import numpy as np\n",
    "import matplotlib.pyplot as plt\n",
    "from ipywidgets import interactive"
   ]
  },
  {
   "cell_type": "markdown",
   "metadata": {},
   "source": [
    "##### U(x, t-fixed):"
   ]
  },
  {
   "cell_type": "code",
   "execution_count": 32,
   "metadata": {
    "collapsed": false
   },
   "outputs": [
    {
     "name": "stdout",
     "output_type": "stream",
     "text": [
      "first results:\n"
     ]
    },
    {
     "data": {
      "text/plain": [
       "array([ 5.20009089,  5.12960052,  5.05919933], dtype=float32)"
      ]
     },
     "metadata": {},
     "output_type": "display_data"
    },
    {
     "data": {
      "image/png": "[encoded data removed]",
      "text/plain": [
       "<matplotlib.figure.Figure at 0x7f5193d66f28>"
      ]
     },
     "metadata": {},
     "output_type": "display_data"
    }
   ],
   "source": [
    "%matplotlib inline\n",
    "# using same length for all sequences:\n",
    "seq_number0 = 0\n",
    "time0 = model.results_arrays['u_block0']['timevalues'][0]\n",
    "params_count = len(model.results_arrays['u_block0']['resvalues'].keys())-1\n",
    "vars_count = len(model.results_arrays['u_block0']['resvalues'][seq_number0][time0])-1\n",
    "times_count = len(model.results_arrays['u_block0']['timevalues'])-1\n",
    "\n",
    "def f(param, var, t):\n",
    "    time = model.results_arrays['u_block0']['timevalues'][t]\n",
    "    result = model.results_arrays['u_block0']['resvalues'][param][time][var]\n",
    "    plt.plot(result)\n",
    "    print(\"first results:\")\n",
    "    display(result[:3])\n",
    "w = interactive(f, param=(0, params_count, 1), var=(0, vars_count, 1), t=(0, times_count, 1))\n",
    "display(w)"
   ]
  },
  {
   "cell_type": "markdown",
   "metadata": {},
   "source": [
    "##### U(x-fixed, t):"
   ]
  },
  {
   "cell_type": "code",
   "execution_count": 33,
   "metadata": {
    "collapsed": false
   },
   "outputs": [
    {
     "data": {
      "image/png": "[encoded data removed]",
      "text/plain": [
       "<matplotlib.figure.Figure at 0x7f5198a365f8>"
      ]
     },
     "metadata": {},
     "output_type": "display_data"
    }
   ],
   "source": [
    "# using same length for all sequences:\n",
    "\n",
    "seq_number0 = 0\n",
    "time0 = model.results_arrays['u_block0']['timevalues'][0]\n",
    "params_count = len(model.results_arrays['u_block0']['resvalues'].keys())-1\n",
    "vars_count = len(model.results_arrays['u_block0']['resvalues'][seq_number0][time0])-1\n",
    "xs_count = len(model.results_arrays['u_block0']['resvalues'][seq_number0][time0][0])\n",
    "\n",
    "def f(param, var, x):\n",
    "    local_times = model.results_arrays['u_block0']['timevalues'][:]\n",
    "    result = [model.results_arrays['u_block0']['resvalues'][param][t][var][x]\n",
    "              for t in local_times]\n",
    "    plt.plot(result)\n",
    "w = interactive(f,param=(0, params_count, 1), var=(0, vars_count, 1), x=(0, xs_count,1))\n",
    "display(w)\n"
   ]
  },
  {
   "cell_type": "markdown",
   "metadata": {},
   "source": [
    "### Run solver for initials:"
   ]
  },
  {
   "cell_type": "code",
   "execution_count": 34,
   "metadata": {
    "collapsed": false
   },
   "outputs": [
    {
     "name": "stdout",
     "output_type": "stream",
     "text": [
      "u_block1_seq6.out removed\n",
      "u_block1_seq5.out removed\n",
      "u_block1_seq2.out removed\n",
      "u_block0_seq1.out removed\n",
      "u_block0_seq4.out removed\n",
      "u_block1_seq0.out removed\n",
      "u_block0_seq5.out removed\n",
      "u_block1_seq4.out removed\n",
      "u_block0_seq6.out removed\n",
      "u_block1_seq1.out removed\n",
      "u_block0_seq3.out removed\n",
      "u_block1_seq3.out removed\n",
      "u_block0_seq2.out removed\n",
      "u_block0_seq0.out removed\n",
      "plot_block1_seq4.mp4 removed\n",
      "plot_block1_seq2.mp4 removed\n",
      "plot_block0_seq6.mp4 removed\n",
      "plot_block1_seq5.mp4 removed\n",
      "plot_block0_seq4.mp4 removed\n",
      "plot_block0_seq2.mp4 removed\n",
      "plot_block1_seq1.mp4 removed\n",
      "plot_block1_seq3.mp4 removed\n",
      "plot_block0_seq3.mp4 removed\n",
      "plot_block0_seq0.mp4 removed\n",
      "plot_block0_seq5.mp4 removed\n",
      "plot_block1_seq0.mp4 removed\n",
      "plot_block0_seq1.mp4 removed\n",
      "plot_block1_seq6.mp4 removed\n"
     ]
    }
   ],
   "source": [
    "result_postproc.remove_out()"
   ]
  },
  {
   "cell_type": "code",
   "execution_count": 35,
   "metadata": {
    "collapsed": true
   },
   "outputs": [],
   "source": [
    "initials_data = [1.0, 3.0, 7.0]"
   ]
  },
  {
   "cell_type": "code",
   "execution_count": 36,
   "metadata": {
    "collapsed": true
   },
   "outputs": [],
   "source": [
    "progress_params = ProgressNotebook(len(initials_data), prefix='param')"
   ]
  },
  {
   "cell_type": "code",
   "execution_count": 37,
   "metadata": {
    "collapsed": false
   },
   "outputs": [
    {
     "name": "stderr",
     "output_type": "stream",
     "text": [
      "INFO:remoterun:\n",
      "connect ...\n",
      "INFO:remoterun:\n",
      "connection established\n",
      "INFO:remoterun:\n",
      "files/folders routine\n",
      "INFO:remoterun:\n",
      "files/folders routine completed\n",
      "INFO:remoterun:\n",
      "Running preprocessor:\n",
      "INFO:remoterun:command:\n",
      "INFO:remoterun:/acchome/valdecar/anaconda3/envs/hd/bin/python3 -c \"import hybriddomain.gens.hs.tests.tests_gen_1d as ts; ts.run()\" -t /acchome/valdecar/projects/lab/workspace/problems/1dTests/Ginzburg_Landau_blocks -d /acchome/valdecar/projects/lab/workspace/settings/device_conf/devices_valdecar_acchome.json -p /acchome/valdecar/projects/lab/workspace/settings/paths/connection_valdecar_acchome.json -w /acchome/valdecar/projects/lab/workspace -u valdecar 2>&1\n",
      "INFO:remoterun:\n",
      "Running solver:\n",
      "INFO:remoterun:01-16 13:42:05 Performance (10^6): 449.282\n",
      "\n",
      "INFO:remoterun:INFO:postproc.video:Creating images for block 0 value ['U', 'V']\n",
      "\n",
      "INFO:remoterun:INFO:postproc.video:Creating video file: 0\n",
      "\n",
      "INFO:remoterun:INFO:postproc.video:Creating images for block 0 value ['U', 'V']\n",
      "\n",
      "INFO:remoterun:INFO:postproc.video:Creating video file: 1\n",
      "\n",
      "INFO:remoterun:INFO:postproc.video:Creating out file: u_block0\n",
      "\n",
      "INFO:remoterun:INFO:postproc.video:Creating out file: u_block1\n",
      "\n",
      "INFO:remoterun:Downloading results...\n",
      "INFO:remoterun:Done!\n",
      "INFO:remoterun:\n",
      "connect ...\n",
      "INFO:remoterun:\n",
      "connection established\n",
      "INFO:remoterun:\n",
      "files/folders routine\n",
      "INFO:remoterun:\n",
      "files/folders routine completed\n",
      "INFO:remoterun:\n",
      "Running preprocessor:\n",
      "INFO:remoterun:command:\n",
      "INFO:remoterun:/acchome/valdecar/anaconda3/envs/hd/bin/python3 -c \"import hybriddomain.gens.hs.tests.tests_gen_1d as ts; ts.run()\" -t /acchome/valdecar/projects/lab/workspace/problems/1dTests/Ginzburg_Landau_blocks -d /acchome/valdecar/projects/lab/workspace/settings/device_conf/devices_valdecar_acchome.json -p /acchome/valdecar/projects/lab/workspace/settings/paths/connection_valdecar_acchome.json -w /acchome/valdecar/projects/lab/workspace -u valdecar 2>&1\n",
      "INFO:remoterun:\n",
      "Running solver:\n",
      "INFO:remoterun:01-16 13:43:02 Performance (10^6): 455.235\n",
      "\n",
      "INFO:remoterun:INFO:postproc.video:Creating images for block 0 value ['U', 'V']\n",
      "\n",
      "INFO:remoterun:INFO:postproc.video:Creating video file: 0\n",
      "\n",
      "INFO:remoterun:INFO:postproc.video:Creating images for block 0 value ['U', 'V']\n",
      "\n",
      "INFO:remoterun:INFO:postproc.video:Creating video file: 1\n",
      "\n",
      "INFO:remoterun:INFO:postproc.video:Creating out file: u_block0\n",
      "\n",
      "INFO:remoterun:INFO:postproc.video:Creating out file: u_block1\n",
      "\n",
      "INFO:remoterun:Downloading results...\n",
      "INFO:remoterun:Done!\n",
      "INFO:remoterun:\n",
      "connect ...\n",
      "INFO:remoterun:\n",
      "connection established\n",
      "INFO:remoterun:\n",
      "files/folders routine\n",
      "INFO:remoterun:\n",
      "files/folders routine completed\n",
      "INFO:remoterun:\n",
      "Running preprocessor:\n",
      "INFO:remoterun:command:\n",
      "INFO:remoterun:/acchome/valdecar/anaconda3/envs/hd/bin/python3 -c \"import hybriddomain.gens.hs.tests.tests_gen_1d as ts; ts.run()\" -t /acchome/valdecar/projects/lab/workspace/problems/1dTests/Ginzburg_Landau_blocks -d /acchome/valdecar/projects/lab/workspace/settings/device_conf/devices_valdecar_acchome.json -p /acchome/valdecar/projects/lab/workspace/settings/paths/connection_valdecar_acchome.json -w /acchome/valdecar/projects/lab/workspace -u valdecar 2>&1\n",
      "INFO:remoterun:\n",
      "Running solver:\n",
      "INFO:remoterun:01-16 13:44:01 Performance (10^6): 439.013\n",
      "\n",
      "INFO:remoterun:INFO:postproc.video:Creating images for block 0 value ['U', 'V']\n",
      "\n",
      "INFO:remoterun:INFO:postproc.video:Creating video file: 0\n",
      "\n",
      "INFO:remoterun:INFO:postproc.video:Creating images for block 0 value ['U', 'V']\n",
      "\n",
      "INFO:remoterun:INFO:postproc.video:Creating video file: 1\n",
      "\n",
      "INFO:remoterun:INFO:postproc.video:Creating out file: u_block0\n",
      "\n",
      "INFO:remoterun:INFO:postproc.video:Creating out file: u_block1\n",
      "\n",
      "INFO:remoterun:Downloading results...\n",
      "INFO:remoterun:Done!\n"
     ]
    },
    {
     "data": {
      "application/javascript": [
       "alert('Done');"
      ],
      "text/plain": [
       "<IPython.core.display.Javascript object>"
      ]
     },
     "metadata": {},
     "output_type": "display_data"
    }
   ],
   "source": [
    "clear_output()\n",
    "test_name = settings.paths['model']['name']\n",
    "bTest = widgets.Button(description=\"run %s \" % (test_name))\n",
    "\n",
    "# parametrisation:\n",
    "def run(event):\n",
    "    model = Model()\n",
    "    model.io.loadFromFile(modelFileName)\n",
    "    \n",
    "    for initials_idx, initial_val in enumerate(initials_data):\n",
    "        \n",
    "        progress_params.succ(initials_idx)\n",
    "        progress_solving.set_prefix(\"solving\")\n",
    "        \n",
    "        # changing initials block0:\n",
    "        new_equation_sent = str(initial_val)+\"*sin(x)\"\n",
    "        model.initials[0].values[0] = new_equation_sent\n",
    "       \n",
    "        # changing initials block1:\n",
    "        new_equation_sent = str(initial_val)+\"*cos(x)+3\"\n",
    "        model.initials[1].values[0] = new_equation_sent\n",
    "        \n",
    "        \n",
    "        model.io.saveToFile(settings.paths[\"hd\"][\"json\"])\n",
    "        model = Model()\n",
    "        model.io.loadFromFile(modelFileName)\n",
    "        \n",
    "        remoteProjectRun(settings, 1, progress_solving, remove_old=False)\n",
    "        \n",
    "        # result_postproc.extract_out(initials_idx, results_initials)\n",
    "        result_postproc.rename_out(initials_idx)\n",
    "        \n",
    "    display(Javascript(\"alert('Done');\"))\n",
    "bTest.on_click(run)\n",
    "\n",
    "display(progress_params.progress)\n",
    "display(progress_solving.progress)\n",
    "\n",
    "display(bTest)"
   ]
  },
  {
   "cell_type": "code",
   "execution_count": null,
   "metadata": {
    "collapsed": true
   },
   "outputs": [],
   "source": []
  },
  {
   "cell_type": "markdown",
   "metadata": {},
   "source": [
    "### Results initials:"
   ]
  },
  {
   "cell_type": "code",
   "execution_count": 38,
   "metadata": {
    "collapsed": false
   },
   "outputs": [],
   "source": [
    "# init progress with arbitrary value,\n",
    "# it will changed inside result_postproc.get_params_results:\n",
    "progress_array = ProgressNotebook(1, prefix='file')"
   ]
  },
  {
   "cell_type": "markdown",
   "metadata": {},
   "source": [
    "##### convert out to arrays:"
   ]
  },
  {
   "cell_type": "markdown",
   "metadata": {},
   "source": [
    "method 1:"
   ]
  },
  {
   "cell_type": "code",
   "execution_count": 27,
   "metadata": {
    "collapsed": false
   },
   "outputs": [
    {
     "data": {
      "application/javascript": [
       "alert('Done');"
      ],
      "text/plain": [
       "<IPython.core.display.Javascript object>"
      ]
     },
     "execution_count": 27,
     "metadata": {},
     "output_type": "execute_result"
    }
   ],
   "source": [
    "'''do not used here:\n",
    "display(progress_array.progress)\n",
    "times, results_initial_arrays = result_postproc.get_params_results(progress_array)\n",
    "Javascript(\"alert('Done');\")\n",
    "'''"
   ]
  },
  {
   "cell_type": "markdown",
   "metadata": {},
   "source": [
    "Data access in that case:"
   ]
  },
  {
   "cell_type": "code",
   "execution_count": null,
   "metadata": {
    "collapsed": true
   },
   "outputs": [],
   "source": [
    "'''do not used here\n",
    "seq_number = 4\n",
    "var = 0\n",
    "time = times[seq_number][3]\n",
    "results_param_arrays[seq_number][time][var]\n",
    "'''"
   ]
  },
  {
   "cell_type": "markdown",
   "metadata": {},
   "source": [
    "method 2:"
   ]
  },
  {
   "cell_type": "code",
   "execution_count": 39,
   "metadata": {
    "collapsed": false
   },
   "outputs": [
    {
     "data": {
      "application/javascript": [
       "alert('Done');"
      ],
      "text/plain": [
       "<IPython.core.display.Javascript object>"
      ]
     },
     "execution_count": 39,
     "metadata": {},
     "output_type": "execute_result"
    }
   ],
   "source": [
    "# reload files:\n",
    "model.result_postproc.get_results_filespaths(model)\n",
    "\n",
    "display(progress_array.progress)\n",
    "model.readResults(progress=progress_array)\n",
    "Javascript(\"alert('Done');\")"
   ]
  },
  {
   "cell_type": "markdown",
   "metadata": {},
   "source": [
    "Data access in that case:"
   ]
  },
  {
   "cell_type": "code",
   "execution_count": 41,
   "metadata": {
    "collapsed": false
   },
   "outputs": [
    {
     "data": {
      "text/plain": [
       "array([ 0.        ,  0.003     ,  0.006     , ..., -0.01555585,\n",
       "       -0.01255589, -0.00955591], dtype=float32)"
      ]
     },
     "execution_count": 41,
     "metadata": {},
     "output_type": "execute_result"
    }
   ],
   "source": [
    "seq_number = 1\n",
    "var = 0\n",
    "time = model.results_arrays['u_block0']['timevalues'][0]\n",
    "model.results_arrays['u_block0']['resvalues'][seq_number][time][var]\n"
   ]
  },
  {
   "cell_type": "markdown",
   "metadata": {},
   "source": [
    "### Plot initials:"
   ]
  },
  {
   "cell_type": "code",
   "execution_count": null,
   "metadata": {
    "collapsed": true
   },
   "outputs": [],
   "source": [
    "model.reu"
   ]
  },
  {
   "cell_type": "code",
   "execution_count": 42,
   "metadata": {
    "collapsed": false
   },
   "outputs": [
    {
     "name": "stdout",
     "output_type": "stream",
     "text": [
      "first results:\n"
     ]
    },
    {
     "data": {
      "text/plain": [
       "array([ 0.   ,  0.003,  0.006], dtype=float32)"
      ]
     },
     "metadata": {},
     "output_type": "display_data"
    },
    {
     "data": {
      "image/png": "[encoded data removed]",
      "text/plain": [
       "<matplotlib.figure.Figure at 0x7f5198c27b38>"
      ]
     },
     "metadata": {},
     "output_type": "display_data"
    }
   ],
   "source": [
    "%matplotlib inline\n",
    "\n",
    "seq_number0 = 0\n",
    "time0 = model.results_arrays['u_block0']['timevalues'][0]\n",
    "params_count = len(model.results_arrays['u_block0']['resvalues'].keys())-1\n",
    "vars_count = len(model.results_arrays['u_block0']['resvalues'][seq_number0][time0])-1\n",
    "times_count = len(model.results_arrays['u_block0']['timevalues'])-1\n",
    "\n",
    "def f(param, var, t):\n",
    "    time = model.results_arrays['u_block0']['timevalues'][t]\n",
    "    result = model.results_arrays['u_block0']['resvalues'][param][time][var]\n",
    "    plt.plot(result)\n",
    "    print(\"first results:\")\n",
    "    display(result[:3])\n",
    "w = interactive(f, param=(0, params_count, 1), var=(0, vars_count, 1), t=(0, times_count, 1))\n",
    "display(w)"
   ]
  },
  {
   "cell_type": "markdown",
   "metadata": {},
   "source": [
    "##### U(x-fixed, t):"
   ]
  },
  {
   "cell_type": "code",
   "execution_count": 45,
   "metadata": {
    "collapsed": false
   },
   "outputs": [
    {
     "name": "stdout",
     "output_type": "stream",
     "text": [
      "first results:\n"
     ]
    },
    {
     "data": {
      "text/plain": [
       "[0.0, nan, nan]"
      ]
     },
     "metadata": {},
     "output_type": "display_data"
    },
    {
     "data": {
      "image/png": "[encoded data removed]",
      "text/plain": [
       "<matplotlib.figure.Figure at 0x7f51938f7940>"
      ]
     },
     "metadata": {},
     "output_type": "display_data"
    }
   ],
   "source": [
    "%matplotlib inline\n",
    "\n",
    "seq_number0 = 0\n",
    "time0 = model.results_arrays['u_block0']['timevalues'][0]\n",
    "params_count = len(model.results_arrays['u_block0']['resvalues'].keys())-1\n",
    "vars_count = len(model.results_arrays['u_block0']['resvalues'][seq_number0][time0])-1\n",
    "xs_count = len(model.results_arrays['u_block0']['resvalues'][seq_number0][time0][0])\n",
    "\n",
    "def f(param, var, x):\n",
    "    local_times = model.results_arrays['u_block0']['timevalues'][:]\n",
    "    result = [model.results_arrays['u_block0']['resvalues'][param][t][var][x]\n",
    "              for t in local_times]\n",
    "    plt.plot(result)\n",
    "    print(\"first results:\")\n",
    "    display(result[:3])\n",
    "w = interactive(f,param=(0, params_count, 1), var=(0, vars_count, 1), x=(0,xs_count,1))\n",
    "display(w)\n"
   ]
  },
  {
   "cell_type": "code",
   "execution_count": 42,
   "metadata": {
    "collapsed": false
   },
   "outputs": [
    {
     "data": {
      "text/plain": [
       "array([[  0.00000000e+00,   2.06940070e-01,   2.81882260e-01, ...,\n",
       "          9.95086190e-01,   9.93937430e-01,   9.92861500e-01],\n",
       "       [  1.00000000e-02,   2.07092350e-01,   2.81968170e-01, ...,\n",
       "          9.95086210e-01,   9.93937450e-01,   9.92861520e-01],\n",
       "       [  2.00000000e-02,   2.07548850e-01,   2.82225810e-01, ...,\n",
       "          9.95086290e-01,   9.93937530e-01,   9.92861590e-01],\n",
       "       [  9.98000000e+00,   1.64705428e+01,   1.49028631e+01, ...,\n",
       "          1.00563151e+00,   1.00412596e+00,   1.00259925e+00],\n",
       "       [  9.99000000e+00,   1.64713898e+01,   1.49034085e+01, ...,\n",
       "          1.00563158e+00,   1.00412604e+00,   1.00259932e+00],\n",
       "       [  1.00000000e+01,   1.64716723e+01,   1.49035904e+01, ...,\n",
       "          1.00563161e+00,   1.00412606e+00,   1.00259934e+00]])"
      ]
     },
     "execution_count": 42,
     "metadata": {},
     "output_type": "execute_result"
    }
   ],
   "source": [
    "result_x"
   ]
  },
  {
   "cell_type": "code",
   "execution_count": null,
   "metadata": {
    "collapsed": true
   },
   "outputs": [],
   "source": []
  }
 ],
 "metadata": {
  "kernelspec": {
   "display_name": "Python 3",
   "language": "python",
   "name": "python3"
  },
  "language_info": {
   "codemirror_mode": {
    "name": "ipython",
    "version": 3
   },
   "file_extension": ".py",
   "mimetype": "text/x-python",
   "name": "python",
   "nbconvert_exporter": "python",
   "pygments_lexer": "ipython3",
   "version": "3.6.0"
  },
  "widgets": {
   "state": {
    "01865065fae24b009fb4792149b8fc62": {
     "views": [
      {
       "cell_index": 52
      }
     ]
    },
    "05dfed690723476fb151e034b2f9775a": {
     "views": [
      {
       "cell_index": 20
      },
      {
       "cell_index": 24
      }
     ]
    },
    "2ffed178004a494cb08efe5e7104295e": {
     "views": [
      {
       "cell_index": 32
      }
     ]
    },
    "56c1811200fc4db7bcbbce82128e6c2d": {
     "views": [
      {
       "cell_index": 14
      }
     ]
    },
    "67cf49c8e6094793947a954bcb17ebc3": {
     "views": [
      {
       "cell_index": 14
      }
     ]
    },
    "83f666db28334225ab76eb477e402878": {
     "views": [
      {
       "cell_index": 54
      }
     ]
    },
    "9133cbf2017049f59fab8d9ba5cd71d1": {
     "views": [
      {
       "cell_index": 14
      },
      {
       "cell_index": 37
      }
     ]
    },
    "9291f62139604f00a94e26cc47bb9a4b": {
     "views": [
      {
       "cell_index": 37
      }
     ]
    },
    "a0de0ca6b786498aa1720ef43403ca9d": {
     "views": [
      {
       "cell_index": 14
      }
     ]
    },
    "bf092edbaf7044b697f5354f3dab7ded": {
     "views": [
      {
       "cell_index": 37
      }
     ]
    },
    "c51e7c3baaad4b32970da5a1ca550a31": {
     "views": [
      {
       "cell_index": 30
      }
     ]
    },
    "d49de3e8efb349babb13f0aedb9da3cc": {
     "views": [
      {
       "cell_index": 14
      },
      {
       "cell_index": 14
      }
     ]
    },
    "e2aaadbbc0ec41fcbef17582858f88c4": {
     "views": [
      {
       "cell_index": 14
      }
     ]
    },
    "e2dee6b44dca4a8499e48ef7de38c50e": {
     "views": [
      {
       "cell_index": 14
      }
     ]
    },
    "e4fcaa8184fe48ffbf9cf5a78f9a5f42": {
     "views": [
      {
       "cell_index": 47
      }
     ]
    },
    "f478991ef04c4f11bb33290c4d7254e4": {
     "views": [
      {
       "cell_index": 14
      }
     ]
    },
    "fe0469825beb473cb5c2c9b417fc1bb2": {
     "views": [
      {
       "cell_index": 14
      }
     ]
    }
   },
   "version": "1.2.0"
  }
 },
 "nbformat": 4,
 "nbformat_minor": 2
}
