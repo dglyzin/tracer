{
 "cells": [
  {
   "cell_type": "code",
   "execution_count": 1,
   "metadata": {
    "collapsed": false
   },
   "outputs": [
    {
     "data": {
      "text/plain": [
       "'/home/valdecar/Documents/projects/projectsNew/lab/hybriddomain/dist/project_folder'"
      ]
     },
     "execution_count": 1,
     "metadata": {},
     "output_type": "execute_result"
    }
   ],
   "source": [
    "modelFileName = 'problems/logistic_delays1'\n",
    "\n",
    "# in ./settings/\n",
    "conn_name = \"connection_valdecar_acchome.json\"\n",
    "device_conf_name = \"devices_valdecar_acchome.json\"\n",
    "\n",
    "# conn_name = \"connection.json.example\"\n",
    "# device_conf_name = \"devices.json.example\"\n",
    "%pwd"
   ]
  },
  {
   "cell_type": "code",
   "execution_count": 2,
   "metadata": {
    "collapsed": true
   },
   "outputs": [],
   "source": [
    "import ipywidgets as widgets\n",
    "from IPython.display import display, clear_output, HTML, Javascript"
   ]
  },
  {
   "cell_type": "code",
   "execution_count": 3,
   "metadata": {
    "collapsed": false
   },
   "outputs": [],
   "source": [
    "from hybriddomain.envs.hs.model.model_main import ModelNet as Model\n",
    "from hybriddomain.settings.settings_main import Settings"
   ]
  },
  {
   "cell_type": "markdown",
   "metadata": {},
   "source": [
    "### Add model, connection and device to settings: "
   ]
  },
  {
   "cell_type": "code",
   "execution_count": 4,
   "metadata": {
    "collapsed": false
   },
   "outputs": [
    {
     "name": "stderr",
     "output_type": "stream",
     "text": [
      "INFO:block_main.block_io:DefaultBound not set\n",
      "INFO:block_main.block_io:DefaultBound not set\n",
      "INFO:settings_main:device_conf_rpath\n",
      "INFO:settings_main:devices_valdecar_acchome.json\n"
     ]
    },
    {
     "name": "stdout",
     "output_type": "stream",
     "text": [
      "Please enter password for user valdecar:\n",
      "········\n"
     ]
    }
   ],
   "source": [
    "model = Model()\n",
    "model.io.loadFromFile(modelFileName)\n",
    "settings = Settings(model, conn_name, device_conf_name, conn_name)\n"
   ]
  },
  {
   "cell_type": "code",
   "execution_count": 5,
   "metadata": {
    "collapsed": false
   },
   "outputs": [
    {
     "name": "stdout",
     "output_type": "stream",
     "text": [
      "logistic_delays1\n",
      "logistic_delays1\n",
      "/home/valdecar/Documents/projects/projectsNew/lab/hybriddomain/dist/project_folder/settings/connection_valdecar_acchome.json\n",
      "/home/valdecar/Documents/projects/projectsNew/lab/hybriddomain/dist/project_folder/settings/devices_valdecar_acchome.json\n"
     ]
    }
   ],
   "source": [
    "print(model.project_path)\n",
    "print(settings.paths['model']['path'])\n",
    "print(settings.paths[\"hd\"][\"paths\"])\n",
    "print(settings.paths[\"hd\"][\"device_conf\"])"
   ]
  },
  {
   "cell_type": "markdown",
   "metadata": {},
   "source": [
    "### Progress:"
   ]
  },
  {
   "cell_type": "code",
   "execution_count": 6,
   "metadata": {
    "collapsed": false
   },
   "outputs": [],
   "source": [
    "from hybriddomain.solvers.hs.remoterun.progresses.progress_notebook import ProgressNotebook"
   ]
  },
  {
   "cell_type": "code",
   "execution_count": 7,
   "metadata": {
    "collapsed": false
   },
   "outputs": [],
   "source": [
    "progress = ProgressNotebook(100, prefix='solving')\n",
    "display(progress.progress)"
   ]
  },
  {
   "cell_type": "markdown",
   "metadata": {},
   "source": [
    "### Run solver:"
   ]
  },
  {
   "cell_type": "code",
   "execution_count": 64,
   "metadata": {
    "collapsed": false
   },
   "outputs": [],
   "source": [
    "from hybriddomain.solvers.hs.remoterun.remoterun import remoteProjectRun"
   ]
  },
  {
   "cell_type": "code",
   "execution_count": 123,
   "metadata": {
    "collapsed": false
   },
   "outputs": [
    {
     "name": "stderr",
     "output_type": "stream",
     "text": [
      "INFO:remoterun:\n",
      "connect ...\n",
      "INFO:remoterun:\n",
      "connection established\n",
      "INFO:remoterun:\n",
      "files/folders routine\n",
      "INFO:remoterun:\n",
      "files/folders routine completed\n",
      "INFO:remoterun:\n",
      "Running preprocessor:\n",
      "INFO:remoterun:command:\n",
      "INFO:remoterun:/acchome/valdecar/anaconda3/envs/hd/bin/python3 -c \"import hybriddomain.gens.hs.tests.tests_gen_1d as ts; ts.run()\" -t /acchome/valdecar/projects/lab/workspace/problems/logistic_delays1 -d /acchome/valdecar/projects/lab/workspace/settings/device_conf/devices_valdecar_acchome.json -p /acchome/valdecar/projects/lab/workspace/settings/paths/connection_valdecar_acchome.json -w /acchome/valdecar/projects/lab/workspace -u valdecar 2>&1\n",
      "INFO:remoterun:\n",
      "Running solver:\n",
      "INFO:remoterun:01-16 11:22:06 Performance (10^6): 0.00957857\n",
      "\n",
      "INFO:remoterun:INFO:postproc.video:Creating images for block 0 value U\n",
      "\n",
      "INFO:remoterun:INFO:postproc.video:Creating video file: 0\n",
      "\n",
      "INFO:remoterun:INFO:postproc.video:Creating images for block 0 value U\n",
      "\n",
      "INFO:remoterun:INFO:postproc.video:Creating video file: 1\n",
      "\n",
      "INFO:remoterun:INFO:postproc.video:Creating out file: name1\n",
      "\n",
      "INFO:remoterun:INFO:postproc.video:Creating out file: name2\n",
      "\n",
      "INFO:remoterun:Downloading results...\n",
      "INFO:remoterun:Done!\n"
     ]
    }
   ],
   "source": [
    "clear_output()\n",
    "test_name = settings.paths['model']['name']\n",
    "bTest = widgets.Button(description=\"run %s \" % (test_name))\n",
    "def run(event):\n",
    "    remoteProjectRun(settings, 1, progress)\n",
    "    Javascript(\"alert('Done');\")\n",
    "bTest.on_click(run)\n",
    "display(progress.progress)\n",
    "display(bTest)\n",
    "display(progress.progress)"
   ]
  },
  {
   "cell_type": "markdown",
   "metadata": {},
   "source": [
    "### Results:"
   ]
  },
  {
   "cell_type": "code",
   "execution_count": 124,
   "metadata": {
    "collapsed": false
   },
   "outputs": [],
   "source": [
    "# get results (for TRAC-11 result_format=1):\n",
    "\n",
    "model.readResults(result_format=1)"
   ]
  },
  {
   "cell_type": "code",
   "execution_count": 125,
   "metadata": {
    "collapsed": false
   },
   "outputs": [
    {
     "name": "stdout",
     "output_type": "stream",
     "text": [
      "dict_keys(['name1', 'name2'])\n"
     ]
    }
   ],
   "source": [
    "# available results:\n",
    "print(model.results_arrays.keys())"
   ]
  },
  {
   "cell_type": "code",
   "execution_count": 126,
   "metadata": {
    "collapsed": false
   },
   "outputs": [
    {
     "name": "stdout",
     "output_type": "stream",
     "text": [
      "[ 1.          1.          1.          1.          1.          1.          1.\n",
      "  1.          1.          1.          1.29750705  3.50587058  3.50587058\n",
      "  3.50587058  3.50587058  3.50587058  3.50587058  3.50587058  3.50587058\n",
      "  3.50587058  3.50587058  3.50587058  3.50587058  3.50587058  3.50587058\n",
      "  3.50587058  3.50587058  3.50587058  3.50587058  3.50587058]\n"
     ]
    }
   ],
   "source": [
    "# available data:\n",
    "time = model.results_arrays['name1']['timevalues'][3]\n",
    "var = 0\n",
    "first_30_res = model.results_arrays['name1']['resvalues'][time][var][:30]\n",
    "print(first_30_res)\n"
   ]
  },
  {
   "cell_type": "markdown",
   "metadata": {},
   "source": [
    "##### Video:"
   ]
  },
  {
   "cell_type": "code",
   "execution_count": 117,
   "metadata": {
    "collapsed": false
   },
   "outputs": [
    {
     "data": {
      "text/plain": [
       "{'name1': ['problems/logistic_delays1/out/name1.mp4'],\n",
       " 'name2': ['problems/logistic_delays1/out/name2.mp4']}"
      ]
     },
     "execution_count": 117,
     "metadata": {},
     "output_type": "execute_result"
    }
   ],
   "source": [
    "# available plots:\n",
    "model.plots_paths"
   ]
  },
  {
   "cell_type": "code",
   "execution_count": 118,
   "metadata": {
    "collapsed": false,
    "scrolled": true
   },
   "outputs": [
    {
     "data": {
      "text/html": [
       "\n",
       "        <script>\n",
       "        </script>\n",
       "\n",
       "        <video controls>\n",
       "        <source src=\"problems/logistic_delays1/out/name1.mp4\" type=\"video/mp4\"><p>Your browser doesnt support HTML5 video.Here is a <a href=\"problems/logistic_delays1/out/name1.mp4\">link to the video</a></p></video>"
      ],
      "text/plain": [
       "<IPython.core.display.HTML object>"
      ]
     },
     "metadata": {},
     "output_type": "display_data"
    }
   ],
   "source": [
    "display(HTML(model.get_video('name1')))"
   ]
  },
  {
   "cell_type": "markdown",
   "metadata": {},
   "source": [
    "##### .out:"
   ]
  },
  {
   "cell_type": "markdown",
   "metadata": {},
   "source": [
    "For ploting it is better to use ``result_format=0``:"
   ]
  },
  {
   "cell_type": "code",
   "execution_count": 119,
   "metadata": {
    "collapsed": true
   },
   "outputs": [],
   "source": [
    "# get results:\n",
    "model.readResults(result_format=0)"
   ]
  },
  {
   "cell_type": "markdown",
   "metadata": {},
   "source": [
    "In that case data access will be:"
   ]
  },
  {
   "cell_type": "code",
   "execution_count": 122,
   "metadata": {
    "collapsed": false
   },
   "outputs": [
    {
     "name": "stdout",
     "output_type": "stream",
     "text": [
      "361\n",
      "[ 1.          1.          1.          1.          1.          1.          1.\n",
      "  1.          1.          1.          1.29750705  3.50587058  3.50587058\n",
      "  3.50587058  3.50587058  3.50587058  3.50587058  3.50587058  3.50587058\n",
      "  3.50587058  3.50587058  3.50587058  3.50587058  3.50587058  3.50587058\n",
      "  3.50587058  3.50587058  3.50587058  3.50587058  3.50587058]\n"
     ]
    }
   ],
   "source": [
    "result_name = 'name1'\n",
    "var = 0\n",
    "\n",
    "time = model.results_arrays['name1']['timevalues'][3]\n",
    "\n",
    "x_size = len(model.results_arrays['resvalues'][result_name][var][time])\n",
    "print(x_size)\n",
    "\n",
    "first_30_res = model.results_arrays['resvalues'][result_name][var][time][:30]\n",
    "print(first_30_res)\n"
   ]
  },
  {
   "cell_type": "code",
   "execution_count": 94,
   "metadata": {
    "collapsed": false
   },
   "outputs": [],
   "source": [
    "import numpy as np\n",
    "import matplotlib.pyplot as plt\n",
    "from ipywidgets import interactive"
   ]
  },
  {
   "cell_type": "markdown",
   "metadata": {},
   "source": [
    "##### U(x, t-fixed):"
   ]
  },
  {
   "cell_type": "code",
   "execution_count": 112,
   "metadata": {
    "collapsed": false
   },
   "outputs": [
    {
     "name": "stdout",
     "output_type": "stream",
     "text": [
      "first_30_res:\n",
      "[ 1.          1.          1.          1.          1.          1.          1.\n",
      "  1.          1.          1.          0.07769185  5.50634003  5.50634003\n",
      "  5.50634003  5.50634003  5.50634003  5.50634003  5.50634003  5.50634003\n",
      "  5.50634003  5.50634003  5.50634003  5.50634003  5.50634003  5.50634003\n",
      "  5.50634003  5.50634003  5.50634003  5.50634003  5.50634003]\n"
     ]
    },
    {
     "data": {
      "image/png": "[encoded data removed]",
      "text/plain": [
       "<matplotlib.figure.Figure at 0x7f04a8998a58>"
      ]
     },
     "metadata": {},
     "output_type": "display_data"
    }
   ],
   "source": [
    "%matplotlib inline\n",
    "\n",
    "result_name = 'name1'\n",
    "var = 0\n",
    "\n",
    "def f(t):    \n",
    "    time = model.results_arrays[result_name]['timevalues'][t]\n",
    "    result = model.results_arrays['resvalues'][result_name][var][time]\n",
    "    print(\"first_30_res:\")\n",
    "    print(result[:30])\n",
    "    plt.plot(result)\n",
    "w = interactive(f,t=(0,100,1))\n",
    "display(w)"
   ]
  },
  {
   "cell_type": "markdown",
   "metadata": {},
   "source": [
    "##### U(x-fixed, t):"
   ]
  },
  {
   "cell_type": "code",
   "execution_count": 99,
   "metadata": {
    "collapsed": false
   },
   "outputs": [
    {
     "data": {
      "image/png": "[encoded data removed]",
      "text/plain": [
       "<matplotlib.figure.Figure at 0x7f04a91af1d0>"
      ]
     },
     "metadata": {},
     "output_type": "display_data"
    }
   ],
   "source": [
    "%matplotlib inline\n",
    "\n",
    "result_name = 'name1'\n",
    "var = 0\n",
    "times = model.results_arrays[result_name]['timevalues']\n",
    "result = model.results_arrays['resvalues'][result_name][var]\n",
    "result_x = np.array([result[time] for time in times]).T\n",
    "\n",
    "def f(x):\n",
    "    \n",
    "    plt.plot(times, result_x[x])\n",
    "    \n",
    "w = interactive(f,x=(0,x_size,1))\n",
    "display(w)"
   ]
  },
  {
   "cell_type": "code",
   "execution_count": null,
   "metadata": {
    "collapsed": false
   },
   "outputs": [],
   "source": []
  },
  {
   "cell_type": "code",
   "execution_count": null,
   "metadata": {
    "collapsed": true
   },
   "outputs": [],
   "source": []
  }
 ],
 "metadata": {
  "kernelspec": {
   "display_name": "Python 3",
   "language": "python",
   "name": "python3"
  },
  "language_info": {
   "codemirror_mode": {
    "name": "ipython",
    "version": 3
   },
   "file_extension": ".py",
   "mimetype": "text/x-python",
   "name": "python",
   "nbconvert_exporter": "python",
   "pygments_lexer": "ipython3",
   "version": "3.7.3"
  },
  "widgets": {
   "state": {
    "0b98fc95879e4215829f97c76db5983f": {
     "views": [
      {
       "cell_index": 11
      }
     ]
    },
    "2c43da1cad5744ab9486690c42917a74": {
     "views": [
      {
       "cell_index": 11
      }
     ]
    },
    "3ec5149ad9e2458593f53e0c618b73a5": {
     "views": [
      {
       "cell_index": 11
      }
     ]
    },
    "4af42a312257474aa10a7343a600d53d": {
     "views": [
      {
       "cell_index": 28
      }
     ]
    },
    "54cba2f933024f03a20b70356e7889e4": {
     "views": [
      {
       "cell_index": 26
      }
     ]
    },
    "64aa429eed0141be9e6b9ed1f4062149": {
     "views": [
      {
       "cell_index": 8
      },
      {
       "cell_index": 11
      },
      {
       "cell_index": 11
      }
     ]
    },
    "9163ba33e43745cab91a3e25a2e9be39": {
     "views": [
      {
       "cell_index": 11
      }
     ]
    },
    "b0e4129da24948ebaab08572ab3842b0": {
     "views": [
      {
       "cell_index": 11
      }
     ]
    },
    "bedd994158674aaa9059b106a5de7c27": {
     "views": [
      {
       "cell_index": 11
      }
     ]
    },
    "cfbfed6657b744c8bb74b7682393759d": {
     "views": [
      {
       "cell_index": 11
      }
     ]
    }
   },
   "version": "1.2.0"
  }
 },
 "nbformat": 4,
 "nbformat_minor": 2
}
