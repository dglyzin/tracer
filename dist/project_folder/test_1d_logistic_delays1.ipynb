{
 "cells": [
  {
   "cell_type": "code",
   "execution_count": 1,
   "metadata": {
    "collapsed": false
   },
   "outputs": [
    {
     "data": {
      "text/plain": [
       "'/home/valdecar/Documents/projects/projectsNew/lab/hybriddomain/dist/project_folder'"
      ]
     },
     "execution_count": 1,
     "metadata": {},
     "output_type": "execute_result"
    }
   ],
   "source": [
    "modelFileName = 'problems/logistic_delays1'\n",
    "\n",
    "# in ./settings/\n",
    "conn_name = \"connection.json.example\"\n",
    "device_conf_name = \"devices.json.example\"\n",
    "%pwd"
   ]
  },
  {
   "cell_type": "code",
   "execution_count": 2,
   "metadata": {
    "collapsed": true
   },
   "outputs": [],
   "source": [
    "import ipywidgets as widgets\n",
    "from IPython.display import display, clear_output, HTML, Javascript"
   ]
  },
  {
   "cell_type": "code",
   "execution_count": 3,
   "metadata": {
    "collapsed": false
   },
   "outputs": [],
   "source": [
    "from hybriddomain.envs.hs.model.model_main import ModelNet as Model\n",
    "from hybriddomain.settings.settings_main import Settings"
   ]
  },
  {
   "cell_type": "markdown",
   "metadata": {},
   "source": [
    "### Add model, connection and device to settings: "
   ]
  },
  {
   "cell_type": "code",
   "execution_count": 4,
   "metadata": {
    "collapsed": false
   },
   "outputs": [
    {
     "name": "stderr",
     "output_type": "stream",
     "text": [
      "INFO:block_main.block_io:DefaultBound not set\n",
      "INFO:block_main.block_io:DefaultBound not set\n",
      "INFO:settings_main:device_conf_rpath\n",
      "INFO:settings_main:devices.json.example\n"
     ]
    },
    {
     "name": "stdout",
     "output_type": "stream",
     "text": [
      "Please enter password for user hpc:\n",
      "········\n"
     ]
    }
   ],
   "source": [
    "model = Model()\n",
    "model.io.loadFromFile(modelFileName)\n",
    "settings = Settings(model, conn_name, device_conf_name, conn_name)\n"
   ]
  },
  {
   "cell_type": "code",
   "execution_count": 5,
   "metadata": {
    "collapsed": false
   },
   "outputs": [
    {
     "name": "stdout",
     "output_type": "stream",
     "text": [
      "logistic_delays1\n",
      "logistic_delays1\n",
      "/home/valdecar/Documents/projects/projectsNew/lab/hybriddomain/dist/project_folder/settings/connection.json.example\n",
      "/home/valdecar/Documents/projects/projectsNew/lab/hybriddomain/dist/project_folder/settings/devices.json.example\n"
     ]
    }
   ],
   "source": [
    "print(model.project_path)\n",
    "print(settings.paths['model']['path'])\n",
    "print(settings.paths[\"hd\"][\"paths\"])\n",
    "print(settings.paths[\"hd\"][\"device_conf\"])"
   ]
  },
  {
   "cell_type": "markdown",
   "metadata": {},
   "source": [
    "### Progress:"
   ]
  },
  {
   "cell_type": "code",
   "execution_count": 6,
   "metadata": {
    "collapsed": false
   },
   "outputs": [],
   "source": [
    "from hybriddomain.solvers.hs.remoterun.progresses.progress_notebook import ProgressNotebook"
   ]
  },
  {
   "cell_type": "code",
   "execution_count": 7,
   "metadata": {
    "collapsed": false
   },
   "outputs": [],
   "source": [
    "progress = ProgressNotebook(100, prefix='solving')\n",
    "display(progress.progress)"
   ]
  },
  {
   "cell_type": "markdown",
   "metadata": {},
   "source": [
    "### Run solver:"
   ]
  },
  {
   "cell_type": "code",
   "execution_count": 8,
   "metadata": {
    "collapsed": false
   },
   "outputs": [],
   "source": [
    "from hybriddomain.solvers.hs.remoterun.remoterun import remoteProjectRun"
   ]
  },
  {
   "cell_type": "code",
   "execution_count": 10,
   "metadata": {
    "collapsed": false
   },
   "outputs": [
    {
     "name": "stderr",
     "output_type": "stream",
     "text": [
      "INFO:remoterun:\n",
      "connect ...\n",
      "INFO:remoterun:\n",
      "connection established\n",
      "INFO:remoterun:\n",
      "files/folders routine\n",
      "INFO:remoterun:\n",
      "files/folders routine complited\n",
      "INFO:remoterun:\n",
      "Running preprocessor:\n",
      "INFO:remoterun:command:\n",
      "INFO:remoterun:~/anaconda3/bin/python3 -c \"import hybriddomain.gens.hs.tests.tests_gen_1d as ts; ts.run()\" -t /clusterhome/hpc/tracer/workspace/problems/logistic_delays1 -d /clusterhome/hpc/tracer/workspace/settings/device_conf/devices.json -p /clusterhome/hpc/tracer/workspace/settings/paths/connection.json -w /clusterhome/hpc/tracer/workspace -u hpc 2>&1\n",
      "INFO:remoterun:\n",
      "Running solver:\n",
      "INFO:remoterun:12-10 13:13:16 Performance (10^6): 0.00133984\n",
      "\n",
      "INFO:remoterun:INFO:postproc.video:Creating images for block 0 value U\n",
      "\n",
      "INFO:remoterun:INFO:postproc.video:Creating video file: 0\n",
      "\n",
      "INFO:remoterun:INFO:postproc.video:Creating images for block 1 value U\n",
      "\n",
      "INFO:remoterun:INFO:postproc.video:Creating video file: 1\n",
      "\n",
      "INFO:remoterun:INFO:postproc.video:Creating out file: 0\n",
      "\n",
      "INFO:remoterun:INFO:postproc.video:Creating out file: 1\n",
      "\n",
      "INFO:remoterun:Downloading results...\n",
      "INFO:remoterun:Done!\n"
     ]
    }
   ],
   "source": [
    "clear_output()\n",
    "test_name = settings.paths['model']['name']\n",
    "bTest = widgets.Button(description=\"run %s \" % (test_name))\n",
    "def run(event):\n",
    "    remoteProjectRun(settings, 1, progress)\n",
    "    Javascript(\"alert('Done');\")\n",
    "bTest.on_click(run)\n",
    "display(progress.progress)\n",
    "display(bTest)\n",
    "display(progress.progress)"
   ]
  },
  {
   "cell_type": "markdown",
   "metadata": {},
   "source": [
    "### Results:"
   ]
  },
  {
   "cell_type": "code",
   "execution_count": 9,
   "metadata": {
    "collapsed": false
   },
   "outputs": [],
   "source": [
    "# get results (for TRAC-11 result_format=1):\n",
    "model.readResults(result_format=1)"
   ]
  },
  {
   "cell_type": "code",
   "execution_count": 10,
   "metadata": {
    "collapsed": false
   },
   "outputs": [
    {
     "name": "stdout",
     "output_type": "stream",
     "text": [
      "dict_keys(['name1', 'name2'])\n"
     ]
    }
   ],
   "source": [
    "# available results:\n",
    "print(model.results_arrays.keys())"
   ]
  },
  {
   "cell_type": "code",
   "execution_count": 10,
   "metadata": {
    "collapsed": false
   },
   "outputs": [
    {
     "name": "stdout",
     "output_type": "stream",
     "text": [
      "[ 1.       1.       1.       1.       1.       1.       1.       1.       1.\n",
      "  1.       1.       2.68504  2.68504  2.68504  2.68504  2.68504  2.68504\n",
      "  2.68504  2.68504  2.68504  2.68504  2.68504  2.68504  2.68504  2.68504\n",
      "  2.68504  2.68504  2.68504  2.68504  2.68504]\n"
     ]
    }
   ],
   "source": [
    "# available data:\n",
    "time = model.results_arrays['name1']['timevalues'][3]\n",
    "var = 0\n",
    "first_30_res = model.results_arrays['name1']['resvalues'][time][var][:30]\n",
    "print(first_30_res)\n"
   ]
  },
  {
   "cell_type": "markdown",
   "metadata": {},
   "source": [
    "##### Video:"
   ]
  },
  {
   "cell_type": "code",
   "execution_count": 11,
   "metadata": {
    "collapsed": false
   },
   "outputs": [
    {
     "data": {
      "text/plain": [
       "{'name1': ['problems/logistic_delays1/out/name1-block0.mp4'],\n",
       " 'name2': ['problems/logistic_delays1/out/name2-block1.mp4']}"
      ]
     },
     "execution_count": 11,
     "metadata": {},
     "output_type": "execute_result"
    }
   ],
   "source": [
    "# available plots:\n",
    "model.plots_paths"
   ]
  },
  {
   "cell_type": "code",
   "execution_count": 12,
   "metadata": {
    "collapsed": false,
    "scrolled": true
   },
   "outputs": [
    {
     "data": {
      "text/html": [
       "\n",
       "        <script>\n",
       "        </script>\n",
       "\n",
       "        <video controls>\n",
       "        <source src=\"problems/logistic_delays1/out/name1-block0.mp4\" type=\"video/mp4\"><p>Your browser doesnt support HTML5 video.Here is a <a href=\"problems/logistic_delays1/out/name1-block0.mp4\">link to the video</a></p></video>"
      ],
      "text/plain": [
       "<IPython.core.display.HTML object>"
      ]
     },
     "metadata": {},
     "output_type": "display_data"
    }
   ],
   "source": [
    "display(HTML(model.get_video('name1')))"
   ]
  },
  {
   "cell_type": "markdown",
   "metadata": {},
   "source": [
    "##### .out:"
   ]
  },
  {
   "cell_type": "markdown",
   "metadata": {
    "collapsed": false
   },
   "source": [
    "For ploting it is better to use ``result_format=0``:"
   ]
  },
  {
   "cell_type": "code",
   "execution_count": 13,
   "metadata": {
    "collapsed": true
   },
   "outputs": [],
   "source": [
    "# get results:\n",
    "model.readResults(result_format=0)"
   ]
  },
  {
   "cell_type": "markdown",
   "metadata": {},
   "source": [
    "In that case data access will be:"
   ]
  },
  {
   "cell_type": "code",
   "execution_count": 14,
   "metadata": {
    "collapsed": false
   },
   "outputs": [
    {
     "name": "stdout",
     "output_type": "stream",
     "text": [
      "361\n",
      "[ 1.       1.       1.       1.       1.       1.       1.       1.       1.\n",
      "  1.       1.       2.68504  2.68504  2.68504  2.68504  2.68504  2.68504\n",
      "  2.68504  2.68504  2.68504  2.68504  2.68504  2.68504  2.68504  2.68504\n",
      "  2.68504  2.68504  2.68504  2.68504  2.68504]\n"
     ]
    }
   ],
   "source": [
    "result_name = 'name1'\n",
    "var = 0\n",
    "\n",
    "time = model.results_arrays['name1']['timevalues'][3]\n",
    "\n",
    "x_size = len(model.results_arrays['resvalues'][result_name][var][time])\n",
    "print(x_size)\n",
    "\n",
    "first_30_res = model.results_arrays['resvalues'][result_name][var][time][:30]\n",
    "print(first_30_res)\n"
   ]
  },
  {
   "cell_type": "code",
   "execution_count": 15,
   "metadata": {
    "collapsed": false
   },
   "outputs": [],
   "source": [
    "import numpy as np\n",
    "import matplotlib.pyplot as plt\n",
    "from ipywidgets import interactive"
   ]
  },
  {
   "cell_type": "markdown",
   "metadata": {},
   "source": [
    "##### U(x, t-fixed):"
   ]
  },
  {
   "cell_type": "code",
   "execution_count": 17,
   "metadata": {
    "collapsed": false
   },
   "outputs": [
    {
     "data": {
      "image/png": "[encoded data removed]",
      "text/plain": [
       "<matplotlib.figure.Figure at 0x7feed57aba58>"
      ]
     },
     "metadata": {},
     "output_type": "display_data"
    }
   ],
   "source": [
    "%matplotlib inline\n",
    "\n",
    "result_name = 'name1'\n",
    "var = 0\n",
    "\n",
    "def f(t):    \n",
    "    time = model.results_arrays[result_name]['timevalues'][t]\n",
    "    result = model.results_arrays['resvalues'][result_name][var][time]\n",
    "    plt.plot(result)\n",
    "w = interactive(f,t=(0,100,1))\n",
    "display(w)"
   ]
  },
  {
   "cell_type": "markdown",
   "metadata": {},
   "source": [
    "##### U(x-fixed, t):"
   ]
  },
  {
   "cell_type": "code",
   "execution_count": 18,
   "metadata": {
    "collapsed": false
   },
   "outputs": [
    {
     "data": {
      "image/png": "[encoded data removed]",
      "text/plain": [
       "<matplotlib.figure.Figure at 0x7feed3938908>"
      ]
     },
     "metadata": {},
     "output_type": "display_data"
    }
   ],
   "source": [
    "%matplotlib inline\n",
    "\n",
    "result_name = 'name1'\n",
    "var = 0\n",
    "times = model.results_arrays[result_name]['timevalues']\n",
    "result = model.results_arrays['resvalues'][result_name][var]\n",
    "result_x = np.array([result[time] for time in times]).T\n",
    "\n",
    "def f(x):\n",
    "    \n",
    "    plt.plot(times, result_x[x])\n",
    "    \n",
    "w = interactive(f,x=(0,x_size,1))\n",
    "display(w)"
   ]
  },
  {
   "cell_type": "code",
   "execution_count": null,
   "metadata": {
    "collapsed": false
   },
   "outputs": [],
   "source": []
  },
  {
   "cell_type": "code",
   "execution_count": null,
   "metadata": {
    "collapsed": true
   },
   "outputs": [],
   "source": []
  }
 ],
 "metadata": {
  "kernelspec": {
   "display_name": "Python 3",
   "language": "python",
   "name": "python3"
  },
  "language_info": {
   "codemirror_mode": {
    "name": "ipython",
    "version": 3
   },
   "file_extension": ".py",
   "mimetype": "text/x-python",
   "name": "python",
   "nbconvert_exporter": "python",
   "pygments_lexer": "ipython3",
   "version": "3.6.0"
  },
  "widgets": {
   "state": {
    "03b56ecaeae5470ead2470c7697a164d": {
     "views": [
      {
       "cell_index": 8
      }
     ]
    }
   },
   "version": "1.2.0"
  }
 },
 "nbformat": 4,
 "nbformat_minor": 2
}
