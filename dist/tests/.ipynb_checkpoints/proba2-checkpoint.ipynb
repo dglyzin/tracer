{
 "cells": [
  {
   "cell_type": "code",
   "execution_count": 2,
   "metadata": {},
   "outputs": [],
   "source": [
    "hd_dir = \"/home/dglyzin/cudahub/hybriddomain/\"\n",
    "modelFileName = 'problems/proba2'\n",
    "conn_name = \"connection.json\"\n",
    "device_conf_name = \"devices.json\""
   ]
  },
  {
   "cell_type": "code",
   "execution_count": 3,
   "metadata": {},
   "outputs": [
    {
     "ename": "ModuleNotFoundError",
     "evalue": "No module named 'envs'",
     "output_type": "error",
     "traceback": [
      "\u001b[0;31m---------------------------------------------------------------------------\u001b[0m",
      "\u001b[0;31mModuleNotFoundError\u001b[0m                       Traceback (most recent call last)",
      "\u001b[0;32m<ipython-input-3-15d53f11226b>\u001b[0m in \u001b[0;36m<module>\u001b[0;34m\u001b[0m\n\u001b[1;32m     11\u001b[0m \u001b[0;32mimport\u001b[0m \u001b[0mipywidgets\u001b[0m \u001b[0;32mas\u001b[0m \u001b[0mwidgets\u001b[0m\u001b[0;34m\u001b[0m\u001b[0;34m\u001b[0m\u001b[0m\n\u001b[1;32m     12\u001b[0m \u001b[0;32mfrom\u001b[0m \u001b[0mIPython\u001b[0m\u001b[0;34m.\u001b[0m\u001b[0mdisplay\u001b[0m \u001b[0;32mimport\u001b[0m \u001b[0mdisplay\u001b[0m\u001b[0;34m,\u001b[0m \u001b[0mclear_output\u001b[0m\u001b[0;34m,\u001b[0m \u001b[0mHTML\u001b[0m\u001b[0;34m\u001b[0m\u001b[0;34m\u001b[0m\u001b[0m\n\u001b[0;32m---> 13\u001b[0;31m \u001b[0;32mfrom\u001b[0m \u001b[0menvs\u001b[0m\u001b[0;34m.\u001b[0m\u001b[0mhs\u001b[0m\u001b[0;34m.\u001b[0m\u001b[0mmodel\u001b[0m\u001b[0;34m.\u001b[0m\u001b[0mmodel_main\u001b[0m \u001b[0;32mimport\u001b[0m \u001b[0mModelNet\u001b[0m \u001b[0;32mas\u001b[0m \u001b[0mModel\u001b[0m\u001b[0;34m\u001b[0m\u001b[0;34m\u001b[0m\u001b[0m\n\u001b[0m\u001b[1;32m     14\u001b[0m \u001b[0;32mfrom\u001b[0m \u001b[0msettings\u001b[0m\u001b[0;34m.\u001b[0m\u001b[0msettings_main\u001b[0m \u001b[0;32mimport\u001b[0m \u001b[0mSettings\u001b[0m\u001b[0;34m\u001b[0m\u001b[0;34m\u001b[0m\u001b[0m\n",
      "\u001b[0;31mModuleNotFoundError\u001b[0m: No module named 'envs'"
     ]
    }
   ],
   "source": [
    "import os\n",
    "import sys\n",
    "import inspect\n",
    "currentdir = os.path.dirname(os.path.abspath(inspect.getfile(inspect.currentframe())))\n",
    "parentdir = os.path.dirname(currentdir)\n",
    "if hd_dir not in sys.path:\n",
    "    sys.path.insert(0, hd_dir)\n",
    "env_dir = os.path.join(hd_dir, 'spaces', 'math_space', \"common\")\n",
    "if env_dir not in sys.path:\n",
    "    sys.path.insert(0, env_dir)\n",
    "import ipywidgets as widgets\n",
    "from IPython.display import display, clear_output, HTML\n",
    "from envs.hs.model.model_main import ModelNet as Model\n",
    "from settings.settings_main import Settings"
   ]
  },
  {
   "cell_type": "code",
   "execution_count": 7,
   "metadata": {},
   "outputs": [
    {
     "name": "stderr",
     "output_type": "stream",
     "text": [
      "INFO:block_main.block_io:DefaultBound not set\n"
     ]
    },
    {
     "name": "stdout",
     "output_type": "stream",
     "text": [
      "tables_dict exist\n",
      "patterns from db used\n",
      "lex_out:\n",
      "['a', 'eq', 'a', 'mul', '(', 'a', 'sub', 'a', ')', 'mul', 'a']\n",
      "tables_dict exist\n",
      "patterns from db used\n",
      "lex_out:\n",
      "['a']\n",
      "['(0)']\n",
      "lex_out bracket's bug fixed\n",
      "['(', 'a', ')']\n",
      "tables_dict exist\n",
      "patterns from db used\n"
     ]
    },
    {
     "name": "stderr",
     "output_type": "stream",
     "text": [
      "INFO:settings_main:device_conf_name\n",
      "INFO:settings_main:dgllogisticdevices\n"
     ]
    },
    {
     "name": "stdout",
     "output_type": "stream",
     "text": [
      "lex_out:\n",
      "['a']\n",
      "['(0.0)']\n",
      "lex_out bracket's bug fixed\n",
      "['(', 'a', ')']\n",
      "tables_dict exist\n",
      "patterns from db used\n",
      "lex_out:\n",
      "['a']\n",
      "['(0)']\n",
      "lex_out bracket's bug fixed\n",
      "['(', 'a', ')']\n",
      "tables_dict exist\n",
      "patterns from db used\n",
      "lex_out:\n",
      "['a', 'add', 'a']\n",
      "Please enter password for user dglyzin:\n"
     ]
    },
    {
     "name": "stdin",
     "output_type": "stream",
     "text": [
      " ········\n"
     ]
    }
   ],
   "source": [
    "model = Model()\n",
    "model.io.loadFromFile(modelFileName)\n",
    "settings = Settings(model, conn_name, device_conf_name, conn_name, pf_prefix=currentdir)"
   ]
  },
  {
   "cell_type": "code",
   "execution_count": 4,
   "metadata": {},
   "outputs": [],
   "source": [
    "#block0 = model.blocks[0]\n",
    "#equation = model.equations[0]\n",
    "#model.paramValues"
   ]
  },
  {
   "cell_type": "code",
   "execution_count": 8,
   "metadata": {},
   "outputs": [
    {
     "data": {
      "application/vnd.jupyter.widget-view+json": {
       "model_id": "a1c6d305dbff4844a2b984e2d4a7f11b",
       "version_major": 2,
       "version_minor": 0
      },
      "text/plain": [
       "IntProgress(value=0, description='solving: ', max=99)"
      ]
     },
     "metadata": {},
     "output_type": "display_data"
    },
    {
     "data": {
      "application/vnd.jupyter.widget-view+json": {
       "model_id": "2f38dd01a2a845b48bdfd9cd211b69fb",
       "version_major": 2,
       "version_minor": 0
      },
      "text/plain": [
       "Button(description='run linear_test ', style=ButtonStyle())"
      ]
     },
     "metadata": {},
     "output_type": "display_data"
    }
   ],
   "source": [
    "from solvers.hs.remoterun.progresses.progress_notebook import ProgressNotebook\n",
    "progress = ProgressNotebook(100, prefix='solving')\n",
    "from solvers.hs.remoterun.remoterun import remoteProjectRun\n",
    "\n",
    "clear_output()\n",
    "test_name = settings.paths['model']['name']\n",
    "bTest = widgets.Button(description=\"run %s \" % (test_name))\n",
    "def run(event):\n",
    "    remoteProjectRun(settings, 1, progress)\n",
    "bTest.on_click(run)\n",
    "display(progress.progress)\n",
    "display(bTest)"
   ]
  },
  {
   "cell_type": "markdown",
   "metadata": {},
   "source": [
    "### Results:"
   ]
  },
  {
   "cell_type": "code",
   "execution_count": 52,
   "metadata": {},
   "outputs": [
    {
     "name": "stdout",
     "output_type": "stream",
     "text": [
      "['logistic_delays-res0-U.out', 'logistic_delays-plot0.mp4']\n",
      "['/home/hpc/cudahub/tracer/hybriddomain/tests/linear_test/problems/logistic_delays/out/logistic_delays-res0-U.out']\n"
     ]
    }
   ],
   "source": [
    "import numpy as np\n",
    "import re\n",
    "import matplotlib.pyplot as plt\n",
    "from ipywidgets import interactive\n",
    "\n",
    "out_dir = os.path.join(currentdir,  modelFileName, \"out\")\n",
    "listdir = os.listdir(out_dir)\n",
    "\n",
    "print(listdir)\n",
    "\n",
    "outs = [os.path.join(out_dir, file_name)\n",
    "        for file_name in listdir\n",
    "        if '.out' in file_name]\n",
    "print(outs)\n",
    "with open(outs[0]) as f:\n",
    "    data = f.read()"
   ]
  },
  {
   "cell_type": "code",
   "execution_count": 53,
   "metadata": {},
   "outputs": [],
   "source": [
    "lines = data.split('\\n')\n",
    "result = {}\n",
    "\n",
    "for line in lines:\n",
    "    if ':' in line:\n",
    "        key, val = line.split(':')\n",
    "        result[key]=val[1:]\n",
    "    else:\n",
    "        val = line\n",
    "        result[key] += val"
   ]
  },
  {
   "cell_type": "code",
   "execution_count": 54,
   "metadata": {},
   "outputs": [],
   "source": [
    "def gen(reuslt):\n",
    "    for key in reuslt:\n",
    "        step_0 = re.subn(r'\\.\\s+',\".0,\",result[key])[0]\n",
    "        step_1 = re.subn(r'\\s+',\",\",step_0)[0]\n",
    "        step_2 = step_1.replace('.]','.0]')\n",
    "        step_3 = step_2.replace('[,','[')\n",
    "\n",
    "        yield((key, eval(step_3)))"
   ]
  },
  {
   "cell_type": "code",
   "execution_count": 1,
   "metadata": {},
   "outputs": [
    {
     "ename": "NameError",
     "evalue": "name 'gen' is not defined",
     "output_type": "error",
     "traceback": [
      "\u001b[0;31m---------------------------------------------------------------------------\u001b[0m",
      "\u001b[0;31mNameError\u001b[0m                                 Traceback (most recent call last)",
      "\u001b[0;32m<ipython-input-1-84bd8018c982>\u001b[0m in \u001b[0;36m<module>\u001b[0;34m\u001b[0m\n\u001b[1;32m      1\u001b[0m \u001b[0;34m\u001b[0m\u001b[0m\n\u001b[0;32m----> 2\u001b[0;31m \u001b[0mresult_t\u001b[0m \u001b[0;34m=\u001b[0m \u001b[0mdict\u001b[0m\u001b[0;34m(\u001b[0m\u001b[0;34m[\u001b[0m\u001b[0;34m(\u001b[0m\u001b[0mfloat\u001b[0m\u001b[0;34m(\u001b[0m\u001b[0mkey\u001b[0m\u001b[0;34m)\u001b[0m\u001b[0;34m,\u001b[0m \u001b[0mval\u001b[0m\u001b[0;34m)\u001b[0m \u001b[0;32mfor\u001b[0m \u001b[0mkey\u001b[0m\u001b[0;34m,\u001b[0m \u001b[0mval\u001b[0m \u001b[0;32min\u001b[0m \u001b[0mgen\u001b[0m\u001b[0;34m(\u001b[0m\u001b[0mresult\u001b[0m\u001b[0;34m)\u001b[0m\u001b[0;34m]\u001b[0m\u001b[0;34m)\u001b[0m\u001b[0;34m\u001b[0m\u001b[0;34m\u001b[0m\u001b[0m\n\u001b[0m\u001b[1;32m      3\u001b[0m \u001b[0;31m#print(result_t)\u001b[0m\u001b[0;34m\u001b[0m\u001b[0;34m\u001b[0m\u001b[0;34m\u001b[0m\u001b[0m\n\u001b[1;32m      4\u001b[0m \u001b[0mtime\u001b[0m \u001b[0;34m=\u001b[0m \u001b[0;34m[\u001b[0m\u001b[0mkey\u001b[0m \u001b[0;32mfor\u001b[0m \u001b[0mkey\u001b[0m \u001b[0;32min\u001b[0m \u001b[0mresult_t\u001b[0m\u001b[0;34m]\u001b[0m\u001b[0;34m\u001b[0m\u001b[0;34m\u001b[0m\u001b[0m\n\u001b[1;32m      5\u001b[0m \u001b[0mresult_x\u001b[0m \u001b[0;34m=\u001b[0m \u001b[0mnp\u001b[0m\u001b[0;34m.\u001b[0m\u001b[0marray\u001b[0m\u001b[0;34m(\u001b[0m\u001b[0;34m[\u001b[0m\u001b[0mresult_t\u001b[0m\u001b[0;34m[\u001b[0m\u001b[0mkey\u001b[0m\u001b[0;34m]\u001b[0m \u001b[0;32mfor\u001b[0m \u001b[0mkey\u001b[0m \u001b[0;32min\u001b[0m \u001b[0mresult_t\u001b[0m\u001b[0;34m]\u001b[0m\u001b[0;34m)\u001b[0m\u001b[0;34m.\u001b[0m\u001b[0mT\u001b[0m\u001b[0;34m\u001b[0m\u001b[0;34m\u001b[0m\u001b[0m\n",
      "\u001b[0;31mNameError\u001b[0m: name 'gen' is not defined"
     ]
    }
   ],
   "source": [
    "\n",
    "result_t = dict([(float(key), val) for key, val in gen(result)])\n",
    "#print(result_t)\n",
    "time = [key for key in result_t]\n",
    "result_x = np.array([result_t[key] for key in result_t]).T\n",
    "print (result_x)"
   ]
  },
  {
   "cell_type": "markdown",
   "metadata": {},
   "source": [
    "##### U(x, t-fixed):"
   ]
  },
  {
   "cell_type": "code",
   "execution_count": 56,
   "metadata": {},
   "outputs": [
    {
     "data": {
      "application/vnd.jupyter.widget-view+json": {
       "model_id": "628800e0b63c431086aaf618a28286ad",
       "version_major": 2,
       "version_minor": 0
      },
      "text/plain": [
       "interactive(children=(IntSlider(value=50, description='t'), Output()), _dom_classes=('widget-interact',))"
      ]
     },
     "metadata": {},
     "output_type": "display_data"
    }
   ],
   "source": [
    "%matplotlib inline\n",
    "def f(t):\n",
    "    plt.plot(result_t[time[t]])\n",
    "w = interactive(f,t=(0,100,1))\n",
    "display(w)"
   ]
  },
  {
   "cell_type": "markdown",
   "metadata": {},
   "source": [
    "##### U(x-fixed, t):"
   ]
  },
  {
   "cell_type": "code",
   "execution_count": 57,
   "metadata": {},
   "outputs": [
    {
     "data": {
      "application/vnd.jupyter.widget-view+json": {
       "model_id": "ce47dd2cb1104330ae0f4bf18973474b",
       "version_major": 2,
       "version_minor": 0
      },
      "text/plain": [
       "interactive(children=(IntSlider(value=180, description='x', max=360), Output()), _dom_classes=('widget-interac…"
      ]
     },
     "metadata": {},
     "output_type": "display_data"
    }
   ],
   "source": [
    "%matplotlib inline\n",
    "def f(x):\n",
    "    plt.plot(time, result_x[x])\n",
    "w = interactive(f,x=(0,360,1))\n",
    "\n",
    "\n",
    "\n",
    "#k = 2\n",
    "#h = 1\n",
    "#r = 1\n",
    "\n",
    "#model = lambda Y,t, k,h,r :  r * (k - ( Y(t-h))) * Y(t)\n",
    "#g = lambda t: 1.0 # history before t=0\n",
    "\n",
    "#tt = np.linspace(0,10,10000)\n",
    "#yy = ddeint(model, g, tt, fargs=(k, h, r)) # K=0.1, d=5, r=1\n",
    "\n",
    "#plt.plot(tt, yy, lw=2)\n",
    "display(w)"
   ]
  },
  {
   "cell_type": "code",
   "execution_count": 50,
   "metadata": {},
   "outputs": [],
   "source": [
    "\"\"\"\n",
    "This module implements ddeint, a simple Differential Delay Equation\n",
    "solver built on top of Scipy's odeint \"\"\"\n",
    "\n",
    "# REQUIRES Numpy and Scipy.\n",
    "import numpy as np\n",
    "import scipy.integrate\n",
    "import scipy.interpolate\n",
    "\n",
    "\n",
    "class ddeVar:\n",
    "    \"\"\"\n",
    "    The instances of this class are special function-like\n",
    "    variables which store their past values in an interpolator and\n",
    "    can be called for any past time: Y(t), Y(t-d).\n",
    "    Very convenient for the integration of DDEs.\n",
    "    \"\"\"\n",
    "\n",
    "    def __init__(self, g, tc=0):\n",
    "        \"\"\" g(t) = expression of Y(t) for t<tc \"\"\"\n",
    "\n",
    "        self.g = g\n",
    "        self.tc = tc\n",
    "        # We must fill the interpolator with 2 points minimum\n",
    "        self.itpr = scipy.interpolate.interp1d(\n",
    "            np.array([tc - 1, tc]),  # X\n",
    "            np.array([self.g(tc), self.g(tc)]).T,  # Y\n",
    "            kind='linear', bounds_error=False,\n",
    "            fill_value=self.g(tc))\n",
    "\n",
    "    def update(self, t, Y):\n",
    "        \"\"\" Add one new (ti,yi) to the interpolator \"\"\"\n",
    "\n",
    "        self.itpr.x = np.hstack([self.itpr.x, [t]])\n",
    "        Y2 = Y if (Y.size == 1) else np.array([Y]).T\n",
    "        self.itpr.y = np.hstack([self.itpr.y, Y2])\n",
    "        self.itpr.fill_value = Y\n",
    "        self.itpr._y = self.itpr._reshape_yi(self.itpr.y)\n",
    "\n",
    "    def __call__(self, t=0):\n",
    "        \"\"\" Y(t) will return the instance's value at time t \"\"\"\n",
    "\n",
    "        return (self.g(t) if (t <= self.tc) else self.itpr(t))\n",
    "\n",
    "\n",
    "class dde(scipy.integrate.ode):\n",
    "    \"\"\"\n",
    "    This class overwrites a few functions of ``scipy.integrate.ode``\n",
    "    to allow for updates of the pseudo-variable Y between each\n",
    "    integration step.\n",
    "    \"\"\"\n",
    "\n",
    "    def __init__(self, f, jac=None):\n",
    "        def f2(t, y, args):\n",
    "            return f(self.Y, t, *args)\n",
    "\n",
    "        scipy.integrate.ode.__init__(self, f2, jac)\n",
    "        self.set_f_params(None)\n",
    "\n",
    "    def integrate(self, t, step=0, relax=0):\n",
    "        scipy.integrate.ode.integrate(self, t, step, relax)\n",
    "        self.Y.update(self.t, self.y)\n",
    "        return self.y\n",
    "\n",
    "    def set_initial_value(self, Y):\n",
    "        self.Y = Y  # !!! Y will be modified during integration\n",
    "        scipy.integrate.ode.set_initial_value(self, Y(Y.tc), Y.tc)\n",
    "\n",
    "\n",
    "def ddeint(func, g, tt, fargs=None):\n",
    "    \"\"\" Solves Delay Differential Equations\n",
    "    Similar to scipy.integrate.odeint. Solves a Delay differential\n",
    "    Equation system (DDE) defined by\n",
    "        Y(t) = g(t) for t<0\n",
    "        Y'(t) = func(Y,t) for t>= 0\n",
    "    Where func can involve past values of Y, like Y(t-d).\n",
    "\n",
    "    Parameters\n",
    "    -----------\n",
    "\n",
    "    func\n",
    "      a function Y,t,args -> Y'(t), where args is optional.\n",
    "      The variable Y is an instance of class ddeVar, which means that\n",
    "      it is called like a function: Y(t), Y(t-d), etc. Y(t) returns\n",
    "      either a number or a numpy array (for multivariate systems).\n",
    "    g\n",
    "      The 'history function'. A function g(t)=Y(t) for t<0, g(t)\n",
    "      returns either a number or a numpy array (for multivariate\n",
    "      systems).\n",
    "\n",
    "    tt\n",
    "      The vector of times [t0, t1, ...] at which the system must\n",
    "      be solved.\n",
    "    fargs\n",
    "      Additional arguments to be passed to parameter ``func``, if any.\n",
    "    Examples\n",
    "    ---------\n",
    "\n",
    "    We will solve the delayed Lotka-Volterra system defined as\n",
    "\n",
    "        For t < 0:\n",
    "        x(t) = 1+t\n",
    "        y(t) = 2-t\n",
    "\n",
    "        For t >= 0:\n",
    "        dx/dt =  0.5* ( 1- y(t-d) )\n",
    "        dy/dt = -0.5* ( 1- x(t-d) )\n",
    "\n",
    "    The delay ``d`` is a tunable parameter of the model.\n",
    "    >>> import numpy as np\n",
    "    >>> from ddeint import ddeint\n",
    "    >>>\n",
    "    >>> def model(XY,t,d):\n",
    "    >>>     x, y = XY(t)\n",
    "    >>>     xd, yd = XY(t-d)\n",
    "    >>>     return np.array([0.5*x*(1-yd), -0.5*y*(1-xd)])\n",
    "    >>>\n",
    "    >>> g = lambda t : np.array([1+t,2-t]) # 'history' at t<0\n",
    "    >>> tt = np.linspace(0,30,20000) # times for integration\n",
    "    >>> d = 0.5 # set parameter d\n",
    "    >>> yy = ddeint(model,g,tt,fargs=(d,)) # solve the DDE !\n",
    "\n",
    "    \"\"\"\n",
    "\n",
    "    dde_ = dde(func)\n",
    "    dde_.set_initial_value(ddeVar(g, tt[0]))\n",
    "    dde_.set_f_params(fargs if fargs else [])\n",
    "    results = [dde_.integrate(dde_.t + dt) for dt in np.diff(tt)]\n",
    "    return np.array([g(tt[0])] + results)"
   ]
  },
  {
   "cell_type": "code",
   "execution_count": 1,
   "metadata": {},
   "outputs": [
    {
     "ename": "NameError",
     "evalue": "name 'ddeint' is not defined",
     "output_type": "error",
     "traceback": [
      "\u001b[0;31m---------------------------------------------------------------------------\u001b[0m",
      "\u001b[0;31mNameError\u001b[0m                                 Traceback (most recent call last)",
      "\u001b[0;32m<ipython-input-1-e0a1f7efa995>\u001b[0m in \u001b[0;36m<module>\u001b[0;34m()\u001b[0m\n\u001b[1;32m     12\u001b[0m \u001b[0;34m\u001b[0m\u001b[0m\n\u001b[1;32m     13\u001b[0m \u001b[0mtt\u001b[0m \u001b[0;34m=\u001b[0m \u001b[0mnp\u001b[0m\u001b[0;34m.\u001b[0m\u001b[0mlinspace\u001b[0m\u001b[0;34m(\u001b[0m\u001b[0;36m0\u001b[0m\u001b[0;34m,\u001b[0m\u001b[0;36m10\u001b[0m\u001b[0;34m,\u001b[0m\u001b[0;36m10000\u001b[0m\u001b[0;34m)\u001b[0m\u001b[0;34m\u001b[0m\u001b[0m\n\u001b[0;32m---> 14\u001b[0;31m \u001b[0myy\u001b[0m \u001b[0;34m=\u001b[0m \u001b[0mddeint\u001b[0m\u001b[0;34m(\u001b[0m\u001b[0mmodel\u001b[0m\u001b[0;34m,\u001b[0m \u001b[0mg\u001b[0m\u001b[0;34m,\u001b[0m \u001b[0mtt\u001b[0m\u001b[0;34m,\u001b[0m \u001b[0mfargs\u001b[0m\u001b[0;34m=\u001b[0m\u001b[0;34m(\u001b[0m\u001b[0mk\u001b[0m\u001b[0;34m,\u001b[0m \u001b[0mh\u001b[0m\u001b[0;34m,\u001b[0m \u001b[0mr\u001b[0m\u001b[0;34m)\u001b[0m\u001b[0;34m)\u001b[0m \u001b[0;31m# K=0.1, d=5, r=1\u001b[0m\u001b[0;34m\u001b[0m\u001b[0m\n\u001b[0m\u001b[1;32m     15\u001b[0m \u001b[0;34m\u001b[0m\u001b[0m\n\u001b[1;32m     16\u001b[0m \u001b[0mplt\u001b[0m\u001b[0;34m.\u001b[0m\u001b[0mplot\u001b[0m\u001b[0;34m(\u001b[0m\u001b[0mtt\u001b[0m\u001b[0;34m,\u001b[0m \u001b[0myy\u001b[0m\u001b[0;34m,\u001b[0m \u001b[0mlw\u001b[0m\u001b[0;34m=\u001b[0m\u001b[0;36m2\u001b[0m\u001b[0;34m)\u001b[0m\u001b[0;34m\u001b[0m\u001b[0m\n",
      "\u001b[0;31mNameError\u001b[0m: name 'ddeint' is not defined"
     ]
    }
   ],
   "source": [
    "\n",
    "import matplotlib.pyplot as plt\n",
    "import numpy as np\n",
    "\n",
    "#from ddeint import ddeint\n",
    "\n",
    "k = 2\n",
    "h = 1\n",
    "r = 1\n",
    "\n",
    "model = lambda Y,t, k,h,r :  r * (k - ( Y(t-h))) * Y(t)\n",
    "g = lambda t: 1 # history before t=0\n",
    "\n",
    "tt = np.linspace(0,10,10000)\n",
    "yy = ddeint(model, g, tt, fargs=(k, h, r)) # K=0.1, d=5, r=1\n",
    "\n",
    "plt.plot(tt, yy, lw=2)\n",
    "plt.show()\n"
   ]
  },
  {
   "cell_type": "code",
   "execution_count": null,
   "metadata": {},
   "outputs": [],
   "source": []
  }
 ],
 "metadata": {
  "kernelspec": {
   "display_name": "Python 3",
   "language": "python",
   "name": "python3"
  },
  "language_info": {
   "codemirror_mode": {
    "name": "ipython",
    "version": 3
   },
   "file_extension": ".py",
   "mimetype": "text/x-python",
   "name": "python",
   "nbconvert_exporter": "python",
   "pygments_lexer": "ipython3",
   "version": "3.7.3"
  },
  "widgets": {
   "state": {
    "325ce29825cf43ef86b389adde0af496": {
     "views": [
      {
       "cell_index": 9
      }
     ]
    }
   },
   "version": "1.2.0"
  }
 },
 "nbformat": 4,
 "nbformat_minor": 2
}
