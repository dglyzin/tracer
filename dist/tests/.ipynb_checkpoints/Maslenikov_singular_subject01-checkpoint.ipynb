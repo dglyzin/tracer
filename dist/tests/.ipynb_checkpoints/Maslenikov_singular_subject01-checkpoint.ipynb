{
 "cells": [
  {
   "cell_type": "markdown",
   "metadata": {},
   "source": [
    "### Add model, connection and device to settings:"
   ]
  },
  {
   "cell_type": "code",
   "execution_count": 1,
   "metadata": {},
   "outputs": [
    {
     "name": "stderr",
     "output_type": "stream",
     "text": [
      "INFO:settings_main:device_conf_rpath\n",
      "INFO:settings_main:devices.json\n"
     ]
    },
    {
     "name": "stdout",
     "output_type": "stream",
     "text": [
      "Please enter password for user imaslenikov:\n"
     ]
    },
    {
     "name": "stdin",
     "output_type": "stream",
     "text": [
      " ·········\n"
     ]
    }
   ],
   "source": [
    "# библиотеки\n",
    "import os\n",
    "import sys\n",
    "import inspect\n",
    "import numpy as np\n",
    "import re\n",
    "import math\n",
    "import matplotlib.pyplot as plt\n",
    "from ipywidgets import interactive\n",
    "import ipywidgets as widgets\n",
    "from IPython.display import display, clear_output, HTML\n",
    "from hybriddomain.envs.hs.model.model_main import ModelNet as Model\n",
    "from hybriddomain.settings.settings_main import Settings\n",
    "from ddeint import ddeint\n",
    "\n",
    "# пути и названия файлов\n",
    "modelFileName = 'problems/Maslenikov_singular_subject01'\n",
    "conn_name = \"connection.json\"\n",
    "device_conf_name = \"devices.json\"\n",
    "\n",
    "#Ввод пароля для инициализации пользователя\n",
    "model = Model()\n",
    "model.io.loadFromFile(modelFileName)\n",
    "settings = Settings(model, conn_name, device_conf_name, conn_name)"
   ]
  },
  {
   "cell_type": "code",
   "execution_count": 2,
   "metadata": {},
   "outputs": [
    {
     "name": "stdout",
     "output_type": "stream",
     "text": [
      "equations:\n",
      "[[\"U'= a*U/e+b*V/e+1/e\", \"V'= c*U/e+d*V/e+1/e\"]]\n",
      "params:\n",
      "['a', 'b', 'c', 'd', 'e']\n",
      "paramValues:\n",
      "[{'a': 1, 'b': 3, 'c': -1, 'd': -2, 'e': 1}, {'a': 1, 'b': 3, 'c': -1, 'd': -2, 'e': 0.5}, {'a': 1, 'b': 3, 'c': -1, 'd': -2, 'e': 0.1}, {'a': 1, 'b': 3, 'c': -1, 'd': -2, 'e': 0.01}]\n"
     ]
    }
   ],
   "source": [
    "print(\"equations:\")\n",
    "print(model.equations)\n",
    "print(\"params:\")\n",
    "print(model.params)\n",
    "print(\"paramValues:\")\n",
    "print(model.paramValues)"
   ]
  },
  {
   "cell_type": "markdown",
   "metadata": {},
   "source": [
    "### Run solver:"
   ]
  },
  {
   "cell_type": "code",
   "execution_count": 3,
   "metadata": {},
   "outputs": [
    {
     "data": {
      "application/vnd.jupyter.widget-view+json": {
       "model_id": "3d8b335eccf94a5fa13796e3b7bfdb9c",
       "version_major": 2,
       "version_minor": 0
      },
      "text/plain": [
       "IntProgress(value=0, description='param: ', max=3)"
      ]
     },
     "metadata": {},
     "output_type": "display_data"
    },
    {
     "data": {
      "application/vnd.jupyter.widget-view+json": {
       "model_id": "7f952d2199354a5fbc32bca21556a447",
       "version_major": 2,
       "version_minor": 0
      },
      "text/plain": [
       "IntProgress(value=0, description='solving: ', max=99)"
      ]
     },
     "metadata": {},
     "output_type": "display_data"
    },
    {
     "data": {
      "application/vnd.jupyter.widget-view+json": {
       "model_id": "a9848136bda44d7381dab664c24c8d5b",
       "version_major": 2,
       "version_minor": 0
      },
      "text/plain": [
       "Button(description='run singular_system01 ', style=ButtonStyle())"
      ]
     },
     "metadata": {},
     "output_type": "display_data"
    }
   ],
   "source": [
    "# запуск процесса решения уравнения\n",
    "from hybriddomain.solvers.hs.remoterun.progresses.progress_notebook import ProgressNotebook\n",
    "from hybriddomain.solvers.hs.postproc.results.results_main import ResultPostprocNet as ResultPostproc\n",
    "progress = ProgressNotebook(100, prefix='solving')\n",
    "\n",
    "progress_params = ProgressNotebook(len(model.paramValues), prefix='param')\n",
    "# display(progress_params.progress)\n",
    "\n",
    "progress_solving = ProgressNotebook(100, prefix='solving')\n",
    "# display(progress_solving.progress)\n",
    "# progress_solving.succ(0)\n",
    "\n",
    "result_postproc = ResultPostproc(modelFileName)\n",
    "\n",
    "from hybriddomain.solvers.hs.remoterun.remoterun import remoteProjectRun\n",
    "\n",
    "clear_output()\n",
    "test_name = settings.paths['model']['name']\n",
    "bTest = widgets.Button(description=\"run %s \" % (test_name))\n",
    "\n",
    "# parametrisation:\n",
    "def run(event):\n",
    "    model = Model()\n",
    "    model.io.loadFromFile(modelFileName)\n",
    "    \n",
    "    for params_idx in range(len(model.paramValues)):\n",
    "        \n",
    "        progress_params.succ(params_idx)\n",
    "        progress_solving.set_prefix(\"solving\")\n",
    "        \n",
    "        # changing param:\n",
    "        model.defaultParamsIndex = params_idx\n",
    "        model.io.saveToFile(settings.paths[\"hd\"][\"json\"])\n",
    "        model = Model()\n",
    "        model.io.loadFromFile(modelFileName)\n",
    "        \n",
    "        remoteProjectRun(settings, 1, progress_solving,remove_old=False)\n",
    "        \n",
    "        # result_postproc.extract_out(params_idx, results_params)\n",
    "        result_postproc.rename_out(params_idx)\n",
    "    display(Javascript(\"alert('Done');\"))\n",
    "    \n",
    "bTest.on_click(run)\n",
    "\n",
    "display(progress_params.progress)\n",
    "display(progress_solving.progress)\n",
    " \n",
    "display(bTest)"
   ]
  },
  {
   "cell_type": "markdown",
   "metadata": {},
   "source": [
    "### Results:"
   ]
  },
  {
   "cell_type": "code",
   "execution_count": 4,
   "metadata": {},
   "outputs": [
    {
     "name": "stdout",
     "output_type": "stream",
     "text": [
      "result files:  {'u': ['problems/singular_system01/out/u_seq0.out', 'problems/singular_system01/out/u_seq1.out', 'problems/singular_system01/out/u_seq2.out', 'problems/singular_system01/out/u_seq3.out']}\n",
      "plot files:  {}\n"
     ]
    }
   ],
   "source": [
    "model.readResults(result_format=1)\n",
    "# available result files:\n",
    "print(\"result files: \", model.results_paths)\n",
    "# available plot files:\n",
    "print(\"plot files: \", model.plots_paths)"
   ]
  },
  {
   "cell_type": "code",
   "execution_count": 5,
   "metadata": {},
   "outputs": [
    {
     "name": "stdout",
     "output_type": "stream",
     "text": [
      "dict_keys(['u'])\n"
     ]
    }
   ],
   "source": [
    "# объекте model хранится вся информация по решению задачи\n",
    "# get results (for TRAC-11 result_format=1):\n",
    "model.readResults(result_format=1)\n",
    "model.results_paths\n",
    "# available results:\n",
    "print(model.results_arrays.keys())"
   ]
  },
  {
   "cell_type": "markdown",
   "metadata": {},
   "source": [
    "### Video:"
   ]
  },
  {
   "cell_type": "code",
   "execution_count": 6,
   "metadata": {},
   "outputs": [
    {
     "data": {
      "text/plain": [
       "{}"
      ]
     },
     "execution_count": 6,
     "metadata": {},
     "output_type": "execute_result"
    }
   ],
   "source": [
    "# available plots:\n",
    "model.plots_paths"
   ]
  },
  {
   "cell_type": "code",
   "execution_count": 7,
   "metadata": {},
   "outputs": [
    {
     "ename": "KeyError",
     "evalue": "'System'",
     "output_type": "error",
     "traceback": [
      "\u001b[0;31m---------------------------------------------------------------------------\u001b[0m",
      "\u001b[0;31mKeyError\u001b[0m                                  Traceback (most recent call last)",
      "\u001b[0;32m<ipython-input-7-3931bcb90b94>\u001b[0m in \u001b[0;36m<module>\u001b[0;34m\u001b[0m\n\u001b[0;32m----> 1\u001b[0;31m \u001b[0mdisplay\u001b[0m\u001b[0;34m(\u001b[0m\u001b[0mHTML\u001b[0m\u001b[0;34m(\u001b[0m\u001b[0mmodel\u001b[0m\u001b[0;34m.\u001b[0m\u001b[0mget_video\u001b[0m\u001b[0;34m(\u001b[0m\u001b[0;34m'System'\u001b[0m\u001b[0;34m,\u001b[0m\u001b[0;36m0\u001b[0m\u001b[0;34m)\u001b[0m\u001b[0;34m)\u001b[0m\u001b[0;34m)\u001b[0m\u001b[0;34m\u001b[0m\u001b[0;34m\u001b[0m\u001b[0m\n\u001b[0m\u001b[1;32m      2\u001b[0m \u001b[0mdisplay\u001b[0m\u001b[0;34m(\u001b[0m\u001b[0mHTML\u001b[0m\u001b[0;34m(\u001b[0m\u001b[0mmodel\u001b[0m\u001b[0;34m.\u001b[0m\u001b[0mget_video\u001b[0m\u001b[0;34m(\u001b[0m\u001b[0;34m'System'\u001b[0m\u001b[0;34m,\u001b[0m\u001b[0;36m1\u001b[0m\u001b[0;34m)\u001b[0m\u001b[0;34m)\u001b[0m\u001b[0;34m)\u001b[0m\u001b[0;34m\u001b[0m\u001b[0;34m\u001b[0m\u001b[0m\n\u001b[1;32m      3\u001b[0m \u001b[0mdisplay\u001b[0m\u001b[0;34m(\u001b[0m\u001b[0mHTML\u001b[0m\u001b[0;34m(\u001b[0m\u001b[0mmodel\u001b[0m\u001b[0;34m.\u001b[0m\u001b[0mget_video\u001b[0m\u001b[0;34m(\u001b[0m\u001b[0;34m'System'\u001b[0m\u001b[0;34m,\u001b[0m\u001b[0;36m2\u001b[0m\u001b[0;34m)\u001b[0m\u001b[0;34m)\u001b[0m\u001b[0;34m)\u001b[0m\u001b[0;34m\u001b[0m\u001b[0;34m\u001b[0m\u001b[0m\n\u001b[1;32m      4\u001b[0m \u001b[0mdisplay\u001b[0m\u001b[0;34m(\u001b[0m\u001b[0mHTML\u001b[0m\u001b[0;34m(\u001b[0m\u001b[0mmodel\u001b[0m\u001b[0;34m.\u001b[0m\u001b[0mget_video\u001b[0m\u001b[0;34m(\u001b[0m\u001b[0;34m'System'\u001b[0m\u001b[0;34m,\u001b[0m\u001b[0;36m3\u001b[0m\u001b[0;34m)\u001b[0m\u001b[0;34m)\u001b[0m\u001b[0;34m)\u001b[0m\u001b[0;34m\u001b[0m\u001b[0;34m\u001b[0m\u001b[0m\n\u001b[1;32m      5\u001b[0m \u001b[0mdisplay\u001b[0m\u001b[0;34m(\u001b[0m\u001b[0mHTML\u001b[0m\u001b[0;34m(\u001b[0m\u001b[0mmodel\u001b[0m\u001b[0;34m.\u001b[0m\u001b[0mget_video\u001b[0m\u001b[0;34m(\u001b[0m\u001b[0;34m'System'\u001b[0m\u001b[0;34m,\u001b[0m\u001b[0;36m4\u001b[0m\u001b[0;34m)\u001b[0m\u001b[0;34m)\u001b[0m\u001b[0;34m)\u001b[0m\u001b[0;34m\u001b[0m\u001b[0;34m\u001b[0m\u001b[0m\n",
      "\u001b[0;32m~/tracer/hybriddomain/hybriddomain/envs/hs/model/model_main.py\u001b[0m in \u001b[0;36mget_video\u001b[0;34m(self, name, idx)\u001b[0m\n\u001b[1;32m     70\u001b[0m         \u001b[0;32mexcept\u001b[0m \u001b[0mAttributeError\u001b[0m\u001b[0;34m:\u001b[0m\u001b[0;34m\u001b[0m\u001b[0;34m\u001b[0m\u001b[0m\n\u001b[1;32m     71\u001b[0m             \u001b[0;32mraise\u001b[0m\u001b[0;34m(\u001b[0m\u001b[0mBaseException\u001b[0m\u001b[0;34m(\u001b[0m\u001b[0;34m\"Use model.readResults first\"\u001b[0m\u001b[0;34m)\u001b[0m\u001b[0;34m)\u001b[0m\u001b[0;34m\u001b[0m\u001b[0;34m\u001b[0m\u001b[0m\n\u001b[0;32m---> 72\u001b[0;31m         \u001b[0;32mreturn\u001b[0m\u001b[0;34m(\u001b[0m\u001b[0mresult_postproc\u001b[0m\u001b[0;34m.\u001b[0m\u001b[0mget_video\u001b[0m\u001b[0;34m(\u001b[0m\u001b[0mself\u001b[0m\u001b[0;34m,\u001b[0m \u001b[0mname\u001b[0m\u001b[0;34m,\u001b[0m \u001b[0midx\u001b[0m\u001b[0;34m)\u001b[0m\u001b[0;34m)\u001b[0m\u001b[0;34m\u001b[0m\u001b[0;34m\u001b[0m\u001b[0m\n\u001b[0m\u001b[1;32m     73\u001b[0m \u001b[0;34m\u001b[0m\u001b[0m\n\u001b[1;32m     74\u001b[0m     def readResults(self, names=[],\n",
      "\u001b[0;32m~/tracer/hybriddomain/hybriddomain/solvers/hs/postproc/results/results_main.py\u001b[0m in \u001b[0;36mget_video\u001b[0;34m(self, model, plot_name, plot_idx)\u001b[0m\n\u001b[1;32m     66\u001b[0m         display(HTML(str_video))'''\n\u001b[1;32m     67\u001b[0m \u001b[0;34m\u001b[0m\u001b[0m\n\u001b[0;32m---> 68\u001b[0;31m         \u001b[0mplot_file_name\u001b[0m \u001b[0;34m=\u001b[0m \u001b[0mmodel\u001b[0m\u001b[0;34m.\u001b[0m\u001b[0mplots_paths\u001b[0m\u001b[0;34m[\u001b[0m\u001b[0mplot_name\u001b[0m\u001b[0;34m]\u001b[0m\u001b[0;34m[\u001b[0m\u001b[0mplot_idx\u001b[0m\u001b[0;34m]\u001b[0m\u001b[0;34m\u001b[0m\u001b[0;34m\u001b[0m\u001b[0m\n\u001b[0m\u001b[1;32m     69\u001b[0m         str_video = '''\n\u001b[1;32m     70\u001b[0m         \u001b[0;34m<\u001b[0m\u001b[0mscript\u001b[0m\u001b[0;34m>\u001b[0m\u001b[0;34m\u001b[0m\u001b[0;34m\u001b[0m\u001b[0m\n",
      "\u001b[0;31mKeyError\u001b[0m: 'System'"
     ]
    }
   ],
   "source": [
    "display(HTML(model.get_video('System',0)))\n",
    "display(HTML(model.get_video('System',1)))\n",
    "display(HTML(model.get_video('System',2)))\n",
    "display(HTML(model.get_video('System',3)))\n",
    "display(HTML(model.get_video('System',4)))"
   ]
  },
  {
   "cell_type": "markdown",
   "metadata": {},
   "source": [
    "### U(x, t-fixed),V(x, t-fixed):"
   ]
  },
  {
   "cell_type": "code",
   "execution_count": null,
   "metadata": {},
   "outputs": [],
   "source": [
    "# отрисовывает результат\n",
    "%matplotlib inline\n",
    "\n",
    "#display(w)\n",
    "time = model.results_arrays['u']['timevalues']\n",
    "#print(time)\n",
    "\n",
    "times = model.results_arrays['u']['timevalues']\n",
    "#print(times)\n",
    "result = model.results_arrays['u']['resvalues']\n",
    "print(result[0][0][0][0])\n",
    "print(len(times))\n",
    "result_x = np.array([result[0][time][0][0] for time in times])\n",
    "result_y = np.array([result[0][time][1][0] for time in times])\n",
    "\n",
    "tt =np.linspace (0.0,1.0,101)\n",
    "#circle_x=np.array([10*math.cos(2*3.1415926*t) for t in tt])\n",
    "#circle_y=np.array([10*math.sin(2*3.1415926*t) for t in tt])\n",
    "\n",
    "\n",
    "def f(x,t):\n",
    "    result_x = np.array([result[x][time][0][t] for time in times])\n",
    "    result_y = np.array([result[x][time][1][t] for time in times])\n",
    "    # Сама траектория зависимость от t берется разное начало запуска\n",
    "    plt.plot(result_x, result_y)\n",
    "    # Круг на котором лежат начала траекторий \n",
    "    #plt.plot(circle_x, circle_y)\n",
    "w = interactive(f,x=(0,len(result)-1,1),t=(0,2,1))\n",
    "display(w)\n",
    "print(len(result))\n",
    "plt.show()"
   ]
  },
  {
   "cell_type": "code",
   "execution_count": 8,
   "metadata": {},
   "outputs": [
    {
     "data": {
      "image/png": "[encoded data removed]",
      "text/plain": [
       "<Figure size 432x288 with 1 Axes>"
      ]
     },
     "metadata": {
      "needs_background": "light"
     },
     "output_type": "display_data"
    }
   ],
   "source": [
    "# отрисовывает результат\n",
    "%matplotlib inline\n",
    "\n",
    "#display(w)\n",
    "time = model.results_arrays['u']['timevalues']\n",
    "#print(time)\n",
    "\n",
    "times = model.results_arrays['u']['timevalues']\n",
    "#print(times)\n",
    "result = model.results_arrays['u']['resvalues']\n",
    "\n",
    "result_x = np.array([result[0][time][0][0] for time in times])\n",
    "result_y = np.array([result[0][time][1][0] for time in times])\n",
    "\n",
    "tt =np.linspace (0.0,10.0,1001)\n",
    "#circle_x=np.array([10*math.cos(2*3.1415926*t) for t in tt])\n",
    "#circle_y=np.array([10*math.sin(2*3.1415926*t) for t in tt])\n",
    "result_x_0 = np.array([result[0][time][0][0] for time in times])\n",
    "result_x_1 = np.array([result[1][time][0][0] for time in times])\n",
    "result_x_2 = np.array([result[2][time][0][0] for time in times])\n",
    "result_x_3 = np.array([result[3][time][0][0] for time in times])\n",
    "# Сама траектория зависимость от t берется разное начало запуска\n",
    "plt.plot(tt,result_x_0)\n",
    "plt.plot(tt,result_x_1)\n",
    "plt.plot(tt,result_x_2)\n",
    "plt.plot(tt,result_x_3)\n",
    "\n",
    "plt.show()"
   ]
  },
  {
   "cell_type": "code",
   "execution_count": 9,
   "metadata": {},
   "outputs": [
    {
     "data": {
      "image/png": "[encoded data removed]",
      "text/plain": [
       "<Figure size 432x288 with 1 Axes>"
      ]
     },
     "metadata": {
      "needs_background": "light"
     },
     "output_type": "display_data"
    }
   ],
   "source": [
    "# отрисовывает результат\n",
    "%matplotlib inline\n",
    "\n",
    "#display(w)\n",
    "time = model.results_arrays['u']['timevalues']\n",
    "#print(time)\n",
    "\n",
    "times = model.results_arrays['u']['timevalues']\n",
    "#print(times)\n",
    "result = model.results_arrays['u']['resvalues']\n",
    "\n",
    "result_x = np.array([result[0][time][0][0] for time in times])\n",
    "result_y = np.array([result[0][time][1][0] for time in times])\n",
    "\n",
    "tt =np.linspace (0.0,10.0,1001)\n",
    "#circle_x=np.array([10*math.cos(2*3.1415926*t) for t in tt])\n",
    "#circle_y=np.array([10*math.sin(2*3.1415926*t) for t in tt])\n",
    "result_y_0 = np.array([result[0][time][1][0] for time in times])\n",
    "result_y_1 = np.array([result[1][time][1][0] for time in times])\n",
    "result_y_2 = np.array([result[2][time][1][0] for time in times])\n",
    "result_y_3 = np.array([result[3][time][1][0] for time in times])\n",
    "# Сама траектория зависимость от t берется разное начало запуска\n",
    "plt.plot(tt,result_y_0)\n",
    "plt.plot(tt,result_y_1)\n",
    "plt.plot(tt,result_y_2)\n",
    "plt.plot(tt,result_y_3)\n",
    "\n",
    "plt.show()"
   ]
  },
  {
   "cell_type": "code",
   "execution_count": 10,
   "metadata": {},
   "outputs": [
    {
     "data": {
      "image/png": "[encoded data removed]",
      "text/plain": [
       "<Figure size 432x288 with 1 Axes>"
      ]
     },
     "metadata": {
      "needs_background": "light"
     },
     "output_type": "display_data"
    }
   ],
   "source": [
    "# отрисовывает результат\n",
    "%matplotlib inline\n",
    "\n",
    "#display(w)\n",
    "time = model.results_arrays['u']['timevalues']\n",
    "#print(time)\n",
    "\n",
    "times = model.results_arrays['u']['timevalues']\n",
    "#print(times)\n",
    "result = model.results_arrays['u']['resvalues']\n",
    "\n",
    "eps = 0.1\n",
    "result_asip_x = []\n",
    "for time in times:\n",
    "    result_asip_x.append(5+(-4/3)*3*math.cos(math.sqrt(3)/2*(time/eps))*math.e**(-time/eps/2)\n",
    "                             +(2*math.sqrt(3)/3)*3*math.sin(math.sqrt(3)/2*(time/eps))*math.e**(-time/eps/2) )\n",
    "\n",
    "\n",
    "plt.plot(tt,result_asip_x)    \n",
    "    \n",
    "\n",
    "result_x = np.array([result[0][time][0][0] for time in times])\n",
    "result_y = np.array([result[0][time][1][0] for time in times])\n",
    "\n",
    "tt =np.linspace (0.0,10.0,1001)\n",
    "\n",
    "result_abs = np.array([result[0][time][0][0] for time in times])\n",
    "result_x_0 = np.array([result[0][time][0][0] for time in times])\n",
    "result_x_1 = np.array([result[1][time][0][0] for time in times])\n",
    "result_x_2 = np.array([result[2][time][0][0] for time in times])\n",
    "result_x_3 = np.array([result[3][time][0][0] for time in times])\n",
    "result_abs = []\n",
    "\n",
    "for i in range(len(times)):\n",
    "    result_abs.append(abs(result_x_2[i]- result_asip_x[i]))\n",
    "#circle_x=np.array([10*math.cos(2*3.1415926*t) for t in tt])\n",
    "#circle_y=np.array([10*math.sin(2*3.1415926*t) for t in tt])\n",
    "# Сама траектория зависимость от t берется разное начало запуска\n",
    "#plt.plot(tt,result_x_0)\n",
    "#plt.plot(tt,result_x_1)\n",
    "plt.plot(tt,result_x_2)\n",
    "#plt.plot(tt,result_x_3)\n",
    "#plt.plot(tt,result_abs)\n",
    "\n",
    "plt.show()"
   ]
  },
  {
   "cell_type": "code",
   "execution_count": null,
   "metadata": {},
   "outputs": [],
   "source": []
  }
 ],
 "metadata": {
  "kernelspec": {
   "display_name": "Python 3",
   "language": "python",
   "name": "python3"
  },
  "language_info": {
   "codemirror_mode": {
    "name": "ipython",
    "version": 3
   },
   "file_extension": ".py",
   "mimetype": "text/x-python",
   "name": "python",
   "nbconvert_exporter": "python",
   "pygments_lexer": "ipython3",
   "version": "3.7.3"
  }
 },
 "nbformat": 4,
 "nbformat_minor": 2
}
