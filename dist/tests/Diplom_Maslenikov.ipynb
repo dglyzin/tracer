{
 "cells": [
  {
   "cell_type": "markdown",
   "metadata": {},
   "source": [
    "### Add model, connection and device to settings:"
   ]
  },
  {
   "cell_type": "code",
   "execution_count": 43,
   "metadata": {},
   "outputs": [
    {
     "name": "stderr",
     "output_type": "stream",
     "text": [
      "INFO:settings_main:device_conf_rpath\n",
      "INFO:settings_main:devices.json\n"
     ]
    },
    {
     "name": "stdout",
     "output_type": "stream",
     "text": [
      "Please enter password for user imaslenikov:\n"
     ]
    },
    {
     "name": "stdin",
     "output_type": "stream",
     "text": [
      " ·········\n"
     ]
    }
   ],
   "source": [
    "# библиотеки\n",
    "import os\n",
    "import sys\n",
    "import inspect\n",
    "import numpy as np\n",
    "import re\n",
    "import math\n",
    "import matplotlib.pyplot as plt\n",
    "from ipywidgets import interactive\n",
    "import ipywidgets as widgets\n",
    "from IPython.display import display, clear_output, HTML\n",
    "from hybriddomain.envs.hs.model.model_main import ModelNet as Model\n",
    "from hybriddomain.settings.settings_main import Settings\n",
    "from ddeint import ddeint\n",
    "\n",
    "# пути и названия файлов\n",
    "modelFileName = 'problems/Diplom_Maslenikov'\n",
    "conn_name = \"connection.json\"\n",
    "device_conf_name = \"devices.json\"\n",
    "\n",
    "#Ввод пароля для инициализации пользователя\n",
    "model = Model()\n",
    "model.io.loadFromFile(modelFileName)\n",
    "settings = Settings(model, conn_name, device_conf_name, conn_name)"
   ]
  },
  {
   "cell_type": "code",
   "execution_count": 44,
   "metadata": {},
   "outputs": [
    {
     "name": "stdout",
     "output_type": "stream",
     "text": [
      "equations:\n",
      "[[\"U'= V\", \"V'= (b*sin(V(t-1))-V-k*e*U)/e\"]]\n",
      "params:\n",
      "['e', 'k', 'b']\n",
      "paramValues:\n",
      "[{'e': 0.01, 'k': 2, 'b': 0.1}, {'e': 0.01, 'k': 2, 'b': 0.9}]\n"
     ]
    }
   ],
   "source": [
    "print(\"equations:\")\n",
    "print(model.equations)\n",
    "print(\"params:\")\n",
    "print(model.params)\n",
    "print(\"paramValues:\")\n",
    "print(model.paramValues)"
   ]
  },
  {
   "cell_type": "markdown",
   "metadata": {},
   "source": [
    "### Run solver:"
   ]
  },
  {
   "cell_type": "code",
   "execution_count": 45,
   "metadata": {},
   "outputs": [
    {
     "data": {
      "application/vnd.jupyter.widget-view+json": {
       "model_id": "4e76ed1237dc4eceba7ca01ab45e7cfb",
       "version_major": 2,
       "version_minor": 0
      },
      "text/plain": [
       "IntProgress(value=0, description='param: ', max=1)"
      ]
     },
     "metadata": {},
     "output_type": "display_data"
    },
    {
     "data": {
      "application/vnd.jupyter.widget-view+json": {
       "model_id": "82618d5599c144d48f647c74db79db58",
       "version_major": 2,
       "version_minor": 0
      },
      "text/plain": [
       "IntProgress(value=0, description='solving: ', max=99)"
      ]
     },
     "metadata": {},
     "output_type": "display_data"
    },
    {
     "data": {
      "application/vnd.jupyter.widget-view+json": {
       "model_id": "e01b991a031647c59737ffb7a5418b21",
       "version_major": 2,
       "version_minor": 0
      },
      "text/plain": [
       "Button(description='run Diplom_Maslenikov ', style=ButtonStyle())"
      ]
     },
     "metadata": {},
     "output_type": "display_data"
    }
   ],
   "source": [
    "# запуск процесса решения уравнения\n",
    "from hybriddomain.solvers.hs.remoterun.progresses.progress_notebook import ProgressNotebook\n",
    "from hybriddomain.solvers.hs.postproc.results.results_main import ResultPostprocNet as ResultPostproc\n",
    "progress = ProgressNotebook(100, prefix='solving')\n",
    "\n",
    "progress_params = ProgressNotebook(len(model.paramValues), prefix='param')\n",
    "# display(progress_params.progress)\n",
    "\n",
    "progress_solving = ProgressNotebook(100, prefix='solving')\n",
    "# display(progress_solving.progress)\n",
    "# progress_solving.succ(0)\n",
    "\n",
    "result_postproc = ResultPostproc(modelFileName)\n",
    "\n",
    "from hybriddomain.solvers.hs.remoterun.remoterun import remoteProjectRun\n",
    "\n",
    "clear_output()\n",
    "test_name = settings.paths['model']['name']\n",
    "bTest = widgets.Button(description=\"run %s \" % (test_name))\n",
    "\n",
    "# parametrisation:\n",
    "def run(event):\n",
    "    model = Model()\n",
    "    model.io.loadFromFile(modelFileName)\n",
    "    \n",
    "    for params_idx in range(len(model.paramValues)):\n",
    "        \n",
    "        progress_params.succ(params_idx)\n",
    "        progress_solving.set_prefix(\"solving\")\n",
    "        \n",
    "        # changing param:\n",
    "        model.defaultParamsIndex = params_idx\n",
    "        model.io.saveToFile(settings.paths[\"hd\"][\"json\"])\n",
    "        model = Model()\n",
    "        model.io.loadFromFile(modelFileName)\n",
    "        \n",
    "        remoteProjectRun(settings, 1, progress_solving,remove_old=False)\n",
    "        \n",
    "        # result_postproc.extract_out(params_idx, results_params)\n",
    "        result_postproc.rename_out(params_idx)\n",
    "    display(Javascript(\"alert('Done');\"))\n",
    "    \n",
    "bTest.on_click(run)\n",
    "\n",
    "display(progress_params.progress)\n",
    "display(progress_solving.progress)\n",
    " \n",
    "display(bTest)"
   ]
  },
  {
   "cell_type": "markdown",
   "metadata": {},
   "source": [
    "### Results:"
   ]
  },
  {
   "cell_type": "code",
   "execution_count": 46,
   "metadata": {},
   "outputs": [
    {
     "name": "stdout",
     "output_type": "stream",
     "text": [
      "result files:  {'u': ['problems/Diplom_Maslenikov/out/u_seq0.out', 'problems/Diplom_Maslenikov/out/u_seq1.out']}\n",
      "plot files:  {}\n"
     ]
    }
   ],
   "source": [
    "model.readResults(result_format=1)\n",
    "# available result files:\n",
    "print(\"result files: \", model.results_paths)\n",
    "# available plot files:\n",
    "print(\"plot files: \", model.plots_paths)"
   ]
  },
  {
   "cell_type": "code",
   "execution_count": 47,
   "metadata": {},
   "outputs": [
    {
     "name": "stdout",
     "output_type": "stream",
     "text": [
      "dict_keys(['u'])\n"
     ]
    }
   ],
   "source": [
    "# объекте model хранится вся информация по решению задачи\n",
    "# get results (for TRAC-11 result_format=1):\n",
    "model.readResults(result_format=1)\n",
    "model.results_paths\n",
    "# available results:\n",
    "print(model.results_arrays.keys())"
   ]
  },
  {
   "cell_type": "markdown",
   "metadata": {},
   "source": [
    "### Video:"
   ]
  },
  {
   "cell_type": "code",
   "execution_count": 48,
   "metadata": {},
   "outputs": [
    {
     "data": {
      "text/plain": [
       "{}"
      ]
     },
     "execution_count": 48,
     "metadata": {},
     "output_type": "execute_result"
    }
   ],
   "source": [
    "# available plots:\n",
    "model.plots_paths"
   ]
  },
  {
   "cell_type": "code",
   "execution_count": 49,
   "metadata": {},
   "outputs": [
    {
     "ename": "KeyError",
     "evalue": "'System'",
     "output_type": "error",
     "traceback": [
      "\u001b[0;31m---------------------------------------------------------------------------\u001b[0m",
      "\u001b[0;31mKeyError\u001b[0m                                  Traceback (most recent call last)",
      "\u001b[0;32m<ipython-input-49-3931bcb90b94>\u001b[0m in \u001b[0;36m<module>\u001b[0;34m\u001b[0m\n\u001b[0;32m----> 1\u001b[0;31m \u001b[0mdisplay\u001b[0m\u001b[0;34m(\u001b[0m\u001b[0mHTML\u001b[0m\u001b[0;34m(\u001b[0m\u001b[0mmodel\u001b[0m\u001b[0;34m.\u001b[0m\u001b[0mget_video\u001b[0m\u001b[0;34m(\u001b[0m\u001b[0;34m'System'\u001b[0m\u001b[0;34m,\u001b[0m\u001b[0;36m0\u001b[0m\u001b[0;34m)\u001b[0m\u001b[0;34m)\u001b[0m\u001b[0;34m)\u001b[0m\u001b[0;34m\u001b[0m\u001b[0;34m\u001b[0m\u001b[0m\n\u001b[0m\u001b[1;32m      2\u001b[0m \u001b[0mdisplay\u001b[0m\u001b[0;34m(\u001b[0m\u001b[0mHTML\u001b[0m\u001b[0;34m(\u001b[0m\u001b[0mmodel\u001b[0m\u001b[0;34m.\u001b[0m\u001b[0mget_video\u001b[0m\u001b[0;34m(\u001b[0m\u001b[0;34m'System'\u001b[0m\u001b[0;34m,\u001b[0m\u001b[0;36m1\u001b[0m\u001b[0;34m)\u001b[0m\u001b[0;34m)\u001b[0m\u001b[0;34m)\u001b[0m\u001b[0;34m\u001b[0m\u001b[0;34m\u001b[0m\u001b[0m\n\u001b[1;32m      3\u001b[0m \u001b[0mdisplay\u001b[0m\u001b[0;34m(\u001b[0m\u001b[0mHTML\u001b[0m\u001b[0;34m(\u001b[0m\u001b[0mmodel\u001b[0m\u001b[0;34m.\u001b[0m\u001b[0mget_video\u001b[0m\u001b[0;34m(\u001b[0m\u001b[0;34m'System'\u001b[0m\u001b[0;34m,\u001b[0m\u001b[0;36m2\u001b[0m\u001b[0;34m)\u001b[0m\u001b[0;34m)\u001b[0m\u001b[0;34m)\u001b[0m\u001b[0;34m\u001b[0m\u001b[0;34m\u001b[0m\u001b[0m\n\u001b[1;32m      4\u001b[0m \u001b[0mdisplay\u001b[0m\u001b[0;34m(\u001b[0m\u001b[0mHTML\u001b[0m\u001b[0;34m(\u001b[0m\u001b[0mmodel\u001b[0m\u001b[0;34m.\u001b[0m\u001b[0mget_video\u001b[0m\u001b[0;34m(\u001b[0m\u001b[0;34m'System'\u001b[0m\u001b[0;34m,\u001b[0m\u001b[0;36m3\u001b[0m\u001b[0;34m)\u001b[0m\u001b[0;34m)\u001b[0m\u001b[0;34m)\u001b[0m\u001b[0;34m\u001b[0m\u001b[0;34m\u001b[0m\u001b[0m\n\u001b[1;32m      5\u001b[0m \u001b[0mdisplay\u001b[0m\u001b[0;34m(\u001b[0m\u001b[0mHTML\u001b[0m\u001b[0;34m(\u001b[0m\u001b[0mmodel\u001b[0m\u001b[0;34m.\u001b[0m\u001b[0mget_video\u001b[0m\u001b[0;34m(\u001b[0m\u001b[0;34m'System'\u001b[0m\u001b[0;34m,\u001b[0m\u001b[0;36m4\u001b[0m\u001b[0;34m)\u001b[0m\u001b[0;34m)\u001b[0m\u001b[0;34m)\u001b[0m\u001b[0;34m\u001b[0m\u001b[0;34m\u001b[0m\u001b[0m\n",
      "\u001b[0;32m~/tracer/hybriddomain/hybriddomain/envs/hs/model/model_main.py\u001b[0m in \u001b[0;36mget_video\u001b[0;34m(self, name, idx)\u001b[0m\n\u001b[1;32m     70\u001b[0m         \u001b[0;32mexcept\u001b[0m \u001b[0mAttributeError\u001b[0m\u001b[0;34m:\u001b[0m\u001b[0;34m\u001b[0m\u001b[0;34m\u001b[0m\u001b[0m\n\u001b[1;32m     71\u001b[0m             \u001b[0;32mraise\u001b[0m\u001b[0;34m(\u001b[0m\u001b[0mBaseException\u001b[0m\u001b[0;34m(\u001b[0m\u001b[0;34m\"Use model.readResults first\"\u001b[0m\u001b[0;34m)\u001b[0m\u001b[0;34m)\u001b[0m\u001b[0;34m\u001b[0m\u001b[0;34m\u001b[0m\u001b[0m\n\u001b[0;32m---> 72\u001b[0;31m         \u001b[0;32mreturn\u001b[0m\u001b[0;34m(\u001b[0m\u001b[0mresult_postproc\u001b[0m\u001b[0;34m.\u001b[0m\u001b[0mget_video\u001b[0m\u001b[0;34m(\u001b[0m\u001b[0mself\u001b[0m\u001b[0;34m,\u001b[0m \u001b[0mname\u001b[0m\u001b[0;34m,\u001b[0m \u001b[0midx\u001b[0m\u001b[0;34m)\u001b[0m\u001b[0;34m)\u001b[0m\u001b[0;34m\u001b[0m\u001b[0;34m\u001b[0m\u001b[0m\n\u001b[0m\u001b[1;32m     73\u001b[0m \u001b[0;34m\u001b[0m\u001b[0m\n\u001b[1;32m     74\u001b[0m     def readResults(self, names=[],\n",
      "\u001b[0;32m~/tracer/hybriddomain/hybriddomain/solvers/hs/postproc/results/results_main.py\u001b[0m in \u001b[0;36mget_video\u001b[0;34m(self, model, plot_name, plot_idx)\u001b[0m\n\u001b[1;32m     66\u001b[0m         display(HTML(str_video))'''\n\u001b[1;32m     67\u001b[0m \u001b[0;34m\u001b[0m\u001b[0m\n\u001b[0;32m---> 68\u001b[0;31m         \u001b[0mplot_file_name\u001b[0m \u001b[0;34m=\u001b[0m \u001b[0mmodel\u001b[0m\u001b[0;34m.\u001b[0m\u001b[0mplots_paths\u001b[0m\u001b[0;34m[\u001b[0m\u001b[0mplot_name\u001b[0m\u001b[0;34m]\u001b[0m\u001b[0;34m[\u001b[0m\u001b[0mplot_idx\u001b[0m\u001b[0;34m]\u001b[0m\u001b[0;34m\u001b[0m\u001b[0;34m\u001b[0m\u001b[0m\n\u001b[0m\u001b[1;32m     69\u001b[0m         str_video = '''\n\u001b[1;32m     70\u001b[0m         \u001b[0;34m<\u001b[0m\u001b[0mscript\u001b[0m\u001b[0;34m>\u001b[0m\u001b[0;34m\u001b[0m\u001b[0;34m\u001b[0m\u001b[0m\n",
      "\u001b[0;31mKeyError\u001b[0m: 'System'"
     ]
    }
   ],
   "source": [
    "display(HTML(model.get_video('System',0)))\n",
    "display(HTML(model.get_video('System',1)))\n",
    "display(HTML(model.get_video('System',2)))\n",
    "display(HTML(model.get_video('System',3)))\n",
    "display(HTML(model.get_video('System',4)))"
   ]
  },
  {
   "cell_type": "markdown",
   "metadata": {},
   "source": [
    "### U(x, t-fixed),V(x, t-fixed):"
   ]
  },
  {
   "cell_type": "code",
   "execution_count": null,
   "metadata": {},
   "outputs": [
    {
     "name": "stdout",
     "output_type": "stream",
     "text": [
      "[0.0, 0.0101, 0.0201, 0.0301, 0.0401, 0.0501, 0.0601, 0.0701, 0.0801, 0.0901, 0.1001, 0.1101, 0.1201, 0.1301, 0.1401, 0.1501, 0.1601, 0.1701, 0.1801, 0.1901, 0.2001, 0.2101, 0.2201, 0.2301, 0.2401, 0.2501, 0.2601, 0.2701, 0.2801, 0.2901, 0.3001, 0.3101, 0.3201, 0.3301, 0.3401, 0.3501, 0.3601, 0.3701, 0.3801, 0.3901, 0.4001, 0.4101, 0.4201, 0.4301, 0.4401, 0.4501, 0.4601, 0.4701, 0.4801, 0.4901, 0.5001, 0.5101, 0.5201, 0.5301, 0.5401, 0.5501, 0.5601, 0.5701, 0.5801, 0.5901, 0.6001, 0.6101, 0.6201, 0.6301, 0.6401, 0.6501, 0.6601, 0.6701, 0.6801, 0.6901, 0.7001, 0.7101, 0.7201, 0.7301, 0.7401, 0.7501, 0.7601, 0.7701, 0.7801, 0.7901, 0.8001, 0.8101, 0.8201, 0.8301, 0.8401, 0.8501, 0.8601, 0.8701, 0.8801, 0.8901, 0.9001, 0.9101, 0.9201, 0.9301, 0.9401, 0.9501, 0.9601, 0.9701, 0.9801, 0.9901, 1.0001, 1.0101, 1.0201, 1.0301, 1.0401, 1.0501, 1.0601, 1.0701, 1.0801, 1.0901, 1.1001, 1.1101, 1.1201, 1.1301, 1.1401, 1.1501, 1.1601, 1.1701, 1.1801, 1.1901, 1.2001, 1.2101, 1.2201, 1.2301, 1.2401, 1.2501, 1.2601, 1.2701, 1.2801, 1.2901, 1.3001, 1.3101, 1.3201, 1.3301, 1.3401, 1.3501, 1.3601, 1.3701, 1.3801, 1.3901, 1.4001, 1.4101, 1.4201, 1.4301, 1.4401, 1.4501, 1.4601, 1.4701, 1.4801, 1.4901, 1.5001, 1.5101, 1.5201, 1.5301, 1.5401, 1.5501, 1.5601, 1.5701, 1.5801, 1.5901, 1.6001, 1.6101, 1.6201, 1.6301, 1.6401, 1.6501, 1.6601, 1.6701, 1.6801, 1.6901, 1.7001, 1.7101, 1.7201, 1.7301, 1.7401, 1.7501, 1.7601, 1.7701, 1.7801, 1.7901, 1.8001, 1.8101, 1.8201, 1.8301, 1.8401, 1.8501, 1.8601, 1.8701, 1.8801, 1.8901, 1.9001, 1.9101, 1.9201, 1.9301, 1.9401, 1.9501, 1.9601, 1.9701, 1.9801, 1.9901, 2.0001, 2.0101, 2.0201, 2.0301, 2.0401, 2.0501, 2.0601, 2.0701, 2.0801, 2.0901, 2.1001, 2.1101, 2.1201, 2.1301, 2.1401, 2.1501, 2.1601, 2.1701, 2.1801, 2.1901, 2.2001, 2.2101, 2.2201, 2.2301, 2.2401, 2.2501, 2.2601, 2.2701, 2.2801, 2.2901, 2.3001, 2.3101, 2.3201, 2.3301, 2.3401, 2.3501, 2.3601, 2.3701, 2.3801, 2.3901, 2.4001, 2.4101, 2.4201, 2.4301, 2.4401, 2.4501, 2.4601, 2.4701, 2.4801, 2.4901, 2.5001, 2.5101, 2.5201, 2.5301, 2.5401, 2.5501, 2.5601, 2.5701, 2.5801, 2.5901, 2.6001, 2.6101, 2.6201, 2.6301, 2.6401, 2.6501, 2.6601, 2.6701, 2.6801, 2.6901, 2.7001, 2.7101, 2.7201, 2.7301, 2.7401, 2.7501, 2.7601, 2.7701, 2.7801, 2.7901, 2.8001, 2.8101, 2.8201, 2.8301, 2.8401, 2.8501, 2.8601, 2.8701, 2.8801, 2.8901, 2.9001, 2.9101, 2.9201, 2.9301, 2.9401, 2.9501, 2.9601, 2.9701, 2.9801, 2.9901, 3.0001, 3.0101, 3.0201, 3.0301, 3.0401, 3.0501, 3.0601, 3.0701, 3.0801, 3.0901, 3.1001, 3.1101, 3.1201, 3.1301, 3.1401, 3.1501, 3.1601, 3.1701, 3.1801, 3.1901, 3.2001, 3.2101, 3.2201, 3.2301, 3.2401, 3.2501, 3.2601, 3.2701, 3.2801, 3.2901, 3.3001, 3.3101, 3.3201, 3.3301, 3.3401, 3.3501, 3.3601, 3.3701, 3.3801, 3.3901, 3.4001, 3.4101, 3.4201, 3.4301, 3.4401, 3.4501, 3.4601, 3.4701, 3.4801, 3.4901, 3.5001, 3.5101, 3.5201, 3.5301, 3.5401, 3.5501, 3.5601, 3.5701, 3.5801, 3.5901, 3.6001, 3.6101, 3.6201, 3.6301, 3.6401, 3.6501, 3.6601, 3.6701, 3.6801, 3.6901, 3.7001, 3.7101, 3.7201, 3.7301, 3.7401, 3.7501, 3.7601, 3.7701, 3.7801, 3.7901, 3.8001, 3.8101, 3.8201, 3.8301, 3.8401, 3.8501, 3.8601, 3.8701, 3.8801, 3.8901, 3.9001, 3.9101, 3.9201, 3.9301, 3.9401, 3.9501, 3.9601, 3.9701, 3.9801, 3.9901, 4.0001, 4.0101, 4.0201, 4.0301, 4.0401, 4.0501, 4.0601, 4.0701, 4.0801, 4.0901, 4.1001, 4.1101, 4.1201, 4.1301, 4.1401, 4.1501, 4.1601, 4.1701, 4.1801, 4.1901, 4.2001, 4.2101, 4.2201, 4.2301, 4.2401, 4.2501, 4.2601, 4.2701, 4.2801, 4.2901, 4.3001, 4.3101, 4.3201, 4.3301, 4.3401, 4.3501, 4.3601, 4.3701, 4.3801, 4.3901, 4.4001, 4.4101, 4.4201, 4.4301, 4.4401, 4.4501, 4.4601, 4.4701, 4.4801, 4.4901, 4.5001, 4.5101, 4.5201, 4.5301, 4.5401, 4.5501, 4.5601, 4.5701, 4.5801, 4.5901, 4.6001, 4.6101, 4.6201, 4.6301, 4.6401, 4.6501, 4.6601, 4.6701, 4.6801, 4.6901, 4.7001, 4.7101, 4.7201, 4.7301, 4.7401, 4.7501, 4.7601, 4.7701, 4.7801, 4.7901, 4.8001, 4.8101, 4.8201, 4.8301, 4.8401, 4.8501, 4.8601, 4.8701, 4.8801, 4.8901, 4.9001, 4.9101, 4.9201, 4.9301, 4.9401, 4.9501, 4.9601, 4.9701, 4.9801, 4.9901, 5.0001, 5.0101, 5.0201, 5.0301, 5.0401, 5.0501, 5.0601, 5.0701, 5.0801, 5.0901, 5.1001, 5.1101, 5.1201, 5.1301, 5.1401, 5.1501, 5.1601, 5.1701, 5.1801, 5.1901, 5.2001, 5.2101, 5.2201, 5.2301, 5.2401, 5.2501, 5.2601, 5.2701, 5.2801, 5.2901, 5.3001, 5.3101, 5.3201, 5.3301, 5.3401, 5.3501, 5.3601, 5.3701, 5.3801, 5.3901, 5.4001, 5.4101, 5.4201, 5.4301, 5.4401, 5.4501, 5.4601, 5.4701, 5.4801, 5.4901, 5.5001, 5.5101, 5.5201, 5.5301, 5.5401, 5.5501, 5.5601, 5.5701, 5.5801, 5.5901, 5.6001, 5.6101, 5.6201, 5.6301, 5.6401, 5.6501, 5.6601, 5.6701, 5.6801, 5.6901, 5.7001, 5.7101, 5.7201, 5.7301, 5.7401, 5.7501, 5.7601, 5.7701, 5.7801, 5.7901, 5.8001, 5.8101, 5.8201, 5.8301, 5.8401, 5.8501, 5.8601, 5.8701, 5.8801, 5.8901, 5.9001, 5.9101, 5.9201, 5.9301, 5.9401, 5.9501, 5.9601, 5.9701, 5.9801, 5.9901, 6.0001, 6.0101, 6.0201, 6.0301, 6.0401, 6.0501, 6.0601, 6.0701, 6.0801, 6.0901, 6.1001, 6.1101, 6.1201, 6.1301, 6.1401, 6.1501, 6.1601, 6.1701, 6.1801, 6.1901, 6.2001, 6.2101, 6.2201, 6.2301, 6.2401, 6.2501, 6.2601, 6.2701, 6.2801, 6.2901, 6.3001, 6.3101, 6.3201, 6.3301, 6.3401, 6.3501, 6.3601, 6.3701, 6.3801, 6.3901, 6.4001, 6.4101, 6.4201, 6.4301, 6.4401, 6.4501, 6.4601, 6.4701, 6.4801, 6.4901, 6.5001, 6.5101, 6.5201, 6.5301, 6.5401, 6.5501, 6.5601, 6.5701, 6.5801, 6.5901, 6.6001, 6.6101, 6.6201, 6.6301, 6.6401, 6.6501, 6.6601, 6.6701, 6.6801, 6.6901, 6.7001, 6.7101, 6.7201, 6.7301, 6.7401, 6.7501, 6.7601, 6.7701, 6.7801, 6.7901, 6.8001, 6.8101, 6.8201, 6.8301, 6.8401, 6.8501, 6.8601, 6.8701, 6.8801, 6.8901, 6.9001, 6.9101, 6.9201, 6.9301, 6.9401, 6.9501, 6.9601, 6.9701, 6.9801, 6.9901, 7.0001, 7.0101, 7.0201, 7.0301, 7.0401, 7.0501, 7.0601, 7.0701, 7.0801, 7.0901, 7.1001, 7.1101, 7.1201, 7.1301, 7.1401, 7.1501, 7.1601, 7.1701, 7.1801, 7.1901, 7.2001, 7.2101, 7.2201, 7.2301, 7.2401, 7.2501, 7.2601, 7.2701, 7.2801, 7.2901, 7.3001, 7.3101, 7.3201, 7.3301, 7.3401, 7.3501, 7.3601, 7.3701, 7.3801, 7.3901, 7.4001, 7.4101, 7.4201, 7.4301, 7.4401, 7.4501, 7.4601, 7.4701, 7.4801, 7.4901, 7.5001, 7.5101, 7.5201, 7.5301, 7.5401, 7.5501, 7.5601, 7.5701, 7.5801, 7.5901, 7.6001, 7.6101, 7.6201, 7.6301, 7.6401, 7.6501, 7.6601, 7.6701, 7.6801, 7.6901, 7.7001, 7.7101, 7.7201, 7.7301, 7.7401, 7.7501, 7.7601, 7.7701, 7.7801, 7.7901, 7.8001, 7.8101, 7.8201, 7.8301, 7.8401, 7.8501, 7.8601, 7.8701, 7.8801, 7.8901, 7.9001, 7.9101, 7.9201, 7.9301, 7.9401, 7.9501, 7.9601, 7.9701, 7.9801, 7.9901, 8.0001, 8.0101, 8.0201, 8.0301, 8.0401, 8.0501, 8.0601, 8.0701, 8.0801, 8.0901, 8.1001, 8.1101, 8.1201, 8.1301, 8.1401, 8.1501, 8.1601, 8.1701, 8.1801, 8.1901, 8.2001, 8.2101, 8.2201, 8.2301, 8.2401, 8.2501, 8.2601, 8.2701, 8.2801, 8.2901, 8.3001, 8.3101, 8.3201, 8.3301, 8.3401, 8.3501, 8.3601, 8.3701, 8.3801, 8.3901, 8.4001, 8.4101, 8.4201, 8.4301, 8.4401, 8.4501, 8.4601, 8.4701, 8.4801, 8.4901, 8.5001, 8.5101, 8.5201, 8.5301, 8.5401, 8.5501, 8.5601, 8.5701, 8.5801, 8.5901, 8.6001, 8.6101, 8.6201, 8.6301, 8.6401, 8.6501, 8.6601, 8.6701, 8.6801, 8.6901, 8.7001, 8.7101, 8.7201, 8.7301, 8.7401, 8.7501, 8.7601, 8.7701, 8.7801, 8.7901, 8.8001, 8.8101, 8.8201, 8.8301, 8.8401, 8.8501, 8.8601, 8.8701, 8.8801, 8.8901, 8.9001, 8.9101, 8.9201, 8.9301, 8.9401, 8.9501, 8.9601, 8.9701, 8.9801, 8.9901, 9.0001, 9.0101, 9.0201, 9.0301, 9.0401, 9.0501, 9.0601, 9.0701, 9.0801, 9.0901, 9.1001, 9.1101, 9.1201, 9.1301, 9.1401, 9.1501, 9.1601, 9.1701, 9.1801, 9.1901, 9.2001, 9.2101, 9.2201, 9.2301, 9.2401, 9.2501, 9.2601, 9.2701, 9.2801, 9.2901, 9.3001, 9.3101, 9.3201, 9.3301, 9.3401, 9.3501, 9.3601, 9.3701, 9.3801, 9.3901, 9.4001, 9.4101, 9.4201, 9.4301, 9.4401, 9.4501, 9.4601, 9.4701, 9.4801, 9.4901, 9.5001, 9.5101, 9.5201, 9.5301, 9.5401, 9.5501, 9.5601, 9.5701, 9.5801, 9.5901, 9.6001, 9.6101, 9.6201, 9.6301, 9.6401, 9.6501, 9.6601, 9.6701, 9.6801, 9.6901, 9.7001, 9.7101, 9.7201, 9.7301, 9.7401, 9.7501, 9.7601, 9.7701, 9.7801, 9.7901, 9.8001, 9.8101, 9.8201, 9.8301, 9.8401, 9.8501, 9.8601, 9.8701, 9.8801, 9.8901, 9.9001, 9.9101, 9.9201, 9.9301, 9.9401, 9.9501, 9.9601, 9.9701, 9.9801, 9.9901, 10.0]\n"
     ]
    }
   ],
   "source": [
    "# отрисовывает результат\n",
    "%matplotlib inline\n",
    "\n",
    "#display(w)\n",
    "time = model.results_arrays['u']['timevalues']\n",
    "print(time)\n",
    "\n",
    "times = model.results_arrays['u']['timevalues']\n",
    "#print(times)\n",
    "result = model.results_arrays['u']['resvalues']\n",
    "print(result)\n",
    "#print(len(times))\n",
    "result_x = np.array([result[0][time][0][0] for time in times])\n",
    "#result_y = np.array([result[0][time][1][0] for time in times])\n",
    "#plt.plot(time, result_x)\n",
    "\n",
    "#tt =np.linspace (0.0,1.0,101)\n",
    "#circle_x=np.array([10*math.cos(2*3.1415926*t) for t in tt])\n",
    "#circle_y=np.array([10*math.sin(2*3.1415926*t) for t in tt])\n",
    "\n",
    "\n",
    "def f(x,t):\n",
    "    result_x = np.array([result[x][time][0][t] for time in times])\n",
    "    result_y = np.array([result[x][time][1][t] for time in times])\n",
    "#    # Сама траектория зависимость от t берется разное начало запуска\n",
    "    plt.plot(time, result_x)\n",
    "#    # Круг на котором лежат начала траекторий \n",
    "#    plt.plot(circle_x, circle_y)\n",
    "w = interactive(f,x=(0,len(result)-1,1),t=(0,3,1))\n",
    "display(w)\n",
    "#print(len(result))\n",
    "plt.show()"
   ]
  },
  {
   "cell_type": "code",
   "execution_count": null,
   "metadata": {},
   "outputs": [],
   "source": []
  }
 ],
 "metadata": {
  "kernelspec": {
   "display_name": "Python 3",
   "language": "python",
   "name": "python3"
  },
  "language_info": {
   "codemirror_mode": {
    "name": "ipython",
    "version": 3
   },
   "file_extension": ".py",
   "mimetype": "text/x-python",
   "name": "python",
   "nbconvert_exporter": "python",
   "pygments_lexer": "ipython3",
   "version": "3.7.3"
  }
 },
 "nbformat": 4,
 "nbformat_minor": 2
}
