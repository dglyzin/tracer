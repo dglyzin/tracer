{
 "cells": [
  {
   "cell_type": "markdown",
   "metadata": {},
   "source": [
    "### Add model, connection and device to settings:"
   ]
  },
  {
   "cell_type": "code",
   "execution_count": 3,
   "metadata": {},
   "outputs": [
    {
     "name": "stderr",
     "output_type": "stream",
     "text": [
      "INFO:block_main.block_io:DefaultBound not set\n",
      "INFO:settings_main:device_conf_rpath\n",
      "INFO:settings_main:devices.json\n"
     ]
    },
    {
     "name": "stdout",
     "output_type": "stream",
     "text": [
      "Please enter password for user imaslenikov:\n"
     ]
    },
    {
     "name": "stdin",
     "output_type": "stream",
     "text": [
      " ·········\n"
     ]
    }
   ],
   "source": [
    "# библиотеки\n",
    "import os\n",
    "import sys\n",
    "import inspect\n",
    "import numpy as np\n",
    "import re\n",
    "import math\n",
    "import matplotlib.pyplot as plt\n",
    "from ipywidgets import interactive\n",
    "import ipywidgets as widgets\n",
    "from IPython.display import display, clear_output, HTML\n",
    "from hybriddomain.envs.hs.model.model_main import ModelNet as Model\n",
    "from hybriddomain.settings.settings_main import Settings\n",
    "from ddeint import ddeint\n",
    "\n",
    "# пути и названия файлов\n",
    "modelFileName = 'problems/error_x'\n",
    "conn_name = \"connection.json\"\n",
    "device_conf_name = \"devices.json\"\n",
    "\n",
    "#Ввод пароля для инициализации пользователя\n",
    "model = Model()\n",
    "model.io.loadFromFile(modelFileName)\n",
    "settings = Settings(model, conn_name, device_conf_name, conn_name)"
   ]
  },
  {
   "cell_type": "markdown",
   "metadata": {},
   "source": [
    "### Run solver:"
   ]
  },
  {
   "cell_type": "code",
   "execution_count": 4,
   "metadata": {},
   "outputs": [
    {
     "data": {
      "application/vnd.jupyter.widget-view+json": {
       "model_id": "4a862a33d8734b2db378c19d38d839c9",
       "version_major": 2,
       "version_minor": 0
      },
      "text/plain": [
       "IntProgress(value=0, description='solving: ', max=99)"
      ]
     },
     "metadata": {},
     "output_type": "display_data"
    },
    {
     "name": "stderr",
     "output_type": "stream",
     "text": [
      "INFO:remoterun:\n",
      "connect ...\n",
      "INFO:remoterun:\n",
      "connection established\n",
      "INFO:remoterun:\n",
      "files/folders routine\n",
      "INFO:remoterun:\n",
      "files/folders routine completed\n",
      "INFO:remoterun:\n",
      "Running preprocessor:\n",
      "INFO:remoterun:command:\n",
      "INFO:remoterun:~/anaconda3/bin/python3 -c \"import hybriddomain.gens.hs.tests.tests_gen_1d as ts; ts.run()\" -t /acchome/imaslenikov/tracer/workspace/problems/error_x -d /acchome/imaslenikov/tracer/workspace/settings/device_conf/devices.json -p /acchome/imaslenikov/tracer/workspace/settings/paths/connection.json -w /acchome/imaslenikov/tracer/workspace -u imaslenikov 2>&1\n",
      "ERROR:remoterun:preprocessor errors:\n",
      "ERROR:remoterun:INFO:model_main.model_io:full path is given\n",
      "INFO:model_main.model_io:/acchome/imaslenikov/tracer/workspace/problems/error_x\n",
      "INFO:block_main.block_io:DefaultBound not set\n",
      "INFO:settings_main:device_conf_rpath\n",
      "INFO:settings_main:/acchome/imaslenikov/tracer/workspace/settings/device_conf/devices.json\n",
      "DEBUG:postproc.py:FROM postproc\n",
      "DEBUG:postproc.py:res\n",
      "DEBUG:postproc.py:{}\n",
      "DEBUG:postproc.py:map_td\n",
      "DEBUG:postproc.py:{}\n",
      "INFO:gen_dim:delays:\n",
      "INFO:gen_dim:{}\n",
      "DEBUG:gen_dim:funcNamesStack after cent:\n",
      "DEBUG:gen_dim:['Block0CentralFunction_Eqn0']\n",
      "DEBUG:gen_dim:funcNamesStack after ics:\n",
      "DEBUG:gen_dim:['Block0CentralFunction_Eqn0']\n",
      "DEBUG:gen_dim:funcNamesStack after bounds:\n",
      "DEBUG:gen_dim:['Block0CentralFunction_Eqn0', 'Block0Neumann__side0_bound0__Eqn0', 'Block0Neumann__side1_bound0__Eqn0']\n",
      "DEBUG:gen_dim:funcNamesStack after set:\n",
      "DEBUG:gen_dim:['Block0CentralFunction_Eqn0', 'Block0Neumann__side0_bound0__Eqn0', 'Block0Neumann__side1_bound0__Eqn0']\n",
      "DEBUG:gen_dim:namesAndNumbers after array:\n",
      "DEBUG:gen_dim:{0: ['Block0CentralFunction_Eqn0', 'Block0Neumann__side0_bound0__Eqn0', 'Block0Neumann__side1_bound0__Eqn0']}\n",
      "INFO:filler_main:filling arrays...\n",
      "INFO:blocks_filler_main:Welcome to Blocks Data filler\n",
      "DEBUG:blocks_filler_main:following is the function mapping\n",
      "DEBUG:blocks_filler_main:{0: {'center': [], 'center_default': 0, 'side0': 1, 'side1': 2}}\n",
      "DEBUG:blocks_filler_main:Saving block\n",
      "DEBUG:blocks_filler_main:0\n",
      "INFO:blocks_filler_main:1. Fill block params\n",
      "DEBUG:blocks_filler_main:blockPropArr\n",
      "DEBUG:blocks_filler_main:[ 0  0  0  0 11]\n",
      "INFO:blocks_filler_main:2. Fill block functions\n",
      "INFO:filler_main.blocks_filler_1d:Filling 1d initial function array.\n",
      "INFO:filler_main.blocks_filler_1d:1 fill default conditions\n",
      "INFO:filler_main.blocks_filler_1d:2 fill user-defined conditions:\n",
      "INFO:filler_main.blocks_filler_1d:3 overwrite with values that come from Dirichlet bounds\n",
      "INFO:filler_main.blocks_filler_1d:3.1 collect dirichlet bound numbersthat are used in this block\n",
      "INFO:filler_main.blocks_filler_1d:3.2 fill them\n",
      "DEBUG:blocks_filler_main:Initial function indices:\n",
      "DEBUG:blocks_filler_main:[0 0 0 0 0 0 0 0 0 0 0]\n",
      "INFO:filler_main.blocks_filler_1d:Filling 1d main function array.\n",
      "DEBUG:filler_main.blocks_filler_1d:Function mapping for this block:\n",
      "DEBUG:filler_main.blocks_filler_1d:{'center': [], 'center_default': 0, 'side0': 1, 'side1': 2}\n",
      "DEBUG:filler_main.blocks_filler_1d:size:\n",
      "DEBUG:filler_main.blocks_filler_1d:11\n",
      "INFO:filler_main.blocks_filler_1d:1 fill center funcs\n",
      "INFO:filler_main.blocks_filler_1d:2 fill edges\n",
      "DEBUG:blocks_filler_main:Computation function indices:\n",
      "DEBUG:blocks_filler_main:[1 0 0 0 0 0 0 0 0 0 2]\n",
      "INFO:tests.tester.ics_filler_main:saving 0 ics\n",
      "INFO:tests.tester.ics_filler_main:self.icCount:\n",
      "INFO:tests.tester.ics_filler_main:0\n",
      "DEBUG:filler_main:array to save blockInitFuncArrList0\n",
      "DEBUG:filler_main:shape: [11, 1, 1]\n",
      "DEBUG:filler_main:[0 0 0 0 0 0 0 0 0 0 0]\n",
      "DEBUG:filler_main:array to save blockCompFuncArrList0\n",
      "DEBUG:filler_main:shape: [11, 1, 1]\n",
      "DEBUG:filler_main:[1 0 0 0 0 0 0 0 0 0 2]\n",
      "INFO:filler_main:saving domain...\n",
      "INFO:tests.tester.gen_sh:generating launcher script...\n",
      "model:\n",
      "Heat_test\n",
      "pathToTemplates:\n",
      "hybriddomain/gens/hs/gen_env/cpp/templates\n",
      "/clusterhome/imaslenikov\n",
      "/clusterhome/imaslenikov/tracer/hybriddomain/hybriddomain/gens/hs/gen_env/cpp/env/base\n",
      "hybriddomain/gens/hs/gen_env/cpp/env/base\n",
      "/clusterhome/imaslenikov/tracer/hybriddomain/\n",
      "/clusterhome/imaslenikov/tracer/hybriddomain/hybriddomain/gens/hs/gen_env/cpp/templates\n",
      "pathToTemplates:\n",
      "hybriddomain/gens/hs/gen_env/cpp/templates\n",
      "/clusterhome/imaslenikov\n",
      "/clusterhome/imaslenikov/tracer/hybriddomain/hybriddomain/gens/hs/gen_env/cpp/env/base\n",
      "hybriddomain/gens/hs/gen_env/cpp/env/base\n",
      "/clusterhome/imaslenikov/tracer/hybriddomain/\n",
      "/clusterhome/imaslenikov/tracer/hybriddomain/hybriddomain/gens/hs/gen_env/cpp/templates\n",
      "pathToTemplates:\n",
      "hybriddomain/gens/hs/gen_env/cpp/templates\n",
      "/clusterhome/imaslenikov\n",
      "/clusterhome/imaslenikov/tracer/hybriddomain/hybriddomain/gens/hs/gen_env/cpp/env/base\n",
      "hybriddomain/gens/hs/gen_env/cpp/env/base\n",
      "/clusterhome/imaslenikov/tracer/hybriddomain/\n",
      "/clusterhome/imaslenikov/tracer/hybriddomain/hybriddomain/gens/hs/gen_env/cpp/templates\n",
      "pathToTemplates:\n",
      "hybriddomain/gens/hs/gen_env/cpp/templates\n",
      "/clusterhome/imaslenikov\n",
      "/clusterhome/imaslenikov/tracer/hybriddomain/hybriddomain/gens/hs/gen_env/cpp/env/base\n",
      "hybriddomain/gens/hs/gen_env/cpp/env/base\n",
      "/clusterhome/imaslenikov/tracer/hybriddomain/\n",
      "/clusterhome/imaslenikov/tracer/hybriddomain/hybriddomain/gens/hs/gen_env/cpp/templates\n",
      "pathToTemplates:\n",
      "hybriddomain/gens/hs/gen_env/cpp/templates\n",
      "/clusterhome/imaslenikov\n",
      "/clusterhome/imaslenikov/tracer/hybriddomain/hybriddomain/gens/hs/gen_env/cpp/env/base\n",
      "hybriddomain/gens/hs/gen_env/cpp/env/base\n",
      "/clusterhome/imaslenikov/tracer/hybriddomain/\n",
      "/clusterhome/imaslenikov/tracer/hybriddomain/hybriddomain/gens/hs/gen_env/cpp/templates\n",
      "pathToTemplates:\n",
      "hybriddomain/gens/hs/gen_env/cpp/templates\n",
      "/clusterhome/imaslenikov\n",
      "/clusterhome/imaslenikov/tracer/hybriddomain/hybriddomain/gens/hs/gen_env/cpp/env/base\n",
      "hybriddomain/gens/hs/gen_env/cpp/env/base\n",
      "/clusterhome/imaslenikov/tracer/hybriddomain/\n",
      "/clusterhome/imaslenikov/tracer/hybriddomain/hybriddomain/gens/hs/gen_env/cpp/templates\n",
      "pathToTemplates:\n",
      "hybriddomain/gens/hs/gen_env/cpp/templates\n",
      "/clusterhome/imaslenikov\n",
      "/clusterhome/imaslenikov/tracer/hybriddomain/hybriddomain/gens/hs/gen_env/cpp/env/base\n",
      "hybriddomain/gens/hs/gen_env/cpp/env/base\n",
      "/clusterhome/imaslenikov/tracer/hybriddomain/\n",
      "/clusterhome/imaslenikov/tracer/hybriddomain/hybriddomain/gens/hs/gen_env/cpp/templates\n",
      "delays_data:\n",
      "[]\n",
      "pathToTemplates:\n",
      "hybriddomain/gens/hs/gen_env/cpp/templates\n",
      "/clusterhome/imaslenikov\n",
      "/clusterhome/imaslenikov/tracer/hybriddomain/hybriddomain/gens/hs/gen_env/cpp/env/base\n",
      "hybriddomain/gens/hs/gen_env/cpp/env/base\n",
      "/clusterhome/imaslenikov/tracer/hybriddomain/\n",
      "/clusterhome/imaslenikov/tracer/hybriddomain/hybriddomain/gens/hs/gen_env/cpp/templates\n",
      "pathToTemplates:\n",
      "hybriddomain/gens/hs/gen_env/cpp/templates\n",
      "/clusterhome/imaslenikov\n",
      "/clusterhome/imaslenikov/tracer/hybriddomain/hybriddomain/gens/hs/gen_env/cpp/env/base\n",
      "hybriddomain/gens/hs/gen_env/cpp/env/base\n",
      "/clusterhome/imaslenikov/tracer/hybriddomain/\n",
      "/clusterhome/imaslenikov/tracer/hybriddomain/hybriddomain/gens/hs/gen_env/cpp/templates\n",
      "pathToTemplates:\n",
      "hybriddomain/gens/hs/gen_env/cpp/templates\n",
      "/clusterhome/imaslenikov\n",
      "/clusterhome/imaslenikov/tracer/hybriddomain/hybriddomain/gens/hs/gen_env/cpp/env/base\n",
      "hybriddomain/gens/hs/gen_env/cpp/env/base\n",
      "/clusterhome/imaslenikov/tracer/hybriddomain/\n",
      "/clusterhome/imaslenikov/tracer/hybriddomain/hybriddomain/gens/hs/gen_env/cpp/templates\n",
      "pathToTemplates:\n",
      "hybriddomain/gens/hs/gen_env/cpp/templates\n",
      "/clusterhome/imaslenikov\n",
      "/clusterhome/imaslenikov/tracer/hybriddomain/hybriddomain/gens/hs/gen_env/cpp/env/base\n",
      "hybriddomain/gens/hs/gen_env/cpp/env/base\n",
      "/clusterhome/imaslenikov/tracer/hybriddomain/\n",
      "/clusterhome/imaslenikov/tracer/hybriddomain/hybriddomain/gens/hs/gen_env/cpp/templates\n",
      "\n"
     ]
    },
    {
     "ename": "BaseException",
     "evalue": "preprocessor error",
     "output_type": "error",
     "traceback": [
      "\u001b[0;31m---------------------------------------------------------------------------\u001b[0m",
      "\u001b[0;31mBaseException\u001b[0m                             Traceback (most recent call last)",
      "\u001b[0;32m<ipython-input-4-3693d599609a>\u001b[0m in \u001b[0;36m<module>\u001b[0;34m\u001b[0m\n\u001b[1;32m     11\u001b[0m \u001b[0mbTest\u001b[0m\u001b[0;34m.\u001b[0m\u001b[0mon_click\u001b[0m\u001b[0;34m(\u001b[0m\u001b[0mrun\u001b[0m\u001b[0;34m)\u001b[0m\u001b[0;34m\u001b[0m\u001b[0;34m\u001b[0m\u001b[0m\n\u001b[1;32m     12\u001b[0m \u001b[0mdisplay\u001b[0m\u001b[0;34m(\u001b[0m\u001b[0mprogress\u001b[0m\u001b[0;34m.\u001b[0m\u001b[0mprogress\u001b[0m\u001b[0;34m)\u001b[0m\u001b[0;34m\u001b[0m\u001b[0;34m\u001b[0m\u001b[0m\n\u001b[0;32m---> 13\u001b[0;31m \u001b[0mremoteProjectRun\u001b[0m\u001b[0;34m(\u001b[0m\u001b[0msettings\u001b[0m\u001b[0;34m,\u001b[0m \u001b[0;36m1\u001b[0m\u001b[0;34m,\u001b[0m \u001b[0mprogress\u001b[0m\u001b[0;34m)\u001b[0m\u001b[0;34m\u001b[0m\u001b[0;34m\u001b[0m\u001b[0m\n\u001b[0m\u001b[1;32m     14\u001b[0m \u001b[0;31m#display(bTest)\u001b[0m\u001b[0;34m\u001b[0m\u001b[0;34m\u001b[0m\u001b[0;34m\u001b[0m\u001b[0m\n",
      "\u001b[0;32m~/tracer/hybriddomain/hybriddomain/solvers/hs/remoterun/remoterun.py\u001b[0m in \u001b[0;36mremoteProjectRun\u001b[0;34m(settings, dimention, notebook, model, log_level_console, log_level_file, remove_old)\u001b[0m\n\u001b[1;32m    605\u001b[0m             \u001b[0mlogger\u001b[0m\u001b[0;34m.\u001b[0m\u001b[0merror\u001b[0m\u001b[0;34m(\u001b[0m\u001b[0;34m\"preprocessor errors:\"\u001b[0m\u001b[0;34m)\u001b[0m\u001b[0;34m\u001b[0m\u001b[0;34m\u001b[0m\u001b[0m\n\u001b[1;32m    606\u001b[0m             \u001b[0mlogger\u001b[0m\u001b[0;34m.\u001b[0m\u001b[0merror\u001b[0m\u001b[0;34m(\u001b[0m\u001b[0mstdout_out\u001b[0m\u001b[0;34m)\u001b[0m\u001b[0;34m\u001b[0m\u001b[0;34m\u001b[0m\u001b[0m\n\u001b[0;32m--> 607\u001b[0;31m             \u001b[0;32mraise\u001b[0m\u001b[0;34m(\u001b[0m\u001b[0mBaseException\u001b[0m\u001b[0;34m(\u001b[0m\u001b[0;34m\"preprocessor error\"\u001b[0m\u001b[0;34m)\u001b[0m\u001b[0;34m)\u001b[0m\u001b[0;34m\u001b[0m\u001b[0;34m\u001b[0m\u001b[0m\n\u001b[0m\u001b[1;32m    608\u001b[0m         \u001b[0;32mif\u001b[0m \u001b[0;34m(\u001b[0m\u001b[0;34m\"error\"\u001b[0m \u001b[0;32min\u001b[0m \u001b[0mstderr_out\u001b[0m \u001b[0;32mor\u001b[0m \u001b[0;34m\"Error\"\u001b[0m \u001b[0;32min\u001b[0m \u001b[0mstderr_out\u001b[0m\u001b[0;34m)\u001b[0m\u001b[0;34m:\u001b[0m\u001b[0;34m\u001b[0m\u001b[0;34m\u001b[0m\u001b[0m\n\u001b[1;32m    609\u001b[0m             \u001b[0mlogger\u001b[0m\u001b[0;34m.\u001b[0m\u001b[0merror\u001b[0m\u001b[0;34m(\u001b[0m\u001b[0;34m\"preprocessor errors:\"\u001b[0m\u001b[0;34m)\u001b[0m\u001b[0;34m\u001b[0m\u001b[0;34m\u001b[0m\u001b[0m\n",
      "\u001b[0;31mBaseException\u001b[0m: preprocessor error"
     ]
    }
   ],
   "source": [
    "# запуск процесса решения уравнения\n",
    "from hybriddomain.solvers.hs.remoterun.progresses.progress_notebook import ProgressNotebook\n",
    "progress = ProgressNotebook(100, prefix='solving')\n",
    "from hybriddomain.solvers.hs.remoterun.remoterun import remoteProjectRun\n",
    "\n",
    "clear_output()\n",
    "test_name = settings.paths['model']['name']\n",
    "bTest = widgets.Button(description=\"run %s \" % (test_name))\n",
    "def run(event):\n",
    "    remoteProjectRun(settings, 1, progress)\n",
    "bTest.on_click(run)\n",
    "display(progress.progress)\n",
    "remoteProjectRun(settings, 1, progress)\n",
    "#display(bTest)"
   ]
  },
  {
   "cell_type": "markdown",
   "metadata": {},
   "source": [
    "### Results:"
   ]
  },
  {
   "cell_type": "code",
   "execution_count": 8,
   "metadata": {},
   "outputs": [
    {
     "name": "stdout",
     "output_type": "stream",
     "text": [
      "dict_keys(['U'])\n"
     ]
    }
   ],
   "source": [
    "# объекте model хранится вся информация по решению задачи\n",
    "# get results (for TRAC-11 result_format=1):\n",
    "model.readResults(result_format=1)\n",
    "model.results_paths\n",
    "# available results:\n",
    "print(model.results_arrays.keys())"
   ]
  },
  {
   "cell_type": "markdown",
   "metadata": {},
   "source": [
    "### Video:"
   ]
  },
  {
   "cell_type": "code",
   "execution_count": 9,
   "metadata": {},
   "outputs": [
    {
     "data": {
      "text/plain": [
       "{'U': ['problems/error_x/out/U.mp4']}"
      ]
     },
     "execution_count": 9,
     "metadata": {},
     "output_type": "execute_result"
    }
   ],
   "source": [
    "# available plots:\n",
    "model.plots_paths"
   ]
  },
  {
   "cell_type": "code",
   "execution_count": 10,
   "metadata": {},
   "outputs": [
    {
     "data": {
      "text/html": [
       "\n",
       "        <script>\n",
       "        </script>\n",
       "\n",
       "        <video controls>\n",
       "        <source src=\"problems/error_x/out/U.mp4\" type=\"video/mp4\"><p>Your browser doesnt support HTML5 video.Here is a <a href=\"problems/error_x/out/U.mp4\">link to the video</a></p></video>"
      ],
      "text/plain": [
       "<IPython.core.display.HTML object>"
      ]
     },
     "metadata": {},
     "output_type": "display_data"
    }
   ],
   "source": [
    "display(HTML(model.get_video('U')))"
   ]
  },
  {
   "cell_type": "markdown",
   "metadata": {},
   "source": [
    "### U(x, t-fixed),V(x, t-fixed):"
   ]
  },
  {
   "cell_type": "code",
   "execution_count": null,
   "metadata": {},
   "outputs": [],
   "source": []
  }
 ],
 "metadata": {
  "kernelspec": {
   "display_name": "Python 3",
   "language": "python",
   "name": "python3"
  },
  "language_info": {
   "codemirror_mode": {
    "name": "ipython",
    "version": 3
   },
   "file_extension": ".py",
   "mimetype": "text/x-python",
   "name": "python",
   "nbconvert_exporter": "python",
   "pygments_lexer": "ipython3",
   "version": "3.7.3"
  }
 },
 "nbformat": 4,
 "nbformat_minor": 2
}
