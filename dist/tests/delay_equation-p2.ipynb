{
 "cells": [
  {
   "cell_type": "markdown",
   "metadata": {},
   "source": [
    "### Add model, connection and device to settings:"
   ]
  },
  {
   "cell_type": "code",
   "execution_count": 13,
   "metadata": {},
   "outputs": [
    {
     "name": "stderr",
     "output_type": "stream",
     "text": [
      "INFO:block_main.block_io:DefaultBound not set\n",
      "INFO:settings_main:device_conf_rpath\n",
      "INFO:settings_main:devices.json\n"
     ]
    },
    {
     "name": "stdout",
     "output_type": "stream",
     "text": [
      "Please enter password for user imaslenikov:\n"
     ]
    },
    {
     "name": "stdin",
     "output_type": "stream",
     "text": [
      " ·········\n"
     ]
    }
   ],
   "source": [
    "# библиотеки\n",
    "import os\n",
    "import sys\n",
    "import inspect\n",
    "import numpy as np\n",
    "import re\n",
    "import math\n",
    "import matplotlib.pyplot as plt\n",
    "from ipywidgets import interactive\n",
    "import ipywidgets as widgets\n",
    "from IPython.display import display, clear_output, HTML\n",
    "from hybriddomain.envs.hs.model.model_main import ModelNet as Model\n",
    "from hybriddomain.settings.settings_main import Settings\n",
    "from ddeint import ddeint\n",
    "\n",
    "# пути и названия файлов\n",
    "modelFileName = 'problems/delay_equation-p2'\n",
    "conn_name = \"connection.json\"\n",
    "device_conf_name = \"devices.json\"\n",
    "\n",
    "#Ввод пароля для инициализации пользователя\n",
    "model = Model()\n",
    "model.io.loadFromFile(modelFileName)\n",
    "settings = Settings(model, conn_name, device_conf_name, conn_name)"
   ]
  },
  {
   "cell_type": "code",
   "execution_count": 14,
   "metadata": {},
   "outputs": [
    {
     "name": "stdout",
     "output_type": "stream",
     "text": [
      "equations:\n",
      "[[\"U'= r*(1-a*(1-U(t-1))-U(t-0.3))*U\"]]\n",
      "params:\n",
      "['a', 'r', 'h']\n",
      "paramValues:\n",
      "[{'a': 0.9, 'r': 3.0, 'h': 0.3}]\n"
     ]
    }
   ],
   "source": [
    "print(\"equations:\")\n",
    "print(model.equations)\n",
    "print(\"params:\")\n",
    "print(model.params)\n",
    "print(\"paramValues:\")\n",
    "print(model.paramValues)"
   ]
  },
  {
   "cell_type": "markdown",
   "metadata": {},
   "source": [
    "### Run solver:"
   ]
  },
  {
   "cell_type": "code",
   "execution_count": 15,
   "metadata": {},
   "outputs": [
    {
     "data": {
      "application/vnd.jupyter.widget-view+json": {
       "model_id": "b5c206da526644c58d38ae3e4d09014b",
       "version_major": 2,
       "version_minor": 0
      },
      "text/plain": [
       "IntProgress(value=0, description='solving: ', max=99)"
      ]
     },
     "metadata": {},
     "output_type": "display_data"
    },
    {
     "name": "stderr",
     "output_type": "stream",
     "text": [
      "INFO:remoterun:\n",
      "connect ...\n",
      "INFO:remoterun:\n",
      "connection established\n",
      "INFO:remoterun:\n",
      "files/folders routine\n",
      "INFO:remoterun:\n",
      "files/folders routine completed\n",
      "INFO:remoterun:\n",
      "Running preprocessor:\n",
      "INFO:remoterun:command:\n",
      "INFO:remoterun:~/anaconda3/bin/python3 -c \"import hybriddomain.gens.hs.tests.tests_gen_1d as ts; ts.run()\" -t /acchome/imaslenikov/tracer/workspace/problems/delay_equation2 -d /acchome/imaslenikov/tracer/workspace/settings/device_conf/devices.json -p /acchome/imaslenikov/tracer/workspace/settings/paths/connection.json -w /acchome/imaslenikov/tracer/workspace -u imaslenikov 2>&1\n",
      "INFO:remoterun:\n",
      "Running solver:\n",
      "INFO:remoterun:02-14 14:44:39 Performance (10^6): 0.2947\n",
      "\n",
      "INFO:remoterun:INFO:postproc.video:Creating images for block 0 value U\n",
      "\n",
      "INFO:remoterun:INFO:postproc.video:Creating video file: 0\n",
      "\n",
      "INFO:remoterun:INFO:postproc.video:Creating out file: u\n",
      "\n",
      "INFO:remoterun:Downloading results...\n",
      "INFO:remoterun:Done!\n"
     ]
    }
   ],
   "source": [
    "# запуск процесса решения уравнения\n",
    "from hybriddomain.solvers.hs.remoterun.progresses.progress_notebook import ProgressNotebook\n",
    "progress = ProgressNotebook(100, prefix='solving')\n",
    "from hybriddomain.solvers.hs.remoterun.remoterun import remoteProjectRun\n",
    "\n",
    "clear_output()\n",
    "test_name = settings.paths['model']['name']\n",
    "bTest = widgets.Button(description=\"run %s \" % (test_name))\n",
    "def run(event):\n",
    "    remoteProjectRun(settings, 1, progress)\n",
    "bTest.on_click(run)\n",
    "display(progress.progress)\n",
    "remoteProjectRun(settings, 1, progress)\n",
    "#display(bTest)"
   ]
  },
  {
   "cell_type": "markdown",
   "metadata": {},
   "source": [
    "### Results:"
   ]
  },
  {
   "cell_type": "code",
   "execution_count": 16,
   "metadata": {},
   "outputs": [
    {
     "name": "stdout",
     "output_type": "stream",
     "text": [
      "dict_keys(['u'])\n"
     ]
    }
   ],
   "source": [
    "# объекте model хранится вся информация по решению задачи\n",
    "# get results (for TRAC-11 result_format=1):\n",
    "model.readResults(result_format=1)\n",
    "model.results_paths\n",
    "# available results:\n",
    "print(model.results_arrays.keys())"
   ]
  },
  {
   "cell_type": "markdown",
   "metadata": {},
   "source": [
    "### Video:"
   ]
  },
  {
   "cell_type": "code",
   "execution_count": 17,
   "metadata": {},
   "outputs": [
    {
     "data": {
      "text/plain": [
       "{'no_name_plot': ['problems/delay_equation2/out/no_name_plot.mp4']}"
      ]
     },
     "execution_count": 17,
     "metadata": {},
     "output_type": "execute_result"
    }
   ],
   "source": [
    "# available plots:\n",
    "model.plots_paths"
   ]
  },
  {
   "cell_type": "code",
   "execution_count": 18,
   "metadata": {},
   "outputs": [
    {
     "data": {
      "text/html": [
       "\n",
       "        <script>\n",
       "        </script>\n",
       "\n",
       "        <video controls>\n",
       "        <source src=\"problems/delay_equation2/out/no_name_plot.mp4\" type=\"video/mp4\"><p>Your browser doesnt support HTML5 video.Here is a <a href=\"problems/delay_equation2/out/no_name_plot.mp4\">link to the video</a></p></video>"
      ],
      "text/plain": [
       "<IPython.core.display.HTML object>"
      ]
     },
     "metadata": {},
     "output_type": "display_data"
    }
   ],
   "source": [
    "display(HTML(model.get_video('no_name_plot')))"
   ]
  },
  {
   "cell_type": "markdown",
   "metadata": {},
   "source": [
    "### U(x, t-fixed),V(x, t-fixed):"
   ]
  },
  {
   "cell_type": "code",
   "execution_count": 15,
   "metadata": {},
   "outputs": [
    {
     "data": {
      "image/png": "[encoded data removed]",
      "text/plain": [
       "<Figure size 432x288 with 1 Axes>"
      ]
     },
     "metadata": {
      "needs_background": "light"
     },
     "output_type": "display_data"
    }
   ],
   "source": [
    "# отрисовывает результат\n",
    "%matplotlib inline\n",
    "time = model.results_arrays['u']['timevalues']\n",
    "\n",
    "times = model.results_arrays['u']['timevalues']\n",
    "\n",
    "result = model.results_arrays['u']['resvalues']\n",
    "result_x = np.array([result[time][0][1] for time in times])\n",
    "plt.plot(time, result_x, lw=2)\n",
    "\n",
    "\n",
    "b = 1\n",
    "h1 = 1\n",
    "h2 = 0.3\n",
    "r = 3\n",
    "a = 0.9\n",
    "def model1(Y,t,d):\n",
    "    y=Y(t)\n",
    "    yd1=Y(t-h1)\n",
    "    yd2=Y(t-h2)\n",
    "    return np.array([r * (1 - a * (1 - yd1) - yd2) * y])\n",
    "g=lambda t : 0.9\n",
    "\n",
    "#model1 = lambda Y,t, k,h,r :  a * (1 - ( Y(t-h)/b)) * Y(t)\n",
    "#g = lambda t: t+1 # history before t=0\n",
    "tt = np.linspace(0,30,30001)\n",
    "for d in [0,0.2]:\n",
    "    answer_DDE = ddeint(model1, g, tt, fargs=(d,)) # K=0.1, d=5, r=1\n",
    "plt.plot(tt, answer_DDE, lw=2)\n",
    "plt.show()\n"
   ]
  },
  {
   "cell_type": "code",
   "execution_count": 9,
   "metadata": {},
   "outputs": [
    {
     "data": {
      "image/png": "[encoded data removed]",
      "text/plain": [
       "<Figure size 432x288 with 1 Axes>"
      ]
     },
     "metadata": {
      "needs_background": "light"
     },
     "output_type": "display_data"
    }
   ],
   "source": [
    "# отрисовывает результат\n",
    "%matplotlib inline\n",
    "time = model.results_arrays['u']['timevalues']\n",
    "\n",
    "times = model.results_arrays['u']['timevalues']\n",
    "\n",
    "result = model.results_arrays['u']['resvalues']\n",
    "result_x = np.array([result[time][0][1] for time in times])\n",
    "plt.plot(time, result_x, lw=2)\n",
    "\n",
    "\n",
    "b = 1\n",
    "h = 2\n",
    "a = 2\n",
    "\n",
    "def model1(Y,t,d):\n",
    "    y=Y(t)\n",
    "    yd=Y(t-h)\n",
    "    return np.array([a * (1 -  yd) * y])\n",
    "g=lambda t : 0.5\n",
    "\n",
    "tt = np.linspace(0,10,10001)\n",
    "for d in [0,0.2]:\n",
    "    answer_DDE = ddeint(model1, g, tt, fargs=(d,)) # K=0.1, d=5, r=1\n",
    "plt.plot(tt, answer_DDE, lw=2)\n",
    "plt.show()\n"
   ]
  },
  {
   "cell_type": "code",
   "execution_count": 8,
   "metadata": {},
   "outputs": [
    {
     "ename": "KeyError",
     "evalue": "'U'",
     "output_type": "error",
     "traceback": [
      "\u001b[0;31m---------------------------------------------------------------------------\u001b[0m",
      "\u001b[0;31mKeyError\u001b[0m                                  Traceback (most recent call last)",
      "\u001b[0;32m<ipython-input-8-cdab3c15fa52>\u001b[0m in \u001b[0;36m<module>\u001b[0;34m\u001b[0m\n\u001b[1;32m      2\u001b[0m \u001b[0mget_ipython\u001b[0m\u001b[0;34m(\u001b[0m\u001b[0;34m)\u001b[0m\u001b[0;34m.\u001b[0m\u001b[0mrun_line_magic\u001b[0m\u001b[0;34m(\u001b[0m\u001b[0;34m'matplotlib'\u001b[0m\u001b[0;34m,\u001b[0m \u001b[0;34m'inline'\u001b[0m\u001b[0;34m)\u001b[0m\u001b[0;34m\u001b[0m\u001b[0;34m\u001b[0m\u001b[0m\n\u001b[1;32m      3\u001b[0m \u001b[0;34m\u001b[0m\u001b[0m\n\u001b[0;32m----> 4\u001b[0;31m \u001b[0mtime\u001b[0m \u001b[0;34m=\u001b[0m \u001b[0mmodel\u001b[0m\u001b[0;34m.\u001b[0m\u001b[0mresults_arrays\u001b[0m\u001b[0;34m[\u001b[0m\u001b[0;34m'U'\u001b[0m\u001b[0;34m]\u001b[0m\u001b[0;34m[\u001b[0m\u001b[0;34m'timevalues'\u001b[0m\u001b[0;34m]\u001b[0m\u001b[0;34m\u001b[0m\u001b[0;34m\u001b[0m\u001b[0m\n\u001b[0m\u001b[1;32m      5\u001b[0m \u001b[0mtimes\u001b[0m \u001b[0;34m=\u001b[0m \u001b[0mmodel\u001b[0m\u001b[0;34m.\u001b[0m\u001b[0mresults_arrays\u001b[0m\u001b[0;34m[\u001b[0m\u001b[0;34m'U'\u001b[0m\u001b[0;34m]\u001b[0m\u001b[0;34m[\u001b[0m\u001b[0;34m'timevalues'\u001b[0m\u001b[0;34m]\u001b[0m\u001b[0;34m\u001b[0m\u001b[0;34m\u001b[0m\u001b[0m\n\u001b[1;32m      6\u001b[0m \u001b[0mresult\u001b[0m \u001b[0;34m=\u001b[0m \u001b[0mmodel\u001b[0m\u001b[0;34m.\u001b[0m\u001b[0mresults_arrays\u001b[0m\u001b[0;34m[\u001b[0m\u001b[0;34m'U'\u001b[0m\u001b[0;34m]\u001b[0m\u001b[0;34m[\u001b[0m\u001b[0;34m'resvalues'\u001b[0m\u001b[0;34m]\u001b[0m\u001b[0;34m\u001b[0m\u001b[0;34m\u001b[0m\u001b[0m\n",
      "\u001b[0;31mKeyError\u001b[0m: 'U'"
     ]
    }
   ],
   "source": [
    "# отрисовывает отклонение нашего решения от решения DDE\n",
    "%matplotlib inline\n",
    "\n",
    "time = model.results_arrays['U']['timevalues']\n",
    "times = model.results_arrays['U']['timevalues']\n",
    "result = model.results_arrays['U']['resvalues']\n",
    "\n",
    "result_x = np.array([result[time][0][1] for time in times])\n",
    "b = 2\n",
    "h = 1\n",
    "a = 1\n",
    "\n",
    "def model1(Y,t,d):\n",
    "    y=Y(t)\n",
    "    yd=Y(t-h)\n",
    "    return np.array([a * (1 - ( yd/b)) * y])\n",
    "g=lambda t : t+1\n",
    "\n",
    "#количество точек для использования построения решения\n",
    "tt =np.linspace (0.0,10.0,10001)\n",
    "for d in [0,0.2]:\n",
    "    answer_DDE = ddeint (model1,g,tt,fargs=(d,))\n",
    "#print(time)\n",
    "i = 0\n",
    "find_error = []\n",
    "for poi in time:\n",
    "    b = abs(answer_DDE[i*100]-result_x[i])\n",
    "    find_error.append(b)\n",
    "    i+=1\n",
    "plt.plot(time, find_error)\n",
    "\n",
    "\n",
    "plt.show()\n"
   ]
  },
  {
   "cell_type": "code",
   "execution_count": null,
   "metadata": {},
   "outputs": [],
   "source": []
  },
  {
   "cell_type": "code",
   "execution_count": null,
   "metadata": {},
   "outputs": [],
   "source": []
  },
  {
   "cell_type": "code",
   "execution_count": null,
   "metadata": {},
   "outputs": [],
   "source": []
  }
 ],
 "metadata": {
  "kernelspec": {
   "display_name": "Python 3",
   "language": "python",
   "name": "python3"
  },
  "language_info": {
   "codemirror_mode": {
    "name": "ipython",
    "version": 3
   },
   "file_extension": ".py",
   "mimetype": "text/x-python",
   "name": "python",
   "nbconvert_exporter": "python",
   "pygments_lexer": "ipython3",
   "version": "3.7.3"
  }
 },
 "nbformat": 4,
 "nbformat_minor": 2
}
