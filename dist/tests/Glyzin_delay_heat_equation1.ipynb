{
 "cells": [
  {
   "cell_type": "markdown",
   "metadata": {},
   "source": [
    "### Add model, connection and device to settings:"
   ]
  },
  {
   "cell_type": "code",
   "execution_count": 1,
   "metadata": {},
   "outputs": [
    {
     "name": "stderr",
     "output_type": "stream",
     "text": [
      "INFO:block_main.block_io:DefaultBound not set\n",
      "INFO:settings_main:device_conf_rpath\n",
      "INFO:settings_main:devices.json\n"
     ]
    },
    {
     "name": "stdout",
     "output_type": "stream",
     "text": [
      "Please enter password for user sglyzin:\n"
     ]
    },
    {
     "name": "stdin",
     "output_type": "stream",
     "text": [
      " ········\n"
     ]
    }
   ],
   "source": [
    "from hybriddomain.envs.hs.model.model_main import ModelNet as Model\n",
    "from hybriddomain.settings.settings_main import Settings\n",
    "from IPython.display import clear_output,  display, HTML\n",
    "from ipywidgets import interactive\n",
    "\n",
    "modelFileName = 'problems/Glyzin_delay_heat_equation1'\n",
    "conn_name = \"connection.json\"\n",
    "device_conf_name = \"devices.json\"\n",
    "\n",
    "model = Model()\n",
    "model.io.loadFromFile(modelFileName)\n",
    "#settings will ask for a password if not provided in file\n",
    "settings = Settings(model, conn_name, device_conf_name, conn_name)"
   ]
  },
  {
   "cell_type": "markdown",
   "metadata": {},
   "source": [
    "### Run solver:"
   ]
  },
  {
   "cell_type": "code",
   "execution_count": 11,
   "metadata": {},
   "outputs": [
    {
     "data": {
      "application/vnd.jupyter.widget-view+json": {
       "model_id": "8d9832289e4343e08ee95b8f0b1138c6",
       "version_major": 2,
       "version_minor": 0
      },
      "text/plain": [
       "IntProgress(value=0, description='solving: ', max=99)"
      ]
     },
     "metadata": {},
     "output_type": "display_data"
    },
    {
     "name": "stderr",
     "output_type": "stream",
     "text": [
      "INFO:remoterun:\n",
      "connect ...\n",
      "INFO:remoterun:\n",
      "connection established\n",
      "INFO:remoterun:\n",
      "files/folders routine\n",
      "INFO:remoterun:\n",
      "files/folders routine completed\n",
      "INFO:remoterun:\n",
      "Running preprocessor:\n",
      "INFO:remoterun:command:\n",
      "INFO:remoterun:~/anaconda3/bin/python3 -c \"import hybriddomain.gens.hs.tests.tests_gen_1d as ts; ts.run()\" -t /acchome/sglyzin/TracerProj/problems/Glyzin_delay_heat_equation1 -d /acchome/sglyzin/TracerProj/settings/device_conf/devices.json -p /acchome/sglyzin/TracerProj/settings/paths/connection.json -w /acchome/sglyzin/TracerProj -u sglyzin 2>&1\n",
      "INFO:remoterun:\n",
      "Running solver:\n",
      "INFO:remoterun:01-15 16:50:44 Performance (10^6): 2.52604\n",
      "\n",
      "INFO:remoterun:INFO:postproc.video:Creating images for block 0 value U\n",
      "\n",
      "INFO:remoterun:INFO:postproc.video:Creating video file: 0\n",
      "\n",
      "INFO:remoterun:INFO:postproc.video:Creating out file: u\n",
      "\n",
      "INFO:remoterun:Downloading results...\n",
      "INFO:remoterun:Done!\n"
     ]
    },
    {
     "name": "stdout",
     "output_type": "stream",
     "text": [
      "result files:  {'u': ['problems/Glyzin_delay_heat_equation1/out/u.out']}\n",
      "plot files:  {'U': ['problems/Glyzin_delay_heat_equation1/out/U.mp4']}\n"
     ]
    }
   ],
   "source": [
    "from hybriddomain.solvers.hs.remoterun.progresses.progress_notebook import ProgressNotebook\n",
    "from hybriddomain.solvers.hs.remoterun.remoterun import remoteProjectRun\n",
    "\n",
    "clear_output()\n",
    "progress = ProgressNotebook(100, prefix='solving')\n",
    "display(progress.progress)\n",
    "remoteProjectRun(settings, 1, progress)\n",
    "\n",
    "model.readResults(result_format=0)\n",
    "# available result files:\n",
    "print(\"result files: \", model.results_paths)\n",
    "# available plot files:\n",
    "print(\"plot files: \", model.plots_paths)"
   ]
  },
  {
   "cell_type": "markdown",
   "metadata": {},
   "source": [
    "### Show video:"
   ]
  },
  {
   "cell_type": "code",
   "execution_count": 15,
   "metadata": {},
   "outputs": [
    {
     "data": {
      "text/html": [
       "<video src=\"problems/Glyzin_delay_heat_equation1/out/U.mp4\" controls  >\n",
       "      Your browser does not support the <code>video</code> element.\n",
       "    </video>"
      ],
      "text/plain": [
       "<IPython.core.display.Video object>"
      ]
     },
     "execution_count": 15,
     "metadata": {},
     "output_type": "execute_result"
    }
   ],
   "source": [
    "from IPython.display import Video\n",
    "Video(model.plots_paths['U'][0])"
   ]
  },
  {
   "cell_type": "code",
   "execution_count": 32,
   "metadata": {},
   "outputs": [
    {
     "data": {
      "application/vnd.jupyter.widget-view+json": {
       "model_id": "9690c115c6214d3e89b6246455385fda",
       "version_major": 2,
       "version_minor": 0
      },
      "text/plain": [
       "interactive(children=(IntSlider(value=50, description='x', max=101), Output()), _dom_classes=('widget-interact…"
      ]
     },
     "metadata": {},
     "output_type": "display_data"
    }
   ],
   "source": [
    "#Строим график по t при фиксированном x\n",
    "%matplotlib inline\n",
    "import matplotlib.pyplot as plt\n",
    "import numpy as np\n",
    "import math\n",
    "\n",
    "times1 = model.results_arrays['u']['timevalues']\n",
    "result1 =  model.results_arrays['u']['resvalues']\n",
    "\n",
    "def f(x):\n",
    "    result_x = np.array([result1[time][0][x] for time in times1])    \n",
    "    plt.plot(times1,result_x)        \n",
    "w = interactive(f,x=(0,result1[0].size-1,1))\n",
    "display(w)\n",
    "\n",
    "plt.show()"
   ]
  },
  {
   "cell_type": "code",
   "execution_count": 34,
   "metadata": {},
   "outputs": [
    {
     "name": "stdout",
     "output_type": "stream",
     "text": [
      "[0.03141076 0.7016304  0.7748964  0.85581297 0.94517905 1.0438769\n",
      " 1.152881   1.2732677  1.4062254  1.5530668  1.7152419  1.8491849\n",
      " 1.9748836  2.0798166  2.156744   2.198691   2.1996388  2.1553125\n",
      " 2.0639677  1.9270566  1.7496185  1.54578    1.3331429  1.1259323\n",
      " 0.9353631  0.76871675 0.62931615 0.5172416  0.4304132  0.3656842\n",
      " 0.3197159  0.28945366 0.27220705 0.26597625 0.26947552 0.28203726\n",
      " 0.30350506 0.3341412  0.37455574 0.425652   0.488578   0.56467175\n",
      " 0.65540695 0.76231533 0.8868529  1.0302023  1.1929976  1.37496\n",
      " 1.5744406  1.7878883  2.0092933  2.2297072  2.4370022  2.6160812\n",
      " 2.7497919  2.820748   2.8140788  2.7207842  2.5409338  2.2855747\n",
      " 1.9762378  1.6415471  1.3115859  1.0118135  0.7586933  0.55841666\n",
      " 0.40861842 0.30174252 0.22843869 0.17994685 0.1492459  0.1312786\n",
      " 0.12269488 0.12144734 0.12641399 0.13711041 0.15349728 0.17586724\n",
      " 0.20478915 0.24108759 0.2858396  0.3403755  0.4062749  0.48534942\n",
      " 0.57960397 0.6911646  0.8221581  0.9745238  1.1497357  1.3484099\n",
      " 1.56978    1.8110402  2.06659    2.3272774  2.5798216  2.8067014\n",
      " 2.98688    3.0977378  3.1184113  3.0343065  2.8418787  2.5520937\n",
      " 2.190736   1.7944237  1.4028904  1.0500758  0.7574729  0.5321508\n",
      " 0.36941364 0.25792882 0.1846827  0.13818066 0.10971739 0.09335708\n",
      " 0.08535947 0.08352749 0.08667741 0.09427129 0.10618855 0.12260051\n",
      " 0.14391308 0.17074887 0.20394824 0.24457683 0.29393348 0.35355425\n",
      " 0.4252078  0.51087546 0.6127069  0.7329372  0.87374806 1.0370493\n",
      " 1.2241559  1.4353347  1.6692069  1.922017   2.1868212  2.4527283\n",
      " 2.704418   2.9222808  3.083583   3.1650186  3.1467264  3.0172966\n",
      " 2.778516   2.4479754  2.05772    1.6483114  1.2597555  0.9226172\n",
      " 0.6528387  0.45187166 0.31098047 0.21691573 0.15646563 0.11887723\n",
      " 0.0964614  0.08420121 0.07905086 0.07928786 0.08403372 0.09294107\n",
      " 0.10601012 0.12349524 0.14586751 0.17380708 0.20820823 0.25018823\n",
      " 0.30109537 0.36251256 0.43625158 0.5243312  0.62892866 0.7522909\n",
      " 0.89658535 1.0636675  1.2547387  1.4698702  1.7073818  1.9630898\n",
      " 2.229489   2.495014   2.7436228  2.955063   3.106231   3.1739583\n",
      " 3.1392477  2.992365   2.7374158  2.3944695  1.9974997  1.587782\n",
      " 1.2045531  0.87644345 0.617054   0.42587996 0.2930551  0.20501748\n",
      " 0.14877684 0.11401628 0.0934833  0.08250661 0.07828209 0.07924465\n",
      " 0.08461477 0.09410765 0.10776592 0.12587692 0.14894144 0.17766884\n",
      " 0.21298328 0.25603265 0.3081964  0.37108815 0.44654867 0.536621\n",
      " 0.64349806 0.76942736 0.91655254 1.0866686  1.2808633  1.4990233\n",
      " 1.7391942  1.9968141  2.263897   2.528316   2.7734554  2.9785898\n",
      " 3.1204116  3.1760135  3.1272829  2.9660223  2.6983309  2.3462744\n",
      " 1.945224   1.536754   1.1591792  0.8393532  0.5889208  0.40586382\n",
      " 0.27953374 0.19624168 0.14326061 0.11066697 0.09157347 0.08158679\n",
      " 0.07809266 0.07964793 0.08554955 0.0955617  0.10976123 0.1097614 ]\n"
     ]
    }
   ],
   "source": [
    "#Выведем результат при фиксированном x (соберем по при каждом значении t первую точку по x)\n",
    "variable = 0 # у нас в файле результатов только один результат заказан\n",
    "xpoint = 1 \n",
    "\n",
    "result_x = np.array([result1[time][variable][xpoint] for time in times1])\n",
    "print (result_x)"
   ]
  },
  {
   "cell_type": "code",
   "execution_count": 39,
   "metadata": {},
   "outputs": [
    {
     "name": "stdout",
     "output_type": "stream",
     "text": [
      "[0.        2.156744  2.1567857 2.156881  2.1570165 2.1571844 2.1573794\n",
      " 2.1575975 2.1578357 2.1580913 2.1583624 2.158647  2.158944  2.159252\n",
      " 2.1595695 2.159896  2.16023   2.160571  2.1609182 2.161271  2.1616287\n",
      " 2.161991  2.1623566 2.1627254 2.1630971 2.163471  2.163847  2.1642241\n",
      " 2.1646028 2.1649818 2.1653614 2.1657412 2.1661208 2.1664999 2.1668782\n",
      " 2.1672554 2.1676314 2.168006  2.1683788 2.1687496 2.1691184 2.1694846\n",
      " 2.1698482 2.1702092 2.1705673 2.170922  2.1712737 2.1716218 2.1719663\n",
      " 2.172307  2.172644  2.1729767 2.1733053 2.1736295 2.1739492 2.1742642\n",
      " 2.1745746 2.17488   2.1751807 2.175476  2.1757665 2.1760514 2.1763308\n",
      " 2.1766047 2.176873  2.1771357 2.1773925 2.1776433 2.1778882 2.1781268\n",
      " 2.1783593 2.1785855 2.1788054 2.179019  2.1792257 2.179426  2.1796196\n",
      " 2.1798062 2.1799862 2.180159  2.1803253 2.180484  2.180636  2.1807804\n",
      " 2.1809177 2.1810477 2.1811702 2.1812854 2.181393  2.1814928 2.181585\n",
      " 2.1816695 2.1817462 2.1818151 2.1818762 2.181929  2.1819742 2.1820111\n",
      " 2.18204   2.1820607 2.182073  2.1820774]\n",
      "Average: 2.1714864\n"
     ]
    }
   ],
   "source": [
    "#Выведем результат при фиксированном t\n",
    "variable = 0 # у нас в файле результатов только один результат заказан\n",
    "tpoint = 1.4 \n",
    "\n",
    "result_t = result1[tpoint][variable]\n",
    "print (result_t)\n",
    "print (\"Average:\", np.average(result_t[1:]))"
   ]
  },
  {
   "cell_type": "code",
   "execution_count": null,
   "metadata": {},
   "outputs": [],
   "source": []
  }
 ],
 "metadata": {
  "kernelspec": {
   "display_name": "Python 3",
   "language": "python",
   "name": "python3"
  },
  "language_info": {
   "codemirror_mode": {
    "name": "ipython",
    "version": 3
   },
   "file_extension": ".py",
   "mimetype": "text/x-python",
   "name": "python",
   "nbconvert_exporter": "python",
   "pygments_lexer": "ipython3",
   "version": "3.7.3"
  }
 },
 "nbformat": 4,
 "nbformat_minor": 2
}
