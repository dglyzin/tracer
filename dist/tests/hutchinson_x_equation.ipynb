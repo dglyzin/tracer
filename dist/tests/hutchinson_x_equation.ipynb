{
 "cells": [
  {
   "cell_type": "markdown",
   "metadata": {},
   "source": [
    "### Add model, connection and device to settings:"
   ]
  },
  {
   "cell_type": "code",
   "execution_count": 1,
   "metadata": {},
   "outputs": [
    {
     "name": "stderr",
     "output_type": "stream",
     "text": [
      "INFO:settings_main:device_conf_rpath\n",
      "INFO:settings_main:devices.json\n"
     ]
    },
    {
     "name": "stdout",
     "output_type": "stream",
     "text": [
      "Please enter password for user imaslenikov:\n"
     ]
    },
    {
     "name": "stdin",
     "output_type": "stream",
     "text": [
      " ·········\n"
     ]
    }
   ],
   "source": [
    "# библиотеки\n",
    "import os\n",
    "import sys\n",
    "import inspect\n",
    "import numpy as np\n",
    "import re\n",
    "import math\n",
    "import matplotlib.pyplot as plt\n",
    "from ipywidgets import interactive\n",
    "import ipywidgets as widgets\n",
    "from IPython.display import display, clear_output, HTML\n",
    "from hybriddomain.envs.hs.model.model_main import ModelNet as Model\n",
    "from hybriddomain.settings.settings_main import Settings\n",
    "from ddeint import ddeint\n",
    "\n",
    "# пути и названия файлов\n",
    "modelFileName = 'problems/hutchinson_x_equation'\n",
    "conn_name = \"connection.json\"\n",
    "device_conf_name = \"devices.json\"\n",
    "\n",
    "#Ввод пароля для инициализации пользователя\n",
    "model = Model()\n",
    "model.io.loadFromFile(modelFileName)\n",
    "settings = Settings(model, conn_name, device_conf_name, conn_name)"
   ]
  },
  {
   "cell_type": "code",
   "execution_count": 2,
   "metadata": {},
   "outputs": [
    {
     "name": "stdout",
     "output_type": "stream",
     "text": [
      "equations:\n",
      "[[\"U'= a*x*(1-U(t-1)/b)*U\"]]\n",
      "params:\n",
      "['a', 'b']\n",
      "paramValues:\n",
      "[{'a': 2, 'b': 1}, {'a': 3, 'b': 1}]\n"
     ]
    }
   ],
   "source": [
    "print(\"equations:\")\n",
    "print(model.equations)\n",
    "print(\"params:\")\n",
    "print(model.params)\n",
    "print(\"paramValues:\")\n",
    "print(model.paramValues)"
   ]
  },
  {
   "cell_type": "markdown",
   "metadata": {},
   "source": [
    "### Run solver:"
   ]
  },
  {
   "cell_type": "code",
   "execution_count": 3,
   "metadata": {},
   "outputs": [
    {
     "data": {
      "application/vnd.jupyter.widget-view+json": {
       "model_id": "e64d8a6f7c5e426f8051fe288fec3b7c",
       "version_major": 2,
       "version_minor": 0
      },
      "text/plain": [
       "IntProgress(value=0, description='param: ', max=1)"
      ]
     },
     "metadata": {},
     "output_type": "display_data"
    },
    {
     "data": {
      "application/vnd.jupyter.widget-view+json": {
       "model_id": "d2d60e28a1144a2f9e807756ea178c6b",
       "version_major": 2,
       "version_minor": 0
      },
      "text/plain": [
       "IntProgress(value=0, description='solving: ', max=99)"
      ]
     },
     "metadata": {},
     "output_type": "display_data"
    },
    {
     "data": {
      "application/vnd.jupyter.widget-view+json": {
       "model_id": "fb53692060434599ae8cb8c0081f3312",
       "version_major": 2,
       "version_minor": 0
      },
      "text/plain": [
       "Button(description='run hutchinson_x_equation ', style=ButtonStyle())"
      ]
     },
     "metadata": {},
     "output_type": "display_data"
    }
   ],
   "source": [
    "# запуск процесса решения уравнения\n",
    "from hybriddomain.solvers.hs.remoterun.progresses.progress_notebook import ProgressNotebook\n",
    "from hybriddomain.solvers.hs.postproc.results.results_main import ResultPostprocNet as ResultPostproc\n",
    "progress = ProgressNotebook(100, prefix='solving')\n",
    "\n",
    "progress_params = ProgressNotebook(len(model.paramValues), prefix='param')\n",
    "# display(progress_params.progress)\n",
    "\n",
    "progress_solving = ProgressNotebook(100, prefix='solving')\n",
    "# display(progress_solving.progress)\n",
    "# progress_solving.succ(0)\n",
    "\n",
    "result_postproc = ResultPostproc(modelFileName)\n",
    "\n",
    "from hybriddomain.solvers.hs.remoterun.remoterun import remoteProjectRun\n",
    "\n",
    "clear_output()\n",
    "test_name = settings.paths['model']['name']\n",
    "bTest = widgets.Button(description=\"run %s \" % (test_name))\n",
    "\n",
    "# parametrisation:\n",
    "def run(event):\n",
    "    model = Model()\n",
    "    model.io.loadFromFile(modelFileName)\n",
    "    \n",
    "    for params_idx in range(len(model.paramValues)):\n",
    "        \n",
    "        progress_params.succ(params_idx)\n",
    "        progress_solving.set_prefix(\"solving\")\n",
    "        \n",
    "        # changing param:\n",
    "        model.defaultParamsIndex = params_idx\n",
    "        model.io.saveToFile(settings.paths[\"hd\"][\"json\"])\n",
    "        model = Model()\n",
    "        model.io.loadFromFile(modelFileName)\n",
    "        \n",
    "        remoteProjectRun(settings, 1, progress_solving,remove_old=False)\n",
    "        \n",
    "        # result_postproc.extract_out(params_idx, results_params)\n",
    "        result_postproc.rename_out(params_idx)\n",
    "    display(Javascript(\"alert('Done');\"))\n",
    "    \n",
    "bTest.on_click(run)\n",
    "\n",
    "display(progress_params.progress)\n",
    "display(progress_solving.progress)\n",
    "\n",
    "#remoteProjectRun(settings, 1, progress)\n",
    "display(bTest)"
   ]
  },
  {
   "cell_type": "markdown",
   "metadata": {},
   "source": [
    "### Results:"
   ]
  },
  {
   "cell_type": "code",
   "execution_count": 4,
   "metadata": {},
   "outputs": [
    {
     "name": "stdout",
     "output_type": "stream",
     "text": [
      "result files:  {'U': ['problems/hutchinson_x_equation/out/U_seq0.out', 'problems/hutchinson_x_equation/out/U_seq1.out']}\n",
      "plot files:  {'U': ['problems/hutchinson_x_equation/out/U_seq0.mp4', 'problems/hutchinson_x_equation/out/U_seq1.mp4']}\n"
     ]
    }
   ],
   "source": [
    "model.readResults(result_format=1)\n",
    "# available result files:\n",
    "print(\"result files: \", model.results_paths)\n",
    "# available plot files:\n",
    "print(\"plot files: \", model.plots_paths)"
   ]
  },
  {
   "cell_type": "code",
   "execution_count": 5,
   "metadata": {},
   "outputs": [
    {
     "name": "stdout",
     "output_type": "stream",
     "text": [
      "dict_keys(['U'])\n"
     ]
    }
   ],
   "source": [
    "# объекте model хранится вся информация по решению задачи\n",
    "# get results (for TRAC-11 result_format=1):\n",
    "model.readResults(result_format=1)\n",
    "model.results_paths\n",
    "# available results:\n",
    "print(model.results_arrays.keys())"
   ]
  },
  {
   "cell_type": "markdown",
   "metadata": {},
   "source": [
    "### Video:"
   ]
  },
  {
   "cell_type": "code",
   "execution_count": 6,
   "metadata": {},
   "outputs": [
    {
     "data": {
      "text/plain": [
       "{'U': ['problems/hutchinson_x_equation/out/U_seq0.mp4',\n",
       "  'problems/hutchinson_x_equation/out/U_seq1.mp4']}"
      ]
     },
     "execution_count": 6,
     "metadata": {},
     "output_type": "execute_result"
    }
   ],
   "source": [
    "# available plots:\n",
    "model.plots_paths"
   ]
  },
  {
   "cell_type": "code",
   "execution_count": 7,
   "metadata": {},
   "outputs": [
    {
     "data": {
      "text/html": [
       "\n",
       "        <script>\n",
       "        </script>\n",
       "\n",
       "        <video controls>\n",
       "        <source src=\"problems/hutchinson_x_equation/out/U_seq0.mp4\" type=\"video/mp4\"><p>Your browser doesnt support HTML5 video.Here is a <a href=\"problems/hutchinson_x_equation/out/U_seq0.mp4\">link to the video</a></p></video>"
      ],
      "text/plain": [
       "<IPython.core.display.HTML object>"
      ]
     },
     "metadata": {},
     "output_type": "display_data"
    },
    {
     "data": {
      "text/html": [
       "\n",
       "        <script>\n",
       "        </script>\n",
       "\n",
       "        <video controls>\n",
       "        <source src=\"problems/hutchinson_x_equation/out/U_seq1.mp4\" type=\"video/mp4\"><p>Your browser doesnt support HTML5 video.Here is a <a href=\"problems/hutchinson_x_equation/out/U_seq1.mp4\">link to the video</a></p></video>"
      ],
      "text/plain": [
       "<IPython.core.display.HTML object>"
      ]
     },
     "metadata": {},
     "output_type": "display_data"
    }
   ],
   "source": [
    "display(HTML(model.get_video('U')))\n",
    "display(HTML(model.get_video('U',1)))"
   ]
  },
  {
   "cell_type": "markdown",
   "metadata": {},
   "source": [
    "### U(x, t-fixed),V(x, t-fixed):"
   ]
  },
  {
   "cell_type": "code",
   "execution_count": 10,
   "metadata": {},
   "outputs": [
    {
     "name": "stdout",
     "output_type": "stream",
     "text": [
      "302\n"
     ]
    },
    {
     "data": {
      "application/vnd.jupyter.widget-view+json": {
       "model_id": "cb07bdc8ed29436f9d80eb8fefd68aae",
       "version_major": 2,
       "version_minor": 0
      },
      "text/plain": [
       "interactive(children=(IntSlider(value=50, description='t'), IntSlider(value=0, description='x', max=1), Output…"
      ]
     },
     "metadata": {},
     "output_type": "display_data"
    }
   ],
   "source": [
    "# отрисовывает результат\n",
    "%matplotlib inline\n",
    "time = model.results_arrays['U']['timevalues']\n",
    "\n",
    "times = model.results_arrays['U']['timevalues']\n",
    "\n",
    "result = model.results_arrays['U']['resvalues']\n",
    "print(len(result))\n",
    "def f(t,x):\n",
    "    result_x = np.array([result[time][x][t] for time in times])\n",
    "    plt.plot(time, result_x, lw=2)\n",
    "w = interactive(f,t=(0,len(result[0][0])-1,1),x=(0,len(result[0])-1,1))\n",
    "display(w)"
   ]
  },
  {
   "cell_type": "code",
   "execution_count": null,
   "metadata": {},
   "outputs": [],
   "source": []
  }
 ],
 "metadata": {
  "kernelspec": {
   "display_name": "Python 3",
   "language": "python",
   "name": "python3"
  },
  "language_info": {
   "codemirror_mode": {
    "name": "ipython",
    "version": 3
   },
   "file_extension": ".py",
   "mimetype": "text/x-python",
   "name": "python",
   "nbconvert_exporter": "python",
   "pygments_lexer": "ipython3",
   "version": "3.7.3"
  }
 },
 "nbformat": 4,
 "nbformat_minor": 2
}
