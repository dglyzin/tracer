{
 "cells": [
  {
   "cell_type": "markdown",
   "metadata": {},
   "source": [
    "### Add model, connection and device to settings:"
   ]
  },
  {
   "cell_type": "code",
   "execution_count": 1,
   "metadata": {},
   "outputs": [
    {
     "name": "stderr",
     "output_type": "stream",
     "text": [
      "INFO:block_main.block_io:DefaultBound not set\n",
      "INFO:settings_main:device_conf_rpath\n",
      "INFO:settings_main:devices.json\n"
     ]
    },
    {
     "name": "stdout",
     "output_type": "stream",
     "text": [
      "Please enter password for user imaslenikov:\n"
     ]
    },
    {
     "name": "stdin",
     "output_type": "stream",
     "text": [
      " ·········\n"
     ]
    }
   ],
   "source": [
    "# библиотеки\n",
    "import os\n",
    "import sys\n",
    "import inspect\n",
    "import numpy as np\n",
    "import re\n",
    "import math\n",
    "import matplotlib.pyplot as plt\n",
    "from ipywidgets import interactive\n",
    "import ipywidgets as widgets\n",
    "from IPython.display import display, clear_output, HTML\n",
    "from hybriddomain.envs.hs.model.model_main import ModelNet as Model\n",
    "from hybriddomain.settings.settings_main import Settings\n",
    "\n",
    "# пути и названия файлов\n",
    "modelFileName = 'problems/Dorman_Prince_nonlinear_system1'\n",
    "conn_name = \"connection.json\"\n",
    "device_conf_name = \"devices.json\"\n",
    "\n",
    "#Ввод пароля для инициализации пользователя\n",
    "model = Model()\n",
    "model.io.loadFromFile(modelFileName)\n",
    "settings = Settings(model, conn_name, device_conf_name, conn_name)"
   ]
  },
  {
   "cell_type": "markdown",
   "metadata": {},
   "source": [
    "### Run solver:"
   ]
  },
  {
   "cell_type": "code",
   "execution_count": 2,
   "metadata": {},
   "outputs": [
    {
     "data": {
      "application/vnd.jupyter.widget-view+json": {
       "model_id": "fc5ce219e16049ae949831cf5c239c9d",
       "version_major": 2,
       "version_minor": 0
      },
      "text/plain": [
       "IntProgress(value=0, description='solving: ', max=99)"
      ]
     },
     "metadata": {},
     "output_type": "display_data"
    },
    {
     "name": "stderr",
     "output_type": "stream",
     "text": [
      "INFO:remoterun:\n",
      "connect ...\n",
      "INFO:remoterun:\n",
      "connection established\n",
      "INFO:remoterun:\n",
      "files/folders routine\n",
      "INFO:remoterun:created folder /acchome/imaslenikov/tracer/workspace/problems/Dorman_Prince_nonlinear_system1\n",
      "INFO:remoterun:created folder /acchome/imaslenikov/tracer/workspace/problems/Dorman_Prince_nonlinear_system1/out\n",
      "INFO:remoterun:\n",
      "files/folders routine completed\n",
      "INFO:remoterun:\n",
      "Running preprocessor:\n",
      "INFO:remoterun:command:\n",
      "INFO:remoterun:~/anaconda3/bin/python3 -c \"import hybriddomain.gens.hs.tests.tests_gen_1d as ts; ts.run()\" -t /acchome/imaslenikov/tracer/workspace/problems/Dorman_Prince_nonlinear_system1 -d /acchome/imaslenikov/tracer/workspace/settings/device_conf/devices.json -p /acchome/imaslenikov/tracer/workspace/settings/paths/connection.json -w /acchome/imaslenikov/tracer/workspace -u imaslenikov 2>&1\n",
      "INFO:remoterun:\n",
      "Running solver:\n",
      "INFO:remoterun:01-20 09:14:48 Performance (10^6): 0.011631\n",
      "\n",
      "INFO:remoterun:INFO:postproc.video:Creating images for block 0 value ['U', 'V']\n",
      "\n",
      "INFO:remoterun:INFO:postproc.video:Creating video file: 0\n",
      "\n",
      "INFO:remoterun:INFO:postproc.video:Creating out file: u\n",
      "\n",
      "INFO:remoterun:Downloading results...\n",
      "INFO:remoterun:Done!\n"
     ]
    }
   ],
   "source": [
    "# запуск процесса решения уравнения\n",
    "from hybriddomain.solvers.hs.remoterun.progresses.progress_notebook import ProgressNotebook\n",
    "progress = ProgressNotebook(100, prefix='solving')\n",
    "from hybriddomain.solvers.hs.remoterun.remoterun import remoteProjectRun\n",
    "\n",
    "clear_output()\n",
    "test_name = settings.paths['model']['name']\n",
    "bTest = widgets.Button(description=\"run %s \" % (test_name))\n",
    "def run(event):\n",
    "    remoteProjectRun(settings, 1, progress)\n",
    "bTest.on_click(run)\n",
    "display(progress.progress)\n",
    "remoteProjectRun(settings, 1, progress)\n",
    "#display(bTest)"
   ]
  },
  {
   "cell_type": "markdown",
   "metadata": {},
   "source": [
    "### Results:"
   ]
  },
  {
   "cell_type": "code",
   "execution_count": 3,
   "metadata": {},
   "outputs": [
    {
     "name": "stdout",
     "output_type": "stream",
     "text": [
      "dict_keys(['u'])\n"
     ]
    }
   ],
   "source": [
    "# объекте model хранится вся информация по решению задачи\n",
    "# get results (for TRAC-11 result_format=1):\n",
    "model.readResults(result_format=1)\n",
    "model.results_paths\n",
    "# available results:\n",
    "print(model.results_arrays.keys())"
   ]
  },
  {
   "cell_type": "markdown",
   "metadata": {},
   "source": [
    "### Video:"
   ]
  },
  {
   "cell_type": "code",
   "execution_count": 4,
   "metadata": {},
   "outputs": [
    {
     "data": {
      "text/plain": [
       "{'System': ['problems/Dorman_Prince_nonlinear_system1/out/System.mp4']}"
      ]
     },
     "execution_count": 4,
     "metadata": {},
     "output_type": "execute_result"
    }
   ],
   "source": [
    "# available plots:\n",
    "model.plots_paths"
   ]
  },
  {
   "cell_type": "code",
   "execution_count": 5,
   "metadata": {},
   "outputs": [
    {
     "data": {
      "text/html": [
       "\n",
       "        <script>\n",
       "        </script>\n",
       "\n",
       "        <video controls>\n",
       "        <source src=\"problems/Dorman_Prince_nonlinear_system1/out/System.mp4\" type=\"video/mp4\"><p>Your browser doesnt support HTML5 video.Here is a <a href=\"problems/Dorman_Prince_nonlinear_system1/out/System.mp4\">link to the video</a></p></video>"
      ],
      "text/plain": [
       "<IPython.core.display.HTML object>"
      ]
     },
     "metadata": {},
     "output_type": "display_data"
    }
   ],
   "source": [
    "display(HTML(model.get_video('System')))"
   ]
  },
  {
   "cell_type": "markdown",
   "metadata": {},
   "source": [
    "### U(x, t-fixed),V(x, t-fixed):"
   ]
  },
  {
   "cell_type": "code",
   "execution_count": 6,
   "metadata": {},
   "outputs": [
    {
     "data": {
      "application/vnd.jupyter.widget-view+json": {
       "model_id": "443f854a10444b7a9f5808fc5ee4a5c2",
       "version_major": 2,
       "version_minor": 0
      },
      "text/plain": [
       "interactive(children=(IntSlider(value=50, description='t'), Output()), _dom_classes=('widget-interact',))"
      ]
     },
     "metadata": {},
     "output_type": "display_data"
    }
   ],
   "source": [
    "# отрисовывает результат\n",
    "%matplotlib inline\n",
    "\n",
    "#display(w)\n",
    "time = model.results_arrays['u']['timevalues']\n",
    "#print(time)\n",
    "\n",
    "times = model.results_arrays['u']['timevalues']\n",
    "#print(times)\n",
    "result = model.results_arrays['u']['resvalues']\n",
    "#print(result[times[0]][0][0])\n",
    "result_x = np.array([result[time][0][5] for time in times])\n",
    "result_y = np.array([result[time][1][5] for time in times])\n",
    "\n",
    "tt =np.linspace (0.0,1.0,101)\n",
    "circle_x=np.array([10*math.cos(2*3.1415926*t) for t in tt])\n",
    "circle_y=np.array([10*math.sin(2*3.1415926*t) for t in tt])\n",
    "\n",
    "\n",
    "def f(t):\n",
    "    result_x = np.array([result[time][0][t] for time in times])\n",
    "    result_y = np.array([result[time][1][t] for time in times])\n",
    "    # Сама траектория зависимость от t берется разное начало запуска\n",
    "    plt.plot(result_x, result_y)\n",
    "    # Круг на котором лежат начала траекторий \n",
    "    plt.plot(circle_x, circle_y)\n",
    "w = interactive(f,t=(0,100,1))\n",
    "display(w)\n",
    "\n",
    "plt.show()"
   ]
  },
  {
   "cell_type": "code",
   "execution_count": null,
   "metadata": {},
   "outputs": [],
   "source": []
  }
 ],
 "metadata": {
  "kernelspec": {
   "display_name": "Python 3",
   "language": "python",
   "name": "python3"
  },
  "language_info": {
   "codemirror_mode": {
    "name": "ipython",
    "version": 3
   },
   "file_extension": ".py",
   "mimetype": "text/x-python",
   "name": "python",
   "nbconvert_exporter": "python",
   "pygments_lexer": "ipython3",
   "version": "3.7.3"
  }
 },
 "nbformat": 4,
 "nbformat_minor": 2
}
